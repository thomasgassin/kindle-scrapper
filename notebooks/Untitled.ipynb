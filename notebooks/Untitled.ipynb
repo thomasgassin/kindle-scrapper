{
 "cells": [
  {
   "cell_type": "markdown",
   "id": "5dee1a37",
   "metadata": {},
   "source": [
    "### liens utiles"
   ]
  },
  {
   "cell_type": "code",
   "execution_count": 16,
   "id": "27063061",
   "metadata": {},
   "outputs": [],
   "source": [
    "url_photography = 'https://www.amazon.com/b?node=154607011&ref_=sub_ebooks_cat_1'"
   ]
  },
  {
   "cell_type": "code",
   "execution_count": 26,
   "id": "08cf2f25",
   "metadata": {},
   "outputs": [],
   "source": [
    "liste_categories_totale=[\n",
    "    ['https://www.amazon.com/b?node=154607011&ref_=sub_ebooks_cat_1', False , \"Arts & Photography\"],\n",
    "    ['https://www.amazon.com/b?node=154754011&ref_=sub_ebooks_cat_2',False,'Biographies & Memoirs'],\n",
    "    ['https://www.amazon.com/b?node=154821011&ref_=sub_ebooks_cat_3',False,'Business & Money'],\n",
    "    ['https://www.amazon.com/b?node=155009011&ref_=sub_ebooks_cat_4',False,'Children s eBooks'],\n",
    "    ['https://www.amazon.com/b?node=156116011&ref_=sub_ebooks_cat_6',False,'Computers & Technology'],\n",
    "    ['https://www.amazon.com/b?node=156154011&ref_=sub_ebooks_cat_7',False,'Cookbooks, Food & Wine'],\n",
    "    ['https://www.amazon.com/b?node=156699011&ref_=sub_ebooks_cat_8',False,'Crafts, Hobbies & Home Kindle'],\n",
    "    ['https://www.amazon.com/b?node=158125011&ref_=sub_ebooks_cat_9',False,'Education & Teaching Kindle'],\n",
    "    ['https://www.amazon.com/b?node=157626011&ref_=sub_ebooks_cat_10',False,'Engineering & Transportation Kindle'],\n",
    "    ['https://www.amazon.com/b?node=7735160011&ref_=sub_ebooks_cat_11',False,'Foreign Language Kindle'],\n",
    "    ['https://www.amazon.com/b?node=156430011&ref_=sub_ebooks_cat_12',False,'Health, Fitness & Dieting'],\n",
    "    ['https://www.amazon.com/b?node=156576011&ref_=sub_ebooks_cat_13',False,'History'],\n",
    "    ['https://www.amazon.com/b?node=156279011&ref_=sub_ebooks_cat_14',False,'Humor & Entertainment'],\n",
    "    ['https://www.amazon.com/b?node=156915011&ref_=sub_ebooks_cat_15',False,'Law'],\n",
    "    ['https://www.amazon.com/b?node=156424011&ref_=sub_ebooks_cat_16',False,'LGBTQ+ eBooks'],\n",
    "    ['https://www.amazon.com/b?node=157028011&ref_=sub_ebooks_cat_17',False,'Literature & Fiction'],\n",
    "    ['https://www.amazon.com/b?node=157119011&ref_=sub_ebooks_cat_18',False,'Medical eBooks'],\n",
    "    ['https://www.amazon.com/b?node=157305011&ref_=sub_ebooks_cat_19',False,'Mystery, Thriller & Suspense'],\n",
    "    ['https://www.amazon.com/b?node=157325011&ref_=sub_ebooks_cat_20',False,'Nonfiction'],\n",
    "    ['https://www.amazon.com/b?node=157584011&ref_=sub_ebooks_cat_21',False,'Parenting & Relationships'],\n",
    "    ['https://www.amazon.com/b?node=305951011&ref_=sub_ebooks_cat_22',False,'Politics & Social Sciences'],\n",
    "    ['https://www.amazon.com/b?node=9154158011&ref_=sub_ebooks_cat_23',False,'Reference'],\n",
    "    ['https://www.amazon.com/b?node=158280011&ref_=sub_ebooks_cat_24',False,'Religion & Spirituality'],\n",
    "    ['https://www.amazon.com/b?node=158566011&ref_=sub_ebooks_cat_25',False,'Romance'],\n",
    "    ['https://www.amazon.com/b?node=158597011&ref_=sub_ebooks_cat_26',False,'Science & Math'],\n",
    "    ['https://www.amazon.com/b?node=668010011&ref_=sub_ebooks_cat_27',False,'Science Fiction & Fantasy'],\n",
    "    ['https://www.amazon.com/b?node=156563011&ref_=sub_ebooks_cat_28',False,'Self-Help'],\n",
    "    ['https://www.amazon.com/b?node=159818011&ref_=sub_ebooks_cat_29',False,'Sports & Outdoors'],\n",
    "    ['https://www.amazon.com/b?node=3511261011&ref_=sub_ebooks_cat_30',False,'Teen & Young Adult'],\n",
    "    ['https://www.amazon.com/b?node=159936011&ref_=sub_ebooks_cat_31',False,'Travel']   \n",
    "]"
   ]
  },
  {
   "cell_type": "code",
   "execution_count": 8,
   "id": "169eb131",
   "metadata": {},
   "outputs": [],
   "source": [
    "import pandas as pd\n",
    "import os\n",
    "from pathlib import Path\n",
    "from bs4 import BeautifulSoup\n",
    "from selenium import webdriver\n"
   ]
  },
  {
   "cell_type": "code",
   "execution_count": 14,
   "id": "c5c84b8e",
   "metadata": {},
   "outputs": [],
   "source": [
    "chemin = str(Path('../chromedriver').resolve())"
   ]
  },
  {
   "cell_type": "code",
   "execution_count": 17,
   "id": "b8802a40",
   "metadata": {},
   "outputs": [
    {
     "name": "stderr",
     "output_type": "stream",
     "text": [
      "/tmp/ipykernel_644/2282050771.py:1: DeprecationWarning: executable_path has been deprecated, please pass in a Service object\n",
      "  navigateur = webdriver.Chrome(executable_path = chemin)\n"
     ]
    }
   ],
   "source": [
    "navigateur = webdriver.Chrome(executable_path = chemin)\n",
    "navigateur.get(url_photography)"
   ]
  },
  {
   "cell_type": "code",
   "execution_count": 18,
   "id": "8e07f4e7",
   "metadata": {},
   "outputs": [],
   "source": [
    "navigateur.get(url_photography)\n",
    "navigateur.get(url_photography)"
   ]
  },
  {
   "cell_type": "code",
   "execution_count": 19,
   "id": "40ab14c8",
   "metadata": {},
   "outputs": [],
   "source": [
    "html_listing = navigateur.page_source\n",
    "soup = BeautifulSoup(html_listing, 'lxml')\n"
   ]
  },
  {
   "cell_type": "code",
   "execution_count": 20,
   "id": "a80051df",
   "metadata": {},
   "outputs": [],
   "source": [
    "categories = soup.find_all('li','a-spacing-micro apb-browse-refinements-indent-2')"
   ]
  },
  {
   "cell_type": "code",
   "execution_count": 24,
   "id": "941699fd",
   "metadata": {},
   "outputs": [
    {
     "name": "stdout",
     "output_type": "stream",
     "text": [
      "Architecture https://www.amazon.com/s?bbn=154607011&rh=n%3A133140011%2Cn%3A154606011%2Cn%3A154607011%2Cn%3A157630011&dc&qid=1675456919&rnid=154607011&ref=lp_154607011_nr_n_0\n",
      "Art https://www.amazon.com/s?bbn=154607011&rh=n%3A133140011%2Cn%3A154606011%2Cn%3A154607011%2Cn%3A154608011&dc&qid=1675456919&rnid=154607011&ref=lp_154607011_nr_n_1\n",
      "Dance https://www.amazon.com/s?bbn=154607011&rh=n%3A133140011%2Cn%3A154606011%2Cn%3A154607011%2Cn%3A154692011&dc&qid=1675456919&rnid=154607011&ref=lp_154607011_nr_n_2\n",
      "Fashion https://www.amazon.com/s?bbn=154607011&rh=n%3A133140011%2Cn%3A154606011%2Cn%3A154607011%2Cn%3A154656011&dc&qid=1675456919&rnid=154607011&ref=lp_154607011_nr_n_3\n",
      "Graphic Design https://www.amazon.com/s?bbn=154607011&rh=n%3A133140011%2Cn%3A154606011%2Cn%3A154607011%2Cn%3A154657011&dc&qid=1675456919&rnid=154607011&ref=lp_154607011_nr_n_4\n",
      "Individual Artists https://www.amazon.com/s?bbn=154607011&rh=n%3A133140011%2Cn%3A154606011%2Cn%3A154607011%2Cn%3A154655011&dc&qid=1675456919&rnid=154607011&ref=lp_154607011_nr_n_5\n",
      "Music https://www.amazon.com/s?bbn=154607011&rh=n%3A133140011%2Cn%3A154606011%2Cn%3A154607011%2Cn%3A156302011&dc&qid=1675456919&rnid=154607011&ref=lp_154607011_nr_n_6\n",
      "Performing Arts https://www.amazon.com/s?bbn=154607011&rh=n%3A133140011%2Cn%3A154606011%2Cn%3A154607011%2Cn%3A154691011&dc&qid=1675456919&rnid=154607011&ref=lp_154607011_nr_n_7\n",
      "Photography https://www.amazon.com/s?bbn=154607011&rh=n%3A133140011%2Cn%3A154606011%2Cn%3A154607011%2Cn%3A154715011&dc&qid=1675456919&rnid=154607011&ref=lp_154607011_nr_n_8\n",
      "Theater https://www.amazon.com/s?bbn=154607011&rh=n%3A133140011%2Cn%3A154606011%2Cn%3A154607011%2Cn%3A154704011&dc&qid=1675456919&rnid=154607011&ref=lp_154607011_nr_n_9\n"
     ]
    }
   ],
   "source": [
    "for categorie in categories :\n",
    "    print(categorie.span.text.strip() , 'https://www.amazon.com'+categorie.a.get('href'))"
   ]
  },
  {
   "cell_type": "code",
   "execution_count": null,
   "id": "8787ee6b",
   "metadata": {},
   "outputs": [],
   "source": []
  }
 ],
 "metadata": {
  "kernelspec": {
   "display_name": "Python 3 (ipykernel)",
   "language": "python",
   "name": "python3"
  },
  "language_info": {
   "codemirror_mode": {
    "name": "ipython",
    "version": 3
   },
   "file_extension": ".py",
   "mimetype": "text/x-python",
   "name": "python",
   "nbconvert_exporter": "python",
   "pygments_lexer": "ipython3",
   "version": "3.8.12"
  },
  "toc": {
   "base_numbering": 1,
   "nav_menu": {},
   "number_sections": true,
   "sideBar": true,
   "skip_h1_title": false,
   "title_cell": "Table of Contents",
   "title_sidebar": "Contents",
   "toc_cell": false,
   "toc_position": {},
   "toc_section_display": true,
   "toc_window_display": false
  }
 },
 "nbformat": 4,
 "nbformat_minor": 5
}
