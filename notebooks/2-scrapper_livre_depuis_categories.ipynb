{
 "cells": [
  {
   "cell_type": "markdown",
   "id": "03639832",
   "metadata": {},
   "source": [
    "Nous allons détailler les fonctions dans ce notebook."
   ]
  },
  {
   "cell_type": "markdown",
   "id": "bcfa989e",
   "metadata": {
    "tags": []
   },
   "source": [
    "# IMPORTS , FONCTIONS ET URL"
   ]
  },
  {
   "cell_type": "code",
   "execution_count": 24,
   "id": "fe34fa59",
   "metadata": {
    "scrolled": true
   },
   "outputs": [],
   "source": [
    "import pandas as pd\n",
    "import requests\n",
    "from bs4 import BeautifulSoup\n",
    "from selenium import webdriver\n",
    "from selenium.webdriver.chrome.options import Options # en vue de faire tourner le browser en headless\n",
    "from pathlib import Path\n",
    "import os\n",
    "# from webdriver_manager.chrome import ChromeDriverManager\n",
    "# import chromedriver_binary\n",
    "import re\n",
    "import csv\n",
    "import time\n",
    "regex_expression = \"</span> #.* in Kindle Store \" # utile pour regex\n",
    "#DRIVER_PATH_chromedriver = str(Path('../chromedriver').resolve()) ancienne ligne qui fonctionnait\n",
    "\n",
    "from amazoncaptcha import AmazonCaptcha #librairi pour passer l'image capthca d'amazon\n",
    "from selenium.webdriver.common.by import By\n",
    "\n",
    "\n"
   ]
  },
  {
   "cell_type": "code",
   "execution_count": 25,
   "id": "d6de9e52",
   "metadata": {},
   "outputs": [],
   "source": [
    "urlcaptcha = \"https://www.amazon.com/errors/validateCaptcha\""
   ]
  },
  {
   "cell_type": "markdown",
   "id": "6b118ba1",
   "metadata": {},
   "source": [
    "#attention sur PC DELL UBUNTU le Wagon, bien penser à lancer X launch , et à désactiver VPN !!"
   ]
  },
  {
   "cell_type": "code",
   "execution_count": 7,
   "id": "76219038",
   "metadata": {},
   "outputs": [],
   "source": [
    "configuration = { \"wagon\":\"/usr/bin/chromedriver/chromedriver\" , \n",
    "                 \"raspberry\":\"/usr/bin/chromedriver\" ,\n",
    "                \"anaconda-PS-stock\":\"\"}"
   ]
  },
  {
   "cell_type": "code",
   "execution_count": 8,
   "id": "af05317d",
   "metadata": {
    "scrolled": false
   },
   "outputs": [
    {
     "name": "stdout",
     "output_type": "stream",
     "text": [
      "Entrez la configuration matérielleraspberry\n"
     ]
    }
   ],
   "source": [
    "environnement = input('Entrez la configuration matérielle')"
   ]
  },
  {
   "cell_type": "code",
   "execution_count": 26,
   "id": "e000c0ed",
   "metadata": {},
   "outputs": [],
   "source": [
    "chemin_access = configuration[environnement]"
   ]
  },
  {
   "cell_type": "code",
   "execution_count": 27,
   "id": "ebdc7297",
   "metadata": {},
   "outputs": [
    {
     "data": {
      "text/plain": [
       "'/usr/bin/chromedriver'"
      ]
     },
     "execution_count": 27,
     "metadata": {},
     "output_type": "execute_result"
    }
   ],
   "source": [
    "chemin_access"
   ]
  },
  {
   "cell_type": "code",
   "execution_count": 28,
   "id": "2d036531",
   "metadata": {},
   "outputs": [
    {
     "name": "stderr",
     "output_type": "stream",
     "text": [
      "/tmp/ipykernel_3396/1983623464.py:7: DeprecationWarning: executable_path has been deprecated, please pass in a Service object\n",
      "  browser = webdriver.Chrome(executable_path=DRIVER_PATH_chromedriver, options=chrome_options)\n"
     ]
    }
   ],
   "source": [
    "DRIVER_PATH_chromedriver = str(Path(chemin_access).resolve()) # installation chrome driver sur usr/bin\n",
    "\n",
    "\n",
    "chrome_options = Options()\n",
    "chrome_options.add_argument(\"--headless\")\n",
    "\n",
    "browser = webdriver.Chrome(executable_path=DRIVER_PATH_chromedriver, options=chrome_options)\n",
    "\n",
    "browser.get(\"http://www.google.com\")\n",
    "\n",
    "#browser.get(\"http://www.amazon.com\") #ici chrome est norma\n",
    "#browser.get(\"http://www.amazon.com\" , options = chome_options) # avec cette option le chrome est headless"
   ]
  },
  {
   "cell_type": "code",
   "execution_count": 44,
   "id": "46e5485e",
   "metadata": {
    "scrolled": true
   },
   "outputs": [
    {
     "name": "stderr",
     "output_type": "stream",
     "text": [
      "/tmp/ipykernel_3396/2394049935.py:1: DeprecationWarning: executable_path has been deprecated, please pass in a Service object\n",
      "  browser = webdriver.Chrome(executable_path=DRIVER_PATH_chromedriver)\n"
     ]
    }
   ],
   "source": [
    "browser = webdriver.Chrome(executable_path=DRIVER_PATH_chromedriver)\n",
    "browser.get(\"https://www.amazon.com/errors/validateCaptcha\")"
   ]
  },
  {
   "cell_type": "code",
   "execution_count": 45,
   "id": "cd8bec6b",
   "metadata": {},
   "outputs": [],
   "source": [
    "link = browser.find_element(By.XPATH,\"//div[@class = 'a-row a-text-center']//img\").get_attribute('src')\n",
    "captcha = AmazonCaptcha.fromlink(link)\n",
    "captcha_value = AmazonCaptcha.solve(captcha)\n",
    "input_field = browser.find_element(By.ID, \"captchacharacters\").send_keys(captcha_value)\n",
    "button = browser.find_element(By.CLASS_NAME,\"a-button-text\")\n",
    "button.click()"
   ]
  },
  {
   "cell_type": "code",
   "execution_count": 39,
   "id": "8b30b790",
   "metadata": {},
   "outputs": [
    {
     "data": {
      "text/plain": [
       "'GRGUFG'"
      ]
     },
     "execution_count": 39,
     "metadata": {},
     "output_type": "execute_result"
    }
   ],
   "source": [
    "captcha_value"
   ]
  },
  {
   "cell_type": "code",
   "execution_count": null,
   "id": "53fe0c12",
   "metadata": {},
   "outputs": [],
   "source": [
    "input"
   ]
  },
  {
   "cell_type": "code",
   "execution_count": 21,
   "id": "276d9eb2",
   "metadata": {},
   "outputs": [
    {
     "name": "stdout",
     "output_type": "stream",
     "text": [
      "https://images-na.ssl-images-amazon.com/captcha/twhhswbk/Captcha_uopquzefat.jpg\n"
     ]
    }
   ],
   "source": [
    "print(image_div)"
   ]
  },
  {
   "cell_type": "code",
   "execution_count": 15,
   "id": "20d84341",
   "metadata": {},
   "outputs": [
    {
     "data": {
      "text/plain": [
       "'3A157631011'"
      ]
     },
     "execution_count": 15,
     "metadata": {},
     "output_type": "execute_result"
    }
   ],
   "source": [
    "liste_categorie['url'][0].split('&dc')[0].split('%')[-1]"
   ]
  },
  {
   "cell_type": "code",
   "execution_count": 16,
   "id": "24988cb3",
   "metadata": {},
   "outputs": [],
   "source": [
    "def trouver_node_url(url):\n",
    "    \"\"\"fonction qui retourne un lien simplifié et que l'on peu incrémenter d'une catégorie\"\"\"\n",
    "    node = url.split('&dc')[0].split('%')[-1]\n",
    "    lien = 'https://www.amazon.com/s?i=digital-text&rh=n%' + node +'&fs=true&page=1'\n",
    "    #browser.get(lien)\n",
    "    return(lien)\n",
    "\n",
    "def trouver_node_url_a_incrementer(url):\n",
    "    \"\"\"fonction qui retourne un url que l'on peu incrémenter simplement il n'y a plus qu'a adjoindre i et l'incrémenter à la fin\"\"\"\n",
    "    node = url.split('&dc')[0].split('%')[-1]\n",
    "    lien = 'https://www.amazon.com/s?i=digital-text&rh=n%' + node +'&fs=true&page='\n",
    "    #browser.get(lien)\n",
    "    return(lien)\n",
    "\n",
    "def y_a_t_il_des_livres_dans_page(url): #fonction qui détermine s'il y a des livres dans la page\n",
    "    \"\"\" retourne True s'il y a des livres dans la page et False s'il n'y en a pas\"\"\"\n",
    "    browser.get(url) #navigue sur une page avec tous les liens de la liste\n",
    "    time.sleep(5)\n",
    "    html_page_listing = browser.page_source # permet de prendre le code html de la page \n",
    "    soup = BeautifulSoup(html_page_listing , 'lxml') # créer la soupe avec le parser\n",
    "    livres = soup.find_all('div' ,{ 'data-asin':True, 'data-component-type' : 's-search-result'} ) # trouve tous les livres de la pages\n",
    "    if livres!=[]:\n",
    "        return True\n",
    "    else : \n",
    "        return False\n",
    "    \n",
    "    \n",
    "def trouver_les_livres_dans_page(url_page_principale):\n",
    "    \"\"\"fonction qui retourne une liste de lien web des livres présents dans la page\"\"\"\n",
    "    browser.get(url_page_principale)\n",
    "    time.sleep(5)\n",
    "    html_page_listing = browser.page_source # permet de prendre le code html de la page \n",
    "    soup = BeautifulSoup(html_page_listing , 'lxml') # créer la soupe avec le parser\n",
    "    livres = soup.find_all('a',class_ = 'a-link-normal s-underline-text s-underline-link-text s-link-style a-text-normal')\n",
    "    liens_livres=['https://www.amazon.com'+livre.get('href') for livre in livres]  \n",
    "    #on utilise liste comprehension pour prendre l'élement href (lien hypertexte) \n",
    "    # et ajouter www.amazon.com/ pour avoir un url exploitable\n",
    "    return(liens_livres)\n",
    "\n",
    "def compter_nb_livre_dans_page(url_page_principale):\n",
    "    \"\"\"fonction qui retourne une liste de lien web des livres présents dans la page\"\"\"\n",
    "    browser.get(url_page_principale)\n",
    "    time.sleep(5)\n",
    "    html_page_listing = browser.page_source # permet de prendre le code html de la page \n",
    "    soup = BeautifulSoup(html_page_listing , 'lxml') # créer la soupe avec le parser\n",
    "    livres = soup.find_all('a',class_ = 'a-link-normal s-underline-text s-underline-link-text s-link-style a-text-normal')\n",
    "    liens_livres=['https://www.amazon.com'+livre.get('href') for livre in livres]  \n",
    "    #on utilise liste comprehension pour prendre l'élement href (lien hypertexte) \n",
    "    # et ajouter www.amazon.com/ pour avoir un url exploitable\n",
    "    return(len(liens_livres))\n",
    "\n",
    "def rang_livre(url_d_un_livre):\n",
    "    \"\"\" fonction qui retour le rang des vente d'une livre \"\"\"\n",
    "    browser.get(url_d_un_livre)\n",
    "    time.sleep(5)\n",
    "    html_page_listing = browser.page_source # permet de prendre le code html de la page \n",
    "    soup = BeautifulSoup(html_page_listing , 'lxml') # créer la soupe avec le parser\n",
    "    if soup.find_all( {'span'  : 'a-list-item'}) is not None : \n",
    "        rang_livre = soup.find_all( {'span'  : 'a-list-item'})\n",
    "        if len(str(re.compile(regex_expression).search(str(rang_livre))).split())>5 : \n",
    "            rang = int(str(re.compile(regex_expression).search(str(rang_livre))).split()[5].replace(\"#\",\"\").replace(\",\",\"\"))\n",
    "        else : rang = None\n",
    "    else : rang = None\n",
    "    return(rang)\n",
    "\n",
    "\n",
    "def titre_livre(url_d_un_livre):\n",
    "    \"\"\"fonction qui retourne le titre du livre lorsqu'on visite la page du livre \"\"\"\n",
    "    browser.get(url_d_un_livre)\n",
    "    time.sleep(5)\n",
    "    html_page_listing = browser.page_source # permet de prendre le code html de la page \n",
    "    soup = BeautifulSoup(html_page_listing , 'lxml') # créer la soupe avec le parser\n",
    "#     if soup.find('span',class_ = \"a-size-extra-large celwidget\").text == None: \n",
    "#         pass\n",
    "#     else: \n",
    "    titre=soup.find('span',class_ = \"a-size-extra-large celwidget\").text.strip()\n",
    "        \n",
    "    return(titre)\n",
    "\n",
    "\n",
    "def lien_livre(url_d_un_livre):\n",
    "    \"\"\"fonction qui retour le lien du livre  \"\"\"\n",
    "    return(url_d_un_livre)\n",
    "    \n"
   ]
  },
  {
   "cell_type": "code",
   "execution_count": 17,
   "id": "31e36d4a",
   "metadata": {
    "scrolled": true
   },
   "outputs": [
    {
     "ename": "KeyboardInterrupt",
     "evalue": "",
     "output_type": "error",
     "traceback": [
      "\u001b[0;31m---------------------------------------------------------------------------\u001b[0m",
      "\u001b[0;31mKeyboardInterrupt\u001b[0m                         Traceback (most recent call last)",
      "Input \u001b[0;32mIn [17]\u001b[0m, in \u001b[0;36m<cell line: 2>\u001b[0;34m()\u001b[0m\n\u001b[1;32m     21\u001b[0m \u001b[38;5;28;01mfor\u001b[39;00m livre \u001b[38;5;129;01min\u001b[39;00m trouver_les_livres_dans_page(page_livres_multi):\n\u001b[1;32m     22\u001b[0m     page_livre \u001b[38;5;241m=\u001b[39m livre\n\u001b[0;32m---> 23\u001b[0m     liste_livre \u001b[38;5;241m=\u001b[39m [titre_livre(livre) , \u001b[43mrang_livre\u001b[49m\u001b[43m(\u001b[49m\u001b[43mlivre\u001b[49m\u001b[43m)\u001b[49m, lien_livre(livre)]\n\u001b[1;32m     24\u001b[0m     ligne_supp \u001b[38;5;241m=\u001b[39m ligne_categorie \u001b[38;5;241m+\u001b[39m liste_livre\n\u001b[1;32m     25\u001b[0m     tableau_principal\u001b[38;5;241m.\u001b[39mappend(ligne_supp)\n",
      "Input \u001b[0;32mIn [16]\u001b[0m, in \u001b[0;36mrang_livre\u001b[0;34m(url_d_un_livre)\u001b[0m\n\u001b[1;32m     52\u001b[0m \u001b[38;5;28;01mdef\u001b[39;00m \u001b[38;5;21mrang_livre\u001b[39m(url_d_un_livre):\n\u001b[1;32m     53\u001b[0m     \u001b[38;5;124;03m\"\"\" fonction qui retour le rang des vente d'une livre \"\"\"\u001b[39;00m\n\u001b[0;32m---> 54\u001b[0m     \u001b[43mbrowser\u001b[49m\u001b[38;5;241;43m.\u001b[39;49m\u001b[43mget\u001b[49m\u001b[43m(\u001b[49m\u001b[43murl_d_un_livre\u001b[49m\u001b[43m)\u001b[49m\n\u001b[1;32m     55\u001b[0m     time\u001b[38;5;241m.\u001b[39msleep(\u001b[38;5;241m5\u001b[39m)\n\u001b[1;32m     56\u001b[0m     html_page_listing \u001b[38;5;241m=\u001b[39m browser\u001b[38;5;241m.\u001b[39mpage_source \u001b[38;5;66;03m# permet de prendre le code html de la page \u001b[39;00m\n",
      "File \u001b[0;32m~/.local/lib/python3.9/site-packages/selenium/webdriver/remote/webdriver.py:449\u001b[0m, in \u001b[0;36mWebDriver.get\u001b[0;34m(self, url)\u001b[0m\n\u001b[1;32m    447\u001b[0m \u001b[38;5;28;01mdef\u001b[39;00m \u001b[38;5;21mget\u001b[39m(\u001b[38;5;28mself\u001b[39m, url: \u001b[38;5;28mstr\u001b[39m) \u001b[38;5;241m-\u001b[39m\u001b[38;5;241m>\u001b[39m \u001b[38;5;28;01mNone\u001b[39;00m:\n\u001b[1;32m    448\u001b[0m     \u001b[38;5;124;03m\"\"\"Loads a web page in the current browser session.\"\"\"\u001b[39;00m\n\u001b[0;32m--> 449\u001b[0m     \u001b[38;5;28;43mself\u001b[39;49m\u001b[38;5;241;43m.\u001b[39;49m\u001b[43mexecute\u001b[49m\u001b[43m(\u001b[49m\u001b[43mCommand\u001b[49m\u001b[38;5;241;43m.\u001b[39;49m\u001b[43mGET\u001b[49m\u001b[43m,\u001b[49m\u001b[43m \u001b[49m\u001b[43m{\u001b[49m\u001b[38;5;124;43m\"\u001b[39;49m\u001b[38;5;124;43murl\u001b[39;49m\u001b[38;5;124;43m\"\u001b[39;49m\u001b[43m:\u001b[49m\u001b[43m \u001b[49m\u001b[43murl\u001b[49m\u001b[43m}\u001b[49m\u001b[43m)\u001b[49m\n",
      "File \u001b[0;32m~/.local/lib/python3.9/site-packages/selenium/webdriver/remote/webdriver.py:438\u001b[0m, in \u001b[0;36mWebDriver.execute\u001b[0;34m(self, driver_command, params)\u001b[0m\n\u001b[1;32m    435\u001b[0m     \u001b[38;5;28;01melif\u001b[39;00m \u001b[38;5;124m\"\u001b[39m\u001b[38;5;124msessionId\u001b[39m\u001b[38;5;124m\"\u001b[39m \u001b[38;5;129;01mnot\u001b[39;00m \u001b[38;5;129;01min\u001b[39;00m params:\n\u001b[1;32m    436\u001b[0m         params[\u001b[38;5;124m\"\u001b[39m\u001b[38;5;124msessionId\u001b[39m\u001b[38;5;124m\"\u001b[39m] \u001b[38;5;241m=\u001b[39m \u001b[38;5;28mself\u001b[39m\u001b[38;5;241m.\u001b[39msession_id\n\u001b[0;32m--> 438\u001b[0m response \u001b[38;5;241m=\u001b[39m \u001b[38;5;28;43mself\u001b[39;49m\u001b[38;5;241;43m.\u001b[39;49m\u001b[43mcommand_executor\u001b[49m\u001b[38;5;241;43m.\u001b[39;49m\u001b[43mexecute\u001b[49m\u001b[43m(\u001b[49m\u001b[43mdriver_command\u001b[49m\u001b[43m,\u001b[49m\u001b[43m \u001b[49m\u001b[43mparams\u001b[49m\u001b[43m)\u001b[49m\n\u001b[1;32m    439\u001b[0m \u001b[38;5;28;01mif\u001b[39;00m response:\n\u001b[1;32m    440\u001b[0m     \u001b[38;5;28mself\u001b[39m\u001b[38;5;241m.\u001b[39merror_handler\u001b[38;5;241m.\u001b[39mcheck_response(response)\n",
      "File \u001b[0;32m~/.local/lib/python3.9/site-packages/selenium/webdriver/remote/remote_connection.py:290\u001b[0m, in \u001b[0;36mRemoteConnection.execute\u001b[0;34m(self, command, params)\u001b[0m\n\u001b[1;32m    288\u001b[0m data \u001b[38;5;241m=\u001b[39m utils\u001b[38;5;241m.\u001b[39mdump_json(params)\n\u001b[1;32m    289\u001b[0m url \u001b[38;5;241m=\u001b[39m \u001b[38;5;124mf\u001b[39m\u001b[38;5;124m\"\u001b[39m\u001b[38;5;132;01m{\u001b[39;00m\u001b[38;5;28mself\u001b[39m\u001b[38;5;241m.\u001b[39m_url\u001b[38;5;132;01m}\u001b[39;00m\u001b[38;5;132;01m{\u001b[39;00mpath\u001b[38;5;132;01m}\u001b[39;00m\u001b[38;5;124m\"\u001b[39m\n\u001b[0;32m--> 290\u001b[0m \u001b[38;5;28;01mreturn\u001b[39;00m \u001b[38;5;28;43mself\u001b[39;49m\u001b[38;5;241;43m.\u001b[39;49m\u001b[43m_request\u001b[49m\u001b[43m(\u001b[49m\u001b[43mcommand_info\u001b[49m\u001b[43m[\u001b[49m\u001b[38;5;241;43m0\u001b[39;49m\u001b[43m]\u001b[49m\u001b[43m,\u001b[49m\u001b[43m \u001b[49m\u001b[43murl\u001b[49m\u001b[43m,\u001b[49m\u001b[43m \u001b[49m\u001b[43mbody\u001b[49m\u001b[38;5;241;43m=\u001b[39;49m\u001b[43mdata\u001b[49m\u001b[43m)\u001b[49m\n",
      "File \u001b[0;32m~/.local/lib/python3.9/site-packages/selenium/webdriver/remote/remote_connection.py:311\u001b[0m, in \u001b[0;36mRemoteConnection._request\u001b[0;34m(self, method, url, body)\u001b[0m\n\u001b[1;32m    308\u001b[0m     body \u001b[38;5;241m=\u001b[39m \u001b[38;5;28;01mNone\u001b[39;00m\n\u001b[1;32m    310\u001b[0m \u001b[38;5;28;01mif\u001b[39;00m \u001b[38;5;28mself\u001b[39m\u001b[38;5;241m.\u001b[39mkeep_alive:\n\u001b[0;32m--> 311\u001b[0m     response \u001b[38;5;241m=\u001b[39m \u001b[38;5;28;43mself\u001b[39;49m\u001b[38;5;241;43m.\u001b[39;49m\u001b[43m_conn\u001b[49m\u001b[38;5;241;43m.\u001b[39;49m\u001b[43mrequest\u001b[49m\u001b[43m(\u001b[49m\u001b[43mmethod\u001b[49m\u001b[43m,\u001b[49m\u001b[43m \u001b[49m\u001b[43murl\u001b[49m\u001b[43m,\u001b[49m\u001b[43m \u001b[49m\u001b[43mbody\u001b[49m\u001b[38;5;241;43m=\u001b[39;49m\u001b[43mbody\u001b[49m\u001b[43m,\u001b[49m\u001b[43m \u001b[49m\u001b[43mheaders\u001b[49m\u001b[38;5;241;43m=\u001b[39;49m\u001b[43mheaders\u001b[49m\u001b[43m)\u001b[49m\n\u001b[1;32m    312\u001b[0m     statuscode \u001b[38;5;241m=\u001b[39m response\u001b[38;5;241m.\u001b[39mstatus\n\u001b[1;32m    313\u001b[0m \u001b[38;5;28;01melse\u001b[39;00m:\n",
      "File \u001b[0;32m/usr/lib/python3/dist-packages/urllib3/request.py:78\u001b[0m, in \u001b[0;36mRequestMethods.request\u001b[0;34m(self, method, url, fields, headers, **urlopen_kw)\u001b[0m\n\u001b[1;32m     74\u001b[0m     \u001b[38;5;28;01mreturn\u001b[39;00m \u001b[38;5;28mself\u001b[39m\u001b[38;5;241m.\u001b[39mrequest_encode_url(\n\u001b[1;32m     75\u001b[0m         method, url, fields\u001b[38;5;241m=\u001b[39mfields, headers\u001b[38;5;241m=\u001b[39mheaders, \u001b[38;5;241m*\u001b[39m\u001b[38;5;241m*\u001b[39murlopen_kw\n\u001b[1;32m     76\u001b[0m     )\n\u001b[1;32m     77\u001b[0m \u001b[38;5;28;01melse\u001b[39;00m:\n\u001b[0;32m---> 78\u001b[0m     \u001b[38;5;28;01mreturn\u001b[39;00m \u001b[38;5;28;43mself\u001b[39;49m\u001b[38;5;241;43m.\u001b[39;49m\u001b[43mrequest_encode_body\u001b[49m\u001b[43m(\u001b[49m\n\u001b[1;32m     79\u001b[0m \u001b[43m        \u001b[49m\u001b[43mmethod\u001b[49m\u001b[43m,\u001b[49m\u001b[43m \u001b[49m\u001b[43murl\u001b[49m\u001b[43m,\u001b[49m\u001b[43m \u001b[49m\u001b[43mfields\u001b[49m\u001b[38;5;241;43m=\u001b[39;49m\u001b[43mfields\u001b[49m\u001b[43m,\u001b[49m\u001b[43m \u001b[49m\u001b[43mheaders\u001b[49m\u001b[38;5;241;43m=\u001b[39;49m\u001b[43mheaders\u001b[49m\u001b[43m,\u001b[49m\u001b[43m \u001b[49m\u001b[38;5;241;43m*\u001b[39;49m\u001b[38;5;241;43m*\u001b[39;49m\u001b[43murlopen_kw\u001b[49m\n\u001b[1;32m     80\u001b[0m \u001b[43m    \u001b[49m\u001b[43m)\u001b[49m\n",
      "File \u001b[0;32m/usr/lib/python3/dist-packages/urllib3/request.py:170\u001b[0m, in \u001b[0;36mRequestMethods.request_encode_body\u001b[0;34m(self, method, url, fields, headers, encode_multipart, multipart_boundary, **urlopen_kw)\u001b[0m\n\u001b[1;32m    167\u001b[0m extra_kw[\u001b[38;5;124m\"\u001b[39m\u001b[38;5;124mheaders\u001b[39m\u001b[38;5;124m\"\u001b[39m]\u001b[38;5;241m.\u001b[39mupdate(headers)\n\u001b[1;32m    168\u001b[0m extra_kw\u001b[38;5;241m.\u001b[39mupdate(urlopen_kw)\n\u001b[0;32m--> 170\u001b[0m \u001b[38;5;28;01mreturn\u001b[39;00m \u001b[38;5;28;43mself\u001b[39;49m\u001b[38;5;241;43m.\u001b[39;49m\u001b[43murlopen\u001b[49m\u001b[43m(\u001b[49m\u001b[43mmethod\u001b[49m\u001b[43m,\u001b[49m\u001b[43m \u001b[49m\u001b[43murl\u001b[49m\u001b[43m,\u001b[49m\u001b[43m \u001b[49m\u001b[38;5;241;43m*\u001b[39;49m\u001b[38;5;241;43m*\u001b[39;49m\u001b[43mextra_kw\u001b[49m\u001b[43m)\u001b[49m\n",
      "File \u001b[0;32m/usr/lib/python3/dist-packages/urllib3/poolmanager.py:375\u001b[0m, in \u001b[0;36mPoolManager.urlopen\u001b[0;34m(self, method, url, redirect, **kw)\u001b[0m\n\u001b[1;32m    373\u001b[0m     response \u001b[38;5;241m=\u001b[39m conn\u001b[38;5;241m.\u001b[39murlopen(method, url, \u001b[38;5;241m*\u001b[39m\u001b[38;5;241m*\u001b[39mkw)\n\u001b[1;32m    374\u001b[0m \u001b[38;5;28;01melse\u001b[39;00m:\n\u001b[0;32m--> 375\u001b[0m     response \u001b[38;5;241m=\u001b[39m \u001b[43mconn\u001b[49m\u001b[38;5;241;43m.\u001b[39;49m\u001b[43murlopen\u001b[49m\u001b[43m(\u001b[49m\u001b[43mmethod\u001b[49m\u001b[43m,\u001b[49m\u001b[43m \u001b[49m\u001b[43mu\u001b[49m\u001b[38;5;241;43m.\u001b[39;49m\u001b[43mrequest_uri\u001b[49m\u001b[43m,\u001b[49m\u001b[43m \u001b[49m\u001b[38;5;241;43m*\u001b[39;49m\u001b[38;5;241;43m*\u001b[39;49m\u001b[43mkw\u001b[49m\u001b[43m)\u001b[49m\n\u001b[1;32m    377\u001b[0m redirect_location \u001b[38;5;241m=\u001b[39m redirect \u001b[38;5;129;01mand\u001b[39;00m response\u001b[38;5;241m.\u001b[39mget_redirect_location()\n\u001b[1;32m    378\u001b[0m \u001b[38;5;28;01mif\u001b[39;00m \u001b[38;5;129;01mnot\u001b[39;00m redirect_location:\n",
      "File \u001b[0;32m/usr/lib/python3/dist-packages/urllib3/connectionpool.py:699\u001b[0m, in \u001b[0;36mHTTPConnectionPool.urlopen\u001b[0;34m(self, method, url, body, headers, retries, redirect, assert_same_host, timeout, pool_timeout, release_conn, chunked, body_pos, **response_kw)\u001b[0m\n\u001b[1;32m    696\u001b[0m     \u001b[38;5;28mself\u001b[39m\u001b[38;5;241m.\u001b[39m_prepare_proxy(conn)\n\u001b[1;32m    698\u001b[0m \u001b[38;5;66;03m# Make the request on the httplib connection object.\u001b[39;00m\n\u001b[0;32m--> 699\u001b[0m httplib_response \u001b[38;5;241m=\u001b[39m \u001b[38;5;28;43mself\u001b[39;49m\u001b[38;5;241;43m.\u001b[39;49m\u001b[43m_make_request\u001b[49m\u001b[43m(\u001b[49m\n\u001b[1;32m    700\u001b[0m \u001b[43m    \u001b[49m\u001b[43mconn\u001b[49m\u001b[43m,\u001b[49m\n\u001b[1;32m    701\u001b[0m \u001b[43m    \u001b[49m\u001b[43mmethod\u001b[49m\u001b[43m,\u001b[49m\n\u001b[1;32m    702\u001b[0m \u001b[43m    \u001b[49m\u001b[43murl\u001b[49m\u001b[43m,\u001b[49m\n\u001b[1;32m    703\u001b[0m \u001b[43m    \u001b[49m\u001b[43mtimeout\u001b[49m\u001b[38;5;241;43m=\u001b[39;49m\u001b[43mtimeout_obj\u001b[49m\u001b[43m,\u001b[49m\n\u001b[1;32m    704\u001b[0m \u001b[43m    \u001b[49m\u001b[43mbody\u001b[49m\u001b[38;5;241;43m=\u001b[39;49m\u001b[43mbody\u001b[49m\u001b[43m,\u001b[49m\n\u001b[1;32m    705\u001b[0m \u001b[43m    \u001b[49m\u001b[43mheaders\u001b[49m\u001b[38;5;241;43m=\u001b[39;49m\u001b[43mheaders\u001b[49m\u001b[43m,\u001b[49m\n\u001b[1;32m    706\u001b[0m \u001b[43m    \u001b[49m\u001b[43mchunked\u001b[49m\u001b[38;5;241;43m=\u001b[39;49m\u001b[43mchunked\u001b[49m\u001b[43m,\u001b[49m\n\u001b[1;32m    707\u001b[0m \u001b[43m\u001b[49m\u001b[43m)\u001b[49m\n\u001b[1;32m    709\u001b[0m \u001b[38;5;66;03m# If we're going to release the connection in ``finally:``, then\u001b[39;00m\n\u001b[1;32m    710\u001b[0m \u001b[38;5;66;03m# the response doesn't need to know about the connection. Otherwise\u001b[39;00m\n\u001b[1;32m    711\u001b[0m \u001b[38;5;66;03m# it will also try to release it and we'll have a double-release\u001b[39;00m\n\u001b[1;32m    712\u001b[0m \u001b[38;5;66;03m# mess.\u001b[39;00m\n\u001b[1;32m    713\u001b[0m response_conn \u001b[38;5;241m=\u001b[39m conn \u001b[38;5;28;01mif\u001b[39;00m \u001b[38;5;129;01mnot\u001b[39;00m release_conn \u001b[38;5;28;01melse\u001b[39;00m \u001b[38;5;28;01mNone\u001b[39;00m\n",
      "File \u001b[0;32m/usr/lib/python3/dist-packages/urllib3/connectionpool.py:445\u001b[0m, in \u001b[0;36mHTTPConnectionPool._make_request\u001b[0;34m(self, conn, method, url, timeout, chunked, **httplib_request_kw)\u001b[0m\n\u001b[1;32m    440\u001b[0m             httplib_response \u001b[38;5;241m=\u001b[39m conn\u001b[38;5;241m.\u001b[39mgetresponse()\n\u001b[1;32m    441\u001b[0m         \u001b[38;5;28;01mexcept\u001b[39;00m \u001b[38;5;167;01mBaseException\u001b[39;00m \u001b[38;5;28;01mas\u001b[39;00m e:\n\u001b[1;32m    442\u001b[0m             \u001b[38;5;66;03m# Remove the TypeError from the exception chain in\u001b[39;00m\n\u001b[1;32m    443\u001b[0m             \u001b[38;5;66;03m# Python 3 (including for exceptions like SystemExit).\u001b[39;00m\n\u001b[1;32m    444\u001b[0m             \u001b[38;5;66;03m# Otherwise it looks like a bug in the code.\u001b[39;00m\n\u001b[0;32m--> 445\u001b[0m             \u001b[43msix\u001b[49m\u001b[38;5;241;43m.\u001b[39;49m\u001b[43mraise_from\u001b[49m\u001b[43m(\u001b[49m\u001b[43me\u001b[49m\u001b[43m,\u001b[49m\u001b[43m \u001b[49m\u001b[38;5;28;43;01mNone\u001b[39;49;00m\u001b[43m)\u001b[49m\n\u001b[1;32m    446\u001b[0m \u001b[38;5;28;01mexcept\u001b[39;00m (SocketTimeout, BaseSSLError, SocketError) \u001b[38;5;28;01mas\u001b[39;00m e:\n\u001b[1;32m    447\u001b[0m     \u001b[38;5;28mself\u001b[39m\u001b[38;5;241m.\u001b[39m_raise_timeout(err\u001b[38;5;241m=\u001b[39me, url\u001b[38;5;241m=\u001b[39murl, timeout_value\u001b[38;5;241m=\u001b[39mread_timeout)\n",
      "File \u001b[0;32m<string>:3\u001b[0m, in \u001b[0;36mraise_from\u001b[0;34m(value, from_value)\u001b[0m\n",
      "File \u001b[0;32m/usr/lib/python3/dist-packages/urllib3/connectionpool.py:440\u001b[0m, in \u001b[0;36mHTTPConnectionPool._make_request\u001b[0;34m(self, conn, method, url, timeout, chunked, **httplib_request_kw)\u001b[0m\n\u001b[1;32m    437\u001b[0m \u001b[38;5;28;01mexcept\u001b[39;00m \u001b[38;5;167;01mTypeError\u001b[39;00m:\n\u001b[1;32m    438\u001b[0m     \u001b[38;5;66;03m# Python 3\u001b[39;00m\n\u001b[1;32m    439\u001b[0m     \u001b[38;5;28;01mtry\u001b[39;00m:\n\u001b[0;32m--> 440\u001b[0m         httplib_response \u001b[38;5;241m=\u001b[39m \u001b[43mconn\u001b[49m\u001b[38;5;241;43m.\u001b[39;49m\u001b[43mgetresponse\u001b[49m\u001b[43m(\u001b[49m\u001b[43m)\u001b[49m\n\u001b[1;32m    441\u001b[0m     \u001b[38;5;28;01mexcept\u001b[39;00m \u001b[38;5;167;01mBaseException\u001b[39;00m \u001b[38;5;28;01mas\u001b[39;00m e:\n\u001b[1;32m    442\u001b[0m         \u001b[38;5;66;03m# Remove the TypeError from the exception chain in\u001b[39;00m\n\u001b[1;32m    443\u001b[0m         \u001b[38;5;66;03m# Python 3 (including for exceptions like SystemExit).\u001b[39;00m\n\u001b[1;32m    444\u001b[0m         \u001b[38;5;66;03m# Otherwise it looks like a bug in the code.\u001b[39;00m\n\u001b[1;32m    445\u001b[0m         six\u001b[38;5;241m.\u001b[39mraise_from(e, \u001b[38;5;28;01mNone\u001b[39;00m)\n",
      "File \u001b[0;32m/usr/lib/python3.9/http/client.py:1347\u001b[0m, in \u001b[0;36mHTTPConnection.getresponse\u001b[0;34m(self)\u001b[0m\n\u001b[1;32m   1345\u001b[0m \u001b[38;5;28;01mtry\u001b[39;00m:\n\u001b[1;32m   1346\u001b[0m     \u001b[38;5;28;01mtry\u001b[39;00m:\n\u001b[0;32m-> 1347\u001b[0m         \u001b[43mresponse\u001b[49m\u001b[38;5;241;43m.\u001b[39;49m\u001b[43mbegin\u001b[49m\u001b[43m(\u001b[49m\u001b[43m)\u001b[49m\n\u001b[1;32m   1348\u001b[0m     \u001b[38;5;28;01mexcept\u001b[39;00m \u001b[38;5;167;01mConnectionError\u001b[39;00m:\n\u001b[1;32m   1349\u001b[0m         \u001b[38;5;28mself\u001b[39m\u001b[38;5;241m.\u001b[39mclose()\n",
      "File \u001b[0;32m/usr/lib/python3.9/http/client.py:307\u001b[0m, in \u001b[0;36mHTTPResponse.begin\u001b[0;34m(self)\u001b[0m\n\u001b[1;32m    305\u001b[0m \u001b[38;5;66;03m# read until we get a non-100 response\u001b[39;00m\n\u001b[1;32m    306\u001b[0m \u001b[38;5;28;01mwhile\u001b[39;00m \u001b[38;5;28;01mTrue\u001b[39;00m:\n\u001b[0;32m--> 307\u001b[0m     version, status, reason \u001b[38;5;241m=\u001b[39m \u001b[38;5;28;43mself\u001b[39;49m\u001b[38;5;241;43m.\u001b[39;49m\u001b[43m_read_status\u001b[49m\u001b[43m(\u001b[49m\u001b[43m)\u001b[49m\n\u001b[1;32m    308\u001b[0m     \u001b[38;5;28;01mif\u001b[39;00m status \u001b[38;5;241m!=\u001b[39m CONTINUE:\n\u001b[1;32m    309\u001b[0m         \u001b[38;5;28;01mbreak\u001b[39;00m\n",
      "File \u001b[0;32m/usr/lib/python3.9/http/client.py:268\u001b[0m, in \u001b[0;36mHTTPResponse._read_status\u001b[0;34m(self)\u001b[0m\n\u001b[1;32m    267\u001b[0m \u001b[38;5;28;01mdef\u001b[39;00m \u001b[38;5;21m_read_status\u001b[39m(\u001b[38;5;28mself\u001b[39m):\n\u001b[0;32m--> 268\u001b[0m     line \u001b[38;5;241m=\u001b[39m \u001b[38;5;28mstr\u001b[39m(\u001b[38;5;28;43mself\u001b[39;49m\u001b[38;5;241;43m.\u001b[39;49m\u001b[43mfp\u001b[49m\u001b[38;5;241;43m.\u001b[39;49m\u001b[43mreadline\u001b[49m\u001b[43m(\u001b[49m\u001b[43m_MAXLINE\u001b[49m\u001b[43m \u001b[49m\u001b[38;5;241;43m+\u001b[39;49m\u001b[43m \u001b[49m\u001b[38;5;241;43m1\u001b[39;49m\u001b[43m)\u001b[49m, \u001b[38;5;124m\"\u001b[39m\u001b[38;5;124miso-8859-1\u001b[39m\u001b[38;5;124m\"\u001b[39m)\n\u001b[1;32m    269\u001b[0m     \u001b[38;5;28;01mif\u001b[39;00m \u001b[38;5;28mlen\u001b[39m(line) \u001b[38;5;241m>\u001b[39m _MAXLINE:\n\u001b[1;32m    270\u001b[0m         \u001b[38;5;28;01mraise\u001b[39;00m LineTooLong(\u001b[38;5;124m\"\u001b[39m\u001b[38;5;124mstatus line\u001b[39m\u001b[38;5;124m\"\u001b[39m)\n",
      "File \u001b[0;32m/usr/lib/python3.9/socket.py:704\u001b[0m, in \u001b[0;36mSocketIO.readinto\u001b[0;34m(self, b)\u001b[0m\n\u001b[1;32m    702\u001b[0m \u001b[38;5;28;01mwhile\u001b[39;00m \u001b[38;5;28;01mTrue\u001b[39;00m:\n\u001b[1;32m    703\u001b[0m     \u001b[38;5;28;01mtry\u001b[39;00m:\n\u001b[0;32m--> 704\u001b[0m         \u001b[38;5;28;01mreturn\u001b[39;00m \u001b[38;5;28;43mself\u001b[39;49m\u001b[38;5;241;43m.\u001b[39;49m\u001b[43m_sock\u001b[49m\u001b[38;5;241;43m.\u001b[39;49m\u001b[43mrecv_into\u001b[49m\u001b[43m(\u001b[49m\u001b[43mb\u001b[49m\u001b[43m)\u001b[49m\n\u001b[1;32m    705\u001b[0m     \u001b[38;5;28;01mexcept\u001b[39;00m timeout:\n\u001b[1;32m    706\u001b[0m         \u001b[38;5;28mself\u001b[39m\u001b[38;5;241m.\u001b[39m_timeout_occurred \u001b[38;5;241m=\u001b[39m \u001b[38;5;28;01mTrue\u001b[39;00m\n",
      "\u001b[0;31mKeyboardInterrupt\u001b[0m: "
     ]
    }
   ],
   "source": [
    "tableau_principal = []\n",
    "for i in range(0,2): # i = 0 #doit aller de 0 à 5136 il y a 5137 éléments\n",
    "    ligne_categorie = liste_categorie.iloc[i].tolist()\n",
    "    #prends un éléments du dataframe en liste\n",
    "    # permet de convertir un élément du dataframe en liste\n",
    "    for j in range(0,2):# doit aller de 1 à ce qu'il n'y ait plus de page mais on peut partir de 1 à 2 ou 3 au départ.\n",
    "        page_livres_multi=trouver_node_url_a_incrementer(liste_categorie.iloc[i].tolist()[0]) + str(j)\n",
    "        page_livres_multi\n",
    "    # for livre in page_livres_multi:\n",
    "    # trouver_les_livres_dans_page(page_livres_multi)  # faire un joli code utiliser que la fonction retourne une liste et balayer la liste\n",
    "    \n",
    "    # for k in range(1,10):\n",
    "    #     trouver_les_livres_dans_page(page_livres_multi)[k]\n",
    "    #     page_livre = trouver_les_livres_dans_page(page_livres_multi)[k]\n",
    "    #     liste_livre = [titre_livre(page_livre) , rang_livre(page_livre), lien_livre(page_livre)]\n",
    "    #     ligne_supp = ligne_categorie + liste_livre\n",
    "    #     tableau_principal.append(ligne_supp)\n",
    "\n",
    "        trouver_les_livres_dans_page(page_livres_multi)  # faire un joli code utiliser que la fonction retourne une liste et balayer la liste\n",
    "\n",
    "        for livre in trouver_les_livres_dans_page(page_livres_multi):\n",
    "            page_livre = livre\n",
    "            liste_livre = [titre_livre(livre) , rang_livre(livre), lien_livre(livre)]\n",
    "            ligne_supp = ligne_categorie + liste_livre\n",
    "            tableau_principal.append(ligne_supp)\n",
    "tableau_principal"
   ]
  },
  {
   "cell_type": "code",
   "execution_count": 12,
   "id": "63cdc2b2",
   "metadata": {},
   "outputs": [],
   "source": [
    "titres_colonnes = [\"url_categorie\",\"cat1\",\"cat2\",\"cat3\",\"cat4\",\"cat5\",\"cat6\",\"titre\",\"rang\",\"lien\"]"
   ]
  },
  {
   "cell_type": "code",
   "execution_count": 13,
   "id": "dd306f8d",
   "metadata": {},
   "outputs": [
    {
     "ename": "NameError",
     "evalue": "name 'tableau_principal' is not defined",
     "output_type": "error",
     "traceback": [
      "\u001b[0;31m---------------------------------------------------------------------------\u001b[0m",
      "\u001b[0;31mNameError\u001b[0m                                 Traceback (most recent call last)",
      "Input \u001b[0;32mIn [13]\u001b[0m, in \u001b[0;36m<cell line: 1>\u001b[0;34m()\u001b[0m\n\u001b[0;32m----> 1\u001b[0m df \u001b[38;5;241m=\u001b[39m pd\u001b[38;5;241m.\u001b[39mDataFrame(\u001b[43mtableau_principal\u001b[49m, columns\u001b[38;5;241m=\u001b[39mtitres_colonnes)\n",
      "\u001b[0;31mNameError\u001b[0m: name 'tableau_principal' is not defined"
     ]
    }
   ],
   "source": [
    "df = pd.DataFrame(tableau_principal, columns=titres_colonnes)"
   ]
  },
  {
   "cell_type": "code",
   "execution_count": 76,
   "id": "72d7b9c7",
   "metadata": {
    "scrolled": false
   },
   "outputs": [
    {
     "data": {
      "text/html": [
       "<div>\n",
       "<style scoped>\n",
       "    .dataframe tbody tr th:only-of-type {\n",
       "        vertical-align: middle;\n",
       "    }\n",
       "\n",
       "    .dataframe tbody tr th {\n",
       "        vertical-align: top;\n",
       "    }\n",
       "\n",
       "    .dataframe thead th {\n",
       "        text-align: right;\n",
       "    }\n",
       "</style>\n",
       "<table border=\"1\" class=\"dataframe\">\n",
       "  <thead>\n",
       "    <tr style=\"text-align: right;\">\n",
       "      <th></th>\n",
       "      <th>url_categorie</th>\n",
       "      <th>cat1</th>\n",
       "      <th>cat2</th>\n",
       "      <th>cat3</th>\n",
       "      <th>cat4</th>\n",
       "      <th>cat5</th>\n",
       "      <th>cat6</th>\n",
       "      <th>titre</th>\n",
       "      <th>rang</th>\n",
       "      <th>lien</th>\n",
       "    </tr>\n",
       "  </thead>\n",
       "  <tbody>\n",
       "    <tr>\n",
       "      <th>0</th>\n",
       "      <td>https://www.amazon.com/s?bbn=157630011&amp;rh=n%3A...</td>\n",
       "      <td>Arts &amp; Photography</td>\n",
       "      <td>Architecture</td>\n",
       "      <td>Architects, A-Z</td>\n",
       "      <td>NaN</td>\n",
       "      <td>NaN</td>\n",
       "      <td>NaN</td>\n",
       "      <td>Architectural Digest at 100: A Century of Style</td>\n",
       "      <td>None</td>\n",
       "      <td>https://www.amazon.com/Architectural-Digest-10...</td>\n",
       "    </tr>\n",
       "    <tr>\n",
       "      <th>1</th>\n",
       "      <td>https://www.amazon.com/s?bbn=157630011&amp;rh=n%3A...</td>\n",
       "      <td>Arts &amp; Photography</td>\n",
       "      <td>Architecture</td>\n",
       "      <td>Architects, A-Z</td>\n",
       "      <td>NaN</td>\n",
       "      <td>NaN</td>\n",
       "      <td>NaN</td>\n",
       "      <td>A Place of My Own: The Architecture of Daydreams</td>\n",
       "      <td>None</td>\n",
       "      <td>https://www.amazon.com/Place-My-Own-Architectu...</td>\n",
       "    </tr>\n",
       "    <tr>\n",
       "      <th>2</th>\n",
       "      <td>https://www.amazon.com/s?bbn=157630011&amp;rh=n%3A...</td>\n",
       "      <td>Arts &amp; Photography</td>\n",
       "      <td>Architecture</td>\n",
       "      <td>Architects, A-Z</td>\n",
       "      <td>NaN</td>\n",
       "      <td>NaN</td>\n",
       "      <td>NaN</td>\n",
       "      <td>The Stoic way of Life: The Ultimate Guide of S...</td>\n",
       "      <td>None</td>\n",
       "      <td>https://www.amazon.com/Stoic-way-Life-Confiden...</td>\n",
       "    </tr>\n",
       "    <tr>\n",
       "      <th>3</th>\n",
       "      <td>https://www.amazon.com/s?bbn=157630011&amp;rh=n%3A...</td>\n",
       "      <td>Arts &amp; Photography</td>\n",
       "      <td>Architecture</td>\n",
       "      <td>Architects, A-Z</td>\n",
       "      <td>NaN</td>\n",
       "      <td>NaN</td>\n",
       "      <td>NaN</td>\n",
       "      <td>The $12 Million Stuffed Shark: The Curious Eco...</td>\n",
       "      <td>None</td>\n",
       "      <td>https://www.amazon.com/Million-Stuffed-Shark-E...</td>\n",
       "    </tr>\n",
       "    <tr>\n",
       "      <th>4</th>\n",
       "      <td>https://www.amazon.com/s?bbn=157630011&amp;rh=n%3A...</td>\n",
       "      <td>Arts &amp; Photography</td>\n",
       "      <td>Architecture</td>\n",
       "      <td>Architects, A-Z</td>\n",
       "      <td>NaN</td>\n",
       "      <td>NaN</td>\n",
       "      <td>NaN</td>\n",
       "      <td>Confessions Of an Art Addict</td>\n",
       "      <td>None</td>\n",
       "      <td>https://www.amazon.com/Confessions-Art-Addict-...</td>\n",
       "    </tr>\n",
       "    <tr>\n",
       "      <th>5</th>\n",
       "      <td>https://www.amazon.com/s?bbn=157630011&amp;rh=n%3A...</td>\n",
       "      <td>Arts &amp; Photography</td>\n",
       "      <td>Architecture</td>\n",
       "      <td>Architects, A-Z</td>\n",
       "      <td>NaN</td>\n",
       "      <td>NaN</td>\n",
       "      <td>NaN</td>\n",
       "      <td>The Gardner Heist: The True Story of the World...</td>\n",
       "      <td>None</td>\n",
       "      <td>https://www.amazon.com/Gardner-Heist-Worlds-La...</td>\n",
       "    </tr>\n",
       "    <tr>\n",
       "      <th>6</th>\n",
       "      <td>https://www.amazon.com/s?bbn=157630011&amp;rh=n%3A...</td>\n",
       "      <td>Arts &amp; Photography</td>\n",
       "      <td>Architecture</td>\n",
       "      <td>Architects, A-Z</td>\n",
       "      <td>NaN</td>\n",
       "      <td>NaN</td>\n",
       "      <td>NaN</td>\n",
       "      <td>Wright Sites: A Guide to Frank Lloyd Wright Pu...</td>\n",
       "      <td>None</td>\n",
       "      <td>https://www.amazon.com/Wright-Sites-Guide-Publ...</td>\n",
       "    </tr>\n",
       "    <tr>\n",
       "      <th>7</th>\n",
       "      <td>https://www.amazon.com/s?bbn=157630011&amp;rh=n%3A...</td>\n",
       "      <td>Arts &amp; Photography</td>\n",
       "      <td>Architecture</td>\n",
       "      <td>Architects, A-Z</td>\n",
       "      <td>NaN</td>\n",
       "      <td>NaN</td>\n",
       "      <td>NaN</td>\n",
       "      <td>The Fellowship: The Untold Story of Frank Lloy...</td>\n",
       "      <td>None</td>\n",
       "      <td>https://www.amazon.com/Fellowship-Untold-Story...</td>\n",
       "    </tr>\n",
       "    <tr>\n",
       "      <th>8</th>\n",
       "      <td>https://www.amazon.com/s?bbn=157630011&amp;rh=n%3A...</td>\n",
       "      <td>Arts &amp; Photography</td>\n",
       "      <td>Architecture</td>\n",
       "      <td>Architects, A-Z</td>\n",
       "      <td>NaN</td>\n",
       "      <td>NaN</td>\n",
       "      <td>NaN</td>\n",
       "      <td>Frank Lloyd Wright</td>\n",
       "      <td>None</td>\n",
       "      <td>https://www.amazon.com/Frank-Lloyd-Wright-Mery...</td>\n",
       "    </tr>\n",
       "    <tr>\n",
       "      <th>9</th>\n",
       "      <td>https://www.amazon.com/s?bbn=157630011&amp;rh=n%3A...</td>\n",
       "      <td>Arts &amp; Photography</td>\n",
       "      <td>Architecture</td>\n",
       "      <td>Architects, A-Z</td>\n",
       "      <td>NaN</td>\n",
       "      <td>NaN</td>\n",
       "      <td>NaN</td>\n",
       "      <td>Death in a Prairie House: Frank Lloyd Wright a...</td>\n",
       "      <td>None</td>\n",
       "      <td>https://www.amazon.com/Death-Prairie-House-Tal...</td>\n",
       "    </tr>\n",
       "    <tr>\n",
       "      <th>10</th>\n",
       "      <td>https://www.amazon.com/s?bbn=157630011&amp;rh=n%3A...</td>\n",
       "      <td>Arts &amp; Photography</td>\n",
       "      <td>Architecture</td>\n",
       "      <td>Architects, A-Z</td>\n",
       "      <td>NaN</td>\n",
       "      <td>NaN</td>\n",
       "      <td>NaN</td>\n",
       "      <td>Higher: A Historic Race to the Sky and the Mak...</td>\n",
       "      <td>None</td>\n",
       "      <td>https://www.amazon.com/Higher-Historic-Race-Ma...</td>\n",
       "    </tr>\n",
       "    <tr>\n",
       "      <th>11</th>\n",
       "      <td>https://www.amazon.com/s?bbn=157630011&amp;rh=n%3A...</td>\n",
       "      <td>Arts &amp; Photography</td>\n",
       "      <td>Architecture</td>\n",
       "      <td>Architects, A-Z</td>\n",
       "      <td>NaN</td>\n",
       "      <td>NaN</td>\n",
       "      <td>NaN</td>\n",
       "      <td>If Walls Could Speak: My Life in Architecture</td>\n",
       "      <td>None</td>\n",
       "      <td>https://www.amazon.com/If-Walls-Could-Speak-Ar...</td>\n",
       "    </tr>\n",
       "    <tr>\n",
       "      <th>12</th>\n",
       "      <td>https://www.amazon.com/s?bbn=157630011&amp;rh=n%3A...</td>\n",
       "      <td>Arts &amp; Photography</td>\n",
       "      <td>Architecture</td>\n",
       "      <td>Architects, A-Z</td>\n",
       "      <td>NaN</td>\n",
       "      <td>NaN</td>\n",
       "      <td>NaN</td>\n",
       "      <td>The Lost Chalice: The Real-Life Chase for One ...</td>\n",
       "      <td>None</td>\n",
       "      <td>https://www.amazon.com/Lost-Chalice-Real-Life-...</td>\n",
       "    </tr>\n",
       "    <tr>\n",
       "      <th>13</th>\n",
       "      <td>https://www.amazon.com/s?bbn=157630011&amp;rh=n%3A...</td>\n",
       "      <td>Arts &amp; Photography</td>\n",
       "      <td>Architecture</td>\n",
       "      <td>Architects, A-Z</td>\n",
       "      <td>NaN</td>\n",
       "      <td>NaN</td>\n",
       "      <td>NaN</td>\n",
       "      <td>Frank Lloyd Wright: A Life (Penguin Lives)</td>\n",
       "      <td>None</td>\n",
       "      <td>https://www.amazon.com/Frank-Lloyd-Wright-Peng...</td>\n",
       "    </tr>\n",
       "    <tr>\n",
       "      <th>14</th>\n",
       "      <td>https://www.amazon.com/s?bbn=157630011&amp;rh=n%3A...</td>\n",
       "      <td>Arts &amp; Photography</td>\n",
       "      <td>Architecture</td>\n",
       "      <td>Architects, A-Z</td>\n",
       "      <td>NaN</td>\n",
       "      <td>NaN</td>\n",
       "      <td>NaN</td>\n",
       "      <td>Goya: A Portrait of the Artist</td>\n",
       "      <td>None</td>\n",
       "      <td>https://www.amazon.com/Goya-Portrait-Artist-Ja...</td>\n",
       "    </tr>\n",
       "    <tr>\n",
       "      <th>15</th>\n",
       "      <td>https://www.amazon.com/s?bbn=157630011&amp;rh=n%3A...</td>\n",
       "      <td>Arts &amp; Photography</td>\n",
       "      <td>Architecture</td>\n",
       "      <td>Architects, A-Z</td>\n",
       "      <td>NaN</td>\n",
       "      <td>NaN</td>\n",
       "      <td>NaN</td>\n",
       "      <td>Building Art: The Life and Work of Frank Gehry</td>\n",
       "      <td>None</td>\n",
       "      <td>https://www.amazon.com/Building-Art-Life-Frank...</td>\n",
       "    </tr>\n",
       "  </tbody>\n",
       "</table>\n",
       "</div>"
      ],
      "text/plain": [
       "                                        url_categorie                cat1  \\\n",
       "0   https://www.amazon.com/s?bbn=157630011&rh=n%3A...  Arts & Photography   \n",
       "1   https://www.amazon.com/s?bbn=157630011&rh=n%3A...  Arts & Photography   \n",
       "2   https://www.amazon.com/s?bbn=157630011&rh=n%3A...  Arts & Photography   \n",
       "3   https://www.amazon.com/s?bbn=157630011&rh=n%3A...  Arts & Photography   \n",
       "4   https://www.amazon.com/s?bbn=157630011&rh=n%3A...  Arts & Photography   \n",
       "5   https://www.amazon.com/s?bbn=157630011&rh=n%3A...  Arts & Photography   \n",
       "6   https://www.amazon.com/s?bbn=157630011&rh=n%3A...  Arts & Photography   \n",
       "7   https://www.amazon.com/s?bbn=157630011&rh=n%3A...  Arts & Photography   \n",
       "8   https://www.amazon.com/s?bbn=157630011&rh=n%3A...  Arts & Photography   \n",
       "9   https://www.amazon.com/s?bbn=157630011&rh=n%3A...  Arts & Photography   \n",
       "10  https://www.amazon.com/s?bbn=157630011&rh=n%3A...  Arts & Photography   \n",
       "11  https://www.amazon.com/s?bbn=157630011&rh=n%3A...  Arts & Photography   \n",
       "12  https://www.amazon.com/s?bbn=157630011&rh=n%3A...  Arts & Photography   \n",
       "13  https://www.amazon.com/s?bbn=157630011&rh=n%3A...  Arts & Photography   \n",
       "14  https://www.amazon.com/s?bbn=157630011&rh=n%3A...  Arts & Photography   \n",
       "15  https://www.amazon.com/s?bbn=157630011&rh=n%3A...  Arts & Photography   \n",
       "\n",
       "            cat2             cat3  cat4  cat5  cat6  \\\n",
       "0   Architecture  Architects, A-Z   NaN   NaN   NaN   \n",
       "1   Architecture  Architects, A-Z   NaN   NaN   NaN   \n",
       "2   Architecture  Architects, A-Z   NaN   NaN   NaN   \n",
       "3   Architecture  Architects, A-Z   NaN   NaN   NaN   \n",
       "4   Architecture  Architects, A-Z   NaN   NaN   NaN   \n",
       "5   Architecture  Architects, A-Z   NaN   NaN   NaN   \n",
       "6   Architecture  Architects, A-Z   NaN   NaN   NaN   \n",
       "7   Architecture  Architects, A-Z   NaN   NaN   NaN   \n",
       "8   Architecture  Architects, A-Z   NaN   NaN   NaN   \n",
       "9   Architecture  Architects, A-Z   NaN   NaN   NaN   \n",
       "10  Architecture  Architects, A-Z   NaN   NaN   NaN   \n",
       "11  Architecture  Architects, A-Z   NaN   NaN   NaN   \n",
       "12  Architecture  Architects, A-Z   NaN   NaN   NaN   \n",
       "13  Architecture  Architects, A-Z   NaN   NaN   NaN   \n",
       "14  Architecture  Architects, A-Z   NaN   NaN   NaN   \n",
       "15  Architecture  Architects, A-Z   NaN   NaN   NaN   \n",
       "\n",
       "                                                titre  rang  \\\n",
       "0     Architectural Digest at 100: A Century of Style  None   \n",
       "1    A Place of My Own: The Architecture of Daydreams  None   \n",
       "2   The Stoic way of Life: The Ultimate Guide of S...  None   \n",
       "3   The $12 Million Stuffed Shark: The Curious Eco...  None   \n",
       "4                        Confessions Of an Art Addict  None   \n",
       "5   The Gardner Heist: The True Story of the World...  None   \n",
       "6   Wright Sites: A Guide to Frank Lloyd Wright Pu...  None   \n",
       "7   The Fellowship: The Untold Story of Frank Lloy...  None   \n",
       "8                                  Frank Lloyd Wright  None   \n",
       "9   Death in a Prairie House: Frank Lloyd Wright a...  None   \n",
       "10  Higher: A Historic Race to the Sky and the Mak...  None   \n",
       "11      If Walls Could Speak: My Life in Architecture  None   \n",
       "12  The Lost Chalice: The Real-Life Chase for One ...  None   \n",
       "13         Frank Lloyd Wright: A Life (Penguin Lives)  None   \n",
       "14                     Goya: A Portrait of the Artist  None   \n",
       "15     Building Art: The Life and Work of Frank Gehry  None   \n",
       "\n",
       "                                                 lien  \n",
       "0   https://www.amazon.com/Architectural-Digest-10...  \n",
       "1   https://www.amazon.com/Place-My-Own-Architectu...  \n",
       "2   https://www.amazon.com/Stoic-way-Life-Confiden...  \n",
       "3   https://www.amazon.com/Million-Stuffed-Shark-E...  \n",
       "4   https://www.amazon.com/Confessions-Art-Addict-...  \n",
       "5   https://www.amazon.com/Gardner-Heist-Worlds-La...  \n",
       "6   https://www.amazon.com/Wright-Sites-Guide-Publ...  \n",
       "7   https://www.amazon.com/Fellowship-Untold-Story...  \n",
       "8   https://www.amazon.com/Frank-Lloyd-Wright-Mery...  \n",
       "9   https://www.amazon.com/Death-Prairie-House-Tal...  \n",
       "10  https://www.amazon.com/Higher-Historic-Race-Ma...  \n",
       "11  https://www.amazon.com/If-Walls-Could-Speak-Ar...  \n",
       "12  https://www.amazon.com/Lost-Chalice-Real-Life-...  \n",
       "13  https://www.amazon.com/Frank-Lloyd-Wright-Peng...  \n",
       "14  https://www.amazon.com/Goya-Portrait-Artist-Ja...  \n",
       "15  https://www.amazon.com/Building-Art-Life-Frank...  "
      ]
     },
     "execution_count": 76,
     "metadata": {},
     "output_type": "execute_result"
    }
   ],
   "source": [
    "df"
   ]
  },
  {
   "cell_type": "code",
   "execution_count": 76,
   "id": "ab2f555f",
   "metadata": {},
   "outputs": [],
   "source": [
    "df.to_csv('2023-11.csv')"
   ]
  },
  {
   "cell_type": "raw",
   "id": "7dc5f7b8",
   "metadata": {},
   "source": [
    "Point d'arrêt du 04/11/2023 \n",
    "reste à faire tourner sur 2 catégroies 2 pages par catégories ==> OK fait le 7 / 01/2024\n",
    "Puis reste à importer sur raspberry pour modifier un peu les foncions pour envoyer le raspberry\n",
    "puis à mettre le tout dans des boucles\n",
    "puis à mettre des stops\n",
    "encore  1 heure de travail ==> puis le passer sur raspberry"
   ]
  },
  {
   "cell_type": "code",
   "execution_count": null,
   "id": "560e13ff",
   "metadata": {},
   "outputs": [],
   "source": [
    "\n"
   ]
  }
 ],
 "metadata": {
  "kernelspec": {
   "display_name": "Python 3 (ipykernel)",
   "language": "python",
   "name": "python3"
  },
  "language_info": {
   "codemirror_mode": {
    "name": "ipython",
    "version": 3
   },
   "file_extension": ".py",
   "mimetype": "text/x-python",
   "name": "python",
   "nbconvert_exporter": "python",
   "pygments_lexer": "ipython3",
   "version": "3.9.2"
  },
  "toc": {
   "base_numbering": 1,
   "nav_menu": {},
   "number_sections": true,
   "sideBar": true,
   "skip_h1_title": false,
   "title_cell": "Table of Contents",
   "title_sidebar": "Contents",
   "toc_cell": false,
   "toc_position": {
    "height": "344.727px",
    "left": "25px",
    "top": "111.136px",
    "width": "165px"
   },
   "toc_section_display": true,
   "toc_window_display": true
  }
 },
 "nbformat": 4,
 "nbformat_minor": 5
}
