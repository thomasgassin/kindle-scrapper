{
 "cells": [
  {
   "cell_type": "markdown",
   "id": "03639832",
   "metadata": {},
   "source": [
    "Nous allons détailler les fonctions dans ce notebook."
   ]
  },
  {
   "cell_type": "markdown",
   "id": "bcfa989e",
   "metadata": {},
   "source": [
    "### IMPORTS"
   ]
  },
  {
   "cell_type": "code",
   "execution_count": 1,
   "id": "fe34fa59",
   "metadata": {},
   "outputs": [],
   "source": [
    "import requests\n",
    "from bs4 import BeautifulSoup\n",
    "from selenium import webdriver\n",
    "from pathlib import Path\n",
    "import os\n",
    "# from webdriver_manager.chrome import ChromeDriverManager\n",
    "# import chromedriver_binary\n",
    "import re\n",
    "import csv"
   ]
  },
  {
   "cell_type": "markdown",
   "id": "6efdfb72",
   "metadata": {},
   "source": [
    "### URLs exemple"
   ]
  },
  {
   "cell_type": "code",
   "execution_count": 2,
   "id": "5e7fdf71",
   "metadata": {},
   "outputs": [],
   "source": [
    "url_kindle_accueil = \"https://www.amazon.com/b?node=154606011\"\n",
    "url_kindle_cat_art_and_photo =\"https://www.amazon.com/s?bbn=154606011&rh=n%3A133140011%2Cn%3A154606011%2Cn%3A154607011&dc&qid=1648440703&rnid=154606011&ref=lp_154606011_nr_n_0\"\n",
    "url_kindle_cat_art_and_photo_subcat_music_p1 = \"https://www.amazon.com/s?rh=n%3A156302011&fs=true&ref=lp_156302011_sar\"\n",
    "\n",
    "url_kindle_cat_art_and_photo_subcat_umusic_p2 = \"https://www.amazon.com/s?i=digital-text&rh=n%3A156302011&fs=true&page=2&qid=1648440846&ref=sr_pg_2\"\n",
    "url_kindle_cat_art_and_photo_subcat_umusic_p3  =\"https://www.amazon.com/s?i=digital-text&rh=n%3A156302011&fs=true&page=3&qid=1648440968&ref=sr_pg_3\""
   ]
  },
  {
   "cell_type": "code",
   "execution_count": 3,
   "id": "ea3aea10",
   "metadata": {},
   "outputs": [],
   "source": [
    "url_livre1=\"https://www.amazon.com/Last-Goddess-Novel-Kate%C5%99ina-Tu%C4%8Dkov%C3%A1-ebook/dp/B09BZ8L74Q/ref=pd_sbs_sccl_1_3/131-3814768-2928133?pd_rd_w=eOyFv&pf_rd_p=3676f086-9496-4fd7-8490-77cf7f43f846&pf_rd_r=XXEVJ89KR0WC7CQF9791&pd_rd_r=ff1f8e44-e48e-4dcc-8716-a64d5675ebe6&pd_rd_wg=tAIJl&pd_rd_i=B09BZ8L74Q&psc=1\"\n",
    "url_livre2=\"https://www.amazon.com/gp/product/B09K7J47Y8/ref=s9_acss_bw_cg_bsmafr_1b1_w?pf_rd_m=ATVPDKIKX0DER&pf_rd_s=merchandised-search-13&pf_rd_r=EX2QJTNDW0DCKTRX8KFT&pf_rd_t=101&pf_rd_p=5074797f-6c32-4283-a5a7-526fd1198645&pf_rd_i=14413390011\"\n",
    "url_livre3=\"https://www.amazon.com/Healthy-Smoothie-Cookbook-Breakfast-Kid-Friendly-ebook/dp/B083QK3DT9/ref=sr_1_12?keywords=smoothie+recipe+book&qid=1651700938&s=digital-text&sprefix=smoothie%2Cdigital-text%2C236&sr=1-12\""
   ]
  },
  {
   "cell_type": "markdown",
   "id": "aa31f127",
   "metadata": {},
   "source": [
    "# Ouverture du navigateur"
   ]
  },
  {
   "cell_type": "markdown",
   "id": "d6efddd0",
   "metadata": {},
   "source": [
    "avant bien lancer le programme X launch sur windows en cochant sur disable"
   ]
  },
  {
   "cell_type": "code",
   "execution_count": 4,
   "id": "0bc90ebd",
   "metadata": {},
   "outputs": [
    {
     "name": "stderr",
     "output_type": "stream",
     "text": [
      "/tmp/ipykernel_544/2347370238.py:2: DeprecationWarning: executable_path has been deprecated, please pass in a Service object\n",
      "  browser = webdriver.Chrome(executable_path= DRIVER_PATH_chromedriver)\n"
     ]
    }
   ],
   "source": [
    "DRIVER_PATH_chromedriver = str(Path('../chromedriver').resolve())\n",
    "browser = webdriver.Chrome(executable_path= DRIVER_PATH_chromedriver)\n",
    "browser.get(url_kindle_accueil)"
   ]
  },
  {
   "cell_type": "markdown",
   "id": "1c875385",
   "metadata": {},
   "source": [
    "avec le programme ci-après j arrive à lancer chrome depuis notebook !! yes"
   ]
  },
  {
   "cell_type": "markdown",
   "id": "a49ff183",
   "metadata": {},
   "source": [
    ">### il faut réussir à faire différents programme:\n",
    ">   - sur la page d'un livre ( en input un url) trouver le livre , l'auteur, le ranking\n",
    ">   - sur une page, trouver tout les livres de la pages\n",
    ">   - sur une catégorie trouver les pages de catégories"
   ]
  },
  {
   "cell_type": "markdown",
   "id": "b0ea0ae1",
   "metadata": {
    "tags": []
   },
   "source": [
    "# Fonction 1 : avec url d'un livre , retourner ranking des ventes, le nom l'auteur "
   ]
  },
  {
   "cell_type": "code",
   "execution_count": 5,
   "id": "beffe270",
   "metadata": {},
   "outputs": [],
   "source": [
    "regex_expression = \"</span> #.* in Kindle Store \" # utile pour regex"
   ]
  },
  {
   "cell_type": "code",
   "execution_count": 6,
   "id": "8d7b337f",
   "metadata": {},
   "outputs": [],
   "source": [
    "url_yumkasi = \"https://www.amazon.com/Minoru-Yamasaki-Humanist-Architecture-Modernist-ebook/dp/B0798MHV9R/ref=sr_1_17?qid=1652127157&rnid=157630011&s=digital-text&sr=1-17\""
   ]
  },
  {
   "cell_type": "code",
   "execution_count": 7,
   "id": "97335e48",
   "metadata": {},
   "outputs": [],
   "source": [
    "url_livre =\"https://www.amazon.com/gp/product/B09XFL8N77?storeType=ebooks&pf_rd_p=1a003f54-b0fb-4c1f-847d-4b886d085c2a&pf_rd_r=1S6X1FD1D0CDDESY6F9C&pd_rd_wg=OYcWw&pd_rd_i=B09XFL8N77&ref_=dbs_0_def_rwt_wigo_nfy_recs_wigo_1&pd_rd_w=n45p7&pd_rd_r=29980150-6069-4b0c-9b26-a02de52121aa\"\n",
    "browser.get(url_livre)"
   ]
  },
  {
   "cell_type": "code",
   "execution_count": 10,
   "id": "f21c8dab",
   "metadata": {},
   "outputs": [],
   "source": [
    "browser.get(url_yumkasi)"
   ]
  },
  {
   "cell_type": "code",
   "execution_count": 11,
   "id": "fc7ca572",
   "metadata": {},
   "outputs": [],
   "source": [
    "code_de_la_page = browser.page_source\n",
    "soup = BeautifulSoup(code_de_la_page , 'lxml')"
   ]
  },
  {
   "cell_type": "code",
   "execution_count": 13,
   "id": "0fb54cd1",
   "metadata": {},
   "outputs": [],
   "source": [
    "titre_livre = soup.find('span'  , {'class': 'a-size-extra-large'}).string"
   ]
  },
  {
   "cell_type": "code",
   "execution_count": 14,
   "id": "ecd283e5",
   "metadata": {},
   "outputs": [
    {
     "data": {
      "text/plain": [
       "' Minoru Yamasaki: Humanist Architecture for a Modernist World '"
      ]
     },
     "execution_count": 14,
     "metadata": {},
     "output_type": "execute_result"
    }
   ],
   "source": [
    "titre_livre"
   ]
  },
  {
   "cell_type": "code",
   "execution_count": 15,
   "id": "16d1c8ca",
   "metadata": {},
   "outputs": [],
   "source": [
    "rang_livre = soup.find_all( {'span'  : 'a-list-item'})"
   ]
  },
  {
   "cell_type": "code",
   "execution_count": 16,
   "id": "358cd823",
   "metadata": {},
   "outputs": [],
   "source": [
    "rang_vente = str(re.compile(regex_expression).search(str(rang_livre))).split()[5].replace(\"#\",\"\").replace(\",\",\"\")"
   ]
  },
  {
   "cell_type": "code",
   "execution_count": 51,
   "id": "8cbe64e4",
   "metadata": {},
   "outputs": [
    {
     "data": {
      "text/plain": [
       "'1169342'"
      ]
     },
     "execution_count": 51,
     "metadata": {},
     "output_type": "execute_result"
    }
   ],
   "source": [
    "str(rang_vente)"
   ]
  },
  {
   "cell_type": "code",
   "execution_count": 17,
   "id": "bbc92455",
   "metadata": {},
   "outputs": [],
   "source": [
    "def trouver_rang(url):\n",
    "    browser.get(url)\n",
    "    code_de_la_page = browser.page_source\n",
    "    soup = BeautifulSoup(code_de_la_page , 'lxml')\n",
    "    rang_livre = soup.find_all( {'span'  : 'a-list-item'})\n",
    "    rang_vente = str(re.compile(regex_expression).search(str(rang_livre))).split()[5].replace(\"#\",\"\").replace(\",\",\"\")\n",
    "    return str(rang_vente)"
   ]
  },
  {
   "cell_type": "code",
   "execution_count": 19,
   "id": "70b06b8f",
   "metadata": {},
   "outputs": [
    {
     "data": {
      "text/plain": [
       "'13'"
      ]
     },
     "execution_count": 19,
     "metadata": {},
     "output_type": "execute_result"
    }
   ],
   "source": [
    "trouver_rang(url_livre2)"
   ]
  },
  {
   "cell_type": "code",
   "execution_count": 20,
   "id": "1f11aae8",
   "metadata": {},
   "outputs": [
    {
     "data": {
      "text/plain": [
       "0"
      ]
     },
     "execution_count": 20,
     "metadata": {},
     "output_type": "execute_result"
    }
   ],
   "source": [
    "books_html = soup.find_all(\"article\", class_=\"product_pod\")\n",
    "len(books_html)"
   ]
  },
  {
   "cell_type": "markdown",
   "id": "e67d360f",
   "metadata": {},
   "source": [
    "# Sur une page récupérer les données : de classement de vente , nom du livre catérgorie"
   ]
  },
  {
   "cell_type": "code",
   "execution_count": 21,
   "id": "fdac7e18",
   "metadata": {},
   "outputs": [],
   "source": [
    "url = \"https://www.amazon.com/s?i=digital-text&bbn=157630011&rh=n%3A133140011%2Cn%3A154606011%2Cn%3A154607011%2Cn%3A157630011%2Cn%3A157631011&dc&fs=true&qid=1651987607&rnid=157630011&ref=sr_nr_n_1\"\n",
    "url_page_1 = \"https://www.amazon.com/s?i=digital-text&bbn=157630011&rh=n%3A133140011%2Cn%3A154606011%2Cn%3A154607011%2Cn%3A157630011%2Cn%3A157631011&dc&fs=true&page=1&qid=1651987613&rnid=157630011&ref=sr_pg_2\"\n",
    "url_page_2 = \"https://www.amazon.com/s?i=digital-text&bbn=157630011&rh=n%3A133140011%2Cn%3A154606011%2Cn%3A154607011%2Cn%3A157630011%2Cn%3A157631011&dc&fs=true&page=2&qid=1651987613&rnid=157630011&ref=sr_pg_2\"\n",
    "url_page_3     = \"https://www.amazon.com/s?i=digital-text&bbn=157630011&rh=n%3A133140011%2Cn%3A154606011%2Cn%3A154607011%2Cn%3A157630011%2Cn%3A157631011&dc&fs=true&page=3&qid=1651987613&rnid=157630011&ref=sr_pg_3\"\n",
    "url_page_3bis  = \"https://www.amazon.com/s?i=digital-text&bbn=157630011&rh=n%3A133140011%2Cn%3A154606011%2Cn%3A154607011%2Cn%3A157630011%2Cn%3A157631011&dc&fs=true&page=3&qid=1651987793&rnid=157630011&ref=sr_pg_3\"\n"
   ]
  },
  {
   "cell_type": "code",
   "execution_count": 22,
   "id": "578a143b",
   "metadata": {},
   "outputs": [],
   "source": [
    "browser.get(url_page_2) #navigue sur une page avec tous les lien du site\n",
    "html_page_listing = browser.page_source # permet de prendre le code html de la page \n",
    "soup = BeautifulSoup(html_page_listing , 'lxml') # créer la soupe avec le parser\n",
    "livres = soup.find_all('div' ,{ 'data-asin':True, 'data-component-type' : 's-search-result'} )\n",
    "#tous les livres de la pages\n",
    "\n",
    "# le numéro ASIN correspeond à la ref du livre sur amazon\n",
    "# ASIN=B098652LH8P"
   ]
  },
  {
   "cell_type": "code",
   "execution_count": 23,
   "id": "c0d0f48f",
   "metadata": {},
   "outputs": [
    {
     "data": {
      "text/plain": [
       "16"
      ]
     },
     "execution_count": 23,
     "metadata": {},
     "output_type": "execute_result"
    }
   ],
   "source": [
    "len(livres)"
   ]
  },
  {
   "cell_type": "code",
   "execution_count": 24,
   "id": "297c2d66",
   "metadata": {},
   "outputs": [],
   "source": [
    "url_du_livre = 'https://www.amazon.com'+livres[2].h2.a.get('href')"
   ]
  },
  {
   "cell_type": "code",
   "execution_count": 25,
   "id": "81b6899e",
   "metadata": {
    "scrolled": true
   },
   "outputs": [
    {
     "data": {
      "text/plain": [
       "'https://www.amazon.com/Higher-Historic-Race-Making-City-ebook/dp/B000FBJCQW/ref=sr_1_19?qid=1652268886&rnid=157630011&s=digital-text&sr=1-19'"
      ]
     },
     "execution_count": 25,
     "metadata": {},
     "output_type": "execute_result"
    }
   ],
   "source": [
    "url_du_livre"
   ]
  },
  {
   "cell_type": "code",
   "execution_count": 26,
   "id": "a4c54c20",
   "metadata": {},
   "outputs": [],
   "source": [
    "browser.get(url_du_livre)"
   ]
  },
  {
   "cell_type": "code",
   "execution_count": 27,
   "id": "cd5d3f09",
   "metadata": {},
   "outputs": [
    {
     "data": {
      "text/plain": [
       "'1182998'"
      ]
     },
     "execution_count": 27,
     "metadata": {},
     "output_type": "execute_result"
    }
   ],
   "source": [
    "trouver_rang(\"https://www.amazon.com/Minoru-Yamasaki-Humanist-Architecture-Modernist-ebook/dp/B0798MHV9R/ref=sr_1_17?qid=1652130424&rnid=157630011&s=digital-text&sr=1-17\")"
   ]
  },
  {
   "cell_type": "code",
   "execution_count": 29,
   "id": "9d929b8c",
   "metadata": {},
   "outputs": [],
   "source": [
    "def ecrire_csv(ads):\n",
    "    with open('results.csv','a') as f :                        # ouvre le fichier result.csv\n",
    "        fields=['titre','prix','url','rang']                  # permet de faire un    \n",
    "        writer = csv.DictWriter(f,fieldnames = fields)\n",
    "        for ad in ads :\n",
    "            print(ad)\n",
    "            writer.writerows(ads)"
   ]
  },
  {
   "cell_type": "code",
   "execution_count": 109,
   "id": "cfd65b6a",
   "metadata": {},
   "outputs": [],
   "source": [
    "liste_test=[{'titre':'titre1','prix':'18euros','url':'www.lelirvr.com','rang':'1874'},{'titre':'titre2','prix':'19euros','url':'www.lelirvr2.com','rang':'2222'}]"
   ]
  },
  {
   "cell_type": "code",
   "execution_count": 110,
   "id": "fe21badd",
   "metadata": {},
   "outputs": [],
   "source": [
    "ecrire_csv(liste_test)#permet d'écire uen liste de dictionnaire"
   ]
  },
  {
   "cell_type": "code",
   "execution_count": 32,
   "id": "cbf81fbc",
   "metadata": {},
   "outputs": [
    {
     "name": "stdout",
     "output_type": "stream",
     "text": [
      "{'titre': 'Architects of Death: The Family Who Engineered the Death Camps', 'prix': '11', 'url': 'https://www.amazon.com/Architects-Death-Family-Engineered-Camps-ebook/dp/B075D8P9HN/ref=sr_1_17?qid=1652268886&rnid=157630011&s=digital-text&sr=1-17', 'rang': '1020280'}\n",
      "{'titre': 'Architects of Death: The Family Who Engineered the Death Camps', 'prix': '11', 'url': 'https://www.amazon.com/Architects-Death-Family-Engineered-Camps-ebook/dp/B075D8P9HN/ref=sr_1_17?qid=1652268886&rnid=157630011&s=digital-text&sr=1-17', 'rang': '1020280'}\n",
      "{'titre': 'Minoru Yamasaki: Humanist Architecture for a Modernist World', 'prix': '48', 'url': 'https://www.amazon.com/Minoru-Yamasaki-Humanist-Architecture-Modernist-ebook/dp/B0798MHV9R/ref=sr_1_18?qid=1652268886&rnid=157630011&s=digital-text&sr=1-18', 'rang': '1182998'}\n",
      "{'titre': 'Architects of Death: The Family Who Engineered the Death Camps', 'prix': '11', 'url': 'https://www.amazon.com/Architects-Death-Family-Engineered-Camps-ebook/dp/B075D8P9HN/ref=sr_1_17?qid=1652268886&rnid=157630011&s=digital-text&sr=1-17', 'rang': '1020280'}\n",
      "{'titre': 'Minoru Yamasaki: Humanist Architecture for a Modernist World', 'prix': '48', 'url': 'https://www.amazon.com/Minoru-Yamasaki-Humanist-Architecture-Modernist-ebook/dp/B0798MHV9R/ref=sr_1_18?qid=1652268886&rnid=157630011&s=digital-text&sr=1-18', 'rang': '1182998'}\n",
      "{'titre': 'Higher: A Historic Race to the Sky and the Making of a City', 'prix': '7', 'url': 'https://www.amazon.com/Higher-Historic-Race-Making-City-ebook/dp/B000FBJCQW/ref=sr_1_19?qid=1652268886&rnid=157630011&s=digital-text&sr=1-19', 'rang': '357418'}\n",
      "{'titre': 'Architects of Death: The Family Who Engineered the Death Camps', 'prix': '11', 'url': 'https://www.amazon.com/Architects-Death-Family-Engineered-Camps-ebook/dp/B075D8P9HN/ref=sr_1_17?qid=1652268886&rnid=157630011&s=digital-text&sr=1-17', 'rang': '1020280'}\n",
      "{'titre': 'Minoru Yamasaki: Humanist Architecture for a Modernist World', 'prix': '48', 'url': 'https://www.amazon.com/Minoru-Yamasaki-Humanist-Architecture-Modernist-ebook/dp/B0798MHV9R/ref=sr_1_18?qid=1652268886&rnid=157630011&s=digital-text&sr=1-18', 'rang': '1182998'}\n",
      "{'titre': 'Higher: A Historic Race to the Sky and the Making of a City', 'prix': '7', 'url': 'https://www.amazon.com/Higher-Historic-Race-Making-City-ebook/dp/B000FBJCQW/ref=sr_1_19?qid=1652268886&rnid=157630011&s=digital-text&sr=1-19', 'rang': '357418'}\n",
      "{'titre': 'Frank Lloyd Wright: A Life (Penguin Lives)', 'prix': '11', 'url': 'https://www.amazon.com/Frank-Lloyd-Wright-Penguin-Lives-ebook/dp/B00188V7R8/ref=sr_1_20?qid=1652268886&rnid=157630011&s=digital-text&sr=1-20', 'rang': '727000'}\n",
      "{'titre': 'Architects of Death: The Family Who Engineered the Death Camps', 'prix': '11', 'url': 'https://www.amazon.com/Architects-Death-Family-Engineered-Camps-ebook/dp/B075D8P9HN/ref=sr_1_17?qid=1652268886&rnid=157630011&s=digital-text&sr=1-17', 'rang': '1020280'}\n",
      "{'titre': 'Minoru Yamasaki: Humanist Architecture for a Modernist World', 'prix': '48', 'url': 'https://www.amazon.com/Minoru-Yamasaki-Humanist-Architecture-Modernist-ebook/dp/B0798MHV9R/ref=sr_1_18?qid=1652268886&rnid=157630011&s=digital-text&sr=1-18', 'rang': '1182998'}\n",
      "{'titre': 'Higher: A Historic Race to the Sky and the Making of a City', 'prix': '7', 'url': 'https://www.amazon.com/Higher-Historic-Race-Making-City-ebook/dp/B000FBJCQW/ref=sr_1_19?qid=1652268886&rnid=157630011&s=digital-text&sr=1-19', 'rang': '357418'}\n",
      "{'titre': 'Frank Lloyd Wright: A Life (Penguin Lives)', 'prix': '11', 'url': 'https://www.amazon.com/Frank-Lloyd-Wright-Penguin-Lives-ebook/dp/B00188V7R8/ref=sr_1_20?qid=1652268886&rnid=157630011&s=digital-text&sr=1-20', 'rang': '727000'}\n",
      "{'titre': 'Goya: A Portrait of the Artist', 'prix': '14', 'url': 'https://www.amazon.com/Goya-Portrait-Artist-Janis-Tomlinson-ebook/dp/B08652LH8P/ref=sr_1_21?qid=1652268886&rnid=157630011&s=digital-text&sr=1-21', 'rang': '531879'}\n",
      "{'titre': 'Architects of Death: The Family Who Engineered the Death Camps', 'prix': '11', 'url': 'https://www.amazon.com/Architects-Death-Family-Engineered-Camps-ebook/dp/B075D8P9HN/ref=sr_1_17?qid=1652268886&rnid=157630011&s=digital-text&sr=1-17', 'rang': '1020280'}\n",
      "{'titre': 'Minoru Yamasaki: Humanist Architecture for a Modernist World', 'prix': '48', 'url': 'https://www.amazon.com/Minoru-Yamasaki-Humanist-Architecture-Modernist-ebook/dp/B0798MHV9R/ref=sr_1_18?qid=1652268886&rnid=157630011&s=digital-text&sr=1-18', 'rang': '1182998'}\n",
      "{'titre': 'Higher: A Historic Race to the Sky and the Making of a City', 'prix': '7', 'url': 'https://www.amazon.com/Higher-Historic-Race-Making-City-ebook/dp/B000FBJCQW/ref=sr_1_19?qid=1652268886&rnid=157630011&s=digital-text&sr=1-19', 'rang': '357418'}\n",
      "{'titre': 'Frank Lloyd Wright: A Life (Penguin Lives)', 'prix': '11', 'url': 'https://www.amazon.com/Frank-Lloyd-Wright-Penguin-Lives-ebook/dp/B00188V7R8/ref=sr_1_20?qid=1652268886&rnid=157630011&s=digital-text&sr=1-20', 'rang': '727000'}\n",
      "{'titre': 'Goya: A Portrait of the Artist', 'prix': '14', 'url': 'https://www.amazon.com/Goya-Portrait-Artist-Janis-Tomlinson-ebook/dp/B08652LH8P/ref=sr_1_21?qid=1652268886&rnid=157630011&s=digital-text&sr=1-21', 'rang': '531879'}\n",
      "{'titre': 'Manual of Section', 'prix': '14', 'url': 'https://www.amazon.com/Manual-Section-Paul-Lewis-ebook/dp/B01HNJ93VW/ref=sr_1_22?qid=1652268886&rnid=157630011&s=digital-text&sr=1-22', 'rang': '834595'}\n",
      "{'titre': 'Architects of Death: The Family Who Engineered the Death Camps', 'prix': '11', 'url': 'https://www.amazon.com/Architects-Death-Family-Engineered-Camps-ebook/dp/B075D8P9HN/ref=sr_1_17?qid=1652268886&rnid=157630011&s=digital-text&sr=1-17', 'rang': '1020280'}\n",
      "{'titre': 'Minoru Yamasaki: Humanist Architecture for a Modernist World', 'prix': '48', 'url': 'https://www.amazon.com/Minoru-Yamasaki-Humanist-Architecture-Modernist-ebook/dp/B0798MHV9R/ref=sr_1_18?qid=1652268886&rnid=157630011&s=digital-text&sr=1-18', 'rang': '1182998'}\n",
      "{'titre': 'Higher: A Historic Race to the Sky and the Making of a City', 'prix': '7', 'url': 'https://www.amazon.com/Higher-Historic-Race-Making-City-ebook/dp/B000FBJCQW/ref=sr_1_19?qid=1652268886&rnid=157630011&s=digital-text&sr=1-19', 'rang': '357418'}\n",
      "{'titre': 'Frank Lloyd Wright: A Life (Penguin Lives)', 'prix': '11', 'url': 'https://www.amazon.com/Frank-Lloyd-Wright-Penguin-Lives-ebook/dp/B00188V7R8/ref=sr_1_20?qid=1652268886&rnid=157630011&s=digital-text&sr=1-20', 'rang': '727000'}\n",
      "{'titre': 'Goya: A Portrait of the Artist', 'prix': '14', 'url': 'https://www.amazon.com/Goya-Portrait-Artist-Janis-Tomlinson-ebook/dp/B08652LH8P/ref=sr_1_21?qid=1652268886&rnid=157630011&s=digital-text&sr=1-21', 'rang': '531879'}\n",
      "{'titre': 'Manual of Section', 'prix': '14', 'url': 'https://www.amazon.com/Manual-Section-Paul-Lewis-ebook/dp/B01HNJ93VW/ref=sr_1_22?qid=1652268886&rnid=157630011&s=digital-text&sr=1-22', 'rang': '834595'}\n",
      "{'titre': 'Brunel: The Man Who Built the World (Phoenix Press)', 'prix': '3', 'url': 'https://www.amazon.com/Brunel-Man-Who-Built-World-ebook/dp/B00GU2W0BY/ref=sr_1_23?qid=1652268886&rnid=157630011&s=digital-text&sr=1-23', 'rang': '660736'}\n",
      "{'titre': 'Architects of Death: The Family Who Engineered the Death Camps', 'prix': '11', 'url': 'https://www.amazon.com/Architects-Death-Family-Engineered-Camps-ebook/dp/B075D8P9HN/ref=sr_1_17?qid=1652268886&rnid=157630011&s=digital-text&sr=1-17', 'rang': '1020280'}\n",
      "{'titre': 'Minoru Yamasaki: Humanist Architecture for a Modernist World', 'prix': '48', 'url': 'https://www.amazon.com/Minoru-Yamasaki-Humanist-Architecture-Modernist-ebook/dp/B0798MHV9R/ref=sr_1_18?qid=1652268886&rnid=157630011&s=digital-text&sr=1-18', 'rang': '1182998'}\n",
      "{'titre': 'Higher: A Historic Race to the Sky and the Making of a City', 'prix': '7', 'url': 'https://www.amazon.com/Higher-Historic-Race-Making-City-ebook/dp/B000FBJCQW/ref=sr_1_19?qid=1652268886&rnid=157630011&s=digital-text&sr=1-19', 'rang': '357418'}\n",
      "{'titre': 'Frank Lloyd Wright: A Life (Penguin Lives)', 'prix': '11', 'url': 'https://www.amazon.com/Frank-Lloyd-Wright-Penguin-Lives-ebook/dp/B00188V7R8/ref=sr_1_20?qid=1652268886&rnid=157630011&s=digital-text&sr=1-20', 'rang': '727000'}\n",
      "{'titre': 'Goya: A Portrait of the Artist', 'prix': '14', 'url': 'https://www.amazon.com/Goya-Portrait-Artist-Janis-Tomlinson-ebook/dp/B08652LH8P/ref=sr_1_21?qid=1652268886&rnid=157630011&s=digital-text&sr=1-21', 'rang': '531879'}\n",
      "{'titre': 'Manual of Section', 'prix': '14', 'url': 'https://www.amazon.com/Manual-Section-Paul-Lewis-ebook/dp/B01HNJ93VW/ref=sr_1_22?qid=1652268886&rnid=157630011&s=digital-text&sr=1-22', 'rang': '834595'}\n",
      "{'titre': 'Brunel: The Man Who Built the World (Phoenix Press)', 'prix': '3', 'url': 'https://www.amazon.com/Brunel-Man-Who-Built-World-ebook/dp/B00GU2W0BY/ref=sr_1_23?qid=1652268886&rnid=157630011&s=digital-text&sr=1-23', 'rang': '660736'}\n",
      "{'titre': 'The Four Books of Architecture (Dover Architecture Book 1)', 'prix': '14', 'url': 'https://www.amazon.com/Four-Books-Architecture-Dover-Book-ebook/dp/B00CWR4LIG/ref=sr_1_24?qid=1652268886&rnid=157630011&s=digital-text&sr=1-24', 'rang': '627828'}\n"
     ]
    },
    {
     "name": "stdout",
     "output_type": "stream",
     "text": [
      "{'titre': 'Architects of Death: The Family Who Engineered the Death Camps', 'prix': '11', 'url': 'https://www.amazon.com/Architects-Death-Family-Engineered-Camps-ebook/dp/B075D8P9HN/ref=sr_1_17?qid=1652268886&rnid=157630011&s=digital-text&sr=1-17', 'rang': '1020280'}\n",
      "{'titre': 'Minoru Yamasaki: Humanist Architecture for a Modernist World', 'prix': '48', 'url': 'https://www.amazon.com/Minoru-Yamasaki-Humanist-Architecture-Modernist-ebook/dp/B0798MHV9R/ref=sr_1_18?qid=1652268886&rnid=157630011&s=digital-text&sr=1-18', 'rang': '1182998'}\n",
      "{'titre': 'Higher: A Historic Race to the Sky and the Making of a City', 'prix': '7', 'url': 'https://www.amazon.com/Higher-Historic-Race-Making-City-ebook/dp/B000FBJCQW/ref=sr_1_19?qid=1652268886&rnid=157630011&s=digital-text&sr=1-19', 'rang': '357418'}\n",
      "{'titre': 'Frank Lloyd Wright: A Life (Penguin Lives)', 'prix': '11', 'url': 'https://www.amazon.com/Frank-Lloyd-Wright-Penguin-Lives-ebook/dp/B00188V7R8/ref=sr_1_20?qid=1652268886&rnid=157630011&s=digital-text&sr=1-20', 'rang': '727000'}\n",
      "{'titre': 'Goya: A Portrait of the Artist', 'prix': '14', 'url': 'https://www.amazon.com/Goya-Portrait-Artist-Janis-Tomlinson-ebook/dp/B08652LH8P/ref=sr_1_21?qid=1652268886&rnid=157630011&s=digital-text&sr=1-21', 'rang': '531879'}\n",
      "{'titre': 'Manual of Section', 'prix': '14', 'url': 'https://www.amazon.com/Manual-Section-Paul-Lewis-ebook/dp/B01HNJ93VW/ref=sr_1_22?qid=1652268886&rnid=157630011&s=digital-text&sr=1-22', 'rang': '834595'}\n",
      "{'titre': 'Brunel: The Man Who Built the World (Phoenix Press)', 'prix': '3', 'url': 'https://www.amazon.com/Brunel-Man-Who-Built-World-ebook/dp/B00GU2W0BY/ref=sr_1_23?qid=1652268886&rnid=157630011&s=digital-text&sr=1-23', 'rang': '660736'}\n",
      "{'titre': 'The Four Books of Architecture (Dover Architecture Book 1)', 'prix': '14', 'url': 'https://www.amazon.com/Four-Books-Architecture-Dover-Book-ebook/dp/B00CWR4LIG/ref=sr_1_24?qid=1652268886&rnid=157630011&s=digital-text&sr=1-24', 'rang': '627828'}\n",
      "{'titre': 'Mies van der Rohe: A Critical Biography, New and Revised Edition', 'prix': '12', 'url': 'https://www.amazon.com/Mies-van-Rohe-Critical-Biography-ebook/dp/B009PS2L5K/ref=sr_1_25?qid=1652268886&rnid=157630011&s=digital-text&sr=1-25', 'rang': '830106'}\n",
      "{'titre': 'Architects of Death: The Family Who Engineered the Death Camps', 'prix': '11', 'url': 'https://www.amazon.com/Architects-Death-Family-Engineered-Camps-ebook/dp/B075D8P9HN/ref=sr_1_17?qid=1652268886&rnid=157630011&s=digital-text&sr=1-17', 'rang': '1020280'}\n",
      "{'titre': 'Minoru Yamasaki: Humanist Architecture for a Modernist World', 'prix': '48', 'url': 'https://www.amazon.com/Minoru-Yamasaki-Humanist-Architecture-Modernist-ebook/dp/B0798MHV9R/ref=sr_1_18?qid=1652268886&rnid=157630011&s=digital-text&sr=1-18', 'rang': '1182998'}\n",
      "{'titre': 'Higher: A Historic Race to the Sky and the Making of a City', 'prix': '7', 'url': 'https://www.amazon.com/Higher-Historic-Race-Making-City-ebook/dp/B000FBJCQW/ref=sr_1_19?qid=1652268886&rnid=157630011&s=digital-text&sr=1-19', 'rang': '357418'}\n",
      "{'titre': 'Frank Lloyd Wright: A Life (Penguin Lives)', 'prix': '11', 'url': 'https://www.amazon.com/Frank-Lloyd-Wright-Penguin-Lives-ebook/dp/B00188V7R8/ref=sr_1_20?qid=1652268886&rnid=157630011&s=digital-text&sr=1-20', 'rang': '727000'}\n",
      "{'titre': 'Goya: A Portrait of the Artist', 'prix': '14', 'url': 'https://www.amazon.com/Goya-Portrait-Artist-Janis-Tomlinson-ebook/dp/B08652LH8P/ref=sr_1_21?qid=1652268886&rnid=157630011&s=digital-text&sr=1-21', 'rang': '531879'}\n",
      "{'titre': 'Manual of Section', 'prix': '14', 'url': 'https://www.amazon.com/Manual-Section-Paul-Lewis-ebook/dp/B01HNJ93VW/ref=sr_1_22?qid=1652268886&rnid=157630011&s=digital-text&sr=1-22', 'rang': '834595'}\n",
      "{'titre': 'Brunel: The Man Who Built the World (Phoenix Press)', 'prix': '3', 'url': 'https://www.amazon.com/Brunel-Man-Who-Built-World-ebook/dp/B00GU2W0BY/ref=sr_1_23?qid=1652268886&rnid=157630011&s=digital-text&sr=1-23', 'rang': '660736'}\n",
      "{'titre': 'The Four Books of Architecture (Dover Architecture Book 1)', 'prix': '14', 'url': 'https://www.amazon.com/Four-Books-Architecture-Dover-Book-ebook/dp/B00CWR4LIG/ref=sr_1_24?qid=1652268886&rnid=157630011&s=digital-text&sr=1-24', 'rang': '627828'}\n",
      "{'titre': 'Mies van der Rohe: A Critical Biography, New and Revised Edition', 'prix': '12', 'url': 'https://www.amazon.com/Mies-van-Rohe-Critical-Biography-ebook/dp/B009PS2L5K/ref=sr_1_25?qid=1652268886&rnid=157630011&s=digital-text&sr=1-25', 'rang': '830106'}\n",
      "{'titre': 'You Belong to the Universe: Buckminster Fuller and the Future', 'prix': '9', 'url': 'https://www.amazon.com/You-Belong-Universe-Buckminster-Fuller-ebook/dp/B01ELZYD8Y/ref=sr_1_26?qid=1652268886&rnid=157630011&s=digital-text&sr=1-26', 'rang': '478087'}\n",
      "{'titre': 'Architects of Death: The Family Who Engineered the Death Camps', 'prix': '11', 'url': 'https://www.amazon.com/Architects-Death-Family-Engineered-Camps-ebook/dp/B075D8P9HN/ref=sr_1_17?qid=1652268886&rnid=157630011&s=digital-text&sr=1-17', 'rang': '1020280'}\n",
      "{'titre': 'Minoru Yamasaki: Humanist Architecture for a Modernist World', 'prix': '48', 'url': 'https://www.amazon.com/Minoru-Yamasaki-Humanist-Architecture-Modernist-ebook/dp/B0798MHV9R/ref=sr_1_18?qid=1652268886&rnid=157630011&s=digital-text&sr=1-18', 'rang': '1182998'}\n",
      "{'titre': 'Higher: A Historic Race to the Sky and the Making of a City', 'prix': '7', 'url': 'https://www.amazon.com/Higher-Historic-Race-Making-City-ebook/dp/B000FBJCQW/ref=sr_1_19?qid=1652268886&rnid=157630011&s=digital-text&sr=1-19', 'rang': '357418'}\n",
      "{'titre': 'Frank Lloyd Wright: A Life (Penguin Lives)', 'prix': '11', 'url': 'https://www.amazon.com/Frank-Lloyd-Wright-Penguin-Lives-ebook/dp/B00188V7R8/ref=sr_1_20?qid=1652268886&rnid=157630011&s=digital-text&sr=1-20', 'rang': '727000'}\n",
      "{'titre': 'Goya: A Portrait of the Artist', 'prix': '14', 'url': 'https://www.amazon.com/Goya-Portrait-Artist-Janis-Tomlinson-ebook/dp/B08652LH8P/ref=sr_1_21?qid=1652268886&rnid=157630011&s=digital-text&sr=1-21', 'rang': '531879'}\n",
      "{'titre': 'Manual of Section', 'prix': '14', 'url': 'https://www.amazon.com/Manual-Section-Paul-Lewis-ebook/dp/B01HNJ93VW/ref=sr_1_22?qid=1652268886&rnid=157630011&s=digital-text&sr=1-22', 'rang': '834595'}\n",
      "{'titre': 'Brunel: The Man Who Built the World (Phoenix Press)', 'prix': '3', 'url': 'https://www.amazon.com/Brunel-Man-Who-Built-World-ebook/dp/B00GU2W0BY/ref=sr_1_23?qid=1652268886&rnid=157630011&s=digital-text&sr=1-23', 'rang': '660736'}\n",
      "{'titre': 'The Four Books of Architecture (Dover Architecture Book 1)', 'prix': '14', 'url': 'https://www.amazon.com/Four-Books-Architecture-Dover-Book-ebook/dp/B00CWR4LIG/ref=sr_1_24?qid=1652268886&rnid=157630011&s=digital-text&sr=1-24', 'rang': '627828'}\n",
      "{'titre': 'Mies van der Rohe: A Critical Biography, New and Revised Edition', 'prix': '12', 'url': 'https://www.amazon.com/Mies-van-Rohe-Critical-Biography-ebook/dp/B009PS2L5K/ref=sr_1_25?qid=1652268886&rnid=157630011&s=digital-text&sr=1-25', 'rang': '830106'}\n",
      "{'titre': 'You Belong to the Universe: Buckminster Fuller and the Future', 'prix': '9', 'url': 'https://www.amazon.com/You-Belong-Universe-Buckminster-Fuller-ebook/dp/B01ELZYD8Y/ref=sr_1_26?qid=1652268886&rnid=157630011&s=digital-text&sr=1-26', 'rang': '478087'}\n",
      "{'titre': 'Remodel Your Kitchen Without Going Bonkers or Broke: Have a Stress-Free Renovation and Get the Kitchen of Your Dreams', 'prix': '0', 'url': 'https://www.amazon.com/Remodel-Kitchen-Without-Going-Bonkers-ebook/dp/B08P9ZXHLZ/ref=sr_1_27?qid=1652268886&rnid=157630011&s=digital-text&sr=1-27', 'rang': '337218'}\n",
      "{'titre': 'Architects of Death: The Family Who Engineered the Death Camps', 'prix': '11', 'url': 'https://www.amazon.com/Architects-Death-Family-Engineered-Camps-ebook/dp/B075D8P9HN/ref=sr_1_17?qid=1652268886&rnid=157630011&s=digital-text&sr=1-17', 'rang': '1020280'}\n",
      "{'titre': 'Minoru Yamasaki: Humanist Architecture for a Modernist World', 'prix': '48', 'url': 'https://www.amazon.com/Minoru-Yamasaki-Humanist-Architecture-Modernist-ebook/dp/B0798MHV9R/ref=sr_1_18?qid=1652268886&rnid=157630011&s=digital-text&sr=1-18', 'rang': '1182998'}\n",
      "{'titre': 'Higher: A Historic Race to the Sky and the Making of a City', 'prix': '7', 'url': 'https://www.amazon.com/Higher-Historic-Race-Making-City-ebook/dp/B000FBJCQW/ref=sr_1_19?qid=1652268886&rnid=157630011&s=digital-text&sr=1-19', 'rang': '357418'}\n",
      "{'titre': 'Frank Lloyd Wright: A Life (Penguin Lives)', 'prix': '11', 'url': 'https://www.amazon.com/Frank-Lloyd-Wright-Penguin-Lives-ebook/dp/B00188V7R8/ref=sr_1_20?qid=1652268886&rnid=157630011&s=digital-text&sr=1-20', 'rang': '727000'}\n",
      "{'titre': 'Goya: A Portrait of the Artist', 'prix': '14', 'url': 'https://www.amazon.com/Goya-Portrait-Artist-Janis-Tomlinson-ebook/dp/B08652LH8P/ref=sr_1_21?qid=1652268886&rnid=157630011&s=digital-text&sr=1-21', 'rang': '531879'}\n",
      "{'titre': 'Manual of Section', 'prix': '14', 'url': 'https://www.amazon.com/Manual-Section-Paul-Lewis-ebook/dp/B01HNJ93VW/ref=sr_1_22?qid=1652268886&rnid=157630011&s=digital-text&sr=1-22', 'rang': '834595'}\n",
      "{'titre': 'Brunel: The Man Who Built the World (Phoenix Press)', 'prix': '3', 'url': 'https://www.amazon.com/Brunel-Man-Who-Built-World-ebook/dp/B00GU2W0BY/ref=sr_1_23?qid=1652268886&rnid=157630011&s=digital-text&sr=1-23', 'rang': '660736'}\n",
      "{'titre': 'The Four Books of Architecture (Dover Architecture Book 1)', 'prix': '14', 'url': 'https://www.amazon.com/Four-Books-Architecture-Dover-Book-ebook/dp/B00CWR4LIG/ref=sr_1_24?qid=1652268886&rnid=157630011&s=digital-text&sr=1-24', 'rang': '627828'}\n",
      "{'titre': 'Mies van der Rohe: A Critical Biography, New and Revised Edition', 'prix': '12', 'url': 'https://www.amazon.com/Mies-van-Rohe-Critical-Biography-ebook/dp/B009PS2L5K/ref=sr_1_25?qid=1652268886&rnid=157630011&s=digital-text&sr=1-25', 'rang': '830106'}\n",
      "{'titre': 'You Belong to the Universe: Buckminster Fuller and the Future', 'prix': '9', 'url': 'https://www.amazon.com/You-Belong-Universe-Buckminster-Fuller-ebook/dp/B01ELZYD8Y/ref=sr_1_26?qid=1652268886&rnid=157630011&s=digital-text&sr=1-26', 'rang': '478087'}\n",
      "{'titre': 'Remodel Your Kitchen Without Going Bonkers or Broke: Have a Stress-Free Renovation and Get the Kitchen of Your Dreams', 'prix': '0', 'url': 'https://www.amazon.com/Remodel-Kitchen-Without-Going-Bonkers-ebook/dp/B08P9ZXHLZ/ref=sr_1_27?qid=1652268886&rnid=157630011&s=digital-text&sr=1-27', 'rang': '337218'}\n",
      "{'titre': 'Queríamos un Calatrava. Viajes arquitectónicos por la seducción y el repudio (Crónicas nº 112) (Spanish Edition)', 'prix': '8', 'url': 'https://www.amazon.com/Quer%C3%ADamos-Calatrava-arquitect%C3%B3nicos-seducci%C3%B3n-Cr%C3%B3nicas-ebook/dp/B01LZXUQNV/ref=sr_1_28?qid=1652268886&rnid=157630011&s=digital-text&sr=1-28', 'rang': '3583261'}\n"
     ]
    },
    {
     "name": "stdout",
     "output_type": "stream",
     "text": [
      "{'titre': 'Architects of Death: The Family Who Engineered the Death Camps', 'prix': '11', 'url': 'https://www.amazon.com/Architects-Death-Family-Engineered-Camps-ebook/dp/B075D8P9HN/ref=sr_1_17?qid=1652268886&rnid=157630011&s=digital-text&sr=1-17', 'rang': '1020280'}\n",
      "{'titre': 'Minoru Yamasaki: Humanist Architecture for a Modernist World', 'prix': '48', 'url': 'https://www.amazon.com/Minoru-Yamasaki-Humanist-Architecture-Modernist-ebook/dp/B0798MHV9R/ref=sr_1_18?qid=1652268886&rnid=157630011&s=digital-text&sr=1-18', 'rang': '1182998'}\n",
      "{'titre': 'Higher: A Historic Race to the Sky and the Making of a City', 'prix': '7', 'url': 'https://www.amazon.com/Higher-Historic-Race-Making-City-ebook/dp/B000FBJCQW/ref=sr_1_19?qid=1652268886&rnid=157630011&s=digital-text&sr=1-19', 'rang': '357418'}\n",
      "{'titre': 'Frank Lloyd Wright: A Life (Penguin Lives)', 'prix': '11', 'url': 'https://www.amazon.com/Frank-Lloyd-Wright-Penguin-Lives-ebook/dp/B00188V7R8/ref=sr_1_20?qid=1652268886&rnid=157630011&s=digital-text&sr=1-20', 'rang': '727000'}\n",
      "{'titre': 'Goya: A Portrait of the Artist', 'prix': '14', 'url': 'https://www.amazon.com/Goya-Portrait-Artist-Janis-Tomlinson-ebook/dp/B08652LH8P/ref=sr_1_21?qid=1652268886&rnid=157630011&s=digital-text&sr=1-21', 'rang': '531879'}\n",
      "{'titre': 'Manual of Section', 'prix': '14', 'url': 'https://www.amazon.com/Manual-Section-Paul-Lewis-ebook/dp/B01HNJ93VW/ref=sr_1_22?qid=1652268886&rnid=157630011&s=digital-text&sr=1-22', 'rang': '834595'}\n",
      "{'titre': 'Brunel: The Man Who Built the World (Phoenix Press)', 'prix': '3', 'url': 'https://www.amazon.com/Brunel-Man-Who-Built-World-ebook/dp/B00GU2W0BY/ref=sr_1_23?qid=1652268886&rnid=157630011&s=digital-text&sr=1-23', 'rang': '660736'}\n",
      "{'titre': 'The Four Books of Architecture (Dover Architecture Book 1)', 'prix': '14', 'url': 'https://www.amazon.com/Four-Books-Architecture-Dover-Book-ebook/dp/B00CWR4LIG/ref=sr_1_24?qid=1652268886&rnid=157630011&s=digital-text&sr=1-24', 'rang': '627828'}\n",
      "{'titre': 'Mies van der Rohe: A Critical Biography, New and Revised Edition', 'prix': '12', 'url': 'https://www.amazon.com/Mies-van-Rohe-Critical-Biography-ebook/dp/B009PS2L5K/ref=sr_1_25?qid=1652268886&rnid=157630011&s=digital-text&sr=1-25', 'rang': '830106'}\n",
      "{'titre': 'You Belong to the Universe: Buckminster Fuller and the Future', 'prix': '9', 'url': 'https://www.amazon.com/You-Belong-Universe-Buckminster-Fuller-ebook/dp/B01ELZYD8Y/ref=sr_1_26?qid=1652268886&rnid=157630011&s=digital-text&sr=1-26', 'rang': '478087'}\n",
      "{'titre': 'Remodel Your Kitchen Without Going Bonkers or Broke: Have a Stress-Free Renovation and Get the Kitchen of Your Dreams', 'prix': '0', 'url': 'https://www.amazon.com/Remodel-Kitchen-Without-Going-Bonkers-ebook/dp/B08P9ZXHLZ/ref=sr_1_27?qid=1652268886&rnid=157630011&s=digital-text&sr=1-27', 'rang': '337218'}\n",
      "{'titre': 'Queríamos un Calatrava. Viajes arquitectónicos por la seducción y el repudio (Crónicas nº 112) (Spanish Edition)', 'prix': '8', 'url': 'https://www.amazon.com/Quer%C3%ADamos-Calatrava-arquitect%C3%B3nicos-seducci%C3%B3n-Cr%C3%B3nicas-ebook/dp/B01LZXUQNV/ref=sr_1_28?qid=1652268886&rnid=157630011&s=digital-text&sr=1-28', 'rang': '3583261'}\n",
      "{'titre': 'Wright Sites: A Guide to Frank Lloyd Wright Public Places', 'prix': '9', 'url': 'https://www.amazon.com/Wright-Sites-Guide-Public-Places-ebook/dp/B06VX7WRPV/ref=sr_1_29?qid=1652268886&rnid=157630011&s=digital-text&sr=1-29', 'rang': '581376'}\n",
      "{'titre': 'Architects of Death: The Family Who Engineered the Death Camps', 'prix': '11', 'url': 'https://www.amazon.com/Architects-Death-Family-Engineered-Camps-ebook/dp/B075D8P9HN/ref=sr_1_17?qid=1652268886&rnid=157630011&s=digital-text&sr=1-17', 'rang': '1020280'}\n",
      "{'titre': 'Minoru Yamasaki: Humanist Architecture for a Modernist World', 'prix': '48', 'url': 'https://www.amazon.com/Minoru-Yamasaki-Humanist-Architecture-Modernist-ebook/dp/B0798MHV9R/ref=sr_1_18?qid=1652268886&rnid=157630011&s=digital-text&sr=1-18', 'rang': '1182998'}\n",
      "{'titre': 'Higher: A Historic Race to the Sky and the Making of a City', 'prix': '7', 'url': 'https://www.amazon.com/Higher-Historic-Race-Making-City-ebook/dp/B000FBJCQW/ref=sr_1_19?qid=1652268886&rnid=157630011&s=digital-text&sr=1-19', 'rang': '357418'}\n",
      "{'titre': 'Frank Lloyd Wright: A Life (Penguin Lives)', 'prix': '11', 'url': 'https://www.amazon.com/Frank-Lloyd-Wright-Penguin-Lives-ebook/dp/B00188V7R8/ref=sr_1_20?qid=1652268886&rnid=157630011&s=digital-text&sr=1-20', 'rang': '727000'}\n",
      "{'titre': 'Goya: A Portrait of the Artist', 'prix': '14', 'url': 'https://www.amazon.com/Goya-Portrait-Artist-Janis-Tomlinson-ebook/dp/B08652LH8P/ref=sr_1_21?qid=1652268886&rnid=157630011&s=digital-text&sr=1-21', 'rang': '531879'}\n",
      "{'titre': 'Manual of Section', 'prix': '14', 'url': 'https://www.amazon.com/Manual-Section-Paul-Lewis-ebook/dp/B01HNJ93VW/ref=sr_1_22?qid=1652268886&rnid=157630011&s=digital-text&sr=1-22', 'rang': '834595'}\n",
      "{'titre': 'Brunel: The Man Who Built the World (Phoenix Press)', 'prix': '3', 'url': 'https://www.amazon.com/Brunel-Man-Who-Built-World-ebook/dp/B00GU2W0BY/ref=sr_1_23?qid=1652268886&rnid=157630011&s=digital-text&sr=1-23', 'rang': '660736'}\n",
      "{'titre': 'The Four Books of Architecture (Dover Architecture Book 1)', 'prix': '14', 'url': 'https://www.amazon.com/Four-Books-Architecture-Dover-Book-ebook/dp/B00CWR4LIG/ref=sr_1_24?qid=1652268886&rnid=157630011&s=digital-text&sr=1-24', 'rang': '627828'}\n",
      "{'titre': 'Mies van der Rohe: A Critical Biography, New and Revised Edition', 'prix': '12', 'url': 'https://www.amazon.com/Mies-van-Rohe-Critical-Biography-ebook/dp/B009PS2L5K/ref=sr_1_25?qid=1652268886&rnid=157630011&s=digital-text&sr=1-25', 'rang': '830106'}\n",
      "{'titre': 'You Belong to the Universe: Buckminster Fuller and the Future', 'prix': '9', 'url': 'https://www.amazon.com/You-Belong-Universe-Buckminster-Fuller-ebook/dp/B01ELZYD8Y/ref=sr_1_26?qid=1652268886&rnid=157630011&s=digital-text&sr=1-26', 'rang': '478087'}\n",
      "{'titre': 'Remodel Your Kitchen Without Going Bonkers or Broke: Have a Stress-Free Renovation and Get the Kitchen of Your Dreams', 'prix': '0', 'url': 'https://www.amazon.com/Remodel-Kitchen-Without-Going-Bonkers-ebook/dp/B08P9ZXHLZ/ref=sr_1_27?qid=1652268886&rnid=157630011&s=digital-text&sr=1-27', 'rang': '337218'}\n",
      "{'titre': 'Queríamos un Calatrava. Viajes arquitectónicos por la seducción y el repudio (Crónicas nº 112) (Spanish Edition)', 'prix': '8', 'url': 'https://www.amazon.com/Quer%C3%ADamos-Calatrava-arquitect%C3%B3nicos-seducci%C3%B3n-Cr%C3%B3nicas-ebook/dp/B01LZXUQNV/ref=sr_1_28?qid=1652268886&rnid=157630011&s=digital-text&sr=1-28', 'rang': '3583261'}\n",
      "{'titre': 'Wright Sites: A Guide to Frank Lloyd Wright Public Places', 'prix': '9', 'url': 'https://www.amazon.com/Wright-Sites-Guide-Public-Places-ebook/dp/B06VX7WRPV/ref=sr_1_29?qid=1652268886&rnid=157630011&s=digital-text&sr=1-29', 'rang': '581376'}\n",
      "{'titre': 'California Contemporary: The Houses of Grant C. Kirkpatrick and KAA Design', 'prix': '19', 'url': 'https://www.amazon.com/California-Contemporary-Houses-Kirkpatrick-Design-ebook/dp/B07CVR854W/ref=sr_1_30?qid=1652268886&rnid=157630011&s=digital-text&sr=1-30', 'rang': '867517'}\n",
      "{'titre': 'Architects of Death: The Family Who Engineered the Death Camps', 'prix': '11', 'url': 'https://www.amazon.com/Architects-Death-Family-Engineered-Camps-ebook/dp/B075D8P9HN/ref=sr_1_17?qid=1652268886&rnid=157630011&s=digital-text&sr=1-17', 'rang': '1020280'}\n",
      "{'titre': 'Minoru Yamasaki: Humanist Architecture for a Modernist World', 'prix': '48', 'url': 'https://www.amazon.com/Minoru-Yamasaki-Humanist-Architecture-Modernist-ebook/dp/B0798MHV9R/ref=sr_1_18?qid=1652268886&rnid=157630011&s=digital-text&sr=1-18', 'rang': '1182998'}\n",
      "{'titre': 'Higher: A Historic Race to the Sky and the Making of a City', 'prix': '7', 'url': 'https://www.amazon.com/Higher-Historic-Race-Making-City-ebook/dp/B000FBJCQW/ref=sr_1_19?qid=1652268886&rnid=157630011&s=digital-text&sr=1-19', 'rang': '357418'}\n",
      "{'titre': 'Frank Lloyd Wright: A Life (Penguin Lives)', 'prix': '11', 'url': 'https://www.amazon.com/Frank-Lloyd-Wright-Penguin-Lives-ebook/dp/B00188V7R8/ref=sr_1_20?qid=1652268886&rnid=157630011&s=digital-text&sr=1-20', 'rang': '727000'}\n",
      "{'titre': 'Goya: A Portrait of the Artist', 'prix': '14', 'url': 'https://www.amazon.com/Goya-Portrait-Artist-Janis-Tomlinson-ebook/dp/B08652LH8P/ref=sr_1_21?qid=1652268886&rnid=157630011&s=digital-text&sr=1-21', 'rang': '531879'}\n",
      "{'titre': 'Manual of Section', 'prix': '14', 'url': 'https://www.amazon.com/Manual-Section-Paul-Lewis-ebook/dp/B01HNJ93VW/ref=sr_1_22?qid=1652268886&rnid=157630011&s=digital-text&sr=1-22', 'rang': '834595'}\n",
      "{'titre': 'Brunel: The Man Who Built the World (Phoenix Press)', 'prix': '3', 'url': 'https://www.amazon.com/Brunel-Man-Who-Built-World-ebook/dp/B00GU2W0BY/ref=sr_1_23?qid=1652268886&rnid=157630011&s=digital-text&sr=1-23', 'rang': '660736'}\n",
      "{'titre': 'The Four Books of Architecture (Dover Architecture Book 1)', 'prix': '14', 'url': 'https://www.amazon.com/Four-Books-Architecture-Dover-Book-ebook/dp/B00CWR4LIG/ref=sr_1_24?qid=1652268886&rnid=157630011&s=digital-text&sr=1-24', 'rang': '627828'}\n",
      "{'titre': 'Mies van der Rohe: A Critical Biography, New and Revised Edition', 'prix': '12', 'url': 'https://www.amazon.com/Mies-van-Rohe-Critical-Biography-ebook/dp/B009PS2L5K/ref=sr_1_25?qid=1652268886&rnid=157630011&s=digital-text&sr=1-25', 'rang': '830106'}\n",
      "{'titre': 'You Belong to the Universe: Buckminster Fuller and the Future', 'prix': '9', 'url': 'https://www.amazon.com/You-Belong-Universe-Buckminster-Fuller-ebook/dp/B01ELZYD8Y/ref=sr_1_26?qid=1652268886&rnid=157630011&s=digital-text&sr=1-26', 'rang': '478087'}\n",
      "{'titre': 'Remodel Your Kitchen Without Going Bonkers or Broke: Have a Stress-Free Renovation and Get the Kitchen of Your Dreams', 'prix': '0', 'url': 'https://www.amazon.com/Remodel-Kitchen-Without-Going-Bonkers-ebook/dp/B08P9ZXHLZ/ref=sr_1_27?qid=1652268886&rnid=157630011&s=digital-text&sr=1-27', 'rang': '337218'}\n",
      "{'titre': 'Queríamos un Calatrava. Viajes arquitectónicos por la seducción y el repudio (Crónicas nº 112) (Spanish Edition)', 'prix': '8', 'url': 'https://www.amazon.com/Quer%C3%ADamos-Calatrava-arquitect%C3%B3nicos-seducci%C3%B3n-Cr%C3%B3nicas-ebook/dp/B01LZXUQNV/ref=sr_1_28?qid=1652268886&rnid=157630011&s=digital-text&sr=1-28', 'rang': '3583261'}\n",
      "{'titre': 'Wright Sites: A Guide to Frank Lloyd Wright Public Places', 'prix': '9', 'url': 'https://www.amazon.com/Wright-Sites-Guide-Public-Places-ebook/dp/B06VX7WRPV/ref=sr_1_29?qid=1652268886&rnid=157630011&s=digital-text&sr=1-29', 'rang': '581376'}\n",
      "{'titre': 'California Contemporary: The Houses of Grant C. Kirkpatrick and KAA Design', 'prix': '19', 'url': 'https://www.amazon.com/California-Contemporary-Houses-Kirkpatrick-Design-ebook/dp/B07CVR854W/ref=sr_1_30?qid=1652268886&rnid=157630011&s=digital-text&sr=1-30', 'rang': '867517'}\n",
      "{'titre': 'Norman Foster: A Life in Architecture', 'prix': '9', 'url': 'https://www.amazon.com/Norman-Foster-Architecture-Deyan-Sudjic-ebook/dp/B07QT7KLNF/ref=sr_1_31?qid=1652268886&rnid=157630011&s=digital-text&sr=1-31', 'rang': '845004'}\n"
     ]
    },
    {
     "name": "stdout",
     "output_type": "stream",
     "text": [
      "{'titre': 'Architects of Death: The Family Who Engineered the Death Camps', 'prix': '11', 'url': 'https://www.amazon.com/Architects-Death-Family-Engineered-Camps-ebook/dp/B075D8P9HN/ref=sr_1_17?qid=1652268886&rnid=157630011&s=digital-text&sr=1-17', 'rang': '1020280'}\n",
      "{'titre': 'Minoru Yamasaki: Humanist Architecture for a Modernist World', 'prix': '48', 'url': 'https://www.amazon.com/Minoru-Yamasaki-Humanist-Architecture-Modernist-ebook/dp/B0798MHV9R/ref=sr_1_18?qid=1652268886&rnid=157630011&s=digital-text&sr=1-18', 'rang': '1182998'}\n",
      "{'titre': 'Higher: A Historic Race to the Sky and the Making of a City', 'prix': '7', 'url': 'https://www.amazon.com/Higher-Historic-Race-Making-City-ebook/dp/B000FBJCQW/ref=sr_1_19?qid=1652268886&rnid=157630011&s=digital-text&sr=1-19', 'rang': '357418'}\n",
      "{'titre': 'Frank Lloyd Wright: A Life (Penguin Lives)', 'prix': '11', 'url': 'https://www.amazon.com/Frank-Lloyd-Wright-Penguin-Lives-ebook/dp/B00188V7R8/ref=sr_1_20?qid=1652268886&rnid=157630011&s=digital-text&sr=1-20', 'rang': '727000'}\n",
      "{'titre': 'Goya: A Portrait of the Artist', 'prix': '14', 'url': 'https://www.amazon.com/Goya-Portrait-Artist-Janis-Tomlinson-ebook/dp/B08652LH8P/ref=sr_1_21?qid=1652268886&rnid=157630011&s=digital-text&sr=1-21', 'rang': '531879'}\n",
      "{'titre': 'Manual of Section', 'prix': '14', 'url': 'https://www.amazon.com/Manual-Section-Paul-Lewis-ebook/dp/B01HNJ93VW/ref=sr_1_22?qid=1652268886&rnid=157630011&s=digital-text&sr=1-22', 'rang': '834595'}\n",
      "{'titre': 'Brunel: The Man Who Built the World (Phoenix Press)', 'prix': '3', 'url': 'https://www.amazon.com/Brunel-Man-Who-Built-World-ebook/dp/B00GU2W0BY/ref=sr_1_23?qid=1652268886&rnid=157630011&s=digital-text&sr=1-23', 'rang': '660736'}\n",
      "{'titre': 'The Four Books of Architecture (Dover Architecture Book 1)', 'prix': '14', 'url': 'https://www.amazon.com/Four-Books-Architecture-Dover-Book-ebook/dp/B00CWR4LIG/ref=sr_1_24?qid=1652268886&rnid=157630011&s=digital-text&sr=1-24', 'rang': '627828'}\n",
      "{'titre': 'Mies van der Rohe: A Critical Biography, New and Revised Edition', 'prix': '12', 'url': 'https://www.amazon.com/Mies-van-Rohe-Critical-Biography-ebook/dp/B009PS2L5K/ref=sr_1_25?qid=1652268886&rnid=157630011&s=digital-text&sr=1-25', 'rang': '830106'}\n",
      "{'titre': 'You Belong to the Universe: Buckminster Fuller and the Future', 'prix': '9', 'url': 'https://www.amazon.com/You-Belong-Universe-Buckminster-Fuller-ebook/dp/B01ELZYD8Y/ref=sr_1_26?qid=1652268886&rnid=157630011&s=digital-text&sr=1-26', 'rang': '478087'}\n",
      "{'titre': 'Remodel Your Kitchen Without Going Bonkers or Broke: Have a Stress-Free Renovation and Get the Kitchen of Your Dreams', 'prix': '0', 'url': 'https://www.amazon.com/Remodel-Kitchen-Without-Going-Bonkers-ebook/dp/B08P9ZXHLZ/ref=sr_1_27?qid=1652268886&rnid=157630011&s=digital-text&sr=1-27', 'rang': '337218'}\n",
      "{'titre': 'Queríamos un Calatrava. Viajes arquitectónicos por la seducción y el repudio (Crónicas nº 112) (Spanish Edition)', 'prix': '8', 'url': 'https://www.amazon.com/Quer%C3%ADamos-Calatrava-arquitect%C3%B3nicos-seducci%C3%B3n-Cr%C3%B3nicas-ebook/dp/B01LZXUQNV/ref=sr_1_28?qid=1652268886&rnid=157630011&s=digital-text&sr=1-28', 'rang': '3583261'}\n",
      "{'titre': 'Wright Sites: A Guide to Frank Lloyd Wright Public Places', 'prix': '9', 'url': 'https://www.amazon.com/Wright-Sites-Guide-Public-Places-ebook/dp/B06VX7WRPV/ref=sr_1_29?qid=1652268886&rnid=157630011&s=digital-text&sr=1-29', 'rang': '581376'}\n",
      "{'titre': 'California Contemporary: The Houses of Grant C. Kirkpatrick and KAA Design', 'prix': '19', 'url': 'https://www.amazon.com/California-Contemporary-Houses-Kirkpatrick-Design-ebook/dp/B07CVR854W/ref=sr_1_30?qid=1652268886&rnid=157630011&s=digital-text&sr=1-30', 'rang': '867517'}\n",
      "{'titre': 'Norman Foster: A Life in Architecture', 'prix': '9', 'url': 'https://www.amazon.com/Norman-Foster-Architecture-Deyan-Sudjic-ebook/dp/B07QT7KLNF/ref=sr_1_31?qid=1652268886&rnid=157630011&s=digital-text&sr=1-31', 'rang': '845004'}\n",
      "{'titre': 'The Man in the Glass House: Philip Johnson, Architect of the Modern Century', 'prix': '16', 'url': 'https://www.amazon.com/Man-Glass-House-Johnson-Architect-ebook/dp/B07DTC5N92/ref=sr_1_32?qid=1652268886&rnid=157630011&s=digital-text&sr=1-32', 'rang': '897351'}\n"
     ]
    }
   ],
   "source": [
    "data_global=[]\n",
    "for livre in livres :\n",
    "    h2 = livre.h2\n",
    "    titre = h2.text.strip()\n",
    "    url_du_livre = 'https://www.amazon.com' + h2.a.get('href')\n",
    "    prix = livre.find('span' , class_ = 'a-price-whole').text.strip(' ').strip('.')\n",
    "    rang = trouver_rang(url_du_livre)\n",
    "    data={'titre':titre,'prix':prix,'url':url_du_livre,'rang':rang}\n",
    "    data_global.append(data)\n",
    "    #print(titre,url_du_livre,rang,prix,'€')\n",
    "    ecrire_csv(data_global)"
   ]
  },
  {
   "cell_type": "code",
   "execution_count": null,
   "id": "94f44a02",
   "metadata": {},
   "outputs": [],
   "source": []
  }
 ],
 "metadata": {
  "kernelspec": {
   "display_name": "Python 3 (ipykernel)",
   "language": "python",
   "name": "python3"
  },
  "language_info": {
   "codemirror_mode": {
    "name": "ipython",
    "version": 3
   },
   "file_extension": ".py",
   "mimetype": "text/x-python",
   "name": "python",
   "nbconvert_exporter": "python",
   "pygments_lexer": "ipython3",
   "version": "3.8.12"
  },
  "toc": {
   "base_numbering": 1,
   "nav_menu": {},
   "number_sections": true,
   "sideBar": true,
   "skip_h1_title": false,
   "title_cell": "Table of Contents",
   "title_sidebar": "Contents",
   "toc_cell": false,
   "toc_position": {
    "height": "calc(100% - 180px)",
    "left": "10px",
    "top": "150px",
    "width": "165px"
   },
   "toc_section_display": true,
   "toc_window_display": false
  }
 },
 "nbformat": 4,
 "nbformat_minor": 5
}
