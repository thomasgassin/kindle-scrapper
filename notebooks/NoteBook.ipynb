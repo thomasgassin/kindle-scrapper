{
 "cells": [
  {
   "cell_type": "markdown",
   "id": "03639832",
   "metadata": {},
   "source": [
    "Nous allons détailler les fonctions dans ce notebook."
   ]
  },
  {
   "cell_type": "markdown",
   "id": "bcfa989e",
   "metadata": {
    "tags": []
   },
   "source": [
    "# IMPORTS , FONCTIONS ET URL"
   ]
  },
  {
   "cell_type": "code",
   "execution_count": 1,
   "id": "fe34fa59",
   "metadata": {},
   "outputs": [],
   "source": [
    "import pandas as pd\n",
    "import requests\n",
    "from bs4 import BeautifulSoup\n",
    "from selenium import webdriver\n",
    "from pathlib import Path\n",
    "import os\n",
    "# from webdriver_manager.chrome import ChromeDriverManager\n",
    "# import chromedriver_binary\n",
    "import re\n",
    "import csv\n",
    "regex_expression = \"</span> #.* in Kindle Store \" # utile pour regex"
   ]
  },
  {
   "cell_type": "code",
   "execution_count": 2,
   "id": "5e7fdf71",
   "metadata": {},
   "outputs": [],
   "source": [
    "url_kindle_accueil = \"https://www.amazon.com/b?node=154606011\"\n",
    "url_kindle_accueil2 = \"https://www.amazon.com/b?node=154606011\"\n",
    "url_kindle_cat_art_and_photo =\"https://www.amazon.com/s?bbn=154606011&rh=n%3A133140011%2Cn%3A154606011%2Cn%3A154607011&dc&qid=1648440703&rnid=154606011&ref=lp_154606011_nr_n_0\"\n",
    "url_kindle_cat_art_and_photo_subcat_music_p1 = \"https://www.amazon.com/s?rh=n%3A156302011&fs=true&ref=lp_156302011_sar\"\n",
    "\n",
    "url_kindle_cat_art_and_photo_subcat_umusic_p2 = \"https://www.amazon.com/s?i=digital-text&rh=n%3A156302011&fs=true&page=2&qid=1648440846&ref=sr_pg_2\"\n",
    "url_kindle_cat_art_and_photo_subcat_umusic_p3  =\"https://www.amazon.com/s?i=digital-text&rh=n%3A156302011&fs=true&page=3&qid=1648440968&ref=sr_pg_3\"\n",
    "\n",
    "url_livre1=\"https://www.amazon.com/Last-Goddess-Novel-Kate%C5%99ina-Tu%C4%8Dkov%C3%A1-ebook/dp/B09BZ8L74Q/ref=pd_sbs_sccl_1_3/131-3814768-2928133?pd_rd_w=eOyFv&pf_rd_p=3676f086-9496-4fd7-8490-77cf7f43f846&pf_rd_r=XXEVJ89KR0WC7CQF9791&pd_rd_r=ff1f8e44-e48e-4dcc-8716-a64d5675ebe6&pd_rd_wg=tAIJl&pd_rd_i=B09BZ8L74Q&psc=1\"\n",
    "url_livre2=\"https://www.amazon.com/gp/product/B09K7J47Y8/ref=s9_acss_bw_cg_bsmafr_1b1_w?pf_rd_m=ATVPDKIKX0DER&pf_rd_s=merchandised-search-13&pf_rd_r=EX2QJTNDW0DCKTRX8KFT&pf_rd_t=101&pf_rd_p=5074797f-6c32-4283-a5a7-526fd1198645&pf_rd_i=14413390011\"\n",
    "url_livre3=\"https://www.amazon.com/Healthy-Smoothie-Cookbook-Breakfast-Kid-Friendly-ebook/dp/B083QK3DT9/ref=sr_1_12?keywords=smoothie+recipe+book&qid=1651700938&s=digital-text&sprefix=smoothie%2Cdigital-text%2C236&sr=1-12\"\n",
    "url_yumkasi = \"https://www.amazon.com/Minoru-Yamasaki-Humanist-Architecture-Modernist-ebook/dp/B0798MHV9R/ref=sr_1_17?qid=1652127157&rnid=157630011&s=digital-text&sr=1-17\"\n",
    "\n",
    "url = \"https://www.amazon.com/s?i=digital-text&bbn=157630011&rh=n%3A133140011%2Cn%3A154606011%2Cn%3A154607011%2Cn%3A157630011%2Cn%3A157631011&dc&fs=true&qid=1651987607&rnid=157630011&ref=sr_nr_n_1\"\n",
    "url_page_1 = \"https://www.amazon.com/s?i=digital-text&bbn=157630011&rh=n%3A133140011%2Cn%3A154606011%2Cn%3A154607011%2Cn%3A157630011%2Cn%3A157631011&dc&fs=true&page=1&qid=1651987613&rnid=157630011&ref=sr_pg_2\"\n",
    "url_page_2 = \"https://www.amazon.com/s?i=digital-text&bbn=157630011&rh=n%3A133140011%2Cn%3A154606011%2Cn%3A154607011%2Cn%3A157630011%2Cn%3A157631011&dc&fs=true&page=2&qid=1651987613&rnid=157630011&ref=sr_pg_2\"\n",
    "url_page_3     = \"https://www.amazon.com/s?i=digital-text&bbn=157630011&rh=n%3A133140011%2Cn%3A154606011%2Cn%3A154607011%2Cn%3A157630011%2Cn%3A157631011&dc&fs=true&page=3&qid=1651987613&rnid=157630011&ref=sr_pg_3\"\n",
    "url_page_3bis  = \"https://www.amazon.com/s?i=digital-text&bbn=157630011&rh=n%3A133140011%2Cn%3A154606011%2Cn%3A154607011%2Cn%3A157630011%2Cn%3A157631011&dc&fs=true&page=3&qid=1651987793&rnid=157630011&ref=sr_pg_3\"\n"
   ]
  },
  {
   "cell_type": "code",
   "execution_count": 3,
   "id": "45739e9f",
   "metadata": {},
   "outputs": [],
   "source": [
    "def trouver_categorie_page(url):\n",
    "    browser.get(url)\n",
    "    #browser.get(url) #rajouter la double activation s'il y a un problème parfois il faut lire 2 fois la page\n",
    "    html_page_listing = browser.page_source # permet de prendre le code html de la page \n",
    "    soup = BeautifulSoup(html_page_listing , 'lxml') # créer la soupe avec le parser\n",
    "    categories = soup.find_all('li'  , class_ = 'a-spacing-micro apb-browse-refinements-indent-2')\n",
    "    listing_categories=[]\n",
    "    for categorie in categories :\n",
    "        categor = categorie.span.text.strip()\n",
    "        lien = 'https://www.amazon.com'+ categorie.a.get('href')\n",
    "        listing_categories.append((categor,lien))\n",
    "    return(listing_categories)\n",
    "\n",
    "def encrypter(url,titre,rang,prix):\n",
    "    dictionnary = [{'url':url ,'titre':titre,  'rang':rang ,'prix':prix }]\n",
    "    print(dictionnary)\n",
    "    with open('results.csv','a') as f :                        # ouvre le fichier result.csv\n",
    "        fields=['titre','rang','prix','url']                  # permet de faire un    \n",
    "        writer = csv.DictWriter(f,fieldnames = fields)\n",
    "        writer.writerows(dictionnary)\n",
    "\n",
    "\n",
    "def encryper_depuis_url_page_livre(url):\n",
    "    browser.get(url)\n",
    "    code_de_la_page = browser.page_source\n",
    "    soup = BeautifulSoup(code_de_la_page , 'lxml')\n",
    "    \n",
    "    # URL du livre OK\n",
    "    url = url \n",
    "    # titre du livre\n",
    "    titre_avec_virgule = soup.find('span'  , {'class': 'a-size-extra-large'}).string\n",
    "    titre = titre_avec_virgule.replace(\",\", \" \")\n",
    "    #rang du livre OK\n",
    "    if soup.find_all( {'span'  : 'a-list-item'}) is not None : \n",
    "        rang_livre = soup.find_all( {'span'  : 'a-list-item'})\n",
    "        if len(str(re.compile(regex_expression).search(str(rang_livre))).split())>5 : \n",
    "            rang = str(re.compile(regex_expression).search(str(rang_livre))).split()[5].replace(\"#\",\"\").replace(\",\",\"\") \n",
    "        else : rang = None\n",
    "    else : rang = None\n",
    "    #prix du livre\n",
    "    if soup.find('span' , class_ = 'a-price-whole') is not None:\n",
    "        prix = soup.find('span' , class_ = 'a-price-whole').text.strip(' ').strip('.')\n",
    "    else:\n",
    "        prix = None\n",
    "    encrypter(url,titre,rang,prix)\n",
    "\n",
    "    \n",
    "def incrementer_url(url): \n",
    "    \"\"\" permet de passer à la page suivante sur les pages de catégories\"\"\"\n",
    "    url_gauche =  url.split(\"&page=\")[0]+\"&page=\"  # trouve la première partie de la chaine à gauche\n",
    "    numero_de_la_page = str(int((url.split(\"&page=\")[1].split(\"&qid=\")[0]))+1) #trouve la partie numérique, convertie en nombre et ajoute 1\n",
    "    return(str(url_gauche + numero_de_la_page) )\n",
    "\n",
    "def tester_un_node(node):\n",
    "    lien = 'https://www.amazon.com/s?i=digital-text&rh=n%' + node +'&fs=true&page=1'\n",
    "    browser.get(lien)\n",
    "\n",
    "\n",
    "def trouver_node_url(url):\n",
    "    node = url.split('&dc')[0].split('%')[-1]\n",
    "    lien = 'https://www.amazon.com/s?i=digital-text&rh=n%' + node +'&fs=true&page=1'\n",
    "    browser.get(lien)\n",
    "    return(lien)"
   ]
  },
  {
   "cell_type": "markdown",
   "id": "aa31f127",
   "metadata": {},
   "source": [
    "# Ouverture du navigateur"
   ]
  },
  {
   "cell_type": "markdown",
   "id": "d6efddd0",
   "metadata": {},
   "source": [
    "avant bien lancer le programme X launch sur windows en cochant sur disable"
   ]
  },
  {
   "cell_type": "code",
   "execution_count": 4,
   "id": "0bc90ebd",
   "metadata": {},
   "outputs": [
    {
     "name": "stderr",
     "output_type": "stream",
     "text": [
      "/tmp/ipykernel_907/2988573174.py:2: DeprecationWarning: executable_path has been deprecated, please pass in a Service object\n",
      "  browser = webdriver.Chrome(executable_path= DRIVER_PATH_chromedriver)\n"
     ]
    }
   ],
   "source": [
    "DRIVER_PATH_chromedriver = str(Path('../chromedriver').resolve())\n",
    "browser = webdriver.Chrome(executable_path= DRIVER_PATH_chromedriver)\n",
    "browser.get(url_kindle_accueil)\n",
    "browser.get(url_kindle_accueil)"
   ]
  },
  {
   "cell_type": "markdown",
   "id": "1c875385",
   "metadata": {},
   "source": [
    "avec le programme ci-après j arrive à lancer chrome depuis notebook !! yes"
   ]
  },
  {
   "cell_type": "markdown",
   "id": "a49ff183",
   "metadata": {},
   "source": [
    ">## il faut réussir à faire différents programme:\n",
    ">   - sur la page d'un livre ( en input un url) trouver le livre , l'auteur, le ranking\n",
    ">   - sur une page, trouver tout les livres de la pages\n",
    ">   - sur une catégorie trouver les pages de catégories"
   ]
  },
  {
   "cell_type": "markdown",
   "id": "e67d360f",
   "metadata": {
    "tags": []
   },
   "source": [
    "# PROGRAMMES"
   ]
  },
  {
   "cell_type": "markdown",
   "id": "7b8d00d9",
   "metadata": {
    "tags": []
   },
   "source": [
    "## trouver categorie"
   ]
  },
  {
   "cell_type": "code",
   "execution_count": 54,
   "id": "d0807f82",
   "metadata": {},
   "outputs": [
    {
     "name": "stderr",
     "output_type": "stream",
     "text": [
      "/tmp/ipykernel_1183/4107238732.py:2: DeprecationWarning: executable_path has been deprecated, please pass in a Service object\n",
      "  browser = webdriver.Chrome(executable_path= DRIVER_PATH_chromedriver)\n"
     ]
    },
    {
     "name": "stdout",
     "output_type": "stream",
     "text": [
      "Arts & Photography https://www.amazon.com/s?bbn=154606011&rh=n%3A133140011%2Cn%3A154606011%2Cn%3A154607011&dc&qid=1657515853&rnid=154606011&ref=lp_154606011_nr_n_0\n",
      "Biographies & Memoirs https://www.amazon.com/s?bbn=154606011&rh=n%3A133140011%2Cn%3A154606011%2Cn%3A154754011&dc&qid=1657515853&rnid=154606011&ref=lp_154606011_nr_n_1\n",
      "Business & Money https://www.amazon.com/s?bbn=154606011&rh=n%3A133140011%2Cn%3A154606011%2Cn%3A154821011&dc&qid=1657515853&rnid=154606011&ref=lp_154606011_nr_n_2\n",
      "Children's eBooks https://www.amazon.com/s?bbn=154606011&rh=n%3A133140011%2Cn%3A154606011%2Cn%3A155009011&dc&qid=1657515853&rnid=154606011&ref=lp_154606011_nr_n_3\n",
      "Comics, Manga & Graphic Novels https://www.amazon.com/s?bbn=154606011&rh=n%3A133140011%2Cn%3A154606011%2Cn%3A156104011&dc&qid=1657515853&rnid=154606011&ref=lp_154606011_nr_n_4\n",
      "Computers & Technology https://www.amazon.com/s?bbn=154606011&rh=n%3A133140011%2Cn%3A154606011%2Cn%3A156116011&dc&qid=1657515853&rnid=154606011&ref=lp_154606011_nr_n_5\n",
      "Cookbooks, Food & Wine https://www.amazon.com/s?bbn=154606011&rh=n%3A133140011%2Cn%3A154606011%2Cn%3A156154011&dc&qid=1657515853&rnid=154606011&ref=lp_154606011_nr_n_6\n",
      "Crafts, Hobbies & Home https://www.amazon.com/s?bbn=154606011&rh=n%3A133140011%2Cn%3A154606011%2Cn%3A156699011&dc&qid=1657515853&rnid=154606011&ref=lp_154606011_nr_n_7\n",
      "Education & Teaching https://www.amazon.com/s?bbn=154606011&rh=n%3A133140011%2Cn%3A154606011%2Cn%3A158125011&dc&qid=1657515853&rnid=154606011&ref=lp_154606011_nr_n_8\n",
      "Engineering & Transportation https://www.amazon.com/s?bbn=154606011&rh=n%3A133140011%2Cn%3A154606011%2Cn%3A157626011&dc&qid=1657515853&rnid=154606011&ref=lp_154606011_nr_n_9\n",
      "Foreign Languages https://www.amazon.com/s?bbn=154606011&rh=n%3A133140011%2Cn%3A154606011%2Cn%3A7735160011&dc&qid=1657515853&rnid=154606011&ref=lp_154606011_nr_n_10\n",
      "Health, Fitness & Dieting https://www.amazon.com/s?bbn=154606011&rh=n%3A133140011%2Cn%3A154606011%2Cn%3A156430011&dc&qid=1657515853&rnid=154606011&ref=lp_154606011_nr_n_11\n",
      "History https://www.amazon.com/s?bbn=154606011&rh=n%3A133140011%2Cn%3A154606011%2Cn%3A156576011&dc&qid=1657515853&rnid=154606011&ref=lp_154606011_nr_n_12\n",
      "Humor & Entertainment https://www.amazon.com/s?bbn=154606011&rh=n%3A133140011%2Cn%3A154606011%2Cn%3A156279011&dc&qid=1657515853&rnid=154606011&ref=lp_154606011_nr_n_13\n",
      "Law https://www.amazon.com/s?bbn=154606011&rh=n%3A133140011%2Cn%3A154606011%2Cn%3A156915011&dc&qid=1657515853&rnid=154606011&ref=lp_154606011_nr_n_14\n",
      "LGBTQ+ eBooks https://www.amazon.com/s?bbn=154606011&rh=n%3A133140011%2Cn%3A154606011%2Cn%3A156424011&dc&qid=1657515853&rnid=154606011&ref=lp_154606011_nr_n_15\n",
      "Literature & Fiction https://www.amazon.com/s?bbn=154606011&rh=n%3A133140011%2Cn%3A154606011%2Cn%3A157028011&dc&qid=1657515853&rnid=154606011&ref=lp_154606011_nr_n_16\n",
      "Medical eBooks https://www.amazon.com/s?bbn=154606011&rh=n%3A133140011%2Cn%3A154606011%2Cn%3A157119011&dc&qid=1657515853&rnid=154606011&ref=lp_154606011_nr_n_17\n",
      "Mystery, Thriller & Suspense https://www.amazon.com/s?bbn=154606011&rh=n%3A133140011%2Cn%3A154606011%2Cn%3A157305011&dc&qid=1657515853&rnid=154606011&ref=lp_154606011_nr_n_18\n",
      "Nonfiction https://www.amazon.com/s?bbn=154606011&rh=n%3A133140011%2Cn%3A154606011%2Cn%3A157325011&dc&qid=1657515853&rnid=154606011&ref=lp_154606011_nr_n_19\n",
      "Parenting & Relationships https://www.amazon.com/s?bbn=154606011&rh=n%3A133140011%2Cn%3A154606011%2Cn%3A157584011&dc&qid=1657515853&rnid=154606011&ref=lp_154606011_nr_n_20\n",
      "Politics & Social Sciences https://www.amazon.com/s?bbn=154606011&rh=n%3A133140011%2Cn%3A154606011%2Cn%3A305951011&dc&qid=1657515853&rnid=154606011&ref=lp_154606011_nr_n_21\n",
      "Reference https://www.amazon.com/s?bbn=154606011&rh=n%3A133140011%2Cn%3A154606011%2Cn%3A9154158011&dc&qid=1657515853&rnid=154606011&ref=lp_154606011_nr_n_22\n",
      "Religion & Spirituality https://www.amazon.com/s?bbn=154606011&rh=n%3A133140011%2Cn%3A154606011%2Cn%3A158280011&dc&qid=1657515853&rnid=154606011&ref=lp_154606011_nr_n_23\n",
      "Romance https://www.amazon.com/s?bbn=154606011&rh=n%3A133140011%2Cn%3A154606011%2Cn%3A158566011&dc&qid=1657515853&rnid=154606011&ref=lp_154606011_nr_n_24\n",
      "Science & Math https://www.amazon.com/s?bbn=154606011&rh=n%3A133140011%2Cn%3A154606011%2Cn%3A158597011&dc&qid=1657515853&rnid=154606011&ref=lp_154606011_nr_n_25\n",
      "Science Fiction & Fantasy https://www.amazon.com/s?bbn=154606011&rh=n%3A133140011%2Cn%3A154606011%2Cn%3A668010011&dc&qid=1657515853&rnid=154606011&ref=lp_154606011_nr_n_26\n",
      "Self-Help https://www.amazon.com/s?bbn=154606011&rh=n%3A133140011%2Cn%3A154606011%2Cn%3A156563011&dc&qid=1657515853&rnid=154606011&ref=lp_154606011_nr_n_27\n",
      "Sports & Outdoors https://www.amazon.com/s?bbn=154606011&rh=n%3A133140011%2Cn%3A154606011%2Cn%3A159818011&dc&qid=1657515853&rnid=154606011&ref=lp_154606011_nr_n_28\n",
      "Teen & Young Adult https://www.amazon.com/s?bbn=154606011&rh=n%3A133140011%2Cn%3A154606011%2Cn%3A3511261011&dc&qid=1657515853&rnid=154606011&ref=lp_154606011_nr_n_29\n",
      "Travel https://www.amazon.com/s?bbn=154606011&rh=n%3A133140011%2Cn%3A154606011%2Cn%3A159936011&dc&qid=1657515853&rnid=154606011&ref=lp_154606011_nr_n_30\n",
      "[('Arts & Photography', 'https://www.amazon.com/s?bbn=154606011&rh=n%3A133140011%2Cn%3A154606011%2Cn%3A154607011&dc&qid=1657515853&rnid=154606011&ref=lp_154606011_nr_n_0'), ('Biographies & Memoirs', 'https://www.amazon.com/s?bbn=154606011&rh=n%3A133140011%2Cn%3A154606011%2Cn%3A154754011&dc&qid=1657515853&rnid=154606011&ref=lp_154606011_nr_n_1'), ('Business & Money', 'https://www.amazon.com/s?bbn=154606011&rh=n%3A133140011%2Cn%3A154606011%2Cn%3A154821011&dc&qid=1657515853&rnid=154606011&ref=lp_154606011_nr_n_2'), (\"Children's eBooks\", 'https://www.amazon.com/s?bbn=154606011&rh=n%3A133140011%2Cn%3A154606011%2Cn%3A155009011&dc&qid=1657515853&rnid=154606011&ref=lp_154606011_nr_n_3'), ('Comics, Manga & Graphic Novels', 'https://www.amazon.com/s?bbn=154606011&rh=n%3A133140011%2Cn%3A154606011%2Cn%3A156104011&dc&qid=1657515853&rnid=154606011&ref=lp_154606011_nr_n_4'), ('Computers & Technology', 'https://www.amazon.com/s?bbn=154606011&rh=n%3A133140011%2Cn%3A154606011%2Cn%3A156116011&dc&qid=1657515853&rnid=154606011&ref=lp_154606011_nr_n_5'), ('Cookbooks, Food & Wine', 'https://www.amazon.com/s?bbn=154606011&rh=n%3A133140011%2Cn%3A154606011%2Cn%3A156154011&dc&qid=1657515853&rnid=154606011&ref=lp_154606011_nr_n_6'), ('Crafts, Hobbies & Home', 'https://www.amazon.com/s?bbn=154606011&rh=n%3A133140011%2Cn%3A154606011%2Cn%3A156699011&dc&qid=1657515853&rnid=154606011&ref=lp_154606011_nr_n_7'), ('Education & Teaching', 'https://www.amazon.com/s?bbn=154606011&rh=n%3A133140011%2Cn%3A154606011%2Cn%3A158125011&dc&qid=1657515853&rnid=154606011&ref=lp_154606011_nr_n_8'), ('Engineering & Transportation', 'https://www.amazon.com/s?bbn=154606011&rh=n%3A133140011%2Cn%3A154606011%2Cn%3A157626011&dc&qid=1657515853&rnid=154606011&ref=lp_154606011_nr_n_9'), ('Foreign Languages', 'https://www.amazon.com/s?bbn=154606011&rh=n%3A133140011%2Cn%3A154606011%2Cn%3A7735160011&dc&qid=1657515853&rnid=154606011&ref=lp_154606011_nr_n_10'), ('Health, Fitness & Dieting', 'https://www.amazon.com/s?bbn=154606011&rh=n%3A133140011%2Cn%3A154606011%2Cn%3A156430011&dc&qid=1657515853&rnid=154606011&ref=lp_154606011_nr_n_11'), ('History', 'https://www.amazon.com/s?bbn=154606011&rh=n%3A133140011%2Cn%3A154606011%2Cn%3A156576011&dc&qid=1657515853&rnid=154606011&ref=lp_154606011_nr_n_12'), ('Humor & Entertainment', 'https://www.amazon.com/s?bbn=154606011&rh=n%3A133140011%2Cn%3A154606011%2Cn%3A156279011&dc&qid=1657515853&rnid=154606011&ref=lp_154606011_nr_n_13'), ('Law', 'https://www.amazon.com/s?bbn=154606011&rh=n%3A133140011%2Cn%3A154606011%2Cn%3A156915011&dc&qid=1657515853&rnid=154606011&ref=lp_154606011_nr_n_14'), ('LGBTQ+ eBooks', 'https://www.amazon.com/s?bbn=154606011&rh=n%3A133140011%2Cn%3A154606011%2Cn%3A156424011&dc&qid=1657515853&rnid=154606011&ref=lp_154606011_nr_n_15'), ('Literature & Fiction', 'https://www.amazon.com/s?bbn=154606011&rh=n%3A133140011%2Cn%3A154606011%2Cn%3A157028011&dc&qid=1657515853&rnid=154606011&ref=lp_154606011_nr_n_16'), ('Medical eBooks', 'https://www.amazon.com/s?bbn=154606011&rh=n%3A133140011%2Cn%3A154606011%2Cn%3A157119011&dc&qid=1657515853&rnid=154606011&ref=lp_154606011_nr_n_17'), ('Mystery, Thriller & Suspense', 'https://www.amazon.com/s?bbn=154606011&rh=n%3A133140011%2Cn%3A154606011%2Cn%3A157305011&dc&qid=1657515853&rnid=154606011&ref=lp_154606011_nr_n_18'), ('Nonfiction', 'https://www.amazon.com/s?bbn=154606011&rh=n%3A133140011%2Cn%3A154606011%2Cn%3A157325011&dc&qid=1657515853&rnid=154606011&ref=lp_154606011_nr_n_19'), ('Parenting & Relationships', 'https://www.amazon.com/s?bbn=154606011&rh=n%3A133140011%2Cn%3A154606011%2Cn%3A157584011&dc&qid=1657515853&rnid=154606011&ref=lp_154606011_nr_n_20'), ('Politics & Social Sciences', 'https://www.amazon.com/s?bbn=154606011&rh=n%3A133140011%2Cn%3A154606011%2Cn%3A305951011&dc&qid=1657515853&rnid=154606011&ref=lp_154606011_nr_n_21'), ('Reference', 'https://www.amazon.com/s?bbn=154606011&rh=n%3A133140011%2Cn%3A154606011%2Cn%3A9154158011&dc&qid=1657515853&rnid=154606011&ref=lp_154606011_nr_n_22'), ('Religion & Spirituality', 'https://www.amazon.com/s?bbn=154606011&rh=n%3A133140011%2Cn%3A154606011%2Cn%3A158280011&dc&qid=1657515853&rnid=154606011&ref=lp_154606011_nr_n_23'), ('Romance', 'https://www.amazon.com/s?bbn=154606011&rh=n%3A133140011%2Cn%3A154606011%2Cn%3A158566011&dc&qid=1657515853&rnid=154606011&ref=lp_154606011_nr_n_24'), ('Science & Math', 'https://www.amazon.com/s?bbn=154606011&rh=n%3A133140011%2Cn%3A154606011%2Cn%3A158597011&dc&qid=1657515853&rnid=154606011&ref=lp_154606011_nr_n_25'), ('Science Fiction & Fantasy', 'https://www.amazon.com/s?bbn=154606011&rh=n%3A133140011%2Cn%3A154606011%2Cn%3A668010011&dc&qid=1657515853&rnid=154606011&ref=lp_154606011_nr_n_26'), ('Self-Help', 'https://www.amazon.com/s?bbn=154606011&rh=n%3A133140011%2Cn%3A154606011%2Cn%3A156563011&dc&qid=1657515853&rnid=154606011&ref=lp_154606011_nr_n_27'), ('Sports & Outdoors', 'https://www.amazon.com/s?bbn=154606011&rh=n%3A133140011%2Cn%3A154606011%2Cn%3A159818011&dc&qid=1657515853&rnid=154606011&ref=lp_154606011_nr_n_28'), ('Teen & Young Adult', 'https://www.amazon.com/s?bbn=154606011&rh=n%3A133140011%2Cn%3A154606011%2Cn%3A3511261011&dc&qid=1657515853&rnid=154606011&ref=lp_154606011_nr_n_29'), ('Travel', 'https://www.amazon.com/s?bbn=154606011&rh=n%3A133140011%2Cn%3A154606011%2Cn%3A159936011&dc&qid=1657515853&rnid=154606011&ref=lp_154606011_nr_n_30')]\n"
     ]
    }
   ],
   "source": [
    "DRIVER_PATH_chromedriver = str(Path('../chromedriver').resolve())\n",
    "browser = webdriver.Chrome(executable_path= DRIVER_PATH_chromedriver)\n",
    "browser.get(url_kindle_accueil)\n",
    "browser.get(url_kindle_accueil)\n",
    "html_page_listing = browser.page_source # permet de prendre le code html de la page \n",
    "soup = BeautifulSoup(html_page_listing , 'lxml') # créer la soupe avec le parser\n",
    "categories = soup.find_all('li'  , class_ = 'a-spacing-micro apb-browse-refinements-indent-2')\n",
    "listing_categories=[]\n",
    "for categorie in categories :\n",
    "    categor = categorie.span.text.strip()\n",
    "    lien = 'https://www.amazon.com'+ categorie.a.get('href')\n",
    "    listing_categories.append((categor,lien))\n",
    "    print(categor , lien)\n",
    "print(listing_categories)"
   ]
  },
  {
   "cell_type": "code",
   "execution_count": 5,
   "id": "7c49eec7",
   "metadata": {},
   "outputs": [
    {
     "data": {
      "text/plain": [
       "[('Auditing',\n",
       "  'https://www.amazon.com/s?bbn=154880011&rh=n%3A133140011%2Cn%3A154606011%2Cn%3A154821011%2Cn%3A154880011%2Cn%3A154881011&dc&qid=1657600510&rnid=154880011&ref=lp_154880011_nr_n_0'),\n",
       " ('CPA',\n",
       "  'https://www.amazon.com/s?bbn=154880011&rh=n%3A133140011%2Cn%3A154606011%2Cn%3A154821011%2Cn%3A154880011%2Cn%3A158162011&dc&qid=1657600510&rnid=154880011&ref=lp_154880011_nr_n_1'),\n",
       " ('Financial',\n",
       "  'https://www.amazon.com/s?bbn=154880011&rh=n%3A133140011%2Cn%3A154606011%2Cn%3A154821011%2Cn%3A154880011%2Cn%3A154882011&dc&qid=1657600510&rnid=154880011&ref=lp_154880011_nr_n_2'),\n",
       " ('Governmental',\n",
       "  'https://www.amazon.com/s?bbn=154880011&rh=n%3A133140011%2Cn%3A154606011%2Cn%3A154821011%2Cn%3A154880011%2Cn%3A154884011&dc&qid=1657600510&rnid=154880011&ref=lp_154880011_nr_n_3'),\n",
       " ('International',\n",
       "  'https://www.amazon.com/s?bbn=154880011&rh=n%3A133140011%2Cn%3A154606011%2Cn%3A154821011%2Cn%3A154880011%2Cn%3A154885011&dc&qid=1657600510&rnid=154880011&ref=lp_154880011_nr_n_4'),\n",
       " ('Managerial',\n",
       "  'https://www.amazon.com/s?bbn=154880011&rh=n%3A133140011%2Cn%3A154606011%2Cn%3A154821011%2Cn%3A154880011%2Cn%3A154886011&dc&qid=1657600510&rnid=154880011&ref=lp_154880011_nr_n_5'),\n",
       " ('Standards',\n",
       "  'https://www.amazon.com/s?bbn=154880011&rh=n%3A133140011%2Cn%3A154606011%2Cn%3A154821011%2Cn%3A154880011%2Cn%3A8493714011&dc&qid=1657600510&rnid=154880011&ref=lp_154880011_nr_n_6')]"
      ]
     },
     "execution_count": 5,
     "metadata": {},
     "output_type": "execute_result"
    }
   ],
   "source": [
    "trouver_categorie_page(\"https://www.amazon.com/s?bbn=154821011&rh=n%3A133140011%2Cn%3A154606011%2Cn%3A154821011%2Cn%3A154880011&dc&qid=1657600447&rnid=154821011&ref=lp_154821011_nr_n_0\")"
   ]
  },
  {
   "cell_type": "code",
   "execution_count": 6,
   "id": "17a5c41d",
   "metadata": {},
   "outputs": [
    {
     "data": {
      "text/plain": [
       "[]"
      ]
     },
     "execution_count": 6,
     "metadata": {},
     "output_type": "execute_result"
    }
   ],
   "source": [
    "trouver_categorie_page(\"https://www.amazon.com/s?bbn=154880011&rh=n%3A133140011%2Cn%3A154606011%2Cn%3A154821011%2Cn%3A154880011%2Cn%3A154881011&dc&qid=1657600510&rnid=154880011&ref=lp_154880011_nr_n_0\")"
   ]
  },
  {
   "cell_type": "code",
   "execution_count": 59,
   "id": "e37ba8e0",
   "metadata": {},
   "outputs": [
    {
     "ename": "IndexError",
     "evalue": "list index out of range",
     "output_type": "error",
     "traceback": [
      "\u001b[0;31m---------------------------------------------------------------------------\u001b[0m",
      "\u001b[0;31mIndexError\u001b[0m                                Traceback (most recent call last)",
      "Input \u001b[0;32mIn [59]\u001b[0m, in \u001b[0;36m<cell line: 1>\u001b[0;34m()\u001b[0m\n\u001b[0;32m----> 1\u001b[0m \u001b[43mincrementer_url\u001b[49m\u001b[43m(\u001b[49m\u001b[38;5;124;43m\"\u001b[39;49m\u001b[38;5;124;43mhttps://www.amazon.com/s?bbn=157630011&rh=n\u001b[39;49m\u001b[38;5;124;43m%\u001b[39;49m\u001b[38;5;124;43m3A133140011\u001b[39;49m\u001b[38;5;124;43m%\u001b[39;49m\u001b[38;5;124;43m2Cn\u001b[39;49m\u001b[38;5;124;43m%\u001b[39;49m\u001b[38;5;124;43m3A154606011\u001b[39;49m\u001b[38;5;124;43m%\u001b[39;49m\u001b[38;5;124;43m2Cn\u001b[39;49m\u001b[38;5;124;43m%\u001b[39;49m\u001b[38;5;124;43m3A154607011\u001b[39;49m\u001b[38;5;124;43m%\u001b[39;49m\u001b[38;5;124;43m2Cn\u001b[39;49m\u001b[38;5;124;43m%\u001b[39;49m\u001b[38;5;124;43m3A157630011\u001b[39;49m\u001b[38;5;124;43m%\u001b[39;49m\u001b[38;5;124;43m2Cn\u001b[39;49m\u001b[38;5;124;43m%\u001b[39;49m\u001b[38;5;124;43m3A157631011&dc&qid=1657515923&rnid=157630011&ref=lp_157630011_nr_n_0\u001b[39;49m\u001b[38;5;124;43m\"\u001b[39;49m\u001b[43m)\u001b[49m\n",
      "Input \u001b[0;32mIn [53]\u001b[0m, in \u001b[0;36mincrementer_url\u001b[0;34m(url)\u001b[0m\n\u001b[1;32m     49\u001b[0m \u001b[38;5;124;03m\"\"\" permet de passer à la page suivante sur les pages de catégories\"\"\"\u001b[39;00m\n\u001b[1;32m     50\u001b[0m url_gauche \u001b[38;5;241m=\u001b[39m  url\u001b[38;5;241m.\u001b[39msplit(\u001b[38;5;124m\"\u001b[39m\u001b[38;5;124m&page=\u001b[39m\u001b[38;5;124m\"\u001b[39m)[\u001b[38;5;241m0\u001b[39m]\u001b[38;5;241m+\u001b[39m\u001b[38;5;124m\"\u001b[39m\u001b[38;5;124m&page=\u001b[39m\u001b[38;5;124m\"\u001b[39m  \u001b[38;5;66;03m# trouve la première partie de la chaine à gauche\u001b[39;00m\n\u001b[0;32m---> 51\u001b[0m numero_de_la_page \u001b[38;5;241m=\u001b[39m \u001b[38;5;28mstr\u001b[39m(\u001b[38;5;28mint\u001b[39m((\u001b[43murl\u001b[49m\u001b[38;5;241;43m.\u001b[39;49m\u001b[43msplit\u001b[49m\u001b[43m(\u001b[49m\u001b[38;5;124;43m\"\u001b[39;49m\u001b[38;5;124;43m&page=\u001b[39;49m\u001b[38;5;124;43m\"\u001b[39;49m\u001b[43m)\u001b[49m\u001b[43m[\u001b[49m\u001b[38;5;241;43m1\u001b[39;49m\u001b[43m]\u001b[49m\u001b[38;5;241m.\u001b[39msplit(\u001b[38;5;124m\"\u001b[39m\u001b[38;5;124m&qid=\u001b[39m\u001b[38;5;124m\"\u001b[39m)[\u001b[38;5;241m0\u001b[39m]))\u001b[38;5;241m+\u001b[39m\u001b[38;5;241m1\u001b[39m) \u001b[38;5;66;03m#trouve la partie numérique, convertie en nombre et ajoute 1\u001b[39;00m\n\u001b[1;32m     52\u001b[0m \u001b[38;5;28;01mreturn\u001b[39;00m(\u001b[38;5;28mstr\u001b[39m(url_gauche \u001b[38;5;241m+\u001b[39m numero_de_la_page) )\n",
      "\u001b[0;31mIndexError\u001b[0m: list index out of range"
     ]
    }
   ],
   "source": [
    "incrementer_url(\"https://www.amazon.com/s?bbn=157630011&rh=n%3A133140011%2Cn%3A154606011%2Cn%3A154607011%2Cn%3A157630011%2Cn%3A157631011&dc&qid=1657515923&rnid=157630011&ref=lp_157630011_nr_n_0\")"
   ]
  },
  {
   "cell_type": "markdown",
   "id": "07fa6918",
   "metadata": {},
   "source": []
  },
  {
   "cell_type": "markdown",
   "id": "c50236cb",
   "metadata": {},
   "source": []
  },
  {
   "cell_type": "markdown",
   "id": "f2764a5e",
   "metadata": {},
   "source": [
    "## Depuis première page d'une categorie trouver le bon node pour pouvoir les dérouler"
   ]
  },
  {
   "cell_type": "code",
   "execution_count": 60,
   "id": "a6d64d6d",
   "metadata": {},
   "outputs": [],
   "source": [
    "exemple = \"https://www.amazon.com/s?bbn=157630011&rh=n%3A133140011%2Cn%3A154606011%2Cn%3A154607011%2Cn%3A157630011%2Cn%3A157631011&dc&qid=1657515923&rnid=157630011&ref=lp_157630011_nr_n_0\"\n",
    "'https://www.amazon.com/s?i=digital-text&rh=n%3A157631011&fs=true&page=2&qid=1657516812&ref=sr_pg_2'"
   ]
  },
  {
   "cell_type": "code",
   "execution_count": 85,
   "id": "1cf0dfda",
   "metadata": {},
   "outputs": [],
   "source": [
    "def tester_un_node(node):\n",
    "    lien = 'https://www.amazon.com/s?i=digital-text&rh=n%' + node +'&fs=true&page=1'\n",
    "    browser.get(lien)"
   ]
  },
  {
   "cell_type": "code",
   "execution_count": 66,
   "id": "d70d4161",
   "metadata": {},
   "outputs": [],
   "source": [
    "tester_un_node('3A154606011')"
   ]
  },
  {
   "cell_type": "code",
   "execution_count": 79,
   "id": "34a6d670",
   "metadata": {
    "scrolled": true
   },
   "outputs": [
    {
     "data": {
      "text/plain": [
       "'3A157631011'"
      ]
     },
     "execution_count": 79,
     "metadata": {},
     "output_type": "execute_result"
    }
   ],
   "source": [
    "exemple.split('&dc')[0].split('%')[-1]"
   ]
  },
  {
   "cell_type": "code",
   "execution_count": 86,
   "id": "607d194e",
   "metadata": {},
   "outputs": [
    {
     "data": {
      "text/plain": [
       "'https://www.amazon.com/s?i=digital-text&rh=n%3A158465011&fs=true&page=1'"
      ]
     },
     "execution_count": 86,
     "metadata": {},
     "output_type": "execute_result"
    }
   ],
   "source": [
    "trouver_node_url(\"https://www.amazon.com/s?i=digital-text&bbn=158464011&rh=n%3A133140011%2Cn%3A154606011%2Cn%3A158280011%2Cn%3A158454011%2Cn%3A158464011%2Cn%3A158465011&dc&fs=true&ds=v1%3AZqfI7meIwCFlWiHDkC3hz%2B%2FrMxk1wZagxclfrkTxcYk&qid=1657517730&rnid=158464011&ref=sr_nr_n_1\")"
   ]
  },
  {
   "cell_type": "markdown",
   "id": "6c211309",
   "metadata": {
    "heading_collapsed": true
   },
   "source": [
    "## Parcourir et encrypter les livres d'une page contenant 10 livres"
   ]
  },
  {
   "cell_type": "code",
   "execution_count": 9,
   "id": "578a143b",
   "metadata": {
    "hidden": true
   },
   "outputs": [
    {
     "name": "stderr",
     "output_type": "stream",
     "text": [
      "/tmp/ipykernel_3342/525206327.py:3: DeprecationWarning: executable_path has been deprecated, please pass in a Service object\n",
      "  browser = webdriver.Chrome(executable_path= DRIVER_PATH_chromedriver)\n"
     ]
    },
    {
     "name": "stdout",
     "output_type": "stream",
     "text": [
      "[{'url': 'https://www.amazon.com/You-Say-Brick-Life-Louis-ebook/dp/B01KTL87RW/ref=sr_1_17?qid=1656018912&rnid=157630011&s=digital-text&sr=1-17', 'titre': ' You Say to Brick: The Life of Louis Kahn ', 'rang': '755689', 'prix': '3'}]\n",
      "[{'url': 'https://www.amazon.com/Towards-New-Architecture-Dover-ebook/dp/B00BSK16WC/ref=sr_1_18?qid=1656018912&rnid=157630011&s=digital-text&sr=1-18', 'titre': ' Towards a New Architecture (Dover Architecture) ', 'rang': '206318', 'prix': '8'}]\n",
      "[{'url': 'https://www.amazon.com/Confessions-Art-Addict-Peggy-Guggenheim-ebook/dp/B00BKZGPL2/ref=sr_1_19?qid=1656018912&rnid=157630011&s=digital-text&sr=1-19', 'titre': ' Confessions Of an Art Addict ', 'rang': '754605', 'prix': '4'}]\n",
      "[{'url': 'https://www.amazon.com/Remodel-Kitchen-Without-Going-Bonkers-ebook/dp/B08P9ZXHLZ/ref=sr_1_20?qid=1656018912&rnid=157630011&s=digital-text&sr=1-20', 'titre': ' Remodel Your Kitchen Without Going Bonkers or Broke: Have a Stress-Free Renovation and Get the Kitchen of Your Dreams ', 'rang': '315516', 'prix': '26'}]\n",
      "[{'url': 'https://www.amazon.com/Frank-Lloyd-Wright-Penguin-Lives-ebook/dp/B00188V7R8/ref=sr_1_21?qid=1656018912&rnid=157630011&s=digital-text&sr=1-21', 'titre': ' Frank Lloyd Wright: A Life (Penguin Lives) ', 'rang': '600283', 'prix': '14'}]\n",
      "[{'url': 'https://www.amazon.com/Architecture-Defeat-Kengo-Kuma-ebook/dp/B07S1PSY4D/ref=sr_1_22?qid=1656018912&rnid=157630011&s=digital-text&sr=1-22', 'titre': ' Architecture of Defeat ', 'rang': '2009399', 'prix': '44'}]\n",
      "[{'url': 'https://www.amazon.com/Gropius-Man-Who-Built-Bauhaus-ebook/dp/B07QR12XV3/ref=sr_1_23?qid=1656018912&rnid=157630011&s=digital-text&sr=1-23', 'titre': ' Gropius: The Man Who Built the Bauhaus ', 'rang': '1114926', 'prix': '12'}]\n",
      "[{'url': 'https://www.amazon.com/Pedro-Ricky-Come-Again-1988-2020-ebook/dp/B08516ZB41/ref=sr_1_24?qid=1656018912&rnid=157630011&s=digital-text&sr=1-24', 'titre': ' Pedro and Ricky Come Again: Selected Writing 1988–2020 ', 'rang': '892199', 'prix': '2'}]\n",
      "[{'url': 'https://www.amazon.com/Wright-Sites-Guide-Public-Places-ebook/dp/B06VX7WRPV/ref=sr_1_25?qid=1656018912&rnid=157630011&s=digital-text&sr=1-25', 'titre': ' Wright Sites: A Guide to Frank Lloyd Wright Public Places ', 'rang': '559830', 'prix': '33'}]\n",
      "[{'url': 'https://www.amazon.com/Architects-Death-Family-Engineered-Camps-ebook/dp/B075D8P9HN/ref=sr_1_26?qid=1656018912&rnid=157630011&s=digital-text&sr=1-26', 'titre': ' Architects of Death: The Family Who Engineered the Death Camps ', 'rang': '607423', 'prix': '9'}]\n",
      "[{'url': 'https://www.amazon.com/Goya-Portrait-Artist-Janis-Tomlinson-ebook/dp/B08652LH8P/ref=sr_1_27?qid=1656018912&rnid=157630011&s=digital-text&sr=1-27', 'titre': ' Goya: A Portrait of the Artist ', 'rang': '955313', 'prix': '22'}]\n",
      "[{'url': 'https://www.amazon.com/Understanding-Frank-Lloyd-Wrights-Architecture-ebook/dp/B00A73FDI4/ref=sr_1_28?qid=1656018912&rnid=157630011&s=digital-text&sr=1-28', 'titre': \" Understanding Frank Lloyd Wright's Architecture (Dover Architecture) \", 'rang': '905340', 'prix': '9'}]\n",
      "[{'url': 'https://www.amazon.com/Grand-Avenues-Visionary-Designed-Washington-ebook/dp/B001YWN9S8/ref=sr_1_29?qid=1656018912&rnid=157630011&s=digital-text&sr=1-29', 'titre': \" Grand Avenues: The Story of Pierre Charles L'Enfant  the French Visionary Who Designed Washington  D.C. \", 'rang': '458076', 'prix': '13'}]\n",
      "[{'url': 'https://www.amazon.com/Architecture-Frank-Lloyd-Wright-Fourth-ebook/dp/B07239RCRV/ref=sr_1_30?qid=1656018912&rnid=157630011&s=digital-text&sr=1-30', 'titre': ' The Architecture of Frank Lloyd Wright  Fourth Edition: A Complete Catalog ', 'rang': '966901', 'prix': '9'}]\n",
      "[{'url': 'https://www.amazon.com/Making-Magic-Marion-Mahony-Griffin-ebook/dp/B011IEKJNY/ref=sr_1_31?qid=1656018912&rnid=157630011&s=digital-text&sr=1-31', 'titre': ' Making Magic: The Marion Mahony Griffin Story ', 'rang': '1317883', 'prix': '21'}]\n",
      "[{'url': 'https://www.amazon.com/Ornament-Crime-Adolf-Loos-ebook/dp/B07K833WB5/ref=sr_1_32?qid=1656018912&rnid=157630011&s=digital-text&sr=1-32', 'titre': ' Ornament and Crime (Penguin on Design) ', 'rang': '683782', 'prix': '0'}]\n"
     ]
    }
   ],
   "source": [
    "listes_des_livres=[]\n",
    "DRIVER_PATH_chromedriver = str(Path('../chromedriver').resolve())\n",
    "browser = webdriver.Chrome(executable_path= DRIVER_PATH_chromedriver)\n",
    "browser.get(url_page_2) #navigue sur une page avec tous les lien du site\n",
    "html_page_listing = browser.page_source # permet de prendre le code html de la page \n",
    "soup = BeautifulSoup(html_page_listing , 'lxml') # créer la soupe avec le parser\n",
    "livres = soup.find_all('div' ,{ 'data-asin':True, 'data-component-type' : 's-search-result'} )\n",
    "#tous les livres de la pages\n",
    "for livre in livres:\n",
    "     url_du_livre = 'https://www.amazon.com'+livre.h2.a.get('href')\n",
    "     encryper_depuis_url_page_livre(url_du_livre)\n",
    "    # le numéro ASIN correspeond à la ref du livre sur amazon\n",
    "# ASIN=B098652LH8P"
   ]
  },
  {
   "cell_type": "code",
   "execution_count": null,
   "id": "9ab8822b",
   "metadata": {
    "hidden": true
   },
   "outputs": [],
   "source": [
    "listes_des_livres=[]\n",
    "#tous les livres de la pages\n",
    "for i in range(10):\n",
    "    browser.get( url_pour_suivre.split(\"&page=\")[0] + \"&page=\" + str(i)) #navigue sur une page avec tous les liens du site\n",
    "    html_page_listing = browser.page_source # permet de prendre le code html de la page \n",
    "    soup = BeautifulSoup(html_page_listing , 'lxml') # créer la soupe avec le parser\n",
    "    livres = soup.find_all('div' ,{ 'data-asin':True, 'data-component-type' : 's-search-result'} )\n",
    "    for livre in livres:\n",
    "        url_du_livre = 'https://www.amazon.com'+livre.h2.a.get('href')\n",
    "        encryper_depuis_url_page_livre(url_du_livre) \n",
    "   "
   ]
  },
  {
   "cell_type": "markdown",
   "id": "778110d2",
   "metadata": {
    "heading_collapsed": true
   },
   "source": [
    "## pages de livres problématique gestion exception"
   ]
  },
  {
   "cell_type": "code",
   "execution_count": 18,
   "id": "68b2a450",
   "metadata": {
    "hidden": true
   },
   "outputs": [],
   "source": [
    "url_pb = \"https://www.amazon.com/Quer%C3%ADamos-Calatrava-arquitect%C3%B3nicos-seducci%C3%B3n-Cr%C3%B3nicas-ebook/dp/B01LZXUQNV/ref=sr_1_20?qid=1652824900&rnid=157630011&s=digital-text&sr=1-20\""
   ]
  },
  {
   "cell_type": "code",
   "execution_count": 19,
   "id": "c0d0f48f",
   "metadata": {
    "hidden": true,
    "scrolled": true
   },
   "outputs": [
    {
     "name": "stdout",
     "output_type": "stream",
     "text": [
      "[{'url': 'https://www.amazon.com/Quer%C3%ADamos-Calatrava-arquitect%C3%B3nicos-seducci%C3%B3n-Cr%C3%B3nicas-ebook/dp/B01LZXUQNV/ref=sr_1_20?qid=1652824900&rnid=157630011&s=digital-text&sr=1-20', 'titre': ' Queríamos un Calatrava. Viajes arquitectónicos por la seducción y el repudio (Crónicas nº 112) (Spanish Edition) ', 'rang': '2564686', 'prix': None}]\n"
     ]
    }
   ],
   "source": [
    "encryper_depuis_url_page_livre(url_pb)"
   ]
  },
  {
   "cell_type": "code",
   "execution_count": 20,
   "id": "297c2d66",
   "metadata": {
    "hidden": true
   },
   "outputs": [],
   "source": [
    "url_du_livre = 'https://www.amazon.com'+livres[2].h2.a.get('href')"
   ]
  },
  {
   "cell_type": "code",
   "execution_count": 21,
   "id": "81b6899e",
   "metadata": {
    "hidden": true,
    "scrolled": true
   },
   "outputs": [
    {
     "data": {
      "text/plain": [
       "'https://www.amazon.com/Pedro-Ricky-Come-Again-1988-2020-ebook/dp/B08516ZB41/ref=sr_1_19?qid=1655699640&rnid=157630011&s=digital-text&sr=1-19'"
      ]
     },
     "execution_count": 21,
     "metadata": {},
     "output_type": "execute_result"
    }
   ],
   "source": [
    "url_du_livre"
   ]
  },
  {
   "cell_type": "code",
   "execution_count": 22,
   "id": "a4c54c20",
   "metadata": {
    "hidden": true
   },
   "outputs": [],
   "source": [
    "browser.get(url_du_livre)"
   ]
  },
  {
   "cell_type": "code",
   "execution_count": 23,
   "id": "cd5d3f09",
   "metadata": {
    "hidden": true
   },
   "outputs": [
    {
     "ename": "NameError",
     "evalue": "name 'trouver_rang' is not defined",
     "output_type": "error",
     "traceback": [
      "\u001b[0;31m---------------------------------------------------------------------------\u001b[0m",
      "\u001b[0;31mNameError\u001b[0m                                 Traceback (most recent call last)",
      "Input \u001b[0;32mIn [23]\u001b[0m, in \u001b[0;36m<cell line: 1>\u001b[0;34m()\u001b[0m\n\u001b[0;32m----> 1\u001b[0m \u001b[43mtrouver_rang\u001b[49m(\u001b[38;5;124m\"\u001b[39m\u001b[38;5;124mhttps://www.amazon.com/Minoru-Yamasaki-Humanist-Architecture-Modernist-ebook/dp/B0798MHV9R/ref=sr_1_17?qid=1652130424&rnid=157630011&s=digital-text&sr=1-17\u001b[39m\u001b[38;5;124m\"\u001b[39m)\n",
      "\u001b[0;31mNameError\u001b[0m: name 'trouver_rang' is not defined"
     ]
    }
   ],
   "source": [
    "trouver_rang(\"https://www.amazon.com/Minoru-Yamasaki-Humanist-Architecture-Modernist-ebook/dp/B0798MHV9R/ref=sr_1_17?qid=1652130424&rnid=157630011&s=digital-text&sr=1-17\")"
   ]
  },
  {
   "cell_type": "markdown",
   "id": "77958f31",
   "metadata": {},
   "source": [
    "## Incrémenter une page web de livre\n",
    "    "
   ]
  },
  {
   "cell_type": "markdown",
   "id": "25d4a957",
   "metadata": {},
   "source": [
    "1 - réussir à couper la chaine de caractère à gauche de \"&page=\"\n",
    "Cette fonction est décrite dans la partie fonction , après ce n'est que des tests"
   ]
  },
  {
   "cell_type": "code",
   "execution_count": 10,
   "id": "970d4d95",
   "metadata": {},
   "outputs": [
    {
     "name": "stdout",
     "output_type": "stream",
     "text": [
      "https://www.amazon.com/s?i=digital-text&rh=n%3A157631011&fs=true&page=4\n",
      "https://www.amazon.com/s?i=digital-text&rh=n%3A157631011&fs=true&page=5\n",
      "https://www.amazon.com/s?i=digital-text&rh=n%3A157631011&fs=true&page=6\n",
      "https://www.amazon.com/s?i=digital-text&rh=n%3A157631011&fs=true&page=7\n",
      "https://www.amazon.com/s?i=digital-text&rh=n%3A157631011&fs=true&page=8\n"
     ]
    }
   ],
   "source": [
    "url_test = \"https://www.amazon.com/s?i=digital-text&rh=n%3A157631011&fs=true&page=3\"\n",
    "i=0\n",
    "while i < 5 :\n",
    "    url_test = incrementer_url(url_test)\n",
    "    print(url_test)\n",
    "    i = i+1"
   ]
  },
  {
   "cell_type": "code",
   "execution_count": 13,
   "id": "f31d2e02",
   "metadata": {},
   "outputs": [
    {
     "name": "stdout",
     "output_type": "stream",
     "text": [
      "[{'url': 'https://www.amazon.com/Place-My-Own-Architecture-Daydreams-ebook/dp/B00BE2568E/ref=sr_1_1?qid=1656019221&s=digital-text&sr=1-1', 'titre': ' A Place of My Own: The Architecture of Daydreams ', 'rang': '114731', 'prix': '10'}]\n",
      "[{'url': 'https://www.amazon.com/Million-Stuffed-Shark-Economics-Contemporary-ebook/dp/B0077QZ208/ref=sr_1_2?qid=1656019221&s=digital-text&sr=1-2', 'titre': ' The $12 Million Stuffed Shark: The Curious Economics of Contemporary Art ', 'rang': '330923', 'prix': '9'}]\n",
      "[{'url': 'https://www.amazon.com/Stoicism-Stoic-Philosophy-Inner-Happiness-ebook/dp/B086RGHJ2K/ref=sr_1_3?qid=1656019221&s=digital-text&sr=1-3', 'titre': ' Stoicism: How to Use Stoic Philosophy to Find Inner Peace and Happiness ', 'rang': '134701', 'prix': '3'}]\n",
      "[{'url': 'https://www.amazon.com/Gardner-Heist-Worlds-Largest-Unsolved-ebook/dp/B001TJ2YF0/ref=sr_1_4?qid=1656019221&s=digital-text&sr=1-4', 'titre': \" The Gardner Heist: The True Story of the World's Largest Unsolved Art Theft \", 'rang': '445008', 'prix': '12'}]\n",
      "[{'url': 'https://www.amazon.com/Taxonom%C3%ADa-Geom%C3%A9trica-Carlos-Ferrater-OAB-ebook/dp/B09QM9FY75/ref=sr_1_5?qid=1656019221&s=digital-text&sr=1-5', 'titre': ' Taxonomía Geométrica: Carlos Ferrater  OAB ', 'rang': '621546', 'prix': None}]\n",
      "[{'url': 'https://www.amazon.com/Stalins-Architect-Power-Survival-Moscow-ebook/dp/B09F5MLYHV/ref=sr_1_6?qid=1656019221&s=digital-text&sr=1-6', 'titre': \" Stalin's Architect: Power and Survival in Moscow \", 'rang': '459252', 'prix': '13'}]\n",
      "[{'url': 'https://www.amazon.com/Man-Glass-House-Johnson-Architect-ebook/dp/B07DTC5N92/ref=sr_1_7?qid=1656019221&s=digital-text&sr=1-7', 'titre': ' The Man in the Glass House: Philip Johnson  Architect of the Modern Century ', 'rang': '699555', 'prix': '10'}]\n",
      "[{'url': 'https://www.amazon.com/Plagued-Fire-Dreams-Furies-Wright-ebook/dp/B07MLP6MD5/ref=sr_1_8?qid=1656019221&s=digital-text&sr=1-8', 'titre': ' Plagued by Fire: The Dreams and Furies of Frank Lloyd Wright ', 'rang': '405069', 'prix': '14'}]\n",
      "[{'url': 'https://www.amazon.com/Death-Prairie-House-Taliesin-Murders-ebook/dp/B002AP9GLW/ref=sr_1_9?qid=1656019221&s=digital-text&sr=1-9', 'titre': ' Death in a Prairie House: Frank Lloyd Wright and the Taliesin Murders ', 'rang': '377992', 'prix': '13'}]\n",
      "[{'url': 'https://www.amazon.com/Fellowship-Untold-Story-Wright-Taliesin-ebook/dp/B001UQO446/ref=sr_1_10?qid=1656019221&s=digital-text&sr=1-10', 'titre': ' The Fellowship: The Untold Story of Frank Lloyd Wright and the Taliesin Fellowship ', 'rang': '802121', 'prix': '9'}]\n",
      "[{'url': 'https://www.amazon.com/Higher-Historic-Race-Making-City-ebook/dp/B000FBJCQW/ref=sr_1_11?qid=1656019221&s=digital-text&sr=1-11', 'titre': ' Higher: A Historic Race to the Sky and the Making of a City ', 'rang': '737380', 'prix': '1'}]\n",
      "[{'url': 'https://www.amazon.com/Four-Books-Architecture-Dover-Book-ebook/dp/B00CWR4LIG/ref=sr_1_12?qid=1656019221&s=digital-text&sr=1-12', 'titre': ' The Four Books of Architecture (Dover Architecture Book 1) ', 'rang': '604993', 'prix': '8'}]\n",
      "[{'url': 'https://www.amazon.com/Stoic-way-Life-Confident-Perseverance-ebook/dp/B08N5LC4TD/ref=sr_1_13?qid=1656019221&s=digital-text&sr=1-13', 'titre': ' The Stoic way of Life: The ultimate guide of Stoicism to make your everyday modern life Calm  Confident & Positive - Master the Art of Living  Emotional ... & Perseverance (Mastering Stoicism Book 1) ', 'rang': '169619', 'prix': '4'}]\n",
      "[{'url': 'https://www.amazon.com/Architecture-Motherhood-Blueprint-Business-Woman-ebook/dp/B09ZPXLWND/ref=sr_1_14?qid=1656019221&s=digital-text&sr=1-14', 'titre': ' The Architecture of Motherhood: Your Blueprint to Glow as a Business Woman and Mom ', 'rang': '613853', 'prix': '9'}]\n",
      "[{'url': 'https://www.amazon.com/Sandfuture-Justin-Beal-ebook/dp/B08WRCYX6Z/ref=sr_1_15?qid=1656019221&s=digital-text&sr=1-15', 'titre': ' Sandfuture ', 'rang': '691320', 'prix': '65'}]\n",
      "[{'url': 'https://www.amazon.com/Frank-Lloyd-Wright-Meryle-Secrest-ebook/dp/B00KEPLBYK/ref=sr_1_16?qid=1656019221&s=digital-text&sr=1-16', 'titre': ' Frank Lloyd Wright ', 'rang': '158706', 'prix': '11'}]\n",
      "[{'url': 'https://www.amazon.com/Place-My-Own-Architecture-Daydreams-ebook/dp/B00BE2568E/ref=sr_1_1?qid=1656019304&s=digital-text&sr=1-1', 'titre': ' A Place of My Own: The Architecture of Daydreams ', 'rang': '114731', 'prix': '10'}]\n",
      "[{'url': 'https://www.amazon.com/Million-Stuffed-Shark-Economics-Contemporary-ebook/dp/B0077QZ208/ref=sr_1_2?qid=1656019304&s=digital-text&sr=1-2', 'titre': ' The $12 Million Stuffed Shark: The Curious Economics of Contemporary Art ', 'rang': '330923', 'prix': '9'}]\n",
      "[{'url': 'https://www.amazon.com/Stoicism-Stoic-Philosophy-Inner-Happiness-ebook/dp/B086RGHJ2K/ref=sr_1_3?qid=1656019304&s=digital-text&sr=1-3', 'titre': ' Stoicism: How to Use Stoic Philosophy to Find Inner Peace and Happiness ', 'rang': '134701', 'prix': '3'}]\n",
      "[{'url': 'https://www.amazon.com/Gardner-Heist-Worlds-Largest-Unsolved-ebook/dp/B001TJ2YF0/ref=sr_1_4?qid=1656019304&s=digital-text&sr=1-4', 'titre': \" The Gardner Heist: The True Story of the World's Largest Unsolved Art Theft \", 'rang': '445008', 'prix': '12'}]\n",
      "[{'url': 'https://www.amazon.com/Taxonom%C3%ADa-Geom%C3%A9trica-Carlos-Ferrater-OAB-ebook/dp/B09QM9FY75/ref=sr_1_5?qid=1656019304&s=digital-text&sr=1-5', 'titre': ' Taxonomía Geométrica: Carlos Ferrater  OAB ', 'rang': '621546', 'prix': None}]\n",
      "[{'url': 'https://www.amazon.com/Stalins-Architect-Power-Survival-Moscow-ebook/dp/B09F5MLYHV/ref=sr_1_6?qid=1656019304&s=digital-text&sr=1-6', 'titre': \" Stalin's Architect: Power and Survival in Moscow \", 'rang': '459252', 'prix': '13'}]\n",
      "[{'url': 'https://www.amazon.com/Man-Glass-House-Johnson-Architect-ebook/dp/B07DTC5N92/ref=sr_1_7?qid=1656019304&s=digital-text&sr=1-7', 'titre': ' The Man in the Glass House: Philip Johnson  Architect of the Modern Century ', 'rang': '699555', 'prix': '10'}]\n",
      "[{'url': 'https://www.amazon.com/Plagued-Fire-Dreams-Furies-Wright-ebook/dp/B07MLP6MD5/ref=sr_1_8?qid=1656019304&s=digital-text&sr=1-8', 'titre': ' Plagued by Fire: The Dreams and Furies of Frank Lloyd Wright ', 'rang': '405069', 'prix': '14'}]\n",
      "[{'url': 'https://www.amazon.com/Death-Prairie-House-Taliesin-Murders-ebook/dp/B002AP9GLW/ref=sr_1_9?qid=1656019304&s=digital-text&sr=1-9', 'titre': ' Death in a Prairie House: Frank Lloyd Wright and the Taliesin Murders ', 'rang': '377992', 'prix': '13'}]\n",
      "[{'url': 'https://www.amazon.com/Fellowship-Untold-Story-Wright-Taliesin-ebook/dp/B001UQO446/ref=sr_1_10?qid=1656019304&s=digital-text&sr=1-10', 'titre': ' The Fellowship: The Untold Story of Frank Lloyd Wright and the Taliesin Fellowship ', 'rang': '802121', 'prix': '9'}]\n",
      "[{'url': 'https://www.amazon.com/Higher-Historic-Race-Making-City-ebook/dp/B000FBJCQW/ref=sr_1_11?qid=1656019304&s=digital-text&sr=1-11', 'titre': ' Higher: A Historic Race to the Sky and the Making of a City ', 'rang': '737380', 'prix': '1'}]\n",
      "[{'url': 'https://www.amazon.com/Four-Books-Architecture-Dover-Book-ebook/dp/B00CWR4LIG/ref=sr_1_12?qid=1656019304&s=digital-text&sr=1-12', 'titre': ' The Four Books of Architecture (Dover Architecture Book 1) ', 'rang': '604993', 'prix': '8'}]\n",
      "[{'url': 'https://www.amazon.com/Stoic-way-Life-Confident-Perseverance-ebook/dp/B08N5LC4TD/ref=sr_1_13?qid=1656019304&s=digital-text&sr=1-13', 'titre': ' The Stoic way of Life: The ultimate guide of Stoicism to make your everyday modern life Calm  Confident & Positive - Master the Art of Living  Emotional ... & Perseverance (Mastering Stoicism Book 1) ', 'rang': '169619', 'prix': '4'}]\n",
      "[{'url': 'https://www.amazon.com/Architecture-Motherhood-Blueprint-Business-Woman-ebook/dp/B09ZPXLWND/ref=sr_1_14?qid=1656019304&s=digital-text&sr=1-14', 'titre': ' The Architecture of Motherhood: Your Blueprint to Glow as a Business Woman and Mom ', 'rang': '613853', 'prix': '9'}]\n",
      "[{'url': 'https://www.amazon.com/Sandfuture-Justin-Beal-ebook/dp/B08WRCYX6Z/ref=sr_1_15?qid=1656019304&s=digital-text&sr=1-15', 'titre': ' Sandfuture ', 'rang': '691320', 'prix': '65'}]\n",
      "[{'url': 'https://www.amazon.com/Frank-Lloyd-Wright-Meryle-Secrest-ebook/dp/B00KEPLBYK/ref=sr_1_16?qid=1656019304&s=digital-text&sr=1-16', 'titre': ' Frank Lloyd Wright ', 'rang': '158706', 'prix': '11'}]\n",
      "[{'url': 'https://www.amazon.com/You-Say-Brick-Life-Louis-ebook/dp/B01KTL87RW/ref=sr_1_17?qid=1656019381&s=digital-text&sr=1-17', 'titre': ' You Say to Brick: The Life of Louis Kahn ', 'rang': '755689', 'prix': '3'}]\n",
      "[{'url': 'https://www.amazon.com/Towards-New-Architecture-Dover-ebook/dp/B00BSK16WC/ref=sr_1_18?qid=1656019381&s=digital-text&sr=1-18', 'titre': ' Towards a New Architecture (Dover Architecture) ', 'rang': '206318', 'prix': '8'}]\n",
      "[{'url': 'https://www.amazon.com/Confessions-Art-Addict-Peggy-Guggenheim-ebook/dp/B00BKZGPL2/ref=sr_1_19?qid=1656019381&s=digital-text&sr=1-19', 'titre': ' Confessions Of an Art Addict ', 'rang': '754605', 'prix': '4'}]\n",
      "[{'url': 'https://www.amazon.com/Remodel-Kitchen-Without-Going-Bonkers-ebook/dp/B08P9ZXHLZ/ref=sr_1_20?qid=1656019381&s=digital-text&sr=1-20', 'titre': ' Remodel Your Kitchen Without Going Bonkers or Broke: Have a Stress-Free Renovation and Get the Kitchen of Your Dreams ', 'rang': '315516', 'prix': '26'}]\n",
      "[{'url': 'https://www.amazon.com/Frank-Lloyd-Wright-Penguin-Lives-ebook/dp/B00188V7R8/ref=sr_1_21?qid=1656019381&s=digital-text&sr=1-21', 'titre': ' Frank Lloyd Wright: A Life (Penguin Lives) ', 'rang': '600283', 'prix': '14'}]\n",
      "[{'url': 'https://www.amazon.com/Architecture-Defeat-Kengo-Kuma-ebook/dp/B07S1PSY4D/ref=sr_1_22?qid=1656019381&s=digital-text&sr=1-22', 'titre': ' Architecture of Defeat ', 'rang': '2009399', 'prix': '44'}]\n",
      "[{'url': 'https://www.amazon.com/Gropius-Man-Who-Built-Bauhaus-ebook/dp/B07QR12XV3/ref=sr_1_23?qid=1656019381&s=digital-text&sr=1-23', 'titre': ' Gropius: The Man Who Built the Bauhaus ', 'rang': '1114926', 'prix': '12'}]\n",
      "[{'url': 'https://www.amazon.com/Pedro-Ricky-Come-Again-1988-2020-ebook/dp/B08516ZB41/ref=sr_1_24?qid=1656019381&s=digital-text&sr=1-24', 'titre': ' Pedro and Ricky Come Again: Selected Writing 1988–2020 ', 'rang': '892199', 'prix': '2'}]\n",
      "[{'url': 'https://www.amazon.com/Wright-Sites-Guide-Public-Places-ebook/dp/B06VX7WRPV/ref=sr_1_25?qid=1656019381&s=digital-text&sr=1-25', 'titre': ' Wright Sites: A Guide to Frank Lloyd Wright Public Places ', 'rang': '559830', 'prix': '33'}]\n",
      "[{'url': 'https://www.amazon.com/Architects-Death-Family-Engineered-Camps-ebook/dp/B075D8P9HN/ref=sr_1_26?qid=1656019381&s=digital-text&sr=1-26', 'titre': ' Architects of Death: The Family Who Engineered the Death Camps ', 'rang': '607423', 'prix': '9'}]\n",
      "[{'url': 'https://www.amazon.com/Goya-Portrait-Artist-Janis-Tomlinson-ebook/dp/B08652LH8P/ref=sr_1_27?qid=1656019381&s=digital-text&sr=1-27', 'titre': ' Goya: A Portrait of the Artist ', 'rang': '955313', 'prix': '22'}]\n",
      "[{'url': 'https://www.amazon.com/Understanding-Frank-Lloyd-Wrights-Architecture-ebook/dp/B00A73FDI4/ref=sr_1_28?qid=1656019381&s=digital-text&sr=1-28', 'titre': \" Understanding Frank Lloyd Wright's Architecture (Dover Architecture) \", 'rang': '905340', 'prix': '9'}]\n",
      "[{'url': 'https://www.amazon.com/Grand-Avenues-Visionary-Designed-Washington-ebook/dp/B001YWN9S8/ref=sr_1_29?qid=1656019381&s=digital-text&sr=1-29', 'titre': \" Grand Avenues: The Story of Pierre Charles L'Enfant  the French Visionary Who Designed Washington  D.C. \", 'rang': '458076', 'prix': '13'}]\n",
      "[{'url': 'https://www.amazon.com/Architecture-Frank-Lloyd-Wright-Fourth-ebook/dp/B07239RCRV/ref=sr_1_30?qid=1656019381&s=digital-text&sr=1-30', 'titre': ' The Architecture of Frank Lloyd Wright  Fourth Edition: A Complete Catalog ', 'rang': '966901', 'prix': '9'}]\n",
      "[{'url': 'https://www.amazon.com/Making-Magic-Marion-Mahony-Griffin-ebook/dp/B011IEKJNY/ref=sr_1_31?qid=1656019381&s=digital-text&sr=1-31', 'titre': ' Making Magic: The Marion Mahony Griffin Story ', 'rang': '1317883', 'prix': '21'}]\n",
      "[{'url': 'https://www.amazon.com/Ornament-Crime-Adolf-Loos-ebook/dp/B07K833WB5/ref=sr_1_32?qid=1656019381&s=digital-text&sr=1-32', 'titre': ' Ornament and Crime (Penguin on Design) ', 'rang': '683782', 'prix': '0'}]\n",
      "[{'url': 'https://www.amazon.com/Instagram-Architects-step-step-interested-ebook/dp/B09FHRHSVD/ref=sr_1_33?qid=1656019455&s=digital-text&sr=1-33', 'titre': ' Instagram for Architects: A step-by-step guide for Architects and Designers interested in using Instagram to promote their work ', 'rang': '3620655', 'prix': None}]\n",
      "[{'url': 'https://www.amazon.com/Building-Modern-World-Detroit-Painted-ebook/dp/B07BHL2PDC/ref=sr_1_34?qid=1656019455&s=digital-text&sr=1-34', 'titre': ' Building the Modern World: Albert Kahn in Detroit (Painted Turtle) ', 'rang': '783171', 'prix': '11'}]\n",
      "[{'url': 'https://www.amazon.com/Green-Obsession-Towards-Cities-Forests-ebook/dp/B09NM5FV58/ref=sr_1_35?qid=1656019455&s=digital-text&sr=1-35', 'titre': ' Green Obsession: Trees Towards Cities  Humans Towards Forests ', 'rang': '2364637', 'prix': '22'}]\n",
      "[{'url': 'https://www.amazon.com/Antoni-Gaud%C3%AD-Architect-Temporis-Collection-ebook/dp/B016XN11IM/ref=sr_1_36?qid=1656019455&s=digital-text&sr=1-36', 'titre': ' Antoni Gaudí: Architect and Artist (Temporis Collection) ', 'rang': '1219532', 'prix': '4'}]\n",
      "[{'url': 'https://www.amazon.com/Cricut-Beginners-Practical-Understanding-Different-ebook/dp/B09XRGL7PS/ref=sr_1_37?qid=1656019455&s=digital-text&sr=1-37', 'titre': ' Cricut for Beginners: A Practical Guide to Understanding Cricut Machines  Its Different Models  and DIY Projects ', 'rang': '221702', 'prix': '9'}]\n",
      "[{'url': 'https://www.amazon.com/Palladio-Penguin-Architecture-James-Ackerman-ebook/dp/B002RI9M2A/ref=sr_1_38?qid=1656019455&s=digital-text&sr=1-38', 'titre': ' Palladio (Penguin Art & Architecture) ', 'rang': '700725', 'prix': '14'}]\n",
      "[{'url': 'https://www.amazon.com/World-Design-Story-Global-Architecture-ebook/dp/B08KH8W97Y/ref=sr_1_39?qid=1656019455&s=digital-text&sr=1-39', 'titre': ' The World by Design: The Story of a Global Architecture Firm ', 'rang': '1203250', 'prix': '63'}]\n",
      "[{'url': 'https://www.amazon.com/Ambiguous-Territory-Architecture-Landscape-Postnatural-ebook/dp/B09RPFL4ZZ/ref=sr_1_40?qid=1656019455&s=digital-text&sr=1-40', 'titre': ' Ambiguous Territory: Architecture  Landscape and the Postnatural ', 'rang': '1510049', 'prix': '14'}]\n",
      "[{'url': 'https://www.amazon.com/Building-Taliesin-Frank-Lloyd-Wrights-ebook/dp/B00GR9EENC/ref=sr_1_41?qid=1656019455&s=digital-text&sr=1-41', 'titre': ' Building Taliesin: Frank Lloyd Wright’s Home of Love and Loss ', 'rang': '825267', 'prix': '9'}]\n",
      "[{'url': 'https://www.amazon.com/Brunel-Man-Who-Built-World-ebook/dp/B00GU2W0BY/ref=sr_1_42?qid=1656019455&s=digital-text&sr=1-42', 'titre': ' Brunel: The Man Who Built the World (Phoenix Press) ', 'rang': '901897', 'prix': '2'}]\n",
      "[{'url': 'https://www.amazon.com/Girl-Intrepid-Story-Privilege-Perseverance-ebook/dp/B08QVRGBXD/ref=sr_1_43?qid=1656019455&s=digital-text&sr=1-43', 'titre': ' Girl Intrepid: A New York Story of Privilege and Perseverance ', 'rang': '1097458', 'prix': None}]\n",
      "[{'url': 'https://www.amazon.com/Isambard-Kingdom-Brunel-Life-Beginning-ebook/dp/B07213KFGG/ref=sr_1_44?qid=1656019455&s=digital-text&sr=1-44', 'titre': ' Isambard Kingdom Brunel: A Life From Beginning to End (Biographies of Engineers) ', 'rang': '800160', 'prix': '2'}]\n",
      "[{'url': 'https://www.amazon.com/Claude-Nicolas-Ledoux-Architecture-Revolution-expanded-ebook/dp/B09Z9FHXTF/ref=sr_1_45?qid=1656019455&s=digital-text&sr=1-45', 'titre': ' Claude-Nicolas Ledoux: Architecture and Utopia in the Era of the French Revolution. Second and expanded edition ', 'rang': '1436666', 'prix': '21'}]\n",
      "[{'url': 'https://www.amazon.com/Conservation-Concerns-Guide-Collectors-Curators-ebook/dp/B006Q2GJM4/ref=sr_1_46?qid=1656019455&s=digital-text&sr=1-46', 'titre': ' Conservation Concerns: A Guide for Collectors and Curators ', 'rang': '1201930', 'prix': '82'}]\n",
      "[{'url': 'https://www.amazon.com/States-Entanglement-Data-Irish-Landscape-ebook/dp/B09BCPN1BN/ref=sr_1_47?qid=1656019455&s=digital-text&sr=1-47', 'titre': ' States of Entanglement: Data in the Irish Landscape ', 'rang': '1596345', 'prix': None}]\n",
      "[{'url': 'https://www.amazon.com/Norman-Foster-Architecture-Deyan-Sudjic-ebook/dp/B07QT7KLNF/ref=sr_1_48?qid=1656019455&s=digital-text&sr=1-48', 'titre': ' Norman Foster: A Life in Architecture ', 'rang': '1548453', 'prix': '9'}]\n",
      "[{'url': 'https://www.amazon.com/Lives-Architecture-Nigel-Coates-ebook/dp/B0B2TND5RL/ref=sr_1_49?qid=1656019529&s=digital-text&sr=1-49', 'titre': ' Lives in Architecture: Nigel Coates ', 'rang': '1835563', 'prix': None}]\n",
      "[{'url': 'https://www.amazon.com/Green-Imperative-Ecology-Ethics-Architecture-ebook/dp/B09KWGSDZS/ref=sr_1_50?qid=1656019529&s=digital-text&sr=1-50', 'titre': ' The Green Imperative: Ecology and Ethics in Design and Architecture ', 'rang': '638608', 'prix': '9'}]\n",
      "[{'url': 'https://www.amazon.com/Stoicism-Art-Happiness-Strengthening-Intelligence-ebook/dp/B08GZDDQHC/ref=sr_1_51?qid=1656019529&s=digital-text&sr=1-51', 'titre': ' Stoicism And The Art Of Happiness: A Perfectly Balanced Match for Boosting Mental Toughness  Analyzing People  and Strengthening Emotional Intelligence. A Guide to the Empathic and Stoic Way of Life ', 'rang': '687816', 'prix': '6'}]\n",
      "[{'url': 'https://www.amazon.com/You-Belong-Universe-Buckminster-Fuller-ebook/dp/B01ELZYD8Y/ref=sr_1_52?qid=1656019529&s=digital-text&sr=1-52', 'titre': ' You Belong to the Universe: Buckminster Fuller and the Future ', 'rang': '1038058', 'prix': '11'}]\n",
      "[{'url': 'https://www.amazon.com/Designing-World-Class-Architecture-Firm-Strategies-ebook/dp/B086BL6VV4/ref=sr_1_53?qid=1656019529&s=digital-text&sr=1-53', 'titre': ' Designing a World-Class Architecture Firm: The People  Stories  and Strategies Behind HOK ', 'rang': '189199', 'prix': '31'}]\n",
      "[{'url': 'https://www.amazon.com/Growing-Up-Guggenheim-Personal-Enterprise-ebook/dp/B00KANPS0E/ref=sr_1_54?qid=1656019529&s=digital-text&sr=1-54', 'titre': ' Growing Up Guggenheim: A Personal History of a Family Enterprise ', 'rang': '615868', 'prix': '13'}]\n",
      "[{'url': 'https://www.amazon.com/Pictures-Showing-Happens-Pynchons-Gravitys-ebook/dp/B00YTVPSDU/ref=sr_1_55?qid=1656019529&s=digital-text&sr=1-55', 'titre': \" Pictures Showing What Happens on Each Page of Thomas Pynchon's Novel Gravity's Rainbow \", 'rang': '1257540', 'prix': '13'}]\n",
      "[{'url': 'https://www.amazon.com/Architecture-Collected-Reflections-Century-Change-ebook/dp/B0042FZRDE/ref=sr_1_56?qid=1656019529&s=digital-text&sr=1-56', 'titre': ' On Architecture: Collected Reflections on a Century of Change ', 'rang': '946542', 'prix': '11'}]\n"
     ]
    },
    {
     "ename": "KeyboardInterrupt",
     "evalue": "",
     "output_type": "error",
     "traceback": [
      "\u001b[0;31m---------------------------------------------------------------------------\u001b[0m",
      "\u001b[0;31mKeyboardInterrupt\u001b[0m                         Traceback (most recent call last)",
      "Input \u001b[0;32mIn [13]\u001b[0m, in \u001b[0;36m<cell line: 3>\u001b[0;34m()\u001b[0m\n\u001b[1;32m      8\u001b[0m \u001b[38;5;28;01mfor\u001b[39;00m livre \u001b[38;5;129;01min\u001b[39;00m livres:\n\u001b[1;32m      9\u001b[0m     url_du_livre \u001b[38;5;241m=\u001b[39m \u001b[38;5;124m'\u001b[39m\u001b[38;5;124mhttps://www.amazon.com\u001b[39m\u001b[38;5;124m'\u001b[39m\u001b[38;5;241m+\u001b[39mlivre\u001b[38;5;241m.\u001b[39mh2\u001b[38;5;241m.\u001b[39ma\u001b[38;5;241m.\u001b[39mget(\u001b[38;5;124m'\u001b[39m\u001b[38;5;124mhref\u001b[39m\u001b[38;5;124m'\u001b[39m)\n\u001b[0;32m---> 10\u001b[0m     \u001b[43mencryper_depuis_url_page_livre\u001b[49m\u001b[43m(\u001b[49m\u001b[43murl_du_livre\u001b[49m\u001b[43m)\u001b[49m\n",
      "Input \u001b[0;32mIn [5]\u001b[0m, in \u001b[0;36mencryper_depuis_url_page_livre\u001b[0;34m(url)\u001b[0m\n\u001b[1;32m     10\u001b[0m \u001b[38;5;28;01mdef\u001b[39;00m \u001b[38;5;21mencryper_depuis_url_page_livre\u001b[39m(url):\n\u001b[0;32m---> 11\u001b[0m     \u001b[43mbrowser\u001b[49m\u001b[38;5;241;43m.\u001b[39;49m\u001b[43mget\u001b[49m\u001b[43m(\u001b[49m\u001b[43murl\u001b[49m\u001b[43m)\u001b[49m\n\u001b[1;32m     12\u001b[0m     code_de_la_page \u001b[38;5;241m=\u001b[39m browser\u001b[38;5;241m.\u001b[39mpage_source\n\u001b[1;32m     13\u001b[0m     soup \u001b[38;5;241m=\u001b[39m BeautifulSoup(code_de_la_page , \u001b[38;5;124m'\u001b[39m\u001b[38;5;124mlxml\u001b[39m\u001b[38;5;124m'\u001b[39m)\n",
      "File \u001b[0;32m~/.pyenv/versions/3.8.12/envs/kindlescrapper/lib/python3.8/site-packages/selenium/webdriver/remote/webdriver.py:437\u001b[0m, in \u001b[0;36mWebDriver.get\u001b[0;34m(self, url)\u001b[0m\n\u001b[1;32m    433\u001b[0m \u001b[38;5;28;01mdef\u001b[39;00m \u001b[38;5;21mget\u001b[39m(\u001b[38;5;28mself\u001b[39m, url: \u001b[38;5;28mstr\u001b[39m) \u001b[38;5;241m-\u001b[39m\u001b[38;5;241m>\u001b[39m \u001b[38;5;28;01mNone\u001b[39;00m:\n\u001b[1;32m    434\u001b[0m     \u001b[38;5;124;03m\"\"\"\u001b[39;00m\n\u001b[1;32m    435\u001b[0m \u001b[38;5;124;03m    Loads a web page in the current browser session.\u001b[39;00m\n\u001b[1;32m    436\u001b[0m \u001b[38;5;124;03m    \"\"\"\u001b[39;00m\n\u001b[0;32m--> 437\u001b[0m     \u001b[38;5;28;43mself\u001b[39;49m\u001b[38;5;241;43m.\u001b[39;49m\u001b[43mexecute\u001b[49m\u001b[43m(\u001b[49m\u001b[43mCommand\u001b[49m\u001b[38;5;241;43m.\u001b[39;49m\u001b[43mGET\u001b[49m\u001b[43m,\u001b[49m\u001b[43m \u001b[49m\u001b[43m{\u001b[49m\u001b[38;5;124;43m'\u001b[39;49m\u001b[38;5;124;43murl\u001b[39;49m\u001b[38;5;124;43m'\u001b[39;49m\u001b[43m:\u001b[49m\u001b[43m \u001b[49m\u001b[43murl\u001b[49m\u001b[43m}\u001b[49m\u001b[43m)\u001b[49m\n",
      "File \u001b[0;32m~/.pyenv/versions/3.8.12/envs/kindlescrapper/lib/python3.8/site-packages/selenium/webdriver/remote/webdriver.py:423\u001b[0m, in \u001b[0;36mWebDriver.execute\u001b[0;34m(self, driver_command, params)\u001b[0m\n\u001b[1;32m    420\u001b[0m         params[\u001b[38;5;124m'\u001b[39m\u001b[38;5;124msessionId\u001b[39m\u001b[38;5;124m'\u001b[39m] \u001b[38;5;241m=\u001b[39m \u001b[38;5;28mself\u001b[39m\u001b[38;5;241m.\u001b[39msession_id\n\u001b[1;32m    422\u001b[0m params \u001b[38;5;241m=\u001b[39m \u001b[38;5;28mself\u001b[39m\u001b[38;5;241m.\u001b[39m_wrap_value(params)\n\u001b[0;32m--> 423\u001b[0m response \u001b[38;5;241m=\u001b[39m \u001b[38;5;28;43mself\u001b[39;49m\u001b[38;5;241;43m.\u001b[39;49m\u001b[43mcommand_executor\u001b[49m\u001b[38;5;241;43m.\u001b[39;49m\u001b[43mexecute\u001b[49m\u001b[43m(\u001b[49m\u001b[43mdriver_command\u001b[49m\u001b[43m,\u001b[49m\u001b[43m \u001b[49m\u001b[43mparams\u001b[49m\u001b[43m)\u001b[49m\n\u001b[1;32m    424\u001b[0m \u001b[38;5;28;01mif\u001b[39;00m response:\n\u001b[1;32m    425\u001b[0m     \u001b[38;5;28mself\u001b[39m\u001b[38;5;241m.\u001b[39merror_handler\u001b[38;5;241m.\u001b[39mcheck_response(response)\n",
      "File \u001b[0;32m~/.pyenv/versions/3.8.12/envs/kindlescrapper/lib/python3.8/site-packages/selenium/webdriver/remote/remote_connection.py:333\u001b[0m, in \u001b[0;36mRemoteConnection.execute\u001b[0;34m(self, command, params)\u001b[0m\n\u001b[1;32m    331\u001b[0m data \u001b[38;5;241m=\u001b[39m utils\u001b[38;5;241m.\u001b[39mdump_json(params)\n\u001b[1;32m    332\u001b[0m url \u001b[38;5;241m=\u001b[39m \u001b[38;5;124mf\u001b[39m\u001b[38;5;124m\"\u001b[39m\u001b[38;5;132;01m{\u001b[39;00m\u001b[38;5;28mself\u001b[39m\u001b[38;5;241m.\u001b[39m_url\u001b[38;5;132;01m}\u001b[39;00m\u001b[38;5;132;01m{\u001b[39;00mpath\u001b[38;5;132;01m}\u001b[39;00m\u001b[38;5;124m\"\u001b[39m\n\u001b[0;32m--> 333\u001b[0m \u001b[38;5;28;01mreturn\u001b[39;00m \u001b[38;5;28;43mself\u001b[39;49m\u001b[38;5;241;43m.\u001b[39;49m\u001b[43m_request\u001b[49m\u001b[43m(\u001b[49m\u001b[43mcommand_info\u001b[49m\u001b[43m[\u001b[49m\u001b[38;5;241;43m0\u001b[39;49m\u001b[43m]\u001b[49m\u001b[43m,\u001b[49m\u001b[43m \u001b[49m\u001b[43murl\u001b[49m\u001b[43m,\u001b[49m\u001b[43m \u001b[49m\u001b[43mbody\u001b[49m\u001b[38;5;241;43m=\u001b[39;49m\u001b[43mdata\u001b[49m\u001b[43m)\u001b[49m\n",
      "File \u001b[0;32m~/.pyenv/versions/3.8.12/envs/kindlescrapper/lib/python3.8/site-packages/selenium/webdriver/remote/remote_connection.py:355\u001b[0m, in \u001b[0;36mRemoteConnection._request\u001b[0;34m(self, method, url, body)\u001b[0m\n\u001b[1;32m    352\u001b[0m     body \u001b[38;5;241m=\u001b[39m \u001b[38;5;28;01mNone\u001b[39;00m\n\u001b[1;32m    354\u001b[0m \u001b[38;5;28;01mif\u001b[39;00m \u001b[38;5;28mself\u001b[39m\u001b[38;5;241m.\u001b[39mkeep_alive:\n\u001b[0;32m--> 355\u001b[0m     resp \u001b[38;5;241m=\u001b[39m \u001b[38;5;28;43mself\u001b[39;49m\u001b[38;5;241;43m.\u001b[39;49m\u001b[43m_conn\u001b[49m\u001b[38;5;241;43m.\u001b[39;49m\u001b[43mrequest\u001b[49m\u001b[43m(\u001b[49m\u001b[43mmethod\u001b[49m\u001b[43m,\u001b[49m\u001b[43m \u001b[49m\u001b[43murl\u001b[49m\u001b[43m,\u001b[49m\u001b[43m \u001b[49m\u001b[43mbody\u001b[49m\u001b[38;5;241;43m=\u001b[39;49m\u001b[43mbody\u001b[49m\u001b[43m,\u001b[49m\u001b[43m \u001b[49m\u001b[43mheaders\u001b[49m\u001b[38;5;241;43m=\u001b[39;49m\u001b[43mheaders\u001b[49m\u001b[43m)\u001b[49m\n\u001b[1;32m    356\u001b[0m     statuscode \u001b[38;5;241m=\u001b[39m resp\u001b[38;5;241m.\u001b[39mstatus\n\u001b[1;32m    357\u001b[0m \u001b[38;5;28;01melse\u001b[39;00m:\n",
      "File \u001b[0;32m~/.pyenv/versions/3.8.12/envs/kindlescrapper/lib/python3.8/site-packages/urllib3/request.py:78\u001b[0m, in \u001b[0;36mRequestMethods.request\u001b[0;34m(self, method, url, fields, headers, **urlopen_kw)\u001b[0m\n\u001b[1;32m     74\u001b[0m     \u001b[38;5;28;01mreturn\u001b[39;00m \u001b[38;5;28mself\u001b[39m\u001b[38;5;241m.\u001b[39mrequest_encode_url(\n\u001b[1;32m     75\u001b[0m         method, url, fields\u001b[38;5;241m=\u001b[39mfields, headers\u001b[38;5;241m=\u001b[39mheaders, \u001b[38;5;241m*\u001b[39m\u001b[38;5;241m*\u001b[39murlopen_kw\n\u001b[1;32m     76\u001b[0m     )\n\u001b[1;32m     77\u001b[0m \u001b[38;5;28;01melse\u001b[39;00m:\n\u001b[0;32m---> 78\u001b[0m     \u001b[38;5;28;01mreturn\u001b[39;00m \u001b[38;5;28;43mself\u001b[39;49m\u001b[38;5;241;43m.\u001b[39;49m\u001b[43mrequest_encode_body\u001b[49m\u001b[43m(\u001b[49m\n\u001b[1;32m     79\u001b[0m \u001b[43m        \u001b[49m\u001b[43mmethod\u001b[49m\u001b[43m,\u001b[49m\u001b[43m \u001b[49m\u001b[43murl\u001b[49m\u001b[43m,\u001b[49m\u001b[43m \u001b[49m\u001b[43mfields\u001b[49m\u001b[38;5;241;43m=\u001b[39;49m\u001b[43mfields\u001b[49m\u001b[43m,\u001b[49m\u001b[43m \u001b[49m\u001b[43mheaders\u001b[49m\u001b[38;5;241;43m=\u001b[39;49m\u001b[43mheaders\u001b[49m\u001b[43m,\u001b[49m\u001b[43m \u001b[49m\u001b[38;5;241;43m*\u001b[39;49m\u001b[38;5;241;43m*\u001b[39;49m\u001b[43murlopen_kw\u001b[49m\n\u001b[1;32m     80\u001b[0m \u001b[43m    \u001b[49m\u001b[43m)\u001b[49m\n",
      "File \u001b[0;32m~/.pyenv/versions/3.8.12/envs/kindlescrapper/lib/python3.8/site-packages/urllib3/request.py:170\u001b[0m, in \u001b[0;36mRequestMethods.request_encode_body\u001b[0;34m(self, method, url, fields, headers, encode_multipart, multipart_boundary, **urlopen_kw)\u001b[0m\n\u001b[1;32m    167\u001b[0m extra_kw[\u001b[38;5;124m\"\u001b[39m\u001b[38;5;124mheaders\u001b[39m\u001b[38;5;124m\"\u001b[39m]\u001b[38;5;241m.\u001b[39mupdate(headers)\n\u001b[1;32m    168\u001b[0m extra_kw\u001b[38;5;241m.\u001b[39mupdate(urlopen_kw)\n\u001b[0;32m--> 170\u001b[0m \u001b[38;5;28;01mreturn\u001b[39;00m \u001b[38;5;28;43mself\u001b[39;49m\u001b[38;5;241;43m.\u001b[39;49m\u001b[43murlopen\u001b[49m\u001b[43m(\u001b[49m\u001b[43mmethod\u001b[49m\u001b[43m,\u001b[49m\u001b[43m \u001b[49m\u001b[43murl\u001b[49m\u001b[43m,\u001b[49m\u001b[43m \u001b[49m\u001b[38;5;241;43m*\u001b[39;49m\u001b[38;5;241;43m*\u001b[39;49m\u001b[43mextra_kw\u001b[49m\u001b[43m)\u001b[49m\n",
      "File \u001b[0;32m~/.pyenv/versions/3.8.12/envs/kindlescrapper/lib/python3.8/site-packages/urllib3/poolmanager.py:376\u001b[0m, in \u001b[0;36mPoolManager.urlopen\u001b[0;34m(self, method, url, redirect, **kw)\u001b[0m\n\u001b[1;32m    374\u001b[0m     response \u001b[38;5;241m=\u001b[39m conn\u001b[38;5;241m.\u001b[39murlopen(method, url, \u001b[38;5;241m*\u001b[39m\u001b[38;5;241m*\u001b[39mkw)\n\u001b[1;32m    375\u001b[0m \u001b[38;5;28;01melse\u001b[39;00m:\n\u001b[0;32m--> 376\u001b[0m     response \u001b[38;5;241m=\u001b[39m \u001b[43mconn\u001b[49m\u001b[38;5;241;43m.\u001b[39;49m\u001b[43murlopen\u001b[49m\u001b[43m(\u001b[49m\u001b[43mmethod\u001b[49m\u001b[43m,\u001b[49m\u001b[43m \u001b[49m\u001b[43mu\u001b[49m\u001b[38;5;241;43m.\u001b[39;49m\u001b[43mrequest_uri\u001b[49m\u001b[43m,\u001b[49m\u001b[43m \u001b[49m\u001b[38;5;241;43m*\u001b[39;49m\u001b[38;5;241;43m*\u001b[39;49m\u001b[43mkw\u001b[49m\u001b[43m)\u001b[49m\n\u001b[1;32m    378\u001b[0m redirect_location \u001b[38;5;241m=\u001b[39m redirect \u001b[38;5;129;01mand\u001b[39;00m response\u001b[38;5;241m.\u001b[39mget_redirect_location()\n\u001b[1;32m    379\u001b[0m \u001b[38;5;28;01mif\u001b[39;00m \u001b[38;5;129;01mnot\u001b[39;00m redirect_location:\n",
      "File \u001b[0;32m~/.pyenv/versions/3.8.12/envs/kindlescrapper/lib/python3.8/site-packages/urllib3/connectionpool.py:703\u001b[0m, in \u001b[0;36mHTTPConnectionPool.urlopen\u001b[0;34m(self, method, url, body, headers, retries, redirect, assert_same_host, timeout, pool_timeout, release_conn, chunked, body_pos, **response_kw)\u001b[0m\n\u001b[1;32m    700\u001b[0m     \u001b[38;5;28mself\u001b[39m\u001b[38;5;241m.\u001b[39m_prepare_proxy(conn)\n\u001b[1;32m    702\u001b[0m \u001b[38;5;66;03m# Make the request on the httplib connection object.\u001b[39;00m\n\u001b[0;32m--> 703\u001b[0m httplib_response \u001b[38;5;241m=\u001b[39m \u001b[38;5;28;43mself\u001b[39;49m\u001b[38;5;241;43m.\u001b[39;49m\u001b[43m_make_request\u001b[49m\u001b[43m(\u001b[49m\n\u001b[1;32m    704\u001b[0m \u001b[43m    \u001b[49m\u001b[43mconn\u001b[49m\u001b[43m,\u001b[49m\n\u001b[1;32m    705\u001b[0m \u001b[43m    \u001b[49m\u001b[43mmethod\u001b[49m\u001b[43m,\u001b[49m\n\u001b[1;32m    706\u001b[0m \u001b[43m    \u001b[49m\u001b[43murl\u001b[49m\u001b[43m,\u001b[49m\n\u001b[1;32m    707\u001b[0m \u001b[43m    \u001b[49m\u001b[43mtimeout\u001b[49m\u001b[38;5;241;43m=\u001b[39;49m\u001b[43mtimeout_obj\u001b[49m\u001b[43m,\u001b[49m\n\u001b[1;32m    708\u001b[0m \u001b[43m    \u001b[49m\u001b[43mbody\u001b[49m\u001b[38;5;241;43m=\u001b[39;49m\u001b[43mbody\u001b[49m\u001b[43m,\u001b[49m\n\u001b[1;32m    709\u001b[0m \u001b[43m    \u001b[49m\u001b[43mheaders\u001b[49m\u001b[38;5;241;43m=\u001b[39;49m\u001b[43mheaders\u001b[49m\u001b[43m,\u001b[49m\n\u001b[1;32m    710\u001b[0m \u001b[43m    \u001b[49m\u001b[43mchunked\u001b[49m\u001b[38;5;241;43m=\u001b[39;49m\u001b[43mchunked\u001b[49m\u001b[43m,\u001b[49m\n\u001b[1;32m    711\u001b[0m \u001b[43m\u001b[49m\u001b[43m)\u001b[49m\n\u001b[1;32m    713\u001b[0m \u001b[38;5;66;03m# If we're going to release the connection in ``finally:``, then\u001b[39;00m\n\u001b[1;32m    714\u001b[0m \u001b[38;5;66;03m# the response doesn't need to know about the connection. Otherwise\u001b[39;00m\n\u001b[1;32m    715\u001b[0m \u001b[38;5;66;03m# it will also try to release it and we'll have a double-release\u001b[39;00m\n\u001b[1;32m    716\u001b[0m \u001b[38;5;66;03m# mess.\u001b[39;00m\n\u001b[1;32m    717\u001b[0m response_conn \u001b[38;5;241m=\u001b[39m conn \u001b[38;5;28;01mif\u001b[39;00m \u001b[38;5;129;01mnot\u001b[39;00m release_conn \u001b[38;5;28;01melse\u001b[39;00m \u001b[38;5;28;01mNone\u001b[39;00m\n",
      "File \u001b[0;32m~/.pyenv/versions/3.8.12/envs/kindlescrapper/lib/python3.8/site-packages/urllib3/connectionpool.py:449\u001b[0m, in \u001b[0;36mHTTPConnectionPool._make_request\u001b[0;34m(self, conn, method, url, timeout, chunked, **httplib_request_kw)\u001b[0m\n\u001b[1;32m    444\u001b[0m             httplib_response \u001b[38;5;241m=\u001b[39m conn\u001b[38;5;241m.\u001b[39mgetresponse()\n\u001b[1;32m    445\u001b[0m         \u001b[38;5;28;01mexcept\u001b[39;00m \u001b[38;5;167;01mBaseException\u001b[39;00m \u001b[38;5;28;01mas\u001b[39;00m e:\n\u001b[1;32m    446\u001b[0m             \u001b[38;5;66;03m# Remove the TypeError from the exception chain in\u001b[39;00m\n\u001b[1;32m    447\u001b[0m             \u001b[38;5;66;03m# Python 3 (including for exceptions like SystemExit).\u001b[39;00m\n\u001b[1;32m    448\u001b[0m             \u001b[38;5;66;03m# Otherwise it looks like a bug in the code.\u001b[39;00m\n\u001b[0;32m--> 449\u001b[0m             \u001b[43msix\u001b[49m\u001b[38;5;241;43m.\u001b[39;49m\u001b[43mraise_from\u001b[49m\u001b[43m(\u001b[49m\u001b[43me\u001b[49m\u001b[43m,\u001b[49m\u001b[43m \u001b[49m\u001b[38;5;28;43;01mNone\u001b[39;49;00m\u001b[43m)\u001b[49m\n\u001b[1;32m    450\u001b[0m \u001b[38;5;28;01mexcept\u001b[39;00m (SocketTimeout, BaseSSLError, SocketError) \u001b[38;5;28;01mas\u001b[39;00m e:\n\u001b[1;32m    451\u001b[0m     \u001b[38;5;28mself\u001b[39m\u001b[38;5;241m.\u001b[39m_raise_timeout(err\u001b[38;5;241m=\u001b[39me, url\u001b[38;5;241m=\u001b[39murl, timeout_value\u001b[38;5;241m=\u001b[39mread_timeout)\n",
      "File \u001b[0;32m<string>:3\u001b[0m, in \u001b[0;36mraise_from\u001b[0;34m(value, from_value)\u001b[0m\n",
      "File \u001b[0;32m~/.pyenv/versions/3.8.12/envs/kindlescrapper/lib/python3.8/site-packages/urllib3/connectionpool.py:444\u001b[0m, in \u001b[0;36mHTTPConnectionPool._make_request\u001b[0;34m(self, conn, method, url, timeout, chunked, **httplib_request_kw)\u001b[0m\n\u001b[1;32m    441\u001b[0m \u001b[38;5;28;01mexcept\u001b[39;00m \u001b[38;5;167;01mTypeError\u001b[39;00m:\n\u001b[1;32m    442\u001b[0m     \u001b[38;5;66;03m# Python 3\u001b[39;00m\n\u001b[1;32m    443\u001b[0m     \u001b[38;5;28;01mtry\u001b[39;00m:\n\u001b[0;32m--> 444\u001b[0m         httplib_response \u001b[38;5;241m=\u001b[39m \u001b[43mconn\u001b[49m\u001b[38;5;241;43m.\u001b[39;49m\u001b[43mgetresponse\u001b[49m\u001b[43m(\u001b[49m\u001b[43m)\u001b[49m\n\u001b[1;32m    445\u001b[0m     \u001b[38;5;28;01mexcept\u001b[39;00m \u001b[38;5;167;01mBaseException\u001b[39;00m \u001b[38;5;28;01mas\u001b[39;00m e:\n\u001b[1;32m    446\u001b[0m         \u001b[38;5;66;03m# Remove the TypeError from the exception chain in\u001b[39;00m\n\u001b[1;32m    447\u001b[0m         \u001b[38;5;66;03m# Python 3 (including for exceptions like SystemExit).\u001b[39;00m\n\u001b[1;32m    448\u001b[0m         \u001b[38;5;66;03m# Otherwise it looks like a bug in the code.\u001b[39;00m\n\u001b[1;32m    449\u001b[0m         six\u001b[38;5;241m.\u001b[39mraise_from(e, \u001b[38;5;28;01mNone\u001b[39;00m)\n",
      "File \u001b[0;32m~/.pyenv/versions/3.8.12/lib/python3.8/http/client.py:1348\u001b[0m, in \u001b[0;36mHTTPConnection.getresponse\u001b[0;34m(self)\u001b[0m\n\u001b[1;32m   1346\u001b[0m \u001b[38;5;28;01mtry\u001b[39;00m:\n\u001b[1;32m   1347\u001b[0m     \u001b[38;5;28;01mtry\u001b[39;00m:\n\u001b[0;32m-> 1348\u001b[0m         \u001b[43mresponse\u001b[49m\u001b[38;5;241;43m.\u001b[39;49m\u001b[43mbegin\u001b[49m\u001b[43m(\u001b[49m\u001b[43m)\u001b[49m\n\u001b[1;32m   1349\u001b[0m     \u001b[38;5;28;01mexcept\u001b[39;00m \u001b[38;5;167;01mConnectionError\u001b[39;00m:\n\u001b[1;32m   1350\u001b[0m         \u001b[38;5;28mself\u001b[39m\u001b[38;5;241m.\u001b[39mclose()\n",
      "File \u001b[0;32m~/.pyenv/versions/3.8.12/lib/python3.8/http/client.py:316\u001b[0m, in \u001b[0;36mHTTPResponse.begin\u001b[0;34m(self)\u001b[0m\n\u001b[1;32m    314\u001b[0m \u001b[38;5;66;03m# read until we get a non-100 response\u001b[39;00m\n\u001b[1;32m    315\u001b[0m \u001b[38;5;28;01mwhile\u001b[39;00m \u001b[38;5;28;01mTrue\u001b[39;00m:\n\u001b[0;32m--> 316\u001b[0m     version, status, reason \u001b[38;5;241m=\u001b[39m \u001b[38;5;28;43mself\u001b[39;49m\u001b[38;5;241;43m.\u001b[39;49m\u001b[43m_read_status\u001b[49m\u001b[43m(\u001b[49m\u001b[43m)\u001b[49m\n\u001b[1;32m    317\u001b[0m     \u001b[38;5;28;01mif\u001b[39;00m status \u001b[38;5;241m!=\u001b[39m CONTINUE:\n\u001b[1;32m    318\u001b[0m         \u001b[38;5;28;01mbreak\u001b[39;00m\n",
      "File \u001b[0;32m~/.pyenv/versions/3.8.12/lib/python3.8/http/client.py:277\u001b[0m, in \u001b[0;36mHTTPResponse._read_status\u001b[0;34m(self)\u001b[0m\n\u001b[1;32m    276\u001b[0m \u001b[38;5;28;01mdef\u001b[39;00m \u001b[38;5;21m_read_status\u001b[39m(\u001b[38;5;28mself\u001b[39m):\n\u001b[0;32m--> 277\u001b[0m     line \u001b[38;5;241m=\u001b[39m \u001b[38;5;28mstr\u001b[39m(\u001b[38;5;28;43mself\u001b[39;49m\u001b[38;5;241;43m.\u001b[39;49m\u001b[43mfp\u001b[49m\u001b[38;5;241;43m.\u001b[39;49m\u001b[43mreadline\u001b[49m\u001b[43m(\u001b[49m\u001b[43m_MAXLINE\u001b[49m\u001b[43m \u001b[49m\u001b[38;5;241;43m+\u001b[39;49m\u001b[43m \u001b[49m\u001b[38;5;241;43m1\u001b[39;49m\u001b[43m)\u001b[49m, \u001b[38;5;124m\"\u001b[39m\u001b[38;5;124miso-8859-1\u001b[39m\u001b[38;5;124m\"\u001b[39m)\n\u001b[1;32m    278\u001b[0m     \u001b[38;5;28;01mif\u001b[39;00m \u001b[38;5;28mlen\u001b[39m(line) \u001b[38;5;241m>\u001b[39m _MAXLINE:\n\u001b[1;32m    279\u001b[0m         \u001b[38;5;28;01mraise\u001b[39;00m LineTooLong(\u001b[38;5;124m\"\u001b[39m\u001b[38;5;124mstatus line\u001b[39m\u001b[38;5;124m\"\u001b[39m)\n",
      "File \u001b[0;32m~/.pyenv/versions/3.8.12/lib/python3.8/socket.py:669\u001b[0m, in \u001b[0;36mSocketIO.readinto\u001b[0;34m(self, b)\u001b[0m\n\u001b[1;32m    667\u001b[0m \u001b[38;5;28;01mwhile\u001b[39;00m \u001b[38;5;28;01mTrue\u001b[39;00m:\n\u001b[1;32m    668\u001b[0m     \u001b[38;5;28;01mtry\u001b[39;00m:\n\u001b[0;32m--> 669\u001b[0m         \u001b[38;5;28;01mreturn\u001b[39;00m \u001b[38;5;28;43mself\u001b[39;49m\u001b[38;5;241;43m.\u001b[39;49m\u001b[43m_sock\u001b[49m\u001b[38;5;241;43m.\u001b[39;49m\u001b[43mrecv_into\u001b[49m\u001b[43m(\u001b[49m\u001b[43mb\u001b[49m\u001b[43m)\u001b[49m\n\u001b[1;32m    670\u001b[0m     \u001b[38;5;28;01mexcept\u001b[39;00m timeout:\n\u001b[1;32m    671\u001b[0m         \u001b[38;5;28mself\u001b[39m\u001b[38;5;241m.\u001b[39m_timeout_occurred \u001b[38;5;241m=\u001b[39m \u001b[38;5;28;01mTrue\u001b[39;00m\n",
      "\u001b[0;31mKeyboardInterrupt\u001b[0m: "
     ]
    }
   ],
   "source": [
    "listes_des_livres=[]\n",
    "#tous les livres de la pages\n",
    "for i in range(10):\n",
    "    browser.get( url_page_3.split(\"&page=\")[0] + \"&page=\" + str(i)) #navigue sur une page avec tous les liens du site\n",
    "    html_page_listing = browser.page_source # permet de prendre le code html de la page \n",
    "    soup = BeautifulSoup(html_page_listing , 'lxml') # créer la soupe avec le parser\n",
    "    livres = soup.find_all('div' ,{ 'data-asin':True, 'data-component-type' : 's-search-result'} )\n",
    "    for livre in livres:\n",
    "        url_du_livre = 'https://www.amazon.com'+livre.h2.a.get('href')\n",
    "        encryper_depuis_url_page_livre(url_du_livre) \n",
    "   "
   ]
  },
  {
   "cell_type": "markdown",
   "id": "e8b4761b",
   "metadata": {},
   "source": [
    "### Gestion de l'incrémentation fin de la catégorie"
   ]
  },
  {
   "cell_type": "code",
   "execution_count": 17,
   "id": "39ecf93b",
   "metadata": {},
   "outputs": [
    {
     "name": "stderr",
     "output_type": "stream",
     "text": [
      "/tmp/ipykernel_3342/4136884388.py:5: DeprecationWarning: executable_path has been deprecated, please pass in a Service object\n",
      "  browser = webdriver.Chrome(executable_path= DRIVER_PATH_chromedriver)\n"
     ]
    }
   ],
   "source": [
    "#lorsqu'on arrive à une page de fin, on sait tout simplemen car il n'y a plus d'objet livre \n",
    "#et le programme a la liste vide\n",
    "\n",
    "DRIVER_PATH_chromedriver = str(Path('../chromedriver').resolve())\n",
    "browser = webdriver.Chrome(executable_path= DRIVER_PATH_chromedriver)\n",
    "url_fin = \"https://www.amazon.com/s?i=digital-text&rh=n%3A157631011&fs=true&page=74\"\n",
    "browser.get(url_fin)\n",
    "html_code = browser.page_source\n",
    "soup = BeautifulSoup(html_code , 'lxml') # créer la soupe avec le parser\n",
    "livres = soup.find_all('div' ,{ 'data-asin':True, 'data-component-type' : 's-search-result'} )\n",
    "if livres!=[]:\n",
    "    for livre in livres:\n",
    "         url_du_livre = 'https://www.amazon.com'+livre.h2.a.get('href')\n",
    "         encryper_depuis_url_page_livre(url_du_livre) \n"
   ]
  },
  {
   "cell_type": "markdown",
   "id": "336eac31",
   "metadata": {},
   "source": [
    "## Architecture , algorithme"
   ]
  },
  {
   "cell_type": "raw",
   "id": "92bbf09f",
   "metadata": {},
   "source": [
    "ouvrir une page\n",
    "    lister les catégories\n",
    "        avoir une liste avec catégorie 1 , 2, 3,\n",
    "            ouvrir categorie de la liste : \n",
    "                vérifier s'il existe une sous categories:\n",
    "                    s'il n'y a pas de catégories : trouver le node\n",
    "                        se mettre sur node , page 1\n",
    "                            vérifier que la page est valide\n",
    "                                si la page est valide  \n",
    "                                scrapper les 10 livres de la page\n",
    "                                incrémenter le node\n",
    "                            si la page n'est pas valide, \n",
    "                    s'il y a une sous categorie, "
   ]
  },
  {
   "cell_type": "markdown",
   "id": "a960904d",
   "metadata": {
    "heading_collapsed": true
   },
   "source": [
    "## PROGRAMME LE PLUS ABOUTI"
   ]
  },
  {
   "cell_type": "code",
   "execution_count": 29,
   "id": "c922d1ac",
   "metadata": {
    "hidden": true,
    "scrolled": true
   },
   "outputs": [
    {
     "name": "stderr",
     "output_type": "stream",
     "text": [
      "/tmp/ipykernel_872/2988573174.py:2: DeprecationWarning: executable_path has been deprecated, please pass in a Service object\n",
      "  browser = webdriver.Chrome(executable_path= DRIVER_PATH_chromedriver)\n"
     ]
    }
   ],
   "source": []
  },
  {
   "cell_type": "code",
   "execution_count": 18,
   "id": "d3869041",
   "metadata": {
    "hidden": true
   },
   "outputs": [
    {
     "name": "stderr",
     "output_type": "stream",
     "text": [
      "/tmp/ipykernel_3342/3593150873.py:2: DeprecationWarning: executable_path has been deprecated, please pass in a Service object\n",
      "  browser = webdriver.Chrome(executable_path= DRIVER_PATH_chromedriver)\n"
     ]
    },
    {
     "name": "stdout",
     "output_type": "stream",
     "text": [
      "[{'url': 'https://www.amazon.com/Alhambra-Vol-III-Farhat-Hussain-ebook/dp/B00CKBX14E/ref=sr_1_1009?qid=1656019980&s=digital-text&sr=1-1009', 'titre': ' The Alhambra Vol III ', 'rang': '4048922', 'prix': None}]\n",
      "[{'url': 'https://www.amazon.com/Spencer-Mansion-House-Home-Gallery-ebook/dp/B00CDTY1R4/ref=sr_1_1010?qid=1656019980&s=digital-text&sr=1-1010', 'titre': ' The Spencer Mansion: A House  a Home  and an Art Gallery ', 'rang': None, 'prix': None}]\n",
      "[{'url': 'https://www.amazon.com/Kyffh%C3%A4user-German-Frotscher-Sven-ebook/dp/B00BSE3FLS/ref=sr_1_1011?qid=1656019980&s=digital-text&sr=1-1011', 'titre': ' Der Kyffhäuser (German Edition) ', 'rang': None, 'prix': None}]\n",
      "[{'url': 'https://www.amazon.com/Black-Creek-Pioneer-Village-Torontos-ebook/dp/B00AKAGMGQ/ref=sr_1_1012?qid=1656019980&s=digital-text&sr=1-1012', 'titre': \" Black Creek Pioneer Village: Toronto's Living History Village \", 'rang': None, 'prix': None}]\n"
     ]
    },
    {
     "ename": "KeyboardInterrupt",
     "evalue": "",
     "output_type": "error",
     "traceback": [
      "\u001b[0;31m---------------------------------------------------------------------------\u001b[0m",
      "\u001b[0;31mKeyboardInterrupt\u001b[0m                         Traceback (most recent call last)",
      "Input \u001b[0;32mIn [18]\u001b[0m, in \u001b[0;36m<cell line: 10>\u001b[0;34m()\u001b[0m\n\u001b[1;32m     17\u001b[0m     \u001b[38;5;28;01mfor\u001b[39;00m livre \u001b[38;5;129;01min\u001b[39;00m livres:\n\u001b[1;32m     18\u001b[0m         url_du_livre \u001b[38;5;241m=\u001b[39m \u001b[38;5;124m'\u001b[39m\u001b[38;5;124mhttps://www.amazon.com\u001b[39m\u001b[38;5;124m'\u001b[39m\u001b[38;5;241m+\u001b[39mlivre\u001b[38;5;241m.\u001b[39mh2\u001b[38;5;241m.\u001b[39ma\u001b[38;5;241m.\u001b[39mget(\u001b[38;5;124m'\u001b[39m\u001b[38;5;124mhref\u001b[39m\u001b[38;5;124m'\u001b[39m)\n\u001b[0;32m---> 19\u001b[0m         \u001b[43mencryper_depuis_url_page_livre\u001b[49m\u001b[43m(\u001b[49m\u001b[43murl_du_livre\u001b[49m\u001b[43m)\u001b[49m \n\u001b[1;32m     20\u001b[0m \u001b[38;5;28;01melse\u001b[39;00m: \u001b[38;5;28;01mbreak\u001b[39;00m\n\u001b[1;32m     21\u001b[0m url_categorie \u001b[38;5;241m=\u001b[39m incrementer_url(url_categorie)\n",
      "Input \u001b[0;32mIn [5]\u001b[0m, in \u001b[0;36mencryper_depuis_url_page_livre\u001b[0;34m(url)\u001b[0m\n\u001b[1;32m     11\u001b[0m browser\u001b[38;5;241m.\u001b[39mget(url)\n\u001b[1;32m     12\u001b[0m code_de_la_page \u001b[38;5;241m=\u001b[39m browser\u001b[38;5;241m.\u001b[39mpage_source\n\u001b[0;32m---> 13\u001b[0m soup \u001b[38;5;241m=\u001b[39m \u001b[43mBeautifulSoup\u001b[49m\u001b[43m(\u001b[49m\u001b[43mcode_de_la_page\u001b[49m\u001b[43m \u001b[49m\u001b[43m,\u001b[49m\u001b[43m \u001b[49m\u001b[38;5;124;43m'\u001b[39;49m\u001b[38;5;124;43mlxml\u001b[39;49m\u001b[38;5;124;43m'\u001b[39;49m\u001b[43m)\u001b[49m\n\u001b[1;32m     15\u001b[0m \u001b[38;5;66;03m# URL du livre OK\u001b[39;00m\n\u001b[1;32m     16\u001b[0m url \u001b[38;5;241m=\u001b[39m url \n",
      "File \u001b[0;32m~/.pyenv/versions/3.8.12/envs/kindlescrapper/lib/python3.8/site-packages/bs4/__init__.py:362\u001b[0m, in \u001b[0;36mBeautifulSoup.__init__\u001b[0;34m(self, markup, features, builder, parse_only, from_encoding, exclude_encodings, element_classes, **kwargs)\u001b[0m\n\u001b[1;32m    360\u001b[0m \u001b[38;5;28mself\u001b[39m\u001b[38;5;241m.\u001b[39mreset()\n\u001b[1;32m    361\u001b[0m \u001b[38;5;28;01mtry\u001b[39;00m:\n\u001b[0;32m--> 362\u001b[0m     \u001b[38;5;28;43mself\u001b[39;49m\u001b[38;5;241;43m.\u001b[39;49m\u001b[43m_feed\u001b[49m\u001b[43m(\u001b[49m\u001b[43m)\u001b[49m\n\u001b[1;32m    363\u001b[0m     success \u001b[38;5;241m=\u001b[39m \u001b[38;5;28;01mTrue\u001b[39;00m\n\u001b[1;32m    364\u001b[0m     \u001b[38;5;28;01mbreak\u001b[39;00m\n",
      "File \u001b[0;32m~/.pyenv/versions/3.8.12/envs/kindlescrapper/lib/python3.8/site-packages/bs4/__init__.py:448\u001b[0m, in \u001b[0;36mBeautifulSoup._feed\u001b[0;34m(self)\u001b[0m\n\u001b[1;32m    445\u001b[0m \u001b[38;5;66;03m# Convert the document to Unicode.\u001b[39;00m\n\u001b[1;32m    446\u001b[0m \u001b[38;5;28mself\u001b[39m\u001b[38;5;241m.\u001b[39mbuilder\u001b[38;5;241m.\u001b[39mreset()\n\u001b[0;32m--> 448\u001b[0m \u001b[38;5;28;43mself\u001b[39;49m\u001b[38;5;241;43m.\u001b[39;49m\u001b[43mbuilder\u001b[49m\u001b[38;5;241;43m.\u001b[39;49m\u001b[43mfeed\u001b[49m\u001b[43m(\u001b[49m\u001b[38;5;28;43mself\u001b[39;49m\u001b[38;5;241;43m.\u001b[39;49m\u001b[43mmarkup\u001b[49m\u001b[43m)\u001b[49m\n\u001b[1;32m    449\u001b[0m \u001b[38;5;66;03m# Close out any unfinished strings and close all the open tags.\u001b[39;00m\n\u001b[1;32m    450\u001b[0m \u001b[38;5;28mself\u001b[39m\u001b[38;5;241m.\u001b[39mendData()\n",
      "File \u001b[0;32m~/.pyenv/versions/3.8.12/envs/kindlescrapper/lib/python3.8/site-packages/bs4/builder/_lxml.py:334\u001b[0m, in \u001b[0;36mLXMLTreeBuilder.feed\u001b[0;34m(self, markup)\u001b[0m\n\u001b[1;32m    332\u001b[0m \u001b[38;5;28;01mtry\u001b[39;00m:\n\u001b[1;32m    333\u001b[0m     \u001b[38;5;28mself\u001b[39m\u001b[38;5;241m.\u001b[39mparser \u001b[38;5;241m=\u001b[39m \u001b[38;5;28mself\u001b[39m\u001b[38;5;241m.\u001b[39mparser_for(encoding)\n\u001b[0;32m--> 334\u001b[0m     \u001b[38;5;28;43mself\u001b[39;49m\u001b[38;5;241;43m.\u001b[39;49m\u001b[43mparser\u001b[49m\u001b[38;5;241;43m.\u001b[39;49m\u001b[43mfeed\u001b[49m\u001b[43m(\u001b[49m\u001b[43mmarkup\u001b[49m\u001b[43m)\u001b[49m\n\u001b[1;32m    335\u001b[0m     \u001b[38;5;28mself\u001b[39m\u001b[38;5;241m.\u001b[39mparser\u001b[38;5;241m.\u001b[39mclose()\n\u001b[1;32m    336\u001b[0m \u001b[38;5;28;01mexcept\u001b[39;00m (\u001b[38;5;167;01mUnicodeDecodeError\u001b[39;00m, \u001b[38;5;167;01mLookupError\u001b[39;00m, etree\u001b[38;5;241m.\u001b[39mParserError) \u001b[38;5;28;01mas\u001b[39;00m e:\n",
      "File \u001b[0;32msrc/lxml/parser.pxi:1256\u001b[0m, in \u001b[0;36mlxml.etree._FeedParser.feed\u001b[0;34m()\u001b[0m\n",
      "File \u001b[0;32msrc/lxml/parser.pxi:1376\u001b[0m, in \u001b[0;36mlxml.etree._FeedParser.feed\u001b[0;34m()\u001b[0m\n",
      "File \u001b[0;32msrc/lxml/parsertarget.pxi:168\u001b[0m, in \u001b[0;36mlxml.etree._TargetParserContext._handleParseResult\u001b[0;34m()\u001b[0m\n",
      "File \u001b[0;32msrc/lxml/parsertarget.pxi:156\u001b[0m, in \u001b[0;36mlxml.etree._TargetParserContext._handleParseResult\u001b[0;34m()\u001b[0m\n",
      "File \u001b[0;32msrc/lxml/etree.pyx:333\u001b[0m, in \u001b[0;36mlxml.etree._ExceptionContext._raise_if_stored\u001b[0;34m()\u001b[0m\n",
      "File \u001b[0;32msrc/lxml/saxparser.pxi:655\u001b[0m, in \u001b[0;36mlxml.etree._handleSaxTargetComment\u001b[0;34m()\u001b[0m\n",
      "File \u001b[0;32msrc/lxml/parsertarget.pxi:117\u001b[0m, in \u001b[0;36mlxml.etree._PythonSaxParserTarget._handleSaxComment\u001b[0;34m()\u001b[0m\n",
      "File \u001b[0;32m~/.pyenv/versions/3.8.12/envs/kindlescrapper/lib/python3.8/site-packages/bs4/builder/_lxml.py:311\u001b[0m, in \u001b[0;36mLXMLTreeBuilderForXML.comment\u001b[0;34m(self, content)\u001b[0m\n\u001b[1;32m    309\u001b[0m \u001b[38;5;28mself\u001b[39m\u001b[38;5;241m.\u001b[39msoup\u001b[38;5;241m.\u001b[39mendData()\n\u001b[1;32m    310\u001b[0m \u001b[38;5;28mself\u001b[39m\u001b[38;5;241m.\u001b[39msoup\u001b[38;5;241m.\u001b[39mhandle_data(content)\n\u001b[0;32m--> 311\u001b[0m \u001b[38;5;28;43mself\u001b[39;49m\u001b[38;5;241;43m.\u001b[39;49m\u001b[43msoup\u001b[49m\u001b[38;5;241;43m.\u001b[39;49m\u001b[43mendData\u001b[49m\u001b[43m(\u001b[49m\u001b[43mComment\u001b[49m\u001b[43m)\u001b[49m\n",
      "File \u001b[0;32m~/.pyenv/versions/3.8.12/envs/kindlescrapper/lib/python3.8/site-packages/bs4/__init__.py:586\u001b[0m, in \u001b[0;36mBeautifulSoup.endData\u001b[0;34m(self, containerClass)\u001b[0m\n\u001b[1;32m    583\u001b[0m     \u001b[38;5;28;01mreturn\u001b[39;00m\n\u001b[1;32m    585\u001b[0m containerClass \u001b[38;5;241m=\u001b[39m \u001b[38;5;28mself\u001b[39m\u001b[38;5;241m.\u001b[39mstring_container(containerClass)\n\u001b[0;32m--> 586\u001b[0m o \u001b[38;5;241m=\u001b[39m \u001b[43mcontainerClass\u001b[49m\u001b[43m(\u001b[49m\u001b[43mcurrent_data\u001b[49m\u001b[43m)\u001b[49m\n\u001b[1;32m    587\u001b[0m \u001b[38;5;28mself\u001b[39m\u001b[38;5;241m.\u001b[39mobject_was_parsed(o)\n",
      "File \u001b[0;32m~/.pyenv/versions/3.8.12/envs/kindlescrapper/lib/python3.8/site-packages/bs4/element.py:944\u001b[0m, in \u001b[0;36mNavigableString.__new__\u001b[0;34m(cls, value)\u001b[0m\n\u001b[1;32m    942\u001b[0m \u001b[38;5;28;01melse\u001b[39;00m:\n\u001b[1;32m    943\u001b[0m     u \u001b[38;5;241m=\u001b[39m \u001b[38;5;28mstr\u001b[39m\u001b[38;5;241m.\u001b[39m\u001b[38;5;21m__new__\u001b[39m(\u001b[38;5;28mcls\u001b[39m, value, DEFAULT_OUTPUT_ENCODING)\n\u001b[0;32m--> 944\u001b[0m \u001b[43mu\u001b[49m\u001b[38;5;241;43m.\u001b[39;49m\u001b[43msetup\u001b[49m\u001b[43m(\u001b[49m\u001b[43m)\u001b[49m\n\u001b[1;32m    945\u001b[0m \u001b[38;5;28;01mreturn\u001b[39;00m u\n",
      "File \u001b[0;32m~/.pyenv/versions/3.8.12/envs/kindlescrapper/lib/python3.8/site-packages/bs4/element.py:177\u001b[0m, in \u001b[0;36mPageElement.setup\u001b[0;34m(self, parent, previous_element, next_element, previous_sibling, next_sibling)\u001b[0m\n\u001b[1;32m    158\u001b[0m \u001b[38;5;28;01mdef\u001b[39;00m \u001b[38;5;21msetup\u001b[39m(\u001b[38;5;28mself\u001b[39m, parent\u001b[38;5;241m=\u001b[39m\u001b[38;5;28;01mNone\u001b[39;00m, previous_element\u001b[38;5;241m=\u001b[39m\u001b[38;5;28;01mNone\u001b[39;00m, next_element\u001b[38;5;241m=\u001b[39m\u001b[38;5;28;01mNone\u001b[39;00m,\n\u001b[1;32m    159\u001b[0m           previous_sibling\u001b[38;5;241m=\u001b[39m\u001b[38;5;28;01mNone\u001b[39;00m, next_sibling\u001b[38;5;241m=\u001b[39m\u001b[38;5;28;01mNone\u001b[39;00m):\n\u001b[1;32m    160\u001b[0m     \u001b[38;5;124;03m\"\"\"Sets up the initial relations between this element and\u001b[39;00m\n\u001b[1;32m    161\u001b[0m \u001b[38;5;124;03m    other elements.\u001b[39;00m\n\u001b[1;32m    162\u001b[0m \n\u001b[0;32m   (...)\u001b[0m\n\u001b[1;32m    175\u001b[0m \u001b[38;5;124;03m        on the same level of the parse tree as this one.\u001b[39;00m\n\u001b[1;32m    176\u001b[0m \u001b[38;5;124;03m    \"\"\"\u001b[39;00m\n\u001b[0;32m--> 177\u001b[0m     \u001b[38;5;28mself\u001b[39m\u001b[38;5;241m.\u001b[39mparent \u001b[38;5;241m=\u001b[39m parent\n\u001b[1;32m    179\u001b[0m     \u001b[38;5;28mself\u001b[39m\u001b[38;5;241m.\u001b[39mprevious_element \u001b[38;5;241m=\u001b[39m previous_element\n\u001b[1;32m    180\u001b[0m     \u001b[38;5;28;01mif\u001b[39;00m previous_element \u001b[38;5;129;01mis\u001b[39;00m \u001b[38;5;129;01mnot\u001b[39;00m \u001b[38;5;28;01mNone\u001b[39;00m:\n",
      "\u001b[0;31mKeyboardInterrupt\u001b[0m: "
     ]
    }
   ],
   "source": [
    "DRIVER_PATH_chromedriver = str(Path('../chromedriver').resolve())\n",
    "browser = webdriver.Chrome(executable_path= DRIVER_PATH_chromedriver)\n",
    "url_A=\"https://www.amazon.com/s?i=digital-text&rh=n%3A157631011&fs=true&page=73\"\n",
    "url_B = 'https://www.amazon.com/s?i=digital-text&bbn=156147011&rh=n%3A133140011%2Cn%3A154606011%2Cn%3A156116011%2Cn%3A156147011%2Cn%3A16977135011&dc&fs=true&page=13'\n",
    "##\n",
    "##63 ème page de la catégorie art  - archi - historic preservation\n",
    "url_C=\"https://www.amazon.com/s?i=digital-text&bbn=157630011&rh=n%3A133140011%2Cn%3A154606011%2Cn%3A154607011%2Cn%3A157630011%2Cn%3A157639011&dc&fs=true&page=64\"\n",
    "listing=[url_C , url_B , url_A ]\n",
    "livres=['non nul']\n",
    "for url_categorie in listing : \n",
    "    while True:\n",
    "        browser.get( url_categorie) #navigue sur une page avec tous les liens de la liste\n",
    "        html_page_listing = browser.page_source # permet de prendre le code html de la page \n",
    "        soup = BeautifulSoup(html_page_listing , 'lxml') # créer la soupe avec le parser\n",
    "        livres = soup.find_all('div' ,{ 'data-asin':True, 'data-component-type' : 's-search-result'} ) # trouve tous les livres de la pages\n",
    "        if livres!=[]:\n",
    "            for livre in livres:\n",
    "                url_du_livre = 'https://www.amazon.com'+livre.h2.a.get('href')\n",
    "                encryper_depuis_url_page_livre(url_du_livre) \n",
    "        else: break\n",
    "        url_categorie = incrementer_url(url_categorie)"
   ]
  },
  {
   "cell_type": "markdown",
   "id": "ab52c599",
   "metadata": {},
   "source": [
    "## lecture des résultats"
   ]
  },
  {
   "cell_type": "code",
   "execution_count": 23,
   "id": "41127045",
   "metadata": {},
   "outputs": [],
   "source": [
    "data = pd.read_csv(\"results.csv\")"
   ]
  },
  {
   "cell_type": "code",
   "execution_count": 24,
   "id": "f7e608f0",
   "metadata": {
    "scrolled": true
   },
   "outputs": [
    {
     "data": {
      "text/html": [
       "<div>\n",
       "<style scoped>\n",
       "    .dataframe tbody tr th:only-of-type {\n",
       "        vertical-align: middle;\n",
       "    }\n",
       "\n",
       "    .dataframe tbody tr th {\n",
       "        vertical-align: top;\n",
       "    }\n",
       "\n",
       "    .dataframe thead th {\n",
       "        text-align: right;\n",
       "    }\n",
       "</style>\n",
       "<table border=\"1\" class=\"dataframe\">\n",
       "  <thead>\n",
       "    <tr style=\"text-align: right;\">\n",
       "      <th></th>\n",
       "      <th>Titre</th>\n",
       "      <th>rang</th>\n",
       "      <th>prix</th>\n",
       "      <th>url</th>\n",
       "    </tr>\n",
       "  </thead>\n",
       "  <tbody>\n",
       "    <tr>\n",
       "      <th>0</th>\n",
       "      <td>A Place of My Own: The Architecture of Daydre...</td>\n",
       "      <td>263356.0</td>\n",
       "      <td>10.0</td>\n",
       "      <td>https://www.amazon.com/Place-My-Own-Architectu...</td>\n",
       "    </tr>\n",
       "    <tr>\n",
       "      <th>1</th>\n",
       "      <td>The $12 Million Stuffed Shark: The Curious Ec...</td>\n",
       "      <td>261992.0</td>\n",
       "      <td>1.0</td>\n",
       "      <td>https://www.amazon.com/Million-Stuffed-Shark-E...</td>\n",
       "    </tr>\n",
       "    <tr>\n",
       "      <th>2</th>\n",
       "      <td>The Gardner Heist: The True Story of the Worl...</td>\n",
       "      <td>304142.0</td>\n",
       "      <td>12.0</td>\n",
       "      <td>https://www.amazon.com/Gardner-Heist-Worlds-La...</td>\n",
       "    </tr>\n",
       "    <tr>\n",
       "      <th>3</th>\n",
       "      <td>Stoicism: How to Use Stoic Philosophy to Find...</td>\n",
       "      <td>118329.0</td>\n",
       "      <td>3.0</td>\n",
       "      <td>https://www.amazon.com/Stoicism-Stoic-Philosop...</td>\n",
       "    </tr>\n",
       "    <tr>\n",
       "      <th>4</th>\n",
       "      <td>Confessions Of an Art Addict</td>\n",
       "      <td>581361.0</td>\n",
       "      <td>4.0</td>\n",
       "      <td>https://www.amazon.com/Confessions-Art-Addict-...</td>\n",
       "    </tr>\n",
       "    <tr>\n",
       "      <th>...</th>\n",
       "      <td>...</td>\n",
       "      <td>...</td>\n",
       "      <td>...</td>\n",
       "      <td>...</td>\n",
       "    </tr>\n",
       "    <tr>\n",
       "      <th>465</th>\n",
       "      <td>On Architecture: Collected Reflections on a C...</td>\n",
       "      <td>946542.0</td>\n",
       "      <td>11.0</td>\n",
       "      <td>https://www.amazon.com/Architecture-Collected-...</td>\n",
       "    </tr>\n",
       "    <tr>\n",
       "      <th>466</th>\n",
       "      <td>The Alhambra Vol III</td>\n",
       "      <td>4048922.0</td>\n",
       "      <td>NaN</td>\n",
       "      <td>https://www.amazon.com/Alhambra-Vol-III-Farhat...</td>\n",
       "    </tr>\n",
       "    <tr>\n",
       "      <th>467</th>\n",
       "      <td>The Spencer Mansion: A House  a Home  and an ...</td>\n",
       "      <td>NaN</td>\n",
       "      <td>NaN</td>\n",
       "      <td>https://www.amazon.com/Spencer-Mansion-House-H...</td>\n",
       "    </tr>\n",
       "    <tr>\n",
       "      <th>468</th>\n",
       "      <td>Der Kyffhäuser (German Edition)</td>\n",
       "      <td>NaN</td>\n",
       "      <td>NaN</td>\n",
       "      <td>https://www.amazon.com/Kyffh%C3%A4user-German-...</td>\n",
       "    </tr>\n",
       "    <tr>\n",
       "      <th>469</th>\n",
       "      <td>Black Creek Pioneer Village: Toronto's Living...</td>\n",
       "      <td>NaN</td>\n",
       "      <td>NaN</td>\n",
       "      <td>https://www.amazon.com/Black-Creek-Pioneer-Vil...</td>\n",
       "    </tr>\n",
       "  </tbody>\n",
       "</table>\n",
       "<p>470 rows × 4 columns</p>\n",
       "</div>"
      ],
      "text/plain": [
       "                                                 Titre       rang  prix  \\\n",
       "0     A Place of My Own: The Architecture of Daydre...   263356.0  10.0   \n",
       "1     The $12 Million Stuffed Shark: The Curious Ec...   261992.0   1.0   \n",
       "2     The Gardner Heist: The True Story of the Worl...   304142.0  12.0   \n",
       "3     Stoicism: How to Use Stoic Philosophy to Find...   118329.0   3.0   \n",
       "4                        Confessions Of an Art Addict    581361.0   4.0   \n",
       "..                                                 ...        ...   ...   \n",
       "465   On Architecture: Collected Reflections on a C...   946542.0  11.0   \n",
       "466                              The Alhambra Vol III   4048922.0   NaN   \n",
       "467   The Spencer Mansion: A House  a Home  and an ...        NaN   NaN   \n",
       "468                   Der Kyffhäuser (German Edition)         NaN   NaN   \n",
       "469   Black Creek Pioneer Village: Toronto's Living...        NaN   NaN   \n",
       "\n",
       "                                                   url  \n",
       "0    https://www.amazon.com/Place-My-Own-Architectu...  \n",
       "1    https://www.amazon.com/Million-Stuffed-Shark-E...  \n",
       "2    https://www.amazon.com/Gardner-Heist-Worlds-La...  \n",
       "3    https://www.amazon.com/Stoicism-Stoic-Philosop...  \n",
       "4    https://www.amazon.com/Confessions-Art-Addict-...  \n",
       "..                                                 ...  \n",
       "465  https://www.amazon.com/Architecture-Collected-...  \n",
       "466  https://www.amazon.com/Alhambra-Vol-III-Farhat...  \n",
       "467  https://www.amazon.com/Spencer-Mansion-House-H...  \n",
       "468  https://www.amazon.com/Kyffh%C3%A4user-German-...  \n",
       "469  https://www.amazon.com/Black-Creek-Pioneer-Vil...  \n",
       "\n",
       "[470 rows x 4 columns]"
      ]
     },
     "execution_count": 24,
     "metadata": {},
     "output_type": "execute_result"
    }
   ],
   "source": [
    "data"
   ]
  },
  {
   "cell_type": "code",
   "execution_count": 25,
   "id": "7847c0a7",
   "metadata": {},
   "outputs": [],
   "source": [
    "data2 = data.drop_duplicates()"
   ]
  },
  {
   "cell_type": "code",
   "execution_count": 27,
   "id": "93908b37",
   "metadata": {},
   "outputs": [
    {
     "data": {
      "text/html": [
       "<div>\n",
       "<style scoped>\n",
       "    .dataframe tbody tr th:only-of-type {\n",
       "        vertical-align: middle;\n",
       "    }\n",
       "\n",
       "    .dataframe tbody tr th {\n",
       "        vertical-align: top;\n",
       "    }\n",
       "\n",
       "    .dataframe thead th {\n",
       "        text-align: right;\n",
       "    }\n",
       "</style>\n",
       "<table border=\"1\" class=\"dataframe\">\n",
       "  <thead>\n",
       "    <tr style=\"text-align: right;\">\n",
       "      <th></th>\n",
       "      <th>Titre</th>\n",
       "      <th>rang</th>\n",
       "      <th>prix</th>\n",
       "      <th>url</th>\n",
       "    </tr>\n",
       "  </thead>\n",
       "  <tbody>\n",
       "    <tr>\n",
       "      <th>0</th>\n",
       "      <td>A Place of My Own: The Architecture of Daydre...</td>\n",
       "      <td>263356.0</td>\n",
       "      <td>10.0</td>\n",
       "      <td>https://www.amazon.com/Place-My-Own-Architectu...</td>\n",
       "    </tr>\n",
       "    <tr>\n",
       "      <th>1</th>\n",
       "      <td>The $12 Million Stuffed Shark: The Curious Ec...</td>\n",
       "      <td>261992.0</td>\n",
       "      <td>1.0</td>\n",
       "      <td>https://www.amazon.com/Million-Stuffed-Shark-E...</td>\n",
       "    </tr>\n",
       "    <tr>\n",
       "      <th>2</th>\n",
       "      <td>The Gardner Heist: The True Story of the Worl...</td>\n",
       "      <td>304142.0</td>\n",
       "      <td>12.0</td>\n",
       "      <td>https://www.amazon.com/Gardner-Heist-Worlds-La...</td>\n",
       "    </tr>\n",
       "    <tr>\n",
       "      <th>3</th>\n",
       "      <td>Stoicism: How to Use Stoic Philosophy to Find...</td>\n",
       "      <td>118329.0</td>\n",
       "      <td>3.0</td>\n",
       "      <td>https://www.amazon.com/Stoicism-Stoic-Philosop...</td>\n",
       "    </tr>\n",
       "    <tr>\n",
       "      <th>4</th>\n",
       "      <td>Confessions Of an Art Addict</td>\n",
       "      <td>581361.0</td>\n",
       "      <td>4.0</td>\n",
       "      <td>https://www.amazon.com/Confessions-Art-Addict-...</td>\n",
       "    </tr>\n",
       "    <tr>\n",
       "      <th>...</th>\n",
       "      <td>...</td>\n",
       "      <td>...</td>\n",
       "      <td>...</td>\n",
       "      <td>...</td>\n",
       "    </tr>\n",
       "    <tr>\n",
       "      <th>465</th>\n",
       "      <td>On Architecture: Collected Reflections on a C...</td>\n",
       "      <td>946542.0</td>\n",
       "      <td>11.0</td>\n",
       "      <td>https://www.amazon.com/Architecture-Collected-...</td>\n",
       "    </tr>\n",
       "    <tr>\n",
       "      <th>466</th>\n",
       "      <td>The Alhambra Vol III</td>\n",
       "      <td>4048922.0</td>\n",
       "      <td>NaN</td>\n",
       "      <td>https://www.amazon.com/Alhambra-Vol-III-Farhat...</td>\n",
       "    </tr>\n",
       "    <tr>\n",
       "      <th>467</th>\n",
       "      <td>The Spencer Mansion: A House  a Home  and an ...</td>\n",
       "      <td>NaN</td>\n",
       "      <td>NaN</td>\n",
       "      <td>https://www.amazon.com/Spencer-Mansion-House-H...</td>\n",
       "    </tr>\n",
       "    <tr>\n",
       "      <th>468</th>\n",
       "      <td>Der Kyffhäuser (German Edition)</td>\n",
       "      <td>NaN</td>\n",
       "      <td>NaN</td>\n",
       "      <td>https://www.amazon.com/Kyffh%C3%A4user-German-...</td>\n",
       "    </tr>\n",
       "    <tr>\n",
       "      <th>469</th>\n",
       "      <td>Black Creek Pioneer Village: Toronto's Living...</td>\n",
       "      <td>NaN</td>\n",
       "      <td>NaN</td>\n",
       "      <td>https://www.amazon.com/Black-Creek-Pioneer-Vil...</td>\n",
       "    </tr>\n",
       "  </tbody>\n",
       "</table>\n",
       "<p>464 rows × 4 columns</p>\n",
       "</div>"
      ],
      "text/plain": [
       "                                                 Titre       rang  prix  \\\n",
       "0     A Place of My Own: The Architecture of Daydre...   263356.0  10.0   \n",
       "1     The $12 Million Stuffed Shark: The Curious Ec...   261992.0   1.0   \n",
       "2     The Gardner Heist: The True Story of the Worl...   304142.0  12.0   \n",
       "3     Stoicism: How to Use Stoic Philosophy to Find...   118329.0   3.0   \n",
       "4                        Confessions Of an Art Addict    581361.0   4.0   \n",
       "..                                                 ...        ...   ...   \n",
       "465   On Architecture: Collected Reflections on a C...   946542.0  11.0   \n",
       "466                              The Alhambra Vol III   4048922.0   NaN   \n",
       "467   The Spencer Mansion: A House  a Home  and an ...        NaN   NaN   \n",
       "468                   Der Kyffhäuser (German Edition)         NaN   NaN   \n",
       "469   Black Creek Pioneer Village: Toronto's Living...        NaN   NaN   \n",
       "\n",
       "                                                   url  \n",
       "0    https://www.amazon.com/Place-My-Own-Architectu...  \n",
       "1    https://www.amazon.com/Million-Stuffed-Shark-E...  \n",
       "2    https://www.amazon.com/Gardner-Heist-Worlds-La...  \n",
       "3    https://www.amazon.com/Stoicism-Stoic-Philosop...  \n",
       "4    https://www.amazon.com/Confessions-Art-Addict-...  \n",
       "..                                                 ...  \n",
       "465  https://www.amazon.com/Architecture-Collected-...  \n",
       "466  https://www.amazon.com/Alhambra-Vol-III-Farhat...  \n",
       "467  https://www.amazon.com/Spencer-Mansion-House-H...  \n",
       "468  https://www.amazon.com/Kyffh%C3%A4user-German-...  \n",
       "469  https://www.amazon.com/Black-Creek-Pioneer-Vil...  \n",
       "\n",
       "[464 rows x 4 columns]"
      ]
     },
     "execution_count": 27,
     "metadata": {},
     "output_type": "execute_result"
    }
   ],
   "source": [
    "data2"
   ]
  },
  {
   "cell_type": "code",
   "execution_count": null,
   "id": "a8d3f4da",
   "metadata": {},
   "outputs": [],
   "source": []
  }
 ],
 "metadata": {
  "kernelspec": {
   "display_name": "Python 3 (ipykernel)",
   "language": "python",
   "name": "python3"
  },
  "language_info": {
   "codemirror_mode": {
    "name": "ipython",
    "version": 3
   },
   "file_extension": ".py",
   "mimetype": "text/x-python",
   "name": "python",
   "nbconvert_exporter": "python",
   "pygments_lexer": "ipython3",
   "version": "3.8.12"
  },
  "toc": {
   "base_numbering": 1,
   "nav_menu": {},
   "number_sections": true,
   "sideBar": true,
   "skip_h1_title": false,
   "title_cell": "Table of Contents",
   "title_sidebar": "Contents",
   "toc_cell": false,
   "toc_position": {
    "height": "344.727px",
    "left": "25px",
    "top": "111.136px",
    "width": "165px"
   },
   "toc_section_display": true,
   "toc_window_display": true
  }
 },
 "nbformat": 4,
 "nbformat_minor": 5
}
