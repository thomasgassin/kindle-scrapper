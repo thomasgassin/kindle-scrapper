{
 "cells": [
  {
   "cell_type": "markdown",
   "id": "03639832",
   "metadata": {},
   "source": [
    "Nous allons détailler les fonctions dans ce notebook."
   ]
  },
  {
   "cell_type": "markdown",
   "id": "bcfa989e",
   "metadata": {},
   "source": [
    "### IMPORTS"
   ]
  },
  {
   "cell_type": "code",
   "execution_count": 1,
   "id": "fe34fa59",
   "metadata": {},
   "outputs": [],
   "source": [
    "import requests\n",
    "from bs4 import BeautifulSoup\n",
    "from selenium import webdriver\n",
    "from pathlib import Path\n",
    "import os\n",
    "# from webdriver_manager.chrome import ChromeDriverManager\n",
    "# import chromedriver_binary\n",
    "import re\n",
    "import csv"
   ]
  },
  {
   "cell_type": "code",
   "execution_count": 2,
   "id": "09324be2",
   "metadata": {},
   "outputs": [
    {
     "name": "stderr",
     "output_type": "stream",
     "text": [
      "/tmp/ipykernel_939/2348712840.py:2: DeprecationWarning: executable_path has been deprecated, please pass in a Service object\n",
      "  browser = webdriver.Chrome(executable_path= DRIVER_PATH_chromedriver)\n"
     ]
    }
   ],
   "source": [
    "DRIVER_PATH_chromedriver = str(Path('../chromedriver').resolve())\n",
    "browser = webdriver.Chrome(executable_path= DRIVER_PATH_chromedriver)"
   ]
  },
  {
   "cell_type": "code",
   "execution_count": 3,
   "id": "beffe270",
   "metadata": {},
   "outputs": [],
   "source": [
    "regex_expression = \"</span> #.* in Kindle Store \" # utile pour regex"
   ]
  },
  {
   "cell_type": "markdown",
   "id": "6efdfb72",
   "metadata": {},
   "source": [
    "### URLs exemple"
   ]
  },
  {
   "cell_type": "code",
   "execution_count": 5,
   "id": "5e7fdf71",
   "metadata": {},
   "outputs": [],
   "source": [
    "url_kindle_accueil = \"https://www.amazon.com/b?node=154606011\"\n",
    "url_kindle_accueil2 = \"https://www.amazon.com/b?node=154606011\"\n",
    "url_kindle_cat_art_and_photo =\"https://www.amazon.com/s?bbn=154606011&rh=n%3A133140011%2Cn%3A154606011%2Cn%3A154607011&dc&qid=1648440703&rnid=154606011&ref=lp_154606011_nr_n_0\"\n",
    "url_kindle_cat_art_and_photo_subcat_music_p1 = \"https://www.amazon.com/s?rh=n%3A156302011&fs=true&ref=lp_156302011_sar\"\n",
    "\n",
    "url_kindle_cat_art_and_photo_subcat_umusic_p2 = \"https://www.amazon.com/s?i=digital-text&rh=n%3A156302011&fs=true&page=2&qid=1648440846&ref=sr_pg_2\"\n",
    "url_kindle_cat_art_and_photo_subcat_umusic_p3  =\"https://www.amazon.com/s?i=digital-text&rh=n%3A156302011&fs=true&page=3&qid=1648440968&ref=sr_pg_3\""
   ]
  },
  {
   "cell_type": "code",
   "execution_count": 6,
   "id": "ea3aea10",
   "metadata": {},
   "outputs": [],
   "source": [
    "url_livre1=\"https://www.amazon.com/Last-Goddess-Novel-Kate%C5%99ina-Tu%C4%8Dkov%C3%A1-ebook/dp/B09BZ8L74Q/ref=pd_sbs_sccl_1_3/131-3814768-2928133?pd_rd_w=eOyFv&pf_rd_p=3676f086-9496-4fd7-8490-77cf7f43f846&pf_rd_r=XXEVJ89KR0WC7CQF9791&pd_rd_r=ff1f8e44-e48e-4dcc-8716-a64d5675ebe6&pd_rd_wg=tAIJl&pd_rd_i=B09BZ8L74Q&psc=1\"\n",
    "url_livre2=\"https://www.amazon.com/gp/product/B09K7J47Y8/ref=s9_acss_bw_cg_bsmafr_1b1_w?pf_rd_m=ATVPDKIKX0DER&pf_rd_s=merchandised-search-13&pf_rd_r=EX2QJTNDW0DCKTRX8KFT&pf_rd_t=101&pf_rd_p=5074797f-6c32-4283-a5a7-526fd1198645&pf_rd_i=14413390011\"\n",
    "url_livre3=\"https://www.amazon.com/Healthy-Smoothie-Cookbook-Breakfast-Kid-Friendly-ebook/dp/B083QK3DT9/ref=sr_1_12?keywords=smoothie+recipe+book&qid=1651700938&s=digital-text&sprefix=smoothie%2Cdigital-text%2C236&sr=1-12\"\n",
    "url_yumkasi = \"https://www.amazon.com/Minoru-Yamasaki-Humanist-Architecture-Modernist-ebook/dp/B0798MHV9R/ref=sr_1_17?qid=1652127157&rnid=157630011&s=digital-text&sr=1-17\""
   ]
  },
  {
   "cell_type": "markdown",
   "id": "aa31f127",
   "metadata": {},
   "source": [
    "# Ouverture du navigateur"
   ]
  },
  {
   "cell_type": "markdown",
   "id": "d6efddd0",
   "metadata": {},
   "source": [
    "avant bien lancer le programme X launch sur windows en cochant sur disable"
   ]
  },
  {
   "cell_type": "code",
   "execution_count": 22,
   "id": "0bc90ebd",
   "metadata": {},
   "outputs": [
    {
     "name": "stderr",
     "output_type": "stream",
     "text": [
      "/tmp/ipykernel_939/2988573174.py:2: DeprecationWarning: executable_path has been deprecated, please pass in a Service object\n",
      "  browser = webdriver.Chrome(executable_path= DRIVER_PATH_chromedriver)\n"
     ]
    }
   ],
   "source": [
    "DRIVER_PATH_chromedriver = str(Path('../chromedriver').resolve())\n",
    "browser = webdriver.Chrome(executable_path= DRIVER_PATH_chromedriver)\n",
    "browser.get(url_kindle_accueil)\n",
    "browser.get(url_kindle_accueil)"
   ]
  },
  {
   "cell_type": "markdown",
   "id": "1c875385",
   "metadata": {},
   "source": [
    "avec le programme ci-après j arrive à lancer chrome depuis notebook !! yes"
   ]
  },
  {
   "cell_type": "markdown",
   "id": "a49ff183",
   "metadata": {},
   "source": [
    ">### il faut réussir à faire différents programme:\n",
    ">   - sur la page d'un livre ( en input un url) trouver le livre , l'auteur, le ranking\n",
    ">   - sur une page, trouver tout les livres de la pages\n",
    ">   - sur une catégorie trouver les pages de catégories"
   ]
  },
  {
   "cell_type": "markdown",
   "id": "b0ea0ae1",
   "metadata": {
    "tags": []
   },
   "source": [
    "# Fonction 1 : avec url d'un livre , retourner ranking des ventes, le nom l'auteur "
   ]
  },
  {
   "cell_type": "code",
   "execution_count": 8,
   "id": "a4854b59",
   "metadata": {},
   "outputs": [],
   "source": [
    "def encrypter(url,titre,rang,prix):\n",
    "    dictionnary = [{'url':url ,'titre':titre,  'rang':rang ,'prix':prix }]\n",
    "    print(dictionnary)\n",
    "    with open('results.csv','a') as f :                        # ouvre le fichier result.csv\n",
    "        fields=['titre','rang','prix','url']                  # permet de faire un    \n",
    "        writer = csv.DictWriter(f,fieldnames = fields)\n",
    "        writer.writerows(dictionnary)\n"
   ]
  },
  {
   "cell_type": "code",
   "execution_count": 9,
   "id": "45739e9f",
   "metadata": {},
   "outputs": [],
   "source": [
    "def encryper_depuis_url_page_livre(url):\n",
    "    browser.get(url)\n",
    "    code_de_la_page = browser.page_source\n",
    "    soup = BeautifulSoup(code_de_la_page , 'lxml')\n",
    "    \n",
    "    # URL du livre OK\n",
    "    url = url \n",
    "    # titre du livre\n",
    "    titre_avec_virgule = soup.find('span'  , {'class': 'a-size-extra-large'}).string\n",
    "    titre = titre_avec_virgule.replace(\",\", \" \")\n",
    "    #rang du livre OK\n",
    "    if soup.find_all( {'span'  : 'a-list-item'}) is not None : \n",
    "        rang_livre = soup.find_all( {'span'  : 'a-list-item'})\n",
    "        if len(str(re.compile(regex_expression).search(str(rang_livre))).split())>5 : \n",
    "            rang = str(re.compile(regex_expression).search(str(rang_livre))).split()[5].replace(\"#\",\"\").replace(\",\",\"\") \n",
    "        else : rang = None\n",
    "    else : rang = None\n",
    "    #prix du livre\n",
    "    if soup.find('span' , class_ = 'a-price-whole') is not None:\n",
    "        prix = soup.find('span' , class_ = 'a-price-whole').text.strip(' ').strip('.')\n",
    "    else:\n",
    "        prix = None\n",
    "    encrypter(url,titre,rang,prix)\n",
    "    "
   ]
  },
  {
   "cell_type": "code",
   "execution_count": 10,
   "id": "7cfea1f3",
   "metadata": {},
   "outputs": [],
   "source": [
    "def encryper_pour_test(url):\n",
    "    browser.get(url)\n",
    "    code_de_la_page = browser.page_source\n",
    "    soup = BeautifulSoup(code_de_la_page , 'lxml')\n",
    "    #rang_livre = soup.find_all( {'span'  : 'a-list-item'})\n",
    "    # URL du livre OK\n",
    "    url = url \n",
    "    # titre du livre\n",
    "    titre_avec_virgule = soup.find('span'  , {'class': 'a-size-extra-large'}).string\n",
    "    titre = titre_avec_virgule.replace(\",\", \" \")\n",
    "    #rang du livre OK\n",
    "    rang = '1000' #str(re.compile(regex_expression).search(str(rang_livre))).split()[5].replace(\"#\",\"\").replace(\",\",\"\") \n",
    "    #prix du livre\n",
    "    if soup.find('span' , class_ = 'a-price-whole') is not None:\n",
    "        prix = soup.find('span' , class_ = 'a-price-whole').text.strip(' ').strip('.')\n",
    "    else:\n",
    "        prix = None\n",
    "    encrypter(url,titre,rang,prix)"
   ]
  },
  {
   "cell_type": "code",
   "execution_count": 11,
   "id": "72b13c46",
   "metadata": {},
   "outputs": [
    {
     "name": "stdout",
     "output_type": "stream",
     "text": [
      "[{'url': 'https://www.amazon.com/Intertemporal-Asset-Pricing-Contributions-Economics-ebook/dp/B000QCQT2A/ref=sr_1_1153?qid=1653945430&s=digital-text&sr=1-1153', 'titre': ' Intertemporal Asset Pricing: Evidence from Germany (Contributions to Economics) ', 'rang': None, 'prix': None}]\n"
     ]
    }
   ],
   "source": [
    "#TEST\n",
    "encryper_depuis_url_page_livre(\"https://www.amazon.com/Intertemporal-Asset-Pricing-Contributions-Economics-ebook/dp/B000QCQT2A/ref=sr_1_1153?qid=1653945430&s=digital-text&sr=1-1153\")"
   ]
  },
  {
   "cell_type": "markdown",
   "id": "e67d360f",
   "metadata": {},
   "source": [
    "# Sur une page récupérer les données : de classement de vente , nom du livre catégorie"
   ]
  },
  {
   "cell_type": "code",
   "execution_count": 11,
   "id": "1f11aae8",
   "metadata": {},
   "outputs": [
    {
     "ename": "NameError",
     "evalue": "name 'soup' is not defined",
     "output_type": "error",
     "traceback": [
      "\u001b[0;31m---------------------------------------------------------------------------\u001b[0m",
      "\u001b[0;31mNameError\u001b[0m                                 Traceback (most recent call last)",
      "Input \u001b[0;32mIn [11]\u001b[0m, in \u001b[0;36m<cell line: 1>\u001b[0;34m()\u001b[0m\n\u001b[0;32m----> 1\u001b[0m books_html \u001b[38;5;241m=\u001b[39m \u001b[43msoup\u001b[49m\u001b[38;5;241m.\u001b[39mfind_all(\u001b[38;5;124m\"\u001b[39m\u001b[38;5;124marticle\u001b[39m\u001b[38;5;124m\"\u001b[39m, class_\u001b[38;5;241m=\u001b[39m\u001b[38;5;124m\"\u001b[39m\u001b[38;5;124mproduct_pod\u001b[39m\u001b[38;5;124m\"\u001b[39m)\n\u001b[1;32m      2\u001b[0m \u001b[38;5;28mlen\u001b[39m(books_html)\n",
      "\u001b[0;31mNameError\u001b[0m: name 'soup' is not defined"
     ]
    }
   ],
   "source": [
    "books_html = soup.find_all(\"article\", class_=\"product_pod\")\n",
    "len(books_html)"
   ]
  },
  {
   "cell_type": "code",
   "execution_count": 12,
   "id": "fdac7e18",
   "metadata": {},
   "outputs": [],
   "source": [
    "url = \"https://www.amazon.com/s?i=digital-text&bbn=157630011&rh=n%3A133140011%2Cn%3A154606011%2Cn%3A154607011%2Cn%3A157630011%2Cn%3A157631011&dc&fs=true&qid=1651987607&rnid=157630011&ref=sr_nr_n_1\"\n",
    "url_page_1 = \"https://www.amazon.com/s?i=digital-text&bbn=157630011&rh=n%3A133140011%2Cn%3A154606011%2Cn%3A154607011%2Cn%3A157630011%2Cn%3A157631011&dc&fs=true&page=1&qid=1651987613&rnid=157630011&ref=sr_pg_2\"\n",
    "url_page_2 = \"https://www.amazon.com/s?i=digital-text&bbn=157630011&rh=n%3A133140011%2Cn%3A154606011%2Cn%3A154607011%2Cn%3A157630011%2Cn%3A157631011&dc&fs=true&page=2&qid=1651987613&rnid=157630011&ref=sr_pg_2\"\n",
    "url_page_3     = \"https://www.amazon.com/s?i=digital-text&bbn=157630011&rh=n%3A133140011%2Cn%3A154606011%2Cn%3A154607011%2Cn%3A157630011%2Cn%3A157631011&dc&fs=true&page=3&qid=1651987613&rnid=157630011&ref=sr_pg_3\"\n",
    "url_page_3bis  = \"https://www.amazon.com/s?i=digital-text&bbn=157630011&rh=n%3A133140011%2Cn%3A154606011%2Cn%3A154607011%2Cn%3A157630011%2Cn%3A157631011&dc&fs=true&page=3&qid=1651987793&rnid=157630011&ref=sr_pg_3\"\n"
   ]
  },
  {
   "cell_type": "code",
   "execution_count": 16,
   "id": "578a143b",
   "metadata": {},
   "outputs": [
    {
     "ename": "MaxRetryError",
     "evalue": "HTTPConnectionPool(host='localhost', port=59669): Max retries exceeded with url: /session/9e3cb65ad3cd2f2343c373283699426c/url (Caused by NewConnectionError('<urllib3.connection.HTTPConnection object at 0x7f19c6d30cd0>: Failed to establish a new connection: [Errno 111] Connection refused'))",
     "output_type": "error",
     "traceback": [
      "\u001b[0;31m---------------------------------------------------------------------------\u001b[0m",
      "\u001b[0;31mConnectionRefusedError\u001b[0m                    Traceback (most recent call last)",
      "File \u001b[0;32m~/.pyenv/versions/3.8.12/envs/kindlescrapper/lib/python3.8/site-packages/urllib3/connection.py:174\u001b[0m, in \u001b[0;36mHTTPConnection._new_conn\u001b[0;34m(self)\u001b[0m\n\u001b[1;32m    173\u001b[0m \u001b[38;5;28;01mtry\u001b[39;00m:\n\u001b[0;32m--> 174\u001b[0m     conn \u001b[38;5;241m=\u001b[39m \u001b[43mconnection\u001b[49m\u001b[38;5;241;43m.\u001b[39;49m\u001b[43mcreate_connection\u001b[49m\u001b[43m(\u001b[49m\n\u001b[1;32m    175\u001b[0m \u001b[43m        \u001b[49m\u001b[43m(\u001b[49m\u001b[38;5;28;43mself\u001b[39;49m\u001b[38;5;241;43m.\u001b[39;49m\u001b[43m_dns_host\u001b[49m\u001b[43m,\u001b[49m\u001b[43m \u001b[49m\u001b[38;5;28;43mself\u001b[39;49m\u001b[38;5;241;43m.\u001b[39;49m\u001b[43mport\u001b[49m\u001b[43m)\u001b[49m\u001b[43m,\u001b[49m\u001b[43m \u001b[49m\u001b[38;5;28;43mself\u001b[39;49m\u001b[38;5;241;43m.\u001b[39;49m\u001b[43mtimeout\u001b[49m\u001b[43m,\u001b[49m\u001b[43m \u001b[49m\u001b[38;5;241;43m*\u001b[39;49m\u001b[38;5;241;43m*\u001b[39;49m\u001b[43mextra_kw\u001b[49m\n\u001b[1;32m    176\u001b[0m \u001b[43m    \u001b[49m\u001b[43m)\u001b[49m\n\u001b[1;32m    178\u001b[0m \u001b[38;5;28;01mexcept\u001b[39;00m SocketTimeout:\n",
      "File \u001b[0;32m~/.pyenv/versions/3.8.12/envs/kindlescrapper/lib/python3.8/site-packages/urllib3/util/connection.py:95\u001b[0m, in \u001b[0;36mcreate_connection\u001b[0;34m(address, timeout, source_address, socket_options)\u001b[0m\n\u001b[1;32m     94\u001b[0m \u001b[38;5;28;01mif\u001b[39;00m err \u001b[38;5;129;01mis\u001b[39;00m \u001b[38;5;129;01mnot\u001b[39;00m \u001b[38;5;28;01mNone\u001b[39;00m:\n\u001b[0;32m---> 95\u001b[0m     \u001b[38;5;28;01mraise\u001b[39;00m err\n\u001b[1;32m     97\u001b[0m \u001b[38;5;28;01mraise\u001b[39;00m socket\u001b[38;5;241m.\u001b[39merror(\u001b[38;5;124m\"\u001b[39m\u001b[38;5;124mgetaddrinfo returns an empty list\u001b[39m\u001b[38;5;124m\"\u001b[39m)\n",
      "File \u001b[0;32m~/.pyenv/versions/3.8.12/envs/kindlescrapper/lib/python3.8/site-packages/urllib3/util/connection.py:85\u001b[0m, in \u001b[0;36mcreate_connection\u001b[0;34m(address, timeout, source_address, socket_options)\u001b[0m\n\u001b[1;32m     84\u001b[0m     sock\u001b[38;5;241m.\u001b[39mbind(source_address)\n\u001b[0;32m---> 85\u001b[0m \u001b[43msock\u001b[49m\u001b[38;5;241;43m.\u001b[39;49m\u001b[43mconnect\u001b[49m\u001b[43m(\u001b[49m\u001b[43msa\u001b[49m\u001b[43m)\u001b[49m\n\u001b[1;32m     86\u001b[0m \u001b[38;5;28;01mreturn\u001b[39;00m sock\n",
      "\u001b[0;31mConnectionRefusedError\u001b[0m: [Errno 111] Connection refused",
      "\nDuring handling of the above exception, another exception occurred:\n",
      "\u001b[0;31mNewConnectionError\u001b[0m                        Traceback (most recent call last)",
      "File \u001b[0;32m~/.pyenv/versions/3.8.12/envs/kindlescrapper/lib/python3.8/site-packages/urllib3/connectionpool.py:703\u001b[0m, in \u001b[0;36mHTTPConnectionPool.urlopen\u001b[0;34m(self, method, url, body, headers, retries, redirect, assert_same_host, timeout, pool_timeout, release_conn, chunked, body_pos, **response_kw)\u001b[0m\n\u001b[1;32m    702\u001b[0m \u001b[38;5;66;03m# Make the request on the httplib connection object.\u001b[39;00m\n\u001b[0;32m--> 703\u001b[0m httplib_response \u001b[38;5;241m=\u001b[39m \u001b[38;5;28;43mself\u001b[39;49m\u001b[38;5;241;43m.\u001b[39;49m\u001b[43m_make_request\u001b[49m\u001b[43m(\u001b[49m\n\u001b[1;32m    704\u001b[0m \u001b[43m    \u001b[49m\u001b[43mconn\u001b[49m\u001b[43m,\u001b[49m\n\u001b[1;32m    705\u001b[0m \u001b[43m    \u001b[49m\u001b[43mmethod\u001b[49m\u001b[43m,\u001b[49m\n\u001b[1;32m    706\u001b[0m \u001b[43m    \u001b[49m\u001b[43murl\u001b[49m\u001b[43m,\u001b[49m\n\u001b[1;32m    707\u001b[0m \u001b[43m    \u001b[49m\u001b[43mtimeout\u001b[49m\u001b[38;5;241;43m=\u001b[39;49m\u001b[43mtimeout_obj\u001b[49m\u001b[43m,\u001b[49m\n\u001b[1;32m    708\u001b[0m \u001b[43m    \u001b[49m\u001b[43mbody\u001b[49m\u001b[38;5;241;43m=\u001b[39;49m\u001b[43mbody\u001b[49m\u001b[43m,\u001b[49m\n\u001b[1;32m    709\u001b[0m \u001b[43m    \u001b[49m\u001b[43mheaders\u001b[49m\u001b[38;5;241;43m=\u001b[39;49m\u001b[43mheaders\u001b[49m\u001b[43m,\u001b[49m\n\u001b[1;32m    710\u001b[0m \u001b[43m    \u001b[49m\u001b[43mchunked\u001b[49m\u001b[38;5;241;43m=\u001b[39;49m\u001b[43mchunked\u001b[49m\u001b[43m,\u001b[49m\n\u001b[1;32m    711\u001b[0m \u001b[43m\u001b[49m\u001b[43m)\u001b[49m\n\u001b[1;32m    713\u001b[0m \u001b[38;5;66;03m# If we're going to release the connection in ``finally:``, then\u001b[39;00m\n\u001b[1;32m    714\u001b[0m \u001b[38;5;66;03m# the response doesn't need to know about the connection. Otherwise\u001b[39;00m\n\u001b[1;32m    715\u001b[0m \u001b[38;5;66;03m# it will also try to release it and we'll have a double-release\u001b[39;00m\n\u001b[1;32m    716\u001b[0m \u001b[38;5;66;03m# mess.\u001b[39;00m\n",
      "File \u001b[0;32m~/.pyenv/versions/3.8.12/envs/kindlescrapper/lib/python3.8/site-packages/urllib3/connectionpool.py:398\u001b[0m, in \u001b[0;36mHTTPConnectionPool._make_request\u001b[0;34m(self, conn, method, url, timeout, chunked, **httplib_request_kw)\u001b[0m\n\u001b[1;32m    397\u001b[0m     \u001b[38;5;28;01melse\u001b[39;00m:\n\u001b[0;32m--> 398\u001b[0m         \u001b[43mconn\u001b[49m\u001b[38;5;241;43m.\u001b[39;49m\u001b[43mrequest\u001b[49m\u001b[43m(\u001b[49m\u001b[43mmethod\u001b[49m\u001b[43m,\u001b[49m\u001b[43m \u001b[49m\u001b[43murl\u001b[49m\u001b[43m,\u001b[49m\u001b[43m \u001b[49m\u001b[38;5;241;43m*\u001b[39;49m\u001b[38;5;241;43m*\u001b[39;49m\u001b[43mhttplib_request_kw\u001b[49m\u001b[43m)\u001b[49m\n\u001b[1;32m    400\u001b[0m \u001b[38;5;66;03m# We are swallowing BrokenPipeError (errno.EPIPE) since the server is\u001b[39;00m\n\u001b[1;32m    401\u001b[0m \u001b[38;5;66;03m# legitimately able to close the connection after sending a valid response.\u001b[39;00m\n\u001b[1;32m    402\u001b[0m \u001b[38;5;66;03m# With this behaviour, the received response is still readable.\u001b[39;00m\n",
      "File \u001b[0;32m~/.pyenv/versions/3.8.12/envs/kindlescrapper/lib/python3.8/site-packages/urllib3/connection.py:239\u001b[0m, in \u001b[0;36mHTTPConnection.request\u001b[0;34m(self, method, url, body, headers)\u001b[0m\n\u001b[1;32m    238\u001b[0m     headers[\u001b[38;5;124m\"\u001b[39m\u001b[38;5;124mUser-Agent\u001b[39m\u001b[38;5;124m\"\u001b[39m] \u001b[38;5;241m=\u001b[39m _get_default_user_agent()\n\u001b[0;32m--> 239\u001b[0m \u001b[38;5;28;43msuper\u001b[39;49m\u001b[43m(\u001b[49m\u001b[43mHTTPConnection\u001b[49m\u001b[43m,\u001b[49m\u001b[43m \u001b[49m\u001b[38;5;28;43mself\u001b[39;49m\u001b[43m)\u001b[49m\u001b[38;5;241;43m.\u001b[39;49m\u001b[43mrequest\u001b[49m\u001b[43m(\u001b[49m\u001b[43mmethod\u001b[49m\u001b[43m,\u001b[49m\u001b[43m \u001b[49m\u001b[43murl\u001b[49m\u001b[43m,\u001b[49m\u001b[43m \u001b[49m\u001b[43mbody\u001b[49m\u001b[38;5;241;43m=\u001b[39;49m\u001b[43mbody\u001b[49m\u001b[43m,\u001b[49m\u001b[43m \u001b[49m\u001b[43mheaders\u001b[49m\u001b[38;5;241;43m=\u001b[39;49m\u001b[43mheaders\u001b[49m\u001b[43m)\u001b[49m\n",
      "File \u001b[0;32m~/.pyenv/versions/3.8.12/lib/python3.8/http/client.py:1256\u001b[0m, in \u001b[0;36mHTTPConnection.request\u001b[0;34m(self, method, url, body, headers, encode_chunked)\u001b[0m\n\u001b[1;32m   1255\u001b[0m \u001b[38;5;124;03m\"\"\"Send a complete request to the server.\"\"\"\u001b[39;00m\n\u001b[0;32m-> 1256\u001b[0m \u001b[38;5;28;43mself\u001b[39;49m\u001b[38;5;241;43m.\u001b[39;49m\u001b[43m_send_request\u001b[49m\u001b[43m(\u001b[49m\u001b[43mmethod\u001b[49m\u001b[43m,\u001b[49m\u001b[43m \u001b[49m\u001b[43murl\u001b[49m\u001b[43m,\u001b[49m\u001b[43m \u001b[49m\u001b[43mbody\u001b[49m\u001b[43m,\u001b[49m\u001b[43m \u001b[49m\u001b[43mheaders\u001b[49m\u001b[43m,\u001b[49m\u001b[43m \u001b[49m\u001b[43mencode_chunked\u001b[49m\u001b[43m)\u001b[49m\n",
      "File \u001b[0;32m~/.pyenv/versions/3.8.12/lib/python3.8/http/client.py:1302\u001b[0m, in \u001b[0;36mHTTPConnection._send_request\u001b[0;34m(self, method, url, body, headers, encode_chunked)\u001b[0m\n\u001b[1;32m   1301\u001b[0m     body \u001b[38;5;241m=\u001b[39m _encode(body, \u001b[38;5;124m'\u001b[39m\u001b[38;5;124mbody\u001b[39m\u001b[38;5;124m'\u001b[39m)\n\u001b[0;32m-> 1302\u001b[0m \u001b[38;5;28;43mself\u001b[39;49m\u001b[38;5;241;43m.\u001b[39;49m\u001b[43mendheaders\u001b[49m\u001b[43m(\u001b[49m\u001b[43mbody\u001b[49m\u001b[43m,\u001b[49m\u001b[43m \u001b[49m\u001b[43mencode_chunked\u001b[49m\u001b[38;5;241;43m=\u001b[39;49m\u001b[43mencode_chunked\u001b[49m\u001b[43m)\u001b[49m\n",
      "File \u001b[0;32m~/.pyenv/versions/3.8.12/lib/python3.8/http/client.py:1251\u001b[0m, in \u001b[0;36mHTTPConnection.endheaders\u001b[0;34m(self, message_body, encode_chunked)\u001b[0m\n\u001b[1;32m   1250\u001b[0m     \u001b[38;5;28;01mraise\u001b[39;00m CannotSendHeader()\n\u001b[0;32m-> 1251\u001b[0m \u001b[38;5;28;43mself\u001b[39;49m\u001b[38;5;241;43m.\u001b[39;49m\u001b[43m_send_output\u001b[49m\u001b[43m(\u001b[49m\u001b[43mmessage_body\u001b[49m\u001b[43m,\u001b[49m\u001b[43m \u001b[49m\u001b[43mencode_chunked\u001b[49m\u001b[38;5;241;43m=\u001b[39;49m\u001b[43mencode_chunked\u001b[49m\u001b[43m)\u001b[49m\n",
      "File \u001b[0;32m~/.pyenv/versions/3.8.12/lib/python3.8/http/client.py:1011\u001b[0m, in \u001b[0;36mHTTPConnection._send_output\u001b[0;34m(self, message_body, encode_chunked)\u001b[0m\n\u001b[1;32m   1010\u001b[0m \u001b[38;5;28;01mdel\u001b[39;00m \u001b[38;5;28mself\u001b[39m\u001b[38;5;241m.\u001b[39m_buffer[:]\n\u001b[0;32m-> 1011\u001b[0m \u001b[38;5;28;43mself\u001b[39;49m\u001b[38;5;241;43m.\u001b[39;49m\u001b[43msend\u001b[49m\u001b[43m(\u001b[49m\u001b[43mmsg\u001b[49m\u001b[43m)\u001b[49m\n\u001b[1;32m   1013\u001b[0m \u001b[38;5;28;01mif\u001b[39;00m message_body \u001b[38;5;129;01mis\u001b[39;00m \u001b[38;5;129;01mnot\u001b[39;00m \u001b[38;5;28;01mNone\u001b[39;00m:\n\u001b[1;32m   1014\u001b[0m \n\u001b[1;32m   1015\u001b[0m     \u001b[38;5;66;03m# create a consistent interface to message_body\u001b[39;00m\n",
      "File \u001b[0;32m~/.pyenv/versions/3.8.12/lib/python3.8/http/client.py:951\u001b[0m, in \u001b[0;36mHTTPConnection.send\u001b[0;34m(self, data)\u001b[0m\n\u001b[1;32m    950\u001b[0m \u001b[38;5;28;01mif\u001b[39;00m \u001b[38;5;28mself\u001b[39m\u001b[38;5;241m.\u001b[39mauto_open:\n\u001b[0;32m--> 951\u001b[0m     \u001b[38;5;28;43mself\u001b[39;49m\u001b[38;5;241;43m.\u001b[39;49m\u001b[43mconnect\u001b[49m\u001b[43m(\u001b[49m\u001b[43m)\u001b[49m\n\u001b[1;32m    952\u001b[0m \u001b[38;5;28;01melse\u001b[39;00m:\n",
      "File \u001b[0;32m~/.pyenv/versions/3.8.12/envs/kindlescrapper/lib/python3.8/site-packages/urllib3/connection.py:205\u001b[0m, in \u001b[0;36mHTTPConnection.connect\u001b[0;34m(self)\u001b[0m\n\u001b[1;32m    204\u001b[0m \u001b[38;5;28;01mdef\u001b[39;00m \u001b[38;5;21mconnect\u001b[39m(\u001b[38;5;28mself\u001b[39m):\n\u001b[0;32m--> 205\u001b[0m     conn \u001b[38;5;241m=\u001b[39m \u001b[38;5;28;43mself\u001b[39;49m\u001b[38;5;241;43m.\u001b[39;49m\u001b[43m_new_conn\u001b[49m\u001b[43m(\u001b[49m\u001b[43m)\u001b[49m\n\u001b[1;32m    206\u001b[0m     \u001b[38;5;28mself\u001b[39m\u001b[38;5;241m.\u001b[39m_prepare_conn(conn)\n",
      "File \u001b[0;32m~/.pyenv/versions/3.8.12/envs/kindlescrapper/lib/python3.8/site-packages/urllib3/connection.py:186\u001b[0m, in \u001b[0;36mHTTPConnection._new_conn\u001b[0;34m(self)\u001b[0m\n\u001b[1;32m    185\u001b[0m \u001b[38;5;28;01mexcept\u001b[39;00m SocketError \u001b[38;5;28;01mas\u001b[39;00m e:\n\u001b[0;32m--> 186\u001b[0m     \u001b[38;5;28;01mraise\u001b[39;00m NewConnectionError(\n\u001b[1;32m    187\u001b[0m         \u001b[38;5;28mself\u001b[39m, \u001b[38;5;124m\"\u001b[39m\u001b[38;5;124mFailed to establish a new connection: \u001b[39m\u001b[38;5;132;01m%s\u001b[39;00m\u001b[38;5;124m\"\u001b[39m \u001b[38;5;241m%\u001b[39m e\n\u001b[1;32m    188\u001b[0m     )\n\u001b[1;32m    190\u001b[0m \u001b[38;5;28;01mreturn\u001b[39;00m conn\n",
      "\u001b[0;31mNewConnectionError\u001b[0m: <urllib3.connection.HTTPConnection object at 0x7f19c6d30cd0>: Failed to establish a new connection: [Errno 111] Connection refused",
      "\nDuring handling of the above exception, another exception occurred:\n",
      "\u001b[0;31mMaxRetryError\u001b[0m                             Traceback (most recent call last)",
      "Input \u001b[0;32mIn [16]\u001b[0m, in \u001b[0;36m<cell line: 2>\u001b[0;34m()\u001b[0m\n\u001b[1;32m      1\u001b[0m listes_des_livres\u001b[38;5;241m=\u001b[39m[]\n\u001b[0;32m----> 2\u001b[0m \u001b[43mbrowser\u001b[49m\u001b[38;5;241;43m.\u001b[39;49m\u001b[43mget\u001b[49m\u001b[43m(\u001b[49m\u001b[43murl_page_2\u001b[49m\u001b[43m)\u001b[49m \u001b[38;5;66;03m#navigue sur une page avec tous les lien du site\u001b[39;00m\n\u001b[1;32m      3\u001b[0m html_page_listing \u001b[38;5;241m=\u001b[39m browser\u001b[38;5;241m.\u001b[39mpage_source \u001b[38;5;66;03m# permet de prendre le code html de la page \u001b[39;00m\n\u001b[1;32m      4\u001b[0m soup \u001b[38;5;241m=\u001b[39m BeautifulSoup(html_page_listing , \u001b[38;5;124m'\u001b[39m\u001b[38;5;124mlxml\u001b[39m\u001b[38;5;124m'\u001b[39m) \u001b[38;5;66;03m# créer la soupe avec le parser\u001b[39;00m\n",
      "File \u001b[0;32m~/.pyenv/versions/3.8.12/envs/kindlescrapper/lib/python3.8/site-packages/selenium/webdriver/remote/webdriver.py:437\u001b[0m, in \u001b[0;36mWebDriver.get\u001b[0;34m(self, url)\u001b[0m\n\u001b[1;32m    433\u001b[0m \u001b[38;5;28;01mdef\u001b[39;00m \u001b[38;5;21mget\u001b[39m(\u001b[38;5;28mself\u001b[39m, url: \u001b[38;5;28mstr\u001b[39m) \u001b[38;5;241m-\u001b[39m\u001b[38;5;241m>\u001b[39m \u001b[38;5;28;01mNone\u001b[39;00m:\n\u001b[1;32m    434\u001b[0m     \u001b[38;5;124;03m\"\"\"\u001b[39;00m\n\u001b[1;32m    435\u001b[0m \u001b[38;5;124;03m    Loads a web page in the current browser session.\u001b[39;00m\n\u001b[1;32m    436\u001b[0m \u001b[38;5;124;03m    \"\"\"\u001b[39;00m\n\u001b[0;32m--> 437\u001b[0m     \u001b[38;5;28;43mself\u001b[39;49m\u001b[38;5;241;43m.\u001b[39;49m\u001b[43mexecute\u001b[49m\u001b[43m(\u001b[49m\u001b[43mCommand\u001b[49m\u001b[38;5;241;43m.\u001b[39;49m\u001b[43mGET\u001b[49m\u001b[43m,\u001b[49m\u001b[43m \u001b[49m\u001b[43m{\u001b[49m\u001b[38;5;124;43m'\u001b[39;49m\u001b[38;5;124;43murl\u001b[39;49m\u001b[38;5;124;43m'\u001b[39;49m\u001b[43m:\u001b[49m\u001b[43m \u001b[49m\u001b[43murl\u001b[49m\u001b[43m}\u001b[49m\u001b[43m)\u001b[49m\n",
      "File \u001b[0;32m~/.pyenv/versions/3.8.12/envs/kindlescrapper/lib/python3.8/site-packages/selenium/webdriver/remote/webdriver.py:423\u001b[0m, in \u001b[0;36mWebDriver.execute\u001b[0;34m(self, driver_command, params)\u001b[0m\n\u001b[1;32m    420\u001b[0m         params[\u001b[38;5;124m'\u001b[39m\u001b[38;5;124msessionId\u001b[39m\u001b[38;5;124m'\u001b[39m] \u001b[38;5;241m=\u001b[39m \u001b[38;5;28mself\u001b[39m\u001b[38;5;241m.\u001b[39msession_id\n\u001b[1;32m    422\u001b[0m params \u001b[38;5;241m=\u001b[39m \u001b[38;5;28mself\u001b[39m\u001b[38;5;241m.\u001b[39m_wrap_value(params)\n\u001b[0;32m--> 423\u001b[0m response \u001b[38;5;241m=\u001b[39m \u001b[38;5;28;43mself\u001b[39;49m\u001b[38;5;241;43m.\u001b[39;49m\u001b[43mcommand_executor\u001b[49m\u001b[38;5;241;43m.\u001b[39;49m\u001b[43mexecute\u001b[49m\u001b[43m(\u001b[49m\u001b[43mdriver_command\u001b[49m\u001b[43m,\u001b[49m\u001b[43m \u001b[49m\u001b[43mparams\u001b[49m\u001b[43m)\u001b[49m\n\u001b[1;32m    424\u001b[0m \u001b[38;5;28;01mif\u001b[39;00m response:\n\u001b[1;32m    425\u001b[0m     \u001b[38;5;28mself\u001b[39m\u001b[38;5;241m.\u001b[39merror_handler\u001b[38;5;241m.\u001b[39mcheck_response(response)\n",
      "File \u001b[0;32m~/.pyenv/versions/3.8.12/envs/kindlescrapper/lib/python3.8/site-packages/selenium/webdriver/remote/remote_connection.py:333\u001b[0m, in \u001b[0;36mRemoteConnection.execute\u001b[0;34m(self, command, params)\u001b[0m\n\u001b[1;32m    331\u001b[0m data \u001b[38;5;241m=\u001b[39m utils\u001b[38;5;241m.\u001b[39mdump_json(params)\n\u001b[1;32m    332\u001b[0m url \u001b[38;5;241m=\u001b[39m \u001b[38;5;124mf\u001b[39m\u001b[38;5;124m\"\u001b[39m\u001b[38;5;132;01m{\u001b[39;00m\u001b[38;5;28mself\u001b[39m\u001b[38;5;241m.\u001b[39m_url\u001b[38;5;132;01m}\u001b[39;00m\u001b[38;5;132;01m{\u001b[39;00mpath\u001b[38;5;132;01m}\u001b[39;00m\u001b[38;5;124m\"\u001b[39m\n\u001b[0;32m--> 333\u001b[0m \u001b[38;5;28;01mreturn\u001b[39;00m \u001b[38;5;28;43mself\u001b[39;49m\u001b[38;5;241;43m.\u001b[39;49m\u001b[43m_request\u001b[49m\u001b[43m(\u001b[49m\u001b[43mcommand_info\u001b[49m\u001b[43m[\u001b[49m\u001b[38;5;241;43m0\u001b[39;49m\u001b[43m]\u001b[49m\u001b[43m,\u001b[49m\u001b[43m \u001b[49m\u001b[43murl\u001b[49m\u001b[43m,\u001b[49m\u001b[43m \u001b[49m\u001b[43mbody\u001b[49m\u001b[38;5;241;43m=\u001b[39;49m\u001b[43mdata\u001b[49m\u001b[43m)\u001b[49m\n",
      "File \u001b[0;32m~/.pyenv/versions/3.8.12/envs/kindlescrapper/lib/python3.8/site-packages/selenium/webdriver/remote/remote_connection.py:355\u001b[0m, in \u001b[0;36mRemoteConnection._request\u001b[0;34m(self, method, url, body)\u001b[0m\n\u001b[1;32m    352\u001b[0m     body \u001b[38;5;241m=\u001b[39m \u001b[38;5;28;01mNone\u001b[39;00m\n\u001b[1;32m    354\u001b[0m \u001b[38;5;28;01mif\u001b[39;00m \u001b[38;5;28mself\u001b[39m\u001b[38;5;241m.\u001b[39mkeep_alive:\n\u001b[0;32m--> 355\u001b[0m     resp \u001b[38;5;241m=\u001b[39m \u001b[38;5;28;43mself\u001b[39;49m\u001b[38;5;241;43m.\u001b[39;49m\u001b[43m_conn\u001b[49m\u001b[38;5;241;43m.\u001b[39;49m\u001b[43mrequest\u001b[49m\u001b[43m(\u001b[49m\u001b[43mmethod\u001b[49m\u001b[43m,\u001b[49m\u001b[43m \u001b[49m\u001b[43murl\u001b[49m\u001b[43m,\u001b[49m\u001b[43m \u001b[49m\u001b[43mbody\u001b[49m\u001b[38;5;241;43m=\u001b[39;49m\u001b[43mbody\u001b[49m\u001b[43m,\u001b[49m\u001b[43m \u001b[49m\u001b[43mheaders\u001b[49m\u001b[38;5;241;43m=\u001b[39;49m\u001b[43mheaders\u001b[49m\u001b[43m)\u001b[49m\n\u001b[1;32m    356\u001b[0m     statuscode \u001b[38;5;241m=\u001b[39m resp\u001b[38;5;241m.\u001b[39mstatus\n\u001b[1;32m    357\u001b[0m \u001b[38;5;28;01melse\u001b[39;00m:\n",
      "File \u001b[0;32m~/.pyenv/versions/3.8.12/envs/kindlescrapper/lib/python3.8/site-packages/urllib3/request.py:78\u001b[0m, in \u001b[0;36mRequestMethods.request\u001b[0;34m(self, method, url, fields, headers, **urlopen_kw)\u001b[0m\n\u001b[1;32m     74\u001b[0m     \u001b[38;5;28;01mreturn\u001b[39;00m \u001b[38;5;28mself\u001b[39m\u001b[38;5;241m.\u001b[39mrequest_encode_url(\n\u001b[1;32m     75\u001b[0m         method, url, fields\u001b[38;5;241m=\u001b[39mfields, headers\u001b[38;5;241m=\u001b[39mheaders, \u001b[38;5;241m*\u001b[39m\u001b[38;5;241m*\u001b[39murlopen_kw\n\u001b[1;32m     76\u001b[0m     )\n\u001b[1;32m     77\u001b[0m \u001b[38;5;28;01melse\u001b[39;00m:\n\u001b[0;32m---> 78\u001b[0m     \u001b[38;5;28;01mreturn\u001b[39;00m \u001b[38;5;28;43mself\u001b[39;49m\u001b[38;5;241;43m.\u001b[39;49m\u001b[43mrequest_encode_body\u001b[49m\u001b[43m(\u001b[49m\n\u001b[1;32m     79\u001b[0m \u001b[43m        \u001b[49m\u001b[43mmethod\u001b[49m\u001b[43m,\u001b[49m\u001b[43m \u001b[49m\u001b[43murl\u001b[49m\u001b[43m,\u001b[49m\u001b[43m \u001b[49m\u001b[43mfields\u001b[49m\u001b[38;5;241;43m=\u001b[39;49m\u001b[43mfields\u001b[49m\u001b[43m,\u001b[49m\u001b[43m \u001b[49m\u001b[43mheaders\u001b[49m\u001b[38;5;241;43m=\u001b[39;49m\u001b[43mheaders\u001b[49m\u001b[43m,\u001b[49m\u001b[43m \u001b[49m\u001b[38;5;241;43m*\u001b[39;49m\u001b[38;5;241;43m*\u001b[39;49m\u001b[43murlopen_kw\u001b[49m\n\u001b[1;32m     80\u001b[0m \u001b[43m    \u001b[49m\u001b[43m)\u001b[49m\n",
      "File \u001b[0;32m~/.pyenv/versions/3.8.12/envs/kindlescrapper/lib/python3.8/site-packages/urllib3/request.py:170\u001b[0m, in \u001b[0;36mRequestMethods.request_encode_body\u001b[0;34m(self, method, url, fields, headers, encode_multipart, multipart_boundary, **urlopen_kw)\u001b[0m\n\u001b[1;32m    167\u001b[0m extra_kw[\u001b[38;5;124m\"\u001b[39m\u001b[38;5;124mheaders\u001b[39m\u001b[38;5;124m\"\u001b[39m]\u001b[38;5;241m.\u001b[39mupdate(headers)\n\u001b[1;32m    168\u001b[0m extra_kw\u001b[38;5;241m.\u001b[39mupdate(urlopen_kw)\n\u001b[0;32m--> 170\u001b[0m \u001b[38;5;28;01mreturn\u001b[39;00m \u001b[38;5;28;43mself\u001b[39;49m\u001b[38;5;241;43m.\u001b[39;49m\u001b[43murlopen\u001b[49m\u001b[43m(\u001b[49m\u001b[43mmethod\u001b[49m\u001b[43m,\u001b[49m\u001b[43m \u001b[49m\u001b[43murl\u001b[49m\u001b[43m,\u001b[49m\u001b[43m \u001b[49m\u001b[38;5;241;43m*\u001b[39;49m\u001b[38;5;241;43m*\u001b[39;49m\u001b[43mextra_kw\u001b[49m\u001b[43m)\u001b[49m\n",
      "File \u001b[0;32m~/.pyenv/versions/3.8.12/envs/kindlescrapper/lib/python3.8/site-packages/urllib3/poolmanager.py:376\u001b[0m, in \u001b[0;36mPoolManager.urlopen\u001b[0;34m(self, method, url, redirect, **kw)\u001b[0m\n\u001b[1;32m    374\u001b[0m     response \u001b[38;5;241m=\u001b[39m conn\u001b[38;5;241m.\u001b[39murlopen(method, url, \u001b[38;5;241m*\u001b[39m\u001b[38;5;241m*\u001b[39mkw)\n\u001b[1;32m    375\u001b[0m \u001b[38;5;28;01melse\u001b[39;00m:\n\u001b[0;32m--> 376\u001b[0m     response \u001b[38;5;241m=\u001b[39m \u001b[43mconn\u001b[49m\u001b[38;5;241;43m.\u001b[39;49m\u001b[43murlopen\u001b[49m\u001b[43m(\u001b[49m\u001b[43mmethod\u001b[49m\u001b[43m,\u001b[49m\u001b[43m \u001b[49m\u001b[43mu\u001b[49m\u001b[38;5;241;43m.\u001b[39;49m\u001b[43mrequest_uri\u001b[49m\u001b[43m,\u001b[49m\u001b[43m \u001b[49m\u001b[38;5;241;43m*\u001b[39;49m\u001b[38;5;241;43m*\u001b[39;49m\u001b[43mkw\u001b[49m\u001b[43m)\u001b[49m\n\u001b[1;32m    378\u001b[0m redirect_location \u001b[38;5;241m=\u001b[39m redirect \u001b[38;5;129;01mand\u001b[39;00m response\u001b[38;5;241m.\u001b[39mget_redirect_location()\n\u001b[1;32m    379\u001b[0m \u001b[38;5;28;01mif\u001b[39;00m \u001b[38;5;129;01mnot\u001b[39;00m redirect_location:\n",
      "File \u001b[0;32m~/.pyenv/versions/3.8.12/envs/kindlescrapper/lib/python3.8/site-packages/urllib3/connectionpool.py:813\u001b[0m, in \u001b[0;36mHTTPConnectionPool.urlopen\u001b[0;34m(self, method, url, body, headers, retries, redirect, assert_same_host, timeout, pool_timeout, release_conn, chunked, body_pos, **response_kw)\u001b[0m\n\u001b[1;32m    808\u001b[0m \u001b[38;5;28;01mif\u001b[39;00m \u001b[38;5;129;01mnot\u001b[39;00m conn:\n\u001b[1;32m    809\u001b[0m     \u001b[38;5;66;03m# Try again\u001b[39;00m\n\u001b[1;32m    810\u001b[0m     log\u001b[38;5;241m.\u001b[39mwarning(\n\u001b[1;32m    811\u001b[0m         \u001b[38;5;124m\"\u001b[39m\u001b[38;5;124mRetrying (\u001b[39m\u001b[38;5;132;01m%r\u001b[39;00m\u001b[38;5;124m) after connection broken by \u001b[39m\u001b[38;5;124m'\u001b[39m\u001b[38;5;132;01m%r\u001b[39;00m\u001b[38;5;124m'\u001b[39m\u001b[38;5;124m: \u001b[39m\u001b[38;5;132;01m%s\u001b[39;00m\u001b[38;5;124m\"\u001b[39m, retries, err, url\n\u001b[1;32m    812\u001b[0m     )\n\u001b[0;32m--> 813\u001b[0m     \u001b[38;5;28;01mreturn\u001b[39;00m \u001b[38;5;28;43mself\u001b[39;49m\u001b[38;5;241;43m.\u001b[39;49m\u001b[43murlopen\u001b[49m\u001b[43m(\u001b[49m\n\u001b[1;32m    814\u001b[0m \u001b[43m        \u001b[49m\u001b[43mmethod\u001b[49m\u001b[43m,\u001b[49m\n\u001b[1;32m    815\u001b[0m \u001b[43m        \u001b[49m\u001b[43murl\u001b[49m\u001b[43m,\u001b[49m\n\u001b[1;32m    816\u001b[0m \u001b[43m        \u001b[49m\u001b[43mbody\u001b[49m\u001b[43m,\u001b[49m\n\u001b[1;32m    817\u001b[0m \u001b[43m        \u001b[49m\u001b[43mheaders\u001b[49m\u001b[43m,\u001b[49m\n\u001b[1;32m    818\u001b[0m \u001b[43m        \u001b[49m\u001b[43mretries\u001b[49m\u001b[43m,\u001b[49m\n\u001b[1;32m    819\u001b[0m \u001b[43m        \u001b[49m\u001b[43mredirect\u001b[49m\u001b[43m,\u001b[49m\n\u001b[1;32m    820\u001b[0m \u001b[43m        \u001b[49m\u001b[43massert_same_host\u001b[49m\u001b[43m,\u001b[49m\n\u001b[1;32m    821\u001b[0m \u001b[43m        \u001b[49m\u001b[43mtimeout\u001b[49m\u001b[38;5;241;43m=\u001b[39;49m\u001b[43mtimeout\u001b[49m\u001b[43m,\u001b[49m\n\u001b[1;32m    822\u001b[0m \u001b[43m        \u001b[49m\u001b[43mpool_timeout\u001b[49m\u001b[38;5;241;43m=\u001b[39;49m\u001b[43mpool_timeout\u001b[49m\u001b[43m,\u001b[49m\n\u001b[1;32m    823\u001b[0m \u001b[43m        \u001b[49m\u001b[43mrelease_conn\u001b[49m\u001b[38;5;241;43m=\u001b[39;49m\u001b[43mrelease_conn\u001b[49m\u001b[43m,\u001b[49m\n\u001b[1;32m    824\u001b[0m \u001b[43m        \u001b[49m\u001b[43mchunked\u001b[49m\u001b[38;5;241;43m=\u001b[39;49m\u001b[43mchunked\u001b[49m\u001b[43m,\u001b[49m\n\u001b[1;32m    825\u001b[0m \u001b[43m        \u001b[49m\u001b[43mbody_pos\u001b[49m\u001b[38;5;241;43m=\u001b[39;49m\u001b[43mbody_pos\u001b[49m\u001b[43m,\u001b[49m\n\u001b[1;32m    826\u001b[0m \u001b[43m        \u001b[49m\u001b[38;5;241;43m*\u001b[39;49m\u001b[38;5;241;43m*\u001b[39;49m\u001b[43mresponse_kw\u001b[49m\n\u001b[1;32m    827\u001b[0m \u001b[43m    \u001b[49m\u001b[43m)\u001b[49m\n\u001b[1;32m    829\u001b[0m \u001b[38;5;66;03m# Handle redirect?\u001b[39;00m\n\u001b[1;32m    830\u001b[0m redirect_location \u001b[38;5;241m=\u001b[39m redirect \u001b[38;5;129;01mand\u001b[39;00m response\u001b[38;5;241m.\u001b[39mget_redirect_location()\n",
      "File \u001b[0;32m~/.pyenv/versions/3.8.12/envs/kindlescrapper/lib/python3.8/site-packages/urllib3/connectionpool.py:813\u001b[0m, in \u001b[0;36mHTTPConnectionPool.urlopen\u001b[0;34m(self, method, url, body, headers, retries, redirect, assert_same_host, timeout, pool_timeout, release_conn, chunked, body_pos, **response_kw)\u001b[0m\n\u001b[1;32m    808\u001b[0m \u001b[38;5;28;01mif\u001b[39;00m \u001b[38;5;129;01mnot\u001b[39;00m conn:\n\u001b[1;32m    809\u001b[0m     \u001b[38;5;66;03m# Try again\u001b[39;00m\n\u001b[1;32m    810\u001b[0m     log\u001b[38;5;241m.\u001b[39mwarning(\n\u001b[1;32m    811\u001b[0m         \u001b[38;5;124m\"\u001b[39m\u001b[38;5;124mRetrying (\u001b[39m\u001b[38;5;132;01m%r\u001b[39;00m\u001b[38;5;124m) after connection broken by \u001b[39m\u001b[38;5;124m'\u001b[39m\u001b[38;5;132;01m%r\u001b[39;00m\u001b[38;5;124m'\u001b[39m\u001b[38;5;124m: \u001b[39m\u001b[38;5;132;01m%s\u001b[39;00m\u001b[38;5;124m\"\u001b[39m, retries, err, url\n\u001b[1;32m    812\u001b[0m     )\n\u001b[0;32m--> 813\u001b[0m     \u001b[38;5;28;01mreturn\u001b[39;00m \u001b[38;5;28;43mself\u001b[39;49m\u001b[38;5;241;43m.\u001b[39;49m\u001b[43murlopen\u001b[49m\u001b[43m(\u001b[49m\n\u001b[1;32m    814\u001b[0m \u001b[43m        \u001b[49m\u001b[43mmethod\u001b[49m\u001b[43m,\u001b[49m\n\u001b[1;32m    815\u001b[0m \u001b[43m        \u001b[49m\u001b[43murl\u001b[49m\u001b[43m,\u001b[49m\n\u001b[1;32m    816\u001b[0m \u001b[43m        \u001b[49m\u001b[43mbody\u001b[49m\u001b[43m,\u001b[49m\n\u001b[1;32m    817\u001b[0m \u001b[43m        \u001b[49m\u001b[43mheaders\u001b[49m\u001b[43m,\u001b[49m\n\u001b[1;32m    818\u001b[0m \u001b[43m        \u001b[49m\u001b[43mretries\u001b[49m\u001b[43m,\u001b[49m\n\u001b[1;32m    819\u001b[0m \u001b[43m        \u001b[49m\u001b[43mredirect\u001b[49m\u001b[43m,\u001b[49m\n\u001b[1;32m    820\u001b[0m \u001b[43m        \u001b[49m\u001b[43massert_same_host\u001b[49m\u001b[43m,\u001b[49m\n\u001b[1;32m    821\u001b[0m \u001b[43m        \u001b[49m\u001b[43mtimeout\u001b[49m\u001b[38;5;241;43m=\u001b[39;49m\u001b[43mtimeout\u001b[49m\u001b[43m,\u001b[49m\n\u001b[1;32m    822\u001b[0m \u001b[43m        \u001b[49m\u001b[43mpool_timeout\u001b[49m\u001b[38;5;241;43m=\u001b[39;49m\u001b[43mpool_timeout\u001b[49m\u001b[43m,\u001b[49m\n\u001b[1;32m    823\u001b[0m \u001b[43m        \u001b[49m\u001b[43mrelease_conn\u001b[49m\u001b[38;5;241;43m=\u001b[39;49m\u001b[43mrelease_conn\u001b[49m\u001b[43m,\u001b[49m\n\u001b[1;32m    824\u001b[0m \u001b[43m        \u001b[49m\u001b[43mchunked\u001b[49m\u001b[38;5;241;43m=\u001b[39;49m\u001b[43mchunked\u001b[49m\u001b[43m,\u001b[49m\n\u001b[1;32m    825\u001b[0m \u001b[43m        \u001b[49m\u001b[43mbody_pos\u001b[49m\u001b[38;5;241;43m=\u001b[39;49m\u001b[43mbody_pos\u001b[49m\u001b[43m,\u001b[49m\n\u001b[1;32m    826\u001b[0m \u001b[43m        \u001b[49m\u001b[38;5;241;43m*\u001b[39;49m\u001b[38;5;241;43m*\u001b[39;49m\u001b[43mresponse_kw\u001b[49m\n\u001b[1;32m    827\u001b[0m \u001b[43m    \u001b[49m\u001b[43m)\u001b[49m\n\u001b[1;32m    829\u001b[0m \u001b[38;5;66;03m# Handle redirect?\u001b[39;00m\n\u001b[1;32m    830\u001b[0m redirect_location \u001b[38;5;241m=\u001b[39m redirect \u001b[38;5;129;01mand\u001b[39;00m response\u001b[38;5;241m.\u001b[39mget_redirect_location()\n",
      "File \u001b[0;32m~/.pyenv/versions/3.8.12/envs/kindlescrapper/lib/python3.8/site-packages/urllib3/connectionpool.py:813\u001b[0m, in \u001b[0;36mHTTPConnectionPool.urlopen\u001b[0;34m(self, method, url, body, headers, retries, redirect, assert_same_host, timeout, pool_timeout, release_conn, chunked, body_pos, **response_kw)\u001b[0m\n\u001b[1;32m    808\u001b[0m \u001b[38;5;28;01mif\u001b[39;00m \u001b[38;5;129;01mnot\u001b[39;00m conn:\n\u001b[1;32m    809\u001b[0m     \u001b[38;5;66;03m# Try again\u001b[39;00m\n\u001b[1;32m    810\u001b[0m     log\u001b[38;5;241m.\u001b[39mwarning(\n\u001b[1;32m    811\u001b[0m         \u001b[38;5;124m\"\u001b[39m\u001b[38;5;124mRetrying (\u001b[39m\u001b[38;5;132;01m%r\u001b[39;00m\u001b[38;5;124m) after connection broken by \u001b[39m\u001b[38;5;124m'\u001b[39m\u001b[38;5;132;01m%r\u001b[39;00m\u001b[38;5;124m'\u001b[39m\u001b[38;5;124m: \u001b[39m\u001b[38;5;132;01m%s\u001b[39;00m\u001b[38;5;124m\"\u001b[39m, retries, err, url\n\u001b[1;32m    812\u001b[0m     )\n\u001b[0;32m--> 813\u001b[0m     \u001b[38;5;28;01mreturn\u001b[39;00m \u001b[38;5;28;43mself\u001b[39;49m\u001b[38;5;241;43m.\u001b[39;49m\u001b[43murlopen\u001b[49m\u001b[43m(\u001b[49m\n\u001b[1;32m    814\u001b[0m \u001b[43m        \u001b[49m\u001b[43mmethod\u001b[49m\u001b[43m,\u001b[49m\n\u001b[1;32m    815\u001b[0m \u001b[43m        \u001b[49m\u001b[43murl\u001b[49m\u001b[43m,\u001b[49m\n\u001b[1;32m    816\u001b[0m \u001b[43m        \u001b[49m\u001b[43mbody\u001b[49m\u001b[43m,\u001b[49m\n\u001b[1;32m    817\u001b[0m \u001b[43m        \u001b[49m\u001b[43mheaders\u001b[49m\u001b[43m,\u001b[49m\n\u001b[1;32m    818\u001b[0m \u001b[43m        \u001b[49m\u001b[43mretries\u001b[49m\u001b[43m,\u001b[49m\n\u001b[1;32m    819\u001b[0m \u001b[43m        \u001b[49m\u001b[43mredirect\u001b[49m\u001b[43m,\u001b[49m\n\u001b[1;32m    820\u001b[0m \u001b[43m        \u001b[49m\u001b[43massert_same_host\u001b[49m\u001b[43m,\u001b[49m\n\u001b[1;32m    821\u001b[0m \u001b[43m        \u001b[49m\u001b[43mtimeout\u001b[49m\u001b[38;5;241;43m=\u001b[39;49m\u001b[43mtimeout\u001b[49m\u001b[43m,\u001b[49m\n\u001b[1;32m    822\u001b[0m \u001b[43m        \u001b[49m\u001b[43mpool_timeout\u001b[49m\u001b[38;5;241;43m=\u001b[39;49m\u001b[43mpool_timeout\u001b[49m\u001b[43m,\u001b[49m\n\u001b[1;32m    823\u001b[0m \u001b[43m        \u001b[49m\u001b[43mrelease_conn\u001b[49m\u001b[38;5;241;43m=\u001b[39;49m\u001b[43mrelease_conn\u001b[49m\u001b[43m,\u001b[49m\n\u001b[1;32m    824\u001b[0m \u001b[43m        \u001b[49m\u001b[43mchunked\u001b[49m\u001b[38;5;241;43m=\u001b[39;49m\u001b[43mchunked\u001b[49m\u001b[43m,\u001b[49m\n\u001b[1;32m    825\u001b[0m \u001b[43m        \u001b[49m\u001b[43mbody_pos\u001b[49m\u001b[38;5;241;43m=\u001b[39;49m\u001b[43mbody_pos\u001b[49m\u001b[43m,\u001b[49m\n\u001b[1;32m    826\u001b[0m \u001b[43m        \u001b[49m\u001b[38;5;241;43m*\u001b[39;49m\u001b[38;5;241;43m*\u001b[39;49m\u001b[43mresponse_kw\u001b[49m\n\u001b[1;32m    827\u001b[0m \u001b[43m    \u001b[49m\u001b[43m)\u001b[49m\n\u001b[1;32m    829\u001b[0m \u001b[38;5;66;03m# Handle redirect?\u001b[39;00m\n\u001b[1;32m    830\u001b[0m redirect_location \u001b[38;5;241m=\u001b[39m redirect \u001b[38;5;129;01mand\u001b[39;00m response\u001b[38;5;241m.\u001b[39mget_redirect_location()\n",
      "File \u001b[0;32m~/.pyenv/versions/3.8.12/envs/kindlescrapper/lib/python3.8/site-packages/urllib3/connectionpool.py:785\u001b[0m, in \u001b[0;36mHTTPConnectionPool.urlopen\u001b[0;34m(self, method, url, body, headers, retries, redirect, assert_same_host, timeout, pool_timeout, release_conn, chunked, body_pos, **response_kw)\u001b[0m\n\u001b[1;32m    782\u001b[0m \u001b[38;5;28;01melif\u001b[39;00m \u001b[38;5;28misinstance\u001b[39m(e, (SocketError, HTTPException)):\n\u001b[1;32m    783\u001b[0m     e \u001b[38;5;241m=\u001b[39m ProtocolError(\u001b[38;5;124m\"\u001b[39m\u001b[38;5;124mConnection aborted.\u001b[39m\u001b[38;5;124m\"\u001b[39m, e)\n\u001b[0;32m--> 785\u001b[0m retries \u001b[38;5;241m=\u001b[39m \u001b[43mretries\u001b[49m\u001b[38;5;241;43m.\u001b[39;49m\u001b[43mincrement\u001b[49m\u001b[43m(\u001b[49m\n\u001b[1;32m    786\u001b[0m \u001b[43m    \u001b[49m\u001b[43mmethod\u001b[49m\u001b[43m,\u001b[49m\u001b[43m \u001b[49m\u001b[43murl\u001b[49m\u001b[43m,\u001b[49m\u001b[43m \u001b[49m\u001b[43merror\u001b[49m\u001b[38;5;241;43m=\u001b[39;49m\u001b[43me\u001b[49m\u001b[43m,\u001b[49m\u001b[43m \u001b[49m\u001b[43m_pool\u001b[49m\u001b[38;5;241;43m=\u001b[39;49m\u001b[38;5;28;43mself\u001b[39;49m\u001b[43m,\u001b[49m\u001b[43m \u001b[49m\u001b[43m_stacktrace\u001b[49m\u001b[38;5;241;43m=\u001b[39;49m\u001b[43msys\u001b[49m\u001b[38;5;241;43m.\u001b[39;49m\u001b[43mexc_info\u001b[49m\u001b[43m(\u001b[49m\u001b[43m)\u001b[49m\u001b[43m[\u001b[49m\u001b[38;5;241;43m2\u001b[39;49m\u001b[43m]\u001b[49m\n\u001b[1;32m    787\u001b[0m \u001b[43m\u001b[49m\u001b[43m)\u001b[49m\n\u001b[1;32m    788\u001b[0m retries\u001b[38;5;241m.\u001b[39msleep()\n\u001b[1;32m    790\u001b[0m \u001b[38;5;66;03m# Keep track of the error for the retry warning.\u001b[39;00m\n",
      "File \u001b[0;32m~/.pyenv/versions/3.8.12/envs/kindlescrapper/lib/python3.8/site-packages/urllib3/util/retry.py:592\u001b[0m, in \u001b[0;36mRetry.increment\u001b[0;34m(self, method, url, response, error, _pool, _stacktrace)\u001b[0m\n\u001b[1;32m    581\u001b[0m new_retry \u001b[38;5;241m=\u001b[39m \u001b[38;5;28mself\u001b[39m\u001b[38;5;241m.\u001b[39mnew(\n\u001b[1;32m    582\u001b[0m     total\u001b[38;5;241m=\u001b[39mtotal,\n\u001b[1;32m    583\u001b[0m     connect\u001b[38;5;241m=\u001b[39mconnect,\n\u001b[0;32m   (...)\u001b[0m\n\u001b[1;32m    588\u001b[0m     history\u001b[38;5;241m=\u001b[39mhistory,\n\u001b[1;32m    589\u001b[0m )\n\u001b[1;32m    591\u001b[0m \u001b[38;5;28;01mif\u001b[39;00m new_retry\u001b[38;5;241m.\u001b[39mis_exhausted():\n\u001b[0;32m--> 592\u001b[0m     \u001b[38;5;28;01mraise\u001b[39;00m MaxRetryError(_pool, url, error \u001b[38;5;129;01mor\u001b[39;00m ResponseError(cause))\n\u001b[1;32m    594\u001b[0m log\u001b[38;5;241m.\u001b[39mdebug(\u001b[38;5;124m\"\u001b[39m\u001b[38;5;124mIncremented Retry for (url=\u001b[39m\u001b[38;5;124m'\u001b[39m\u001b[38;5;132;01m%s\u001b[39;00m\u001b[38;5;124m'\u001b[39m\u001b[38;5;124m): \u001b[39m\u001b[38;5;132;01m%r\u001b[39;00m\u001b[38;5;124m\"\u001b[39m, url, new_retry)\n\u001b[1;32m    596\u001b[0m \u001b[38;5;28;01mreturn\u001b[39;00m new_retry\n",
      "\u001b[0;31mMaxRetryError\u001b[0m: HTTPConnectionPool(host='localhost', port=59669): Max retries exceeded with url: /session/9e3cb65ad3cd2f2343c373283699426c/url (Caused by NewConnectionError('<urllib3.connection.HTTPConnection object at 0x7f19c6d30cd0>: Failed to establish a new connection: [Errno 111] Connection refused'))"
     ]
    }
   ],
   "source": [
    "listes_des_livres=[]\n",
    "browser.get(url_page_2) #navigue sur une page avec tous les lien du site\n",
    "html_page_listing = browser.page_source # permet de prendre le code html de la page \n",
    "soup = BeautifulSoup(html_page_listing , 'lxml') # créer la soupe avec le parser\n",
    "livres = soup.find_all('div' ,{ 'data-asin':True, 'data-component-type' : 's-search-result'} )\n",
    "#tous les livres de la pages\n",
    "for livre in livres:\n",
    "     url_du_livre = 'https://www.amazon.com'+livre.h2.a.get('href')\n",
    "     encryper_depuis_url_page_livre(url_du_livre)\n",
    "    # le numéro ASIN correspeond à la ref du livre sur amazon\n",
    "# ASIN=B098652LH8P"
   ]
  },
  {
   "cell_type": "code",
   "execution_count": 14,
   "id": "68b2a450",
   "metadata": {},
   "outputs": [],
   "source": [
    "url_pb = \"https://www.amazon.com/Quer%C3%ADamos-Calatrava-arquitect%C3%B3nicos-seducci%C3%B3n-Cr%C3%B3nicas-ebook/dp/B01LZXUQNV/ref=sr_1_20?qid=1652824900&rnid=157630011&s=digital-text&sr=1-20\""
   ]
  },
  {
   "cell_type": "code",
   "execution_count": 23,
   "id": "c0d0f48f",
   "metadata": {},
   "outputs": [
    {
     "name": "stdout",
     "output_type": "stream",
     "text": [
      "[{'url': 'https://www.amazon.com/Quer%C3%ADamos-Calatrava-arquitect%C3%B3nicos-seducci%C3%B3n-Cr%C3%B3nicas-ebook/dp/B01LZXUQNV/ref=sr_1_20?qid=1652824900&rnid=157630011&s=digital-text&sr=1-20', 'titre': ' Queríamos un Calatrava. Viajes arquitectónicos por la seducción y el repudio (Crónicas nº 112) (Spanish Edition) ', 'rang': '2227572', 'prix': None}]\n"
     ]
    }
   ],
   "source": [
    "encryper_depuis_url_page_livre(url_pb)"
   ]
  },
  {
   "cell_type": "code",
   "execution_count": 17,
   "id": "297c2d66",
   "metadata": {},
   "outputs": [],
   "source": [
    "url_du_livre = 'https://www.amazon.com'+livres[2].h2.a.get('href')"
   ]
  },
  {
   "cell_type": "code",
   "execution_count": 18,
   "id": "81b6899e",
   "metadata": {
    "scrolled": true
   },
   "outputs": [
    {
     "data": {
      "text/plain": [
       "'https://www.amazon.com/ONeil-Architecture-Roger-Fullington-Endowment-ebook/dp/B07K7VMCHY/ref=sr_1_19?qid=1654981572&rnid=157630011&s=digital-text&sr=1-19'"
      ]
     },
     "execution_count": 18,
     "metadata": {},
     "output_type": "execute_result"
    }
   ],
   "source": [
    "url_du_livre"
   ]
  },
  {
   "cell_type": "code",
   "execution_count": 24,
   "id": "a4c54c20",
   "metadata": {},
   "outputs": [],
   "source": [
    "browser.get(url_du_livre)"
   ]
  },
  {
   "cell_type": "code",
   "execution_count": 25,
   "id": "cd5d3f09",
   "metadata": {},
   "outputs": [
    {
     "ename": "NameError",
     "evalue": "name 'trouver_rang' is not defined",
     "output_type": "error",
     "traceback": [
      "\u001b[0;31m---------------------------------------------------------------------------\u001b[0m",
      "\u001b[0;31mNameError\u001b[0m                                 Traceback (most recent call last)",
      "Input \u001b[0;32mIn [25]\u001b[0m, in \u001b[0;36m<cell line: 1>\u001b[0;34m()\u001b[0m\n\u001b[0;32m----> 1\u001b[0m \u001b[43mtrouver_rang\u001b[49m(\u001b[38;5;124m\"\u001b[39m\u001b[38;5;124mhttps://www.amazon.com/Minoru-Yamasaki-Humanist-Architecture-Modernist-ebook/dp/B0798MHV9R/ref=sr_1_17?qid=1652130424&rnid=157630011&s=digital-text&sr=1-17\u001b[39m\u001b[38;5;124m\"\u001b[39m)\n",
      "\u001b[0;31mNameError\u001b[0m: name 'trouver_rang' is not defined"
     ]
    }
   ],
   "source": [
    "trouver_rang(\"https://www.amazon.com/Minoru-Yamasaki-Humanist-Architecture-Modernist-ebook/dp/B0798MHV9R/ref=sr_1_17?qid=1652130424&rnid=157630011&s=digital-text&sr=1-17\")"
   ]
  },
  {
   "cell_type": "markdown",
   "id": "77958f31",
   "metadata": {},
   "source": [
    "# Fonction permettant d'incrémenter une page web\n",
    "    "
   ]
  },
  {
   "cell_type": "code",
   "execution_count": null,
   "id": "94f44a02",
   "metadata": {
    "scrolled": true
   },
   "outputs": [],
   "source": [
    "#def lire_page_suivante(url):\n",
    "url_pour_suivre =\"https://www.amazon.com/s?i=digital-text&rh=n%3A157631011&fs=true&page=2&qid=1652385543&ref=sr_pg_2\"\n"
   ]
  },
  {
   "cell_type": "markdown",
   "id": "25d4a957",
   "metadata": {},
   "source": [
    "1 - réussir à couper la chaine de caractère à gauche de \"&page=\""
   ]
  },
  {
   "cell_type": "code",
   "execution_count": null,
   "id": "261b3732",
   "metadata": {},
   "outputs": [],
   "source": [
    "i = 1"
   ]
  },
  {
   "cell_type": "code",
   "execution_count": null,
   "id": "22644236",
   "metadata": {
    "scrolled": false
   },
   "outputs": [],
   "source": [
    "url_pour_suivre.split(\"&page=\")[0] + \"&page=\" + str(i)"
   ]
  },
  {
   "cell_type": "code",
   "execution_count": null,
   "id": "16d9f8a5",
   "metadata": {},
   "outputs": [],
   "source": [
    "url_a_incrementer = \"https://www.amazon.com/s?i=digital-text&rh=n%3A157631011&fs=true&page=2&qid=1653250959&ref=sr_pg_2\"\n"
   ]
  },
  {
   "cell_type": "code",
   "execution_count": null,
   "id": "4791fbd7",
   "metadata": {},
   "outputs": [],
   "source": [
    "url_a_incrementer.split(\"&page=\")[1].split(\"&qid=\")[0]"
   ]
  },
  {
   "cell_type": "code",
   "execution_count": 26,
   "id": "415599a7",
   "metadata": {},
   "outputs": [],
   "source": [
    "def incrementer_url(url):\n",
    "    url_gauche =  url.split(\"&page=\")[0]+\"&page=\"  # trouve la première partie de la chaine à gauche\n",
    "    numero_de_la_page = str(int((url.split(\"&page=\")[1].split(\"&qid=\")[0]))+1) #trouve la partie numérique, convertie en nombre et ajoute 1\n",
    "    return(str(url_gauche + numero_de_la_page) )"
   ]
  },
  {
   "cell_type": "code",
   "execution_count": 27,
   "id": "d54d943e",
   "metadata": {
    "scrolled": true
   },
   "outputs": [
    {
     "data": {
      "text/plain": [
       "'https://www.amazon.com/s?i=digital-text&rh=n%3A157631011&fs=true&page=6'"
      ]
     },
     "execution_count": 27,
     "metadata": {},
     "output_type": "execute_result"
    }
   ],
   "source": [
    "incrementer_url(\"https://www.amazon.com/s?i=digital-text&rh=n%3A157631011&fs=true&page=5\")"
   ]
  },
  {
   "cell_type": "code",
   "execution_count": 28,
   "id": "970d4d95",
   "metadata": {},
   "outputs": [
    {
     "name": "stdout",
     "output_type": "stream",
     "text": [
      "https://www.amazon.com/s?i=digital-text&rh=n%3A157631011&fs=true&page=4\n",
      "https://www.amazon.com/s?i=digital-text&rh=n%3A157631011&fs=true&page=5\n",
      "https://www.amazon.com/s?i=digital-text&rh=n%3A157631011&fs=true&page=6\n",
      "https://www.amazon.com/s?i=digital-text&rh=n%3A157631011&fs=true&page=7\n",
      "https://www.amazon.com/s?i=digital-text&rh=n%3A157631011&fs=true&page=8\n",
      "https://www.amazon.com/s?i=digital-text&rh=n%3A157631011&fs=true&page=9\n",
      "https://www.amazon.com/s?i=digital-text&rh=n%3A157631011&fs=true&page=10\n",
      "https://www.amazon.com/s?i=digital-text&rh=n%3A157631011&fs=true&page=11\n",
      "https://www.amazon.com/s?i=digital-text&rh=n%3A157631011&fs=true&page=12\n",
      "https://www.amazon.com/s?i=digital-text&rh=n%3A157631011&fs=true&page=13\n"
     ]
    }
   ],
   "source": [
    "url_test = \"https://www.amazon.com/s?i=digital-text&rh=n%3A157631011&fs=true&page=3\"\n",
    "i=0\n",
    "while i < 10 :\n",
    "    url_test = incrementer_url(url_test)\n",
    "    print(url_test)\n",
    "    i = i+1"
   ]
  },
  {
   "cell_type": "code",
   "execution_count": null,
   "id": "f31d2e02",
   "metadata": {},
   "outputs": [],
   "source": [
    "listes_des_livres=[]\n",
    "#tous les livres de la pages\n",
    "for i in range(10):\n",
    "    browser.get( url_pour_suivre.split(\"&page=\")[0] + \"&page=\" + str(i)) #navigue sur une page avec tous les liens du site\n",
    "    html_page_listing = browser.page_source # permet de prendre le code html de la page \n",
    "    soup = BeautifulSoup(html_page_listing , 'lxml') # créer la soupe avec le parser\n",
    "    livres = soup.find_all('div' ,{ 'data-asin':True, 'data-component-type' : 's-search-result'} )\n",
    "    for livre in livres:\n",
    "        url_du_livre = 'https://www.amazon.com'+livre.h2.a.get('href')\n",
    "        encryper_depuis_url_page_livre(url_du_livre) \n",
    "   "
   ]
  },
  {
   "cell_type": "code",
   "execution_count": null,
   "id": "39ecf93b",
   "metadata": {},
   "outputs": [],
   "source": [
    "url_fin = \"https://www.amazon.com/s?i=digital-text&rh=n%3A157631011&fs=true&page=74\"\n",
    "browser.get(url_fin)\n",
    "html_code = browser.page_source\n",
    "soup = BeautifulSoup(html_code , 'lxml') # créer la soupe avec le parser\n",
    "livres = soup.find_all('div' ,{ 'data-asin':True, 'data-component-type' : 's-search-result'} )\n",
    "if livres!=[]:\n",
    "    for livre in livres:\n",
    "         url_du_livre = 'https://www.amazon.com'+livre.h2.a.get('href')\n",
    "         encryper_depuis_url_page_livre(url_du_livre) \n"
   ]
  },
  {
   "cell_type": "code",
   "execution_count": null,
   "id": "833b4cae",
   "metadata": {},
   "outputs": [],
   "source": [
    "listes_des_livres=[]\n",
    "#tous les livres de la pages\n",
    "for i in range(10):\n",
    "    browser.get( url_pour_suivre.split(\"&page=\")[0] + \"&page=\" + str(i)) #navigue sur une page avec tous les liens du site\n",
    "    html_page_listing = browser.page_source # permet de prendre le code html de la page \n",
    "    soup = BeautifulSoup(html_page_listing , 'lxml') # créer la soupe avec le parser\n",
    "    livres = soup.find_all('div' ,{ 'data-asin':True, 'data-component-type' : 's-search-result'} )\n",
    "    for livre in livres:\n",
    "        url_du_livre = 'https://www.amazon.com'+livre.h2.a.get('href')\n",
    "        encryper_depuis_url_page_livre(url_du_livre) \n",
    "   "
   ]
  },
  {
   "cell_type": "code",
   "execution_count": 30,
   "id": "22a20a02",
   "metadata": {},
   "outputs": [],
   "source": [
    "import pandas as pd"
   ]
  },
  {
   "cell_type": "code",
   "execution_count": 31,
   "id": "af453ecf",
   "metadata": {},
   "outputs": [],
   "source": [
    "data = pd.read_csv(\"results.csv\")"
   ]
  },
  {
   "cell_type": "code",
   "execution_count": 32,
   "id": "1260561f",
   "metadata": {
    "scrolled": true
   },
   "outputs": [
    {
     "data": {
      "text/html": [
       "<div>\n",
       "<style scoped>\n",
       "    .dataframe tbody tr th:only-of-type {\n",
       "        vertical-align: middle;\n",
       "    }\n",
       "\n",
       "    .dataframe tbody tr th {\n",
       "        vertical-align: top;\n",
       "    }\n",
       "\n",
       "    .dataframe thead th {\n",
       "        text-align: right;\n",
       "    }\n",
       "</style>\n",
       "<table border=\"1\" class=\"dataframe\">\n",
       "  <thead>\n",
       "    <tr style=\"text-align: right;\">\n",
       "      <th></th>\n",
       "      <th>Titre</th>\n",
       "      <th>rang</th>\n",
       "      <th>prix</th>\n",
       "      <th>url</th>\n",
       "    </tr>\n",
       "  </thead>\n",
       "  <tbody>\n",
       "    <tr>\n",
       "      <th>0</th>\n",
       "      <td>A Place of My Own: The Architecture of Daydre...</td>\n",
       "      <td>263356.0</td>\n",
       "      <td>10.0</td>\n",
       "      <td>https://www.amazon.com/Place-My-Own-Architectu...</td>\n",
       "    </tr>\n",
       "    <tr>\n",
       "      <th>1</th>\n",
       "      <td>The $12 Million Stuffed Shark: The Curious Ec...</td>\n",
       "      <td>261992.0</td>\n",
       "      <td>1.0</td>\n",
       "      <td>https://www.amazon.com/Million-Stuffed-Shark-E...</td>\n",
       "    </tr>\n",
       "    <tr>\n",
       "      <th>2</th>\n",
       "      <td>The Gardner Heist: The True Story of the Worl...</td>\n",
       "      <td>304142.0</td>\n",
       "      <td>12.0</td>\n",
       "      <td>https://www.amazon.com/Gardner-Heist-Worlds-La...</td>\n",
       "    </tr>\n",
       "    <tr>\n",
       "      <th>3</th>\n",
       "      <td>Stoicism: How to Use Stoic Philosophy to Find...</td>\n",
       "      <td>118329.0</td>\n",
       "      <td>3.0</td>\n",
       "      <td>https://www.amazon.com/Stoicism-Stoic-Philosop...</td>\n",
       "    </tr>\n",
       "    <tr>\n",
       "      <th>4</th>\n",
       "      <td>Confessions Of an Art Addict</td>\n",
       "      <td>581361.0</td>\n",
       "      <td>4.0</td>\n",
       "      <td>https://www.amazon.com/Confessions-Art-Addict-...</td>\n",
       "    </tr>\n",
       "    <tr>\n",
       "      <th>...</th>\n",
       "      <td>...</td>\n",
       "      <td>...</td>\n",
       "      <td>...</td>\n",
       "      <td>...</td>\n",
       "    </tr>\n",
       "    <tr>\n",
       "      <th>315</th>\n",
       "      <td>Lives in Architecture: Nigel Coates</td>\n",
       "      <td>1244260.0</td>\n",
       "      <td>NaN</td>\n",
       "      <td>https://www.amazon.com/Lives-Architecture-Nige...</td>\n",
       "    </tr>\n",
       "    <tr>\n",
       "      <th>316</th>\n",
       "      <td>Ambiguous Territory: Architecture  Landscape ...</td>\n",
       "      <td>668101.0</td>\n",
       "      <td>14.0</td>\n",
       "      <td>https://www.amazon.com/Ambiguous-Territory-Arc...</td>\n",
       "    </tr>\n",
       "    <tr>\n",
       "      <th>317</th>\n",
       "      <td>O'Neil Ford on Architecture (Roger Fullington...</td>\n",
       "      <td>625873.0</td>\n",
       "      <td>NaN</td>\n",
       "      <td>https://www.amazon.com/ONeil-Architecture-Roge...</td>\n",
       "    </tr>\n",
       "    <tr>\n",
       "      <th>318</th>\n",
       "      <td>Making Magic: The Marion Mahony Griffin Story</td>\n",
       "      <td>823445.0</td>\n",
       "      <td>21.0</td>\n",
       "      <td>https://www.amazon.com/Making-Magic-Marion-Mah...</td>\n",
       "    </tr>\n",
       "    <tr>\n",
       "      <th>319</th>\n",
       "      <td>Queríamos un Calatrava. Viajes arquitectónico...</td>\n",
       "      <td>2227572.0</td>\n",
       "      <td>NaN</td>\n",
       "      <td>https://www.amazon.com/Quer%C3%ADamos-Calatrav...</td>\n",
       "    </tr>\n",
       "  </tbody>\n",
       "</table>\n",
       "<p>320 rows × 4 columns</p>\n",
       "</div>"
      ],
      "text/plain": [
       "                                                 Titre       rang  prix  \\\n",
       "0     A Place of My Own: The Architecture of Daydre...   263356.0  10.0   \n",
       "1     The $12 Million Stuffed Shark: The Curious Ec...   261992.0   1.0   \n",
       "2     The Gardner Heist: The True Story of the Worl...   304142.0  12.0   \n",
       "3     Stoicism: How to Use Stoic Philosophy to Find...   118329.0   3.0   \n",
       "4                        Confessions Of an Art Addict    581361.0   4.0   \n",
       "..                                                 ...        ...   ...   \n",
       "315               Lives in Architecture: Nigel Coates   1244260.0   NaN   \n",
       "316   Ambiguous Territory: Architecture  Landscape ...   668101.0  14.0   \n",
       "317   O'Neil Ford on Architecture (Roger Fullington...   625873.0   NaN   \n",
       "318     Making Magic: The Marion Mahony Griffin Story    823445.0  21.0   \n",
       "319   Queríamos un Calatrava. Viajes arquitectónico...  2227572.0   NaN   \n",
       "\n",
       "                                                   url  \n",
       "0    https://www.amazon.com/Place-My-Own-Architectu...  \n",
       "1    https://www.amazon.com/Million-Stuffed-Shark-E...  \n",
       "2    https://www.amazon.com/Gardner-Heist-Worlds-La...  \n",
       "3    https://www.amazon.com/Stoicism-Stoic-Philosop...  \n",
       "4    https://www.amazon.com/Confessions-Art-Addict-...  \n",
       "..                                                 ...  \n",
       "315  https://www.amazon.com/Lives-Architecture-Nige...  \n",
       "316  https://www.amazon.com/Ambiguous-Territory-Arc...  \n",
       "317  https://www.amazon.com/ONeil-Architecture-Roge...  \n",
       "318  https://www.amazon.com/Making-Magic-Marion-Mah...  \n",
       "319  https://www.amazon.com/Quer%C3%ADamos-Calatrav...  \n",
       "\n",
       "[320 rows x 4 columns]"
      ]
     },
     "execution_count": 32,
     "metadata": {},
     "output_type": "execute_result"
    }
   ],
   "source": [
    "data"
   ]
  },
  {
   "cell_type": "code",
   "execution_count": 33,
   "id": "01357be9",
   "metadata": {},
   "outputs": [],
   "source": [
    "data2 = data.drop_duplicates()"
   ]
  },
  {
   "cell_type": "code",
   "execution_count": 34,
   "id": "480c3494",
   "metadata": {},
   "outputs": [
    {
     "data": {
      "text/html": [
       "<div>\n",
       "<style scoped>\n",
       "    .dataframe tbody tr th:only-of-type {\n",
       "        vertical-align: middle;\n",
       "    }\n",
       "\n",
       "    .dataframe tbody tr th {\n",
       "        vertical-align: top;\n",
       "    }\n",
       "\n",
       "    .dataframe thead th {\n",
       "        text-align: right;\n",
       "    }\n",
       "</style>\n",
       "<table border=\"1\" class=\"dataframe\">\n",
       "  <thead>\n",
       "    <tr style=\"text-align: right;\">\n",
       "      <th></th>\n",
       "      <th>Titre</th>\n",
       "      <th>rang</th>\n",
       "      <th>prix</th>\n",
       "      <th>url</th>\n",
       "    </tr>\n",
       "  </thead>\n",
       "  <tbody>\n",
       "    <tr>\n",
       "      <th>0</th>\n",
       "      <td>A Place of My Own: The Architecture of Daydre...</td>\n",
       "      <td>263356.0</td>\n",
       "      <td>10.0</td>\n",
       "      <td>https://www.amazon.com/Place-My-Own-Architectu...</td>\n",
       "    </tr>\n",
       "    <tr>\n",
       "      <th>1</th>\n",
       "      <td>The $12 Million Stuffed Shark: The Curious Ec...</td>\n",
       "      <td>261992.0</td>\n",
       "      <td>1.0</td>\n",
       "      <td>https://www.amazon.com/Million-Stuffed-Shark-E...</td>\n",
       "    </tr>\n",
       "    <tr>\n",
       "      <th>2</th>\n",
       "      <td>The Gardner Heist: The True Story of the Worl...</td>\n",
       "      <td>304142.0</td>\n",
       "      <td>12.0</td>\n",
       "      <td>https://www.amazon.com/Gardner-Heist-Worlds-La...</td>\n",
       "    </tr>\n",
       "    <tr>\n",
       "      <th>3</th>\n",
       "      <td>Stoicism: How to Use Stoic Philosophy to Find...</td>\n",
       "      <td>118329.0</td>\n",
       "      <td>3.0</td>\n",
       "      <td>https://www.amazon.com/Stoicism-Stoic-Philosop...</td>\n",
       "    </tr>\n",
       "    <tr>\n",
       "      <th>4</th>\n",
       "      <td>Confessions Of an Art Addict</td>\n",
       "      <td>581361.0</td>\n",
       "      <td>4.0</td>\n",
       "      <td>https://www.amazon.com/Confessions-Art-Addict-...</td>\n",
       "    </tr>\n",
       "    <tr>\n",
       "      <th>...</th>\n",
       "      <td>...</td>\n",
       "      <td>...</td>\n",
       "      <td>...</td>\n",
       "      <td>...</td>\n",
       "    </tr>\n",
       "    <tr>\n",
       "      <th>315</th>\n",
       "      <td>Lives in Architecture: Nigel Coates</td>\n",
       "      <td>1244260.0</td>\n",
       "      <td>NaN</td>\n",
       "      <td>https://www.amazon.com/Lives-Architecture-Nige...</td>\n",
       "    </tr>\n",
       "    <tr>\n",
       "      <th>316</th>\n",
       "      <td>Ambiguous Territory: Architecture  Landscape ...</td>\n",
       "      <td>668101.0</td>\n",
       "      <td>14.0</td>\n",
       "      <td>https://www.amazon.com/Ambiguous-Territory-Arc...</td>\n",
       "    </tr>\n",
       "    <tr>\n",
       "      <th>317</th>\n",
       "      <td>O'Neil Ford on Architecture (Roger Fullington...</td>\n",
       "      <td>625873.0</td>\n",
       "      <td>NaN</td>\n",
       "      <td>https://www.amazon.com/ONeil-Architecture-Roge...</td>\n",
       "    </tr>\n",
       "    <tr>\n",
       "      <th>318</th>\n",
       "      <td>Making Magic: The Marion Mahony Griffin Story</td>\n",
       "      <td>823445.0</td>\n",
       "      <td>21.0</td>\n",
       "      <td>https://www.amazon.com/Making-Magic-Marion-Mah...</td>\n",
       "    </tr>\n",
       "    <tr>\n",
       "      <th>319</th>\n",
       "      <td>Queríamos un Calatrava. Viajes arquitectónico...</td>\n",
       "      <td>2227572.0</td>\n",
       "      <td>NaN</td>\n",
       "      <td>https://www.amazon.com/Quer%C3%ADamos-Calatrav...</td>\n",
       "    </tr>\n",
       "  </tbody>\n",
       "</table>\n",
       "<p>316 rows × 4 columns</p>\n",
       "</div>"
      ],
      "text/plain": [
       "                                                 Titre       rang  prix  \\\n",
       "0     A Place of My Own: The Architecture of Daydre...   263356.0  10.0   \n",
       "1     The $12 Million Stuffed Shark: The Curious Ec...   261992.0   1.0   \n",
       "2     The Gardner Heist: The True Story of the Worl...   304142.0  12.0   \n",
       "3     Stoicism: How to Use Stoic Philosophy to Find...   118329.0   3.0   \n",
       "4                        Confessions Of an Art Addict    581361.0   4.0   \n",
       "..                                                 ...        ...   ...   \n",
       "315               Lives in Architecture: Nigel Coates   1244260.0   NaN   \n",
       "316   Ambiguous Territory: Architecture  Landscape ...   668101.0  14.0   \n",
       "317   O'Neil Ford on Architecture (Roger Fullington...   625873.0   NaN   \n",
       "318     Making Magic: The Marion Mahony Griffin Story    823445.0  21.0   \n",
       "319   Queríamos un Calatrava. Viajes arquitectónico...  2227572.0   NaN   \n",
       "\n",
       "                                                   url  \n",
       "0    https://www.amazon.com/Place-My-Own-Architectu...  \n",
       "1    https://www.amazon.com/Million-Stuffed-Shark-E...  \n",
       "2    https://www.amazon.com/Gardner-Heist-Worlds-La...  \n",
       "3    https://www.amazon.com/Stoicism-Stoic-Philosop...  \n",
       "4    https://www.amazon.com/Confessions-Art-Addict-...  \n",
       "..                                                 ...  \n",
       "315  https://www.amazon.com/Lives-Architecture-Nige...  \n",
       "316  https://www.amazon.com/Ambiguous-Territory-Arc...  \n",
       "317  https://www.amazon.com/ONeil-Architecture-Roge...  \n",
       "318  https://www.amazon.com/Making-Magic-Marion-Mah...  \n",
       "319  https://www.amazon.com/Quer%C3%ADamos-Calatrav...  \n",
       "\n",
       "[316 rows x 4 columns]"
      ]
     },
     "execution_count": 34,
     "metadata": {},
     "output_type": "execute_result"
    }
   ],
   "source": [
    "pd.DataFrame(data2)"
   ]
  },
  {
   "cell_type": "raw",
   "id": "ffe4860e",
   "metadata": {},
   "source": [
    "à faire pour la prochaine fois : \n",
    "    1)  s'arrêter à la dernière page  (faire le test avec un url de déprat page 115 ==> OK\n",
    "    2 ) faire une liste avec 2 url et voir si à la fin de la liste 1 , on passe bine au deusième élémnet de la liste ==> OK\n",
    "    3 ) avec un URL de categorie réussir à dérouler toute la catégorie"
   ]
  },
  {
   "cell_type": "markdown",
   "id": "a960904d",
   "metadata": {},
   "source": [
    "## PROGRAMME LE PLUS ABOUTI"
   ]
  },
  {
   "cell_type": "code",
   "execution_count": 43,
   "id": "c922d1ac",
   "metadata": {},
   "outputs": [
    {
     "name": "stderr",
     "output_type": "stream",
     "text": [
      "/tmp/ipykernel_939/2988573174.py:2: DeprecationWarning: executable_path has been deprecated, please pass in a Service object\n",
      "  browser = webdriver.Chrome(executable_path= DRIVER_PATH_chromedriver)\n"
     ]
    }
   ],
   "source": [
    "DRIVER_PATH_chromedriver = str(Path('../chromedriver').resolve())\n",
    "browser = webdriver.Chrome(executable_path= DRIVER_PATH_chromedriver)\n",
    "browser.get(url_kindle_accueil)\n",
    "browser.get(url_kindle_accueil)"
   ]
  },
  {
   "cell_type": "code",
   "execution_count": 37,
   "id": "d3869041",
   "metadata": {},
   "outputs": [
    {
     "name": "stdout",
     "output_type": "stream",
     "text": [
      "[{'url': 'https://www.amazon.com/Holiday-Illustrated-Diaries-Llewelyn-Pritchard-ebook/dp/B009S7B5A0/ref=sr_1_1009?qid=1653972357&s=digital-text&sr=1-1009', 'titre': ' Venice Italy Holiday (The Illustrated Diaries of Llewelyn Pritchard MA Book 5) (Basque Edition) ', 'rang': None, 'prix': None}]\n",
      "[{'url': 'https://www.amazon.com/Valtellina-UNESCO-Making-Global-Landscape-ebook/dp/B009GIPRNC/ref=sr_1_1010?qid=1653972357&s=digital-text&sr=1-1010', 'titre': ' The Valtellina and UNESCO: Making a Global Landscape ', 'rang': None, 'prix': None}]\n",
      "[{'url': 'https://www.amazon.com/Vicchio-Mugello-Atlante-Storico-italiane-ebook/dp/B009ENY0LO/ref=sr_1_1011?qid=1653972357&s=digital-text&sr=1-1011', 'titre': ' Vicchio del Mugello (Atlante Storico delle Città italiane Vol. 12) (Italian Edition) ', 'rang': '4606021', 'prix': None}]\n",
      "[{'url': 'https://www.amazon.com/Structural-Building-Conservation-Dimitris-Theodossopoulos-ebook/dp/B008SA2E9O/ref=sr_1_1012?qid=1653972357&s=digital-text&sr=1-1012', 'titre': ' Structural Design in Building Conservation ', 'rang': None, 'prix': None}]\n",
      "[{'url': 'https://www.amazon.com/Finiture-murarie-architetture-nel-medioevo-ebook/dp/B008I341LA/ref=sr_1_1013?qid=1653972357&s=digital-text&sr=1-1013', 'titre': \" Finiture murarie e architetture nel medioevo: Una panoramica e tre casi di studio nell' Italia centro - meridionale (Arti visive  architettura e urbanistica) (Italian Edition) \", 'rang': None, 'prix': None}]\n",
      "[{'url': 'https://www.amazon.com/Microclimate-Cultural-Heritage-Developments-Atmospheric-ebook/dp/B0089NVXTW/ref=sr_1_1014?qid=1653972357&s=digital-text&sr=1-1014', 'titre': ' Microclimate for Cultural Heritage (Developments in Atmospheric Science) ', 'rang': None, 'prix': None}]\n",
      "[{'url': 'https://www.amazon.com/Compleat-Cityscapes-David-McGill-ebook/dp/B0082RBASO/ref=sr_1_1015?qid=1653972357&s=digital-text&sr=1-1015', 'titre': ' The Compleat Cityscapes ', 'rang': None, 'prix': None}]\n",
      "[{'url': 'https://www.amazon.com/restauro-dellarchitettura-larchitettura-Problemi-architettura-ebook/dp/B007EMZYOO/ref=sr_1_1016?qid=1653972357&s=digital-text&sr=1-1016', 'titre': ' Il restauro dell’architettura  l’architettura del restauro (Problemi e metodi di architettura Vol. 9) (Italian Edition) ', 'rang': None, 'prix': None}]\n",
      "[{'url': 'https://www.amazon.com/History-Restored-Debbie-Morrow-ebook/dp/B0073YM3ME/ref=sr_1_1017?qid=1653972357&s=digital-text&sr=1-1017', 'titre': ' History Restored ', 'rang': '4477744', 'prix': None}]\n",
      "[{'url': 'https://www.amazon.com/Quaderni-37-40-2009-2010-Architettonico-dellUniversit%C3%A0-ebook/dp/B0071MZHBC/ref=sr_1_1018?qid=1653972357&s=digital-text&sr=1-1018', 'titre': \" Quaderni PAU n. 37-40/2009-2010: Rivista semestrale del Dipartimento Patrimonio Architettonico e Urbanistico dell'Università di Reggio Calabria (Italian Edition) \", 'rang': None, 'prix': None}]\n",
      "[{'url': 'https://www.amazon.com/Archeomatica-Numero-Italian-Renzo-Carlucci-ebook/dp/B0070P0LKC/ref=sr_1_1019?qid=1653972357&s=digital-text&sr=1-1019', 'titre': ' Archeomatica Numero Zero (Italian Edition) ', 'rang': None, 'prix': None}]\n",
      "[{'url': 'https://www.amazon.com/Frescoes-Moasics-Architecture-Congress-Federalist-ebook/dp/B006P83QAM/ref=sr_1_1020?qid=1653972357&s=digital-text&sr=1-1020', 'titre': ' Frescoes and Moasics in the Architecture of the Library of Congress (Federalist Architecture) ', 'rang': None, 'prix': None}]\n",
      "[{'url': 'https://www.amazon.com/Architettura-dellEclettismo-rapporto-Problemi-architettura-ebook/dp/B006ISDGUE/ref=sr_1_1021?qid=1653972357&s=digital-text&sr=1-1021', 'titre': ' Architettura dell’Eclettismo: Il rapporto con le arti nel XX secolo a cura di Loretta Mozzoni e Stefano Santini (Problemi e metodi di architettura Vol. 12) (Italian Edition) ', 'rang': None, 'prix': None}]\n",
      "[{'url': 'https://www.amazon.com/Architettura-dellEclettismo-dimensione-mondiale-architettura-ebook/dp/B006GLD1U8/ref=sr_1_1022?qid=1653972357&s=digital-text&sr=1-1022', 'titre': ' Architettura dell’Eclettismo: La dimensione mondiale a cura di Loretta Mozzoni e Stefano Santini (Problemi e metodi di architettura Vol. 10) (Italian Edition) ', 'rang': None, 'prix': None}]\n",
      "[{'url': 'https://www.amazon.com/CRMudgeoneity-Readings-Kings-Plus-2005-2011-ebook/dp/B006G25BB4/ref=sr_1_1023?qid=1653972357&s=digital-text&sr=1-1023', 'titre': \" CRMudgeoneity: Readings from Tom King's CRM Plus Blog  2005-2011 \", 'rang': None, 'prix': None}]\n",
      "[{'url': 'https://www.amazon.com/Architect-Capitol-Appointment-Process-Legislation-ebook/dp/B005WL6COU/ref=sr_1_1024?qid=1653972357&s=digital-text&sr=1-1024', 'titre': ' Architect of the Capitol: Appointment Process and Current Legislation ', 'rang': None, 'prix': None}]\n",
      "[{'url': 'https://www.amazon.com/UNESCO-World-Heritage-Convention-Congressional-ebook/dp/B005KBBV2A/ref=sr_1_1025?qid=1653972400&s=digital-text&sr=1-1025', 'titre': ' The UNESCO World Heritage Convention: Congressional Issues ', 'rang': None, 'prix': None}]\n",
      "[{'url': 'https://www.amazon.com/Reinventing-Brantford-University-Comes-Downtown-ebook/dp/B004QO9PN4/ref=sr_1_1026?qid=1653972400&s=digital-text&sr=1-1026', 'titre': ' Reinventing Brantford: A University Comes Downtown ', 'rang': '4582916', 'prix': None}]\n",
      "[{'url': 'https://www.amazon.com/2010-National-Preservation-Conference-Program-ebook/dp/B0047742T2/ref=sr_1_1027?qid=1653972400&s=digital-text&sr=1-1027', 'titre': ' 2010 National Preservation Conference Program ', 'rang': None, 'prix': None}]\n",
      "[{'url': 'https://www.amazon.com/Development-Design-Heritage-Sensitive-Sites-ebook/dp/B00466H5DE/ref=sr_1_1028?qid=1653972400&s=digital-text&sr=1-1028', 'titre': ' Development and Design of Heritage Sensitive Sites: Strategies for Listed Buildings and Conservation Areas ', 'rang': None, 'prix': None}]\n",
      "[{'url': 'https://www.amazon.com/Deja-Vu-2-Book-1-ebook/dp/B0041KL5TK/ref=sr_1_1029?qid=1653972400&s=digital-text&sr=1-1029', 'titre': ' Deja Vu (2 Book 1) ', 'rang': None, 'prix': None}]\n",
      "[{'url': 'https://www.amazon.com/Curiosa-Historia-Espiritu-Victoriano-Spanish-ebook/dp/B003XVYH4S/ref=sr_1_1030?qid=1653972400&s=digital-text&sr=1-1030', 'titre': ' \"Curiosa Historia de un Espiritu Victoriano\" (Spanish Edition) ', 'rang': None, 'prix': None}]\n",
      "[{'url': 'https://www.amazon.com/Curious-Tale-Victorian-Spirit-ebook/dp/B003XF1FVM/ref=sr_1_1031?qid=1653972400&s=digital-text&sr=1-1031', 'titre': ' The Curious Tale of a Victorian Spirit ', 'rang': None, 'prix': None}]\n",
      "[{'url': 'https://www.amazon.com/Technical-5-4310-256-15-COMPRESSOR-RECIPROCATING-HAND-TRUCK-ebook/dp/B003R0LZEK/ref=sr_1_1032?qid=1653972400&s=digital-text&sr=1-1032', 'titre': ' US Army  Technical Manual  TM 5-4310-256-15  COMPRESSOR  RECIPROCATING  POWER DRIVEN  AIR; HAND-TRUCK MTD  GASOLINE ENGINE  8 CFM  175 PSI  (CHAMPION PNEUMATIC ... military manauals  special forces ', 'rang': None, 'prix': None}]\n",
      "[{'url': 'https://www.amazon.com/Head-Heart-Eric-Angevine-ebook/dp/B003QMKVOE/ref=sr_1_1033?qid=1653972400&s=digital-text&sr=1-1033', 'titre': ' Head and Heart ', 'rang': None, 'prix': None}]\n",
      "[{'url': 'https://www.amazon.com/Historic-Floors-Conservation-Butterworth-Heinemann-Museology-ebook/dp/B001E5CICS/ref=sr_1_1034?qid=1653972400&s=digital-text&sr=1-1034', 'titre': ' Historic Floors: Their History and Conservation (Butterworth-Heinemann Series in Conservation and Museology) ', 'rang': None, 'prix': None}]\n",
      "[{'url': 'https://www.amazon.com/Building-Care-Brian-J-B-Wood-ebook/dp/B000VZVXXM/ref=sr_1_1035?qid=1653972400&s=digital-text&sr=1-1035', 'titre': ' Building Care ', 'rang': None, 'prix': None}]\n",
      "[{'url': 'https://www.amazon.com/Protection-Buildings-Literary-Criticism-Cultural-ebook/dp/B000SMH4LI/ref=sr_1_1036?qid=1653972400&s=digital-text&sr=1-1036', 'titre': ' William Morris and the Society for the Protection of Ancient Buildings (Literary Criticism and Cultural Theory) ', 'rang': None, 'prix': None}]\n",
      "[{'url': 'https://www.amazon.com/Crime-Prevention-Through-Housing-Design-ebook/dp/B000OT819E/ref=sr_1_1037?qid=1653972400&s=digital-text&sr=1-1037', 'titre': ' Crime Prevention Through Housing Design ', 'rang': '4553558', 'prix': None}]\n",
      "[{'url': 'https://www.amazon.com/Past-Contemporary-Society-Heritage-Care-Preservation-Management-ebook/dp/B000FBFEF0/ref=sr_1_1038?qid=1653972400&s=digital-text&sr=1-1038', 'titre': ' The Past in Contemporary Society: Then  Now (Heritage: Care-Preservation-Management) ', 'rang': None, 'prix': None}]\n"
     ]
    },
    {
     "name": "stdout",
     "output_type": "stream",
     "text": [
      "[{'url': 'https://www.amazon.com/Inkscapes-Pennsylvania-Timothy-George-Architect-ebook/dp/B008LZRPRW/ref=sr_1_1039?qid=1653972400&s=digital-text&sr=1-1039', 'titre': ' Hare Inkscapes Pennsylvania ', 'rang': None, 'prix': None}]\n",
      "[{'url': 'https://www.amazon.com/Create-Calculator-Interactive-Worksheets-Minutes-ebook/dp/B009CT85GQ/ref=sr_1_193?qid=1653972445&s=digital-text&sr=1-193', 'titre': ' How to Create an Online Calculator or Online Interactive Worksheets in 14 Minutes ', 'rang': '3610080', 'prix': None}]\n",
      "[{'url': 'https://www.amazon.com/Intertemporal-Asset-Pricing-Contributions-Economics-ebook/dp/B000QCQT2A/ref=sr_1_1153?qid=1653972452&s=digital-text&sr=1-1153', 'titre': ' Intertemporal Asset Pricing: Evidence from Germany (Contributions to Economics) ', 'rang': None, 'prix': None}]\n",
      "[{'url': 'https://www.amazon.com/Museum-Volunteers-Practice-Management-Care-Preservation-Management-ebook/dp/B000OT8DZ6/ref=sr_1_1154?qid=1653972452&s=digital-text&sr=1-1154', 'titre': ' Museum Volunteers: Good Practice in the Management of Volunteers (Heritage: Care-Preservation-Management) ', 'rang': None, 'prix': None}]\n",
      "[{'url': 'https://www.amazon.com/Greenwood-Biographies/dp/B08QZ2NGT6/ref=sr_1_1155?qid=1653972452&s=digital-text&sr=1-1155', 'titre': '\\n            Greenwood Biographies\\n        ', 'rang': None, 'prix': None}]\n"
     ]
    }
   ],
   "source": [
    "url_A=\"https://www.amazon.com/s?i=digital-text&rh=n%3A157631011&fs=true&page=73\"\n",
    "url_B = 'https://www.amazon.com/s?i=digital-text&bbn=156147011&rh=n%3A133140011%2Cn%3A154606011%2Cn%3A156116011%2Cn%3A156147011%2Cn%3A16977135011&dc&fs=true&page=13'\n",
    "url_C=\"https://www.amazon.com/s?i=digital-text&bbn=157630011&rh=n%3A133140011%2Cn%3A154606011%2Cn%3A154607011%2Cn%3A157630011%2Cn%3A157639011&dc&fs=true&page=64\"\n",
    "listing=[url_C , url_B , url_A ]\n",
    "livres=['non nul']\n",
    "for url_categorie in listing : \n",
    "    while True:\n",
    "        browser.get( url_categorie) #navigue sur une page avec tous les liens du site\n",
    "        html_page_listing = browser.page_source # permet de prendre le code html de la page \n",
    "        soup = BeautifulSoup(html_page_listing , 'lxml') # créer la soupe avec le parser\n",
    "        livres = soup.find_all('div' ,{ 'data-asin':True, 'data-component-type' : 's-search-result'} ) # trouve tous les livres de la pages\n",
    "        if livres!=[]:\n",
    "            for livre in livres:\n",
    "                url_du_livre = 'https://www.amazon.com'+livre.h2.a.get('href')\n",
    "                encryper_depuis_url_page_livre(url_du_livre) \n",
    "        else: break\n",
    "        url_categorie = incrementer_url(url_categorie)"
   ]
  },
  {
   "cell_type": "raw",
   "id": "d719a0ba",
   "metadata": {},
   "source": [
    "https://courspython.com/boucles.html#comment-choisir-entre-boucle-for-et-boucle-while"
   ]
  },
  {
   "cell_type": "markdown",
   "id": "e6a1dd92",
   "metadata": {},
   "source": [
    "##  pour dérouler les catégories\n"
   ]
  },
  {
   "cell_type": "raw",
   "id": "43a76bb3",
   "metadata": {},
   "source": [
    "browser.get(url_kindle_accueil)accueil kindle node 154606011 : \"https://www.amazon.com/b?node=154606011\"\n",
    "categorie de type 1 : Art et  Photography : https://www.amazon.com/s?bbn=154606011&rh=n%3A133140011%2Cn%3A154606011%2Cn%3A154607011&dc&qid=1654663955&rnid=154606011&ref=lp_154606011_nr_n_0\n",
    "on retrouve la categorie principale : 154606011 et d'autres nodes : 3A133140011 , 3A154606011 , 3A154607011\n",
    "\n",
    "Type 2 : Architecture : \n",
    "https://www.amazon.com/s?bbn=154607011&rh=n%3A133140011%2Cn%3A154606011%2Cn%3A154607011%2Cn%3A157630011&dc&qid=1654664646&rnid=154607011&ref=lp_154607011_nr_n_0\n",
    "on retourve : 154607011 , 3A133140011 , 3A154606011 , 3A154607011 , 3A157630011 , \n",
    "\n",
    "category de type 3Final  :  (architecture) https://www.amazon.com/s?rh=n%3A157631011&fs=true&ref=lp_157631011_sar\n",
    "https://www.amazon.com/s?i=digital-text&rh=n%3A157631011&fs=true&page=1"
   ]
  },
  {
   "cell_type": "code",
   "execution_count": null,
   "id": "b3f9e03c",
   "metadata": {},
   "outputs": [],
   "source": [
    "url22  = \"https://www.amazon.com/s?i=digital-text&rh=n%3A157631011&fs=true&page=1\""
   ]
  }
 ],
 "metadata": {
  "kernelspec": {
   "display_name": "Python 3 (ipykernel)",
   "language": "python",
   "name": "python3"
  },
  "language_info": {
   "codemirror_mode": {
    "name": "ipython",
    "version": 3
   },
   "file_extension": ".py",
   "mimetype": "text/x-python",
   "name": "python",
   "nbconvert_exporter": "python",
   "pygments_lexer": "ipython3",
   "version": "3.8.12"
  },
  "toc": {
   "base_numbering": 1,
   "nav_menu": {},
   "number_sections": true,
   "sideBar": true,
   "skip_h1_title": false,
   "title_cell": "Table of Contents",
   "title_sidebar": "Contents",
   "toc_cell": false,
   "toc_position": {
    "height": "calc(100% - 180px)",
    "left": "10px",
    "top": "150px",
    "width": "165px"
   },
   "toc_section_display": true,
   "toc_window_display": false
  }
 },
 "nbformat": 4,
 "nbformat_minor": 5
}
