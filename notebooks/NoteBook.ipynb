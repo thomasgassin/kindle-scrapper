{
 "cells": [
  {
   "cell_type": "markdown",
   "id": "03639832",
   "metadata": {},
   "source": [
    "Nous allons détailler les fonctions dans ce notebook."
   ]
  },
  {
   "cell_type": "markdown",
   "id": "bcfa989e",
   "metadata": {},
   "source": [
    "### IMPORTS"
   ]
  },
  {
   "cell_type": "code",
   "execution_count": 1,
   "id": "fe34fa59",
   "metadata": {},
   "outputs": [],
   "source": [
    "import requests\n",
    "from bs4 import BeautifulSoup\n",
    "from selenium import webdriver\n",
    "from pathlib import Path\n",
    "import os\n",
    "# from webdriver_manager.chrome import ChromeDriverManager\n",
    "# import chromedriver_binary\n",
    "import re\n",
    "import csv"
   ]
  },
  {
   "cell_type": "code",
   "execution_count": 2,
   "id": "09324be2",
   "metadata": {},
   "outputs": [
    {
     "name": "stderr",
     "output_type": "stream",
     "text": [
      "/tmp/ipykernel_562/2348712840.py:2: DeprecationWarning: executable_path has been deprecated, please pass in a Service object\n",
      "  browser = webdriver.Chrome(executable_path= DRIVER_PATH_chromedriver)\n"
     ]
    }
   ],
   "source": [
    "DRIVER_PATH_chromedriver = str(Path('../chromedriver').resolve())\n",
    "browser = webdriver.Chrome(executable_path= DRIVER_PATH_chromedriver)"
   ]
  },
  {
   "cell_type": "code",
   "execution_count": 3,
   "id": "beffe270",
   "metadata": {},
   "outputs": [],
   "source": [
    "regex_expression = \"</span> #.* in Kindle Store \" # utile pour regex"
   ]
  },
  {
   "cell_type": "markdown",
   "id": "6efdfb72",
   "metadata": {},
   "source": [
    "### URLs exemple"
   ]
  },
  {
   "cell_type": "code",
   "execution_count": 4,
   "id": "5e7fdf71",
   "metadata": {},
   "outputs": [],
   "source": [
    "url_kindle_accueil = \"https://www.amazon.com/b?node=154606011\"\n",
    "url_kindle_cat_art_and_photo =\"https://www.amazon.com/s?bbn=154606011&rh=n%3A133140011%2Cn%3A154606011%2Cn%3A154607011&dc&qid=1648440703&rnid=154606011&ref=lp_154606011_nr_n_0\"\n",
    "url_kindle_cat_art_and_photo_subcat_music_p1 = \"https://www.amazon.com/s?rh=n%3A156302011&fs=true&ref=lp_156302011_sar\"\n",
    "\n",
    "url_kindle_cat_art_and_photo_subcat_umusic_p2 = \"https://www.amazon.com/s?i=digital-text&rh=n%3A156302011&fs=true&page=2&qid=1648440846&ref=sr_pg_2\"\n",
    "url_kindle_cat_art_and_photo_subcat_umusic_p3  =\"https://www.amazon.com/s?i=digital-text&rh=n%3A156302011&fs=true&page=3&qid=1648440968&ref=sr_pg_3\""
   ]
  },
  {
   "cell_type": "code",
   "execution_count": 5,
   "id": "ea3aea10",
   "metadata": {},
   "outputs": [],
   "source": [
    "url_livre1=\"https://www.amazon.com/Last-Goddess-Novel-Kate%C5%99ina-Tu%C4%8Dkov%C3%A1-ebook/dp/B09BZ8L74Q/ref=pd_sbs_sccl_1_3/131-3814768-2928133?pd_rd_w=eOyFv&pf_rd_p=3676f086-9496-4fd7-8490-77cf7f43f846&pf_rd_r=XXEVJ89KR0WC7CQF9791&pd_rd_r=ff1f8e44-e48e-4dcc-8716-a64d5675ebe6&pd_rd_wg=tAIJl&pd_rd_i=B09BZ8L74Q&psc=1\"\n",
    "url_livre2=\"https://www.amazon.com/gp/product/B09K7J47Y8/ref=s9_acss_bw_cg_bsmafr_1b1_w?pf_rd_m=ATVPDKIKX0DER&pf_rd_s=merchandised-search-13&pf_rd_r=EX2QJTNDW0DCKTRX8KFT&pf_rd_t=101&pf_rd_p=5074797f-6c32-4283-a5a7-526fd1198645&pf_rd_i=14413390011\"\n",
    "url_livre3=\"https://www.amazon.com/Healthy-Smoothie-Cookbook-Breakfast-Kid-Friendly-ebook/dp/B083QK3DT9/ref=sr_1_12?keywords=smoothie+recipe+book&qid=1651700938&s=digital-text&sprefix=smoothie%2Cdigital-text%2C236&sr=1-12\"\n",
    "url_yumkasi = \"https://www.amazon.com/Minoru-Yamasaki-Humanist-Architecture-Modernist-ebook/dp/B0798MHV9R/ref=sr_1_17?qid=1652127157&rnid=157630011&s=digital-text&sr=1-17\""
   ]
  },
  {
   "cell_type": "markdown",
   "id": "aa31f127",
   "metadata": {},
   "source": [
    "# Ouverture du navigateur"
   ]
  },
  {
   "cell_type": "markdown",
   "id": "d6efddd0",
   "metadata": {},
   "source": [
    "avant bien lancer le programme X launch sur windows en cochant sur disable"
   ]
  },
  {
   "cell_type": "code",
   "execution_count": 6,
   "id": "0bc90ebd",
   "metadata": {},
   "outputs": [
    {
     "name": "stderr",
     "output_type": "stream",
     "text": [
      "/tmp/ipykernel_562/2347370238.py:2: DeprecationWarning: executable_path has been deprecated, please pass in a Service object\n",
      "  browser = webdriver.Chrome(executable_path= DRIVER_PATH_chromedriver)\n"
     ]
    }
   ],
   "source": [
    "DRIVER_PATH_chromedriver = str(Path('../chromedriver').resolve())\n",
    "browser = webdriver.Chrome(executable_path= DRIVER_PATH_chromedriver)\n",
    "browser.get(url_kindle_accueil)"
   ]
  },
  {
   "cell_type": "markdown",
   "id": "1c875385",
   "metadata": {},
   "source": [
    "avec le programme ci-après j arrive à lancer chrome depuis notebook !! yes"
   ]
  },
  {
   "cell_type": "markdown",
   "id": "a49ff183",
   "metadata": {},
   "source": [
    ">### il faut réussir à faire différents programme:\n",
    ">   - sur la page d'un livre ( en input un url) trouver le livre , l'auteur, le ranking\n",
    ">   - sur une page, trouver tout les livres de la pages\n",
    ">   - sur une catégorie trouver les pages de catégories"
   ]
  },
  {
   "cell_type": "markdown",
   "id": "b0ea0ae1",
   "metadata": {
    "tags": []
   },
   "source": [
    "# Fonction 1 : avec url d'un livre , retourner ranking des ventes, le nom l'auteur "
   ]
  },
  {
   "cell_type": "code",
   "execution_count": 7,
   "id": "a4854b59",
   "metadata": {},
   "outputs": [],
   "source": [
    "def encrypter(url,titre,rang,prix):\n",
    "    dictionnary = [{'url':url ,'titre':titre,  'rang':rang ,'prix':prix }]\n",
    "    print(dictionnary)\n",
    "    with open('results.csv','a') as f :                        # ouvre le fichier result.csv\n",
    "        fields=['titre','rang','prix','url']                  # permet de faire un    \n",
    "        writer = csv.DictWriter(f,fieldnames = fields)\n",
    "        writer.writerows(dictionnary)\n"
   ]
  },
  {
   "cell_type": "code",
   "execution_count": 13,
   "id": "45739e9f",
   "metadata": {},
   "outputs": [],
   "source": [
    "def encryper_depuis_url_page_livre(url):\n",
    "    browser.get(url)\n",
    "    code_de_la_page = browser.page_source\n",
    "    soup = BeautifulSoup(code_de_la_page , 'lxml')\n",
    "    rang_livre = soup.find_all( {'span'  : 'a-list-item'})\n",
    "    # URL du livre OK\n",
    "    url = url \n",
    "    # titre du livre\n",
    "    titre_avec_virgule = soup.find('span'  , {'class': 'a-size-extra-large'}).string\n",
    "    titre = titre_avec_virgule.replace(\",\", \" \")\n",
    "    #rang du livre OK\n",
    "    rang = str(re.compile(regex_expression).search(str(rang_livre))).split()[5].replace(\"#\",\"\").replace(\",\",\"\") \n",
    "    #prix du livre\n",
    "    if soup.find('span' , class_ = 'a-price-whole') is not None:\n",
    "        prix = soup.find('span' , class_ = 'a-price-whole').text.strip(' ').strip('.')\n",
    "    else:\n",
    "        prix = None\n",
    "    encrypter(url,titre,rang,prix)\n",
    "    "
   ]
  },
  {
   "cell_type": "code",
   "execution_count": 14,
   "id": "72b13c46",
   "metadata": {},
   "outputs": [
    {
     "name": "stdout",
     "output_type": "stream",
     "text": [
      "[{'url': 'https://www.amazon.com/Healthy-Smoothie-Cookbook-Breakfast-Kid-Friendly-ebook/dp/B083QK3DT9/ref=sr_1_12?keywords=smoothie+recipe+book&qid=1651700938&s=digital-text&sprefix=smoothie%2Cdigital-text%2C236&sr=1-12', 'titre': ' The Healthy Smoothie Cookbook: Breakfast Smoothie  Body Cleansing Smoothies  Digestive Smoothies  Kid-Friendly Smoothies  Low-Fat Smoothies  Best Protein Smoothies  Easy to Make Weight loss Smoothies ', 'rang': '194816', 'prix': '6'}]\n"
     ]
    }
   ],
   "source": [
    "#TEST\n",
    "encryper_depuis_url_page_livre(url_livre3)"
   ]
  },
  {
   "cell_type": "markdown",
   "id": "e67d360f",
   "metadata": {},
   "source": [
    "# Sur une page récupérer les données : de classement de vente , nom du livre catégorie"
   ]
  },
  {
   "cell_type": "code",
   "execution_count": 15,
   "id": "1f11aae8",
   "metadata": {},
   "outputs": [
    {
     "data": {
      "text/plain": [
       "0"
      ]
     },
     "execution_count": 15,
     "metadata": {},
     "output_type": "execute_result"
    }
   ],
   "source": [
    "books_html = soup.find_all(\"article\", class_=\"product_pod\")\n",
    "len(books_html)"
   ]
  },
  {
   "cell_type": "code",
   "execution_count": 16,
   "id": "fdac7e18",
   "metadata": {},
   "outputs": [],
   "source": [
    "url = \"https://www.amazon.com/s?i=digital-text&bbn=157630011&rh=n%3A133140011%2Cn%3A154606011%2Cn%3A154607011%2Cn%3A157630011%2Cn%3A157631011&dc&fs=true&qid=1651987607&rnid=157630011&ref=sr_nr_n_1\"\n",
    "url_page_1 = \"https://www.amazon.com/s?i=digital-text&bbn=157630011&rh=n%3A133140011%2Cn%3A154606011%2Cn%3A154607011%2Cn%3A157630011%2Cn%3A157631011&dc&fs=true&page=1&qid=1651987613&rnid=157630011&ref=sr_pg_2\"\n",
    "url_page_2 = \"https://www.amazon.com/s?i=digital-text&bbn=157630011&rh=n%3A133140011%2Cn%3A154606011%2Cn%3A154607011%2Cn%3A157630011%2Cn%3A157631011&dc&fs=true&page=2&qid=1651987613&rnid=157630011&ref=sr_pg_2\"\n",
    "url_page_3     = \"https://www.amazon.com/s?i=digital-text&bbn=157630011&rh=n%3A133140011%2Cn%3A154606011%2Cn%3A154607011%2Cn%3A157630011%2Cn%3A157631011&dc&fs=true&page=3&qid=1651987613&rnid=157630011&ref=sr_pg_3\"\n",
    "url_page_3bis  = \"https://www.amazon.com/s?i=digital-text&bbn=157630011&rh=n%3A133140011%2Cn%3A154606011%2Cn%3A154607011%2Cn%3A157630011%2Cn%3A157631011&dc&fs=true&page=3&qid=1651987793&rnid=157630011&ref=sr_pg_3\"\n"
   ]
  },
  {
   "cell_type": "code",
   "execution_count": 17,
   "id": "578a143b",
   "metadata": {},
   "outputs": [
    {
     "name": "stdout",
     "output_type": "stream",
     "text": [
      "[{'url': 'https://www.amazon.com/Four-Books-Architecture-Dover-Book-ebook/dp/B00CWR4LIG/ref=sr_1_17?qid=1653250859&rnid=157630011&s=digital-text&sr=1-17', 'titre': ' The Four Books of Architecture (Dover Architecture Book 1) ', 'rang': '757920', 'prix': '8'}]\n",
      "[{'url': 'https://www.amazon.com/Frank-Lloyd-Wright-Penguin-Lives-ebook/dp/B00188V7R8/ref=sr_1_18?qid=1653250859&rnid=157630011&s=digital-text&sr=1-18', 'titre': ' Frank Lloyd Wright: A Life (Penguin Lives) ', 'rang': '170831', 'prix': '9'}]\n",
      "[{'url': 'https://www.amazon.com/Man-Glass-House-Johnson-Architect-ebook/dp/B07DTC5N92/ref=sr_1_19?qid=1653250859&rnid=157630011&s=digital-text&sr=1-19', 'titre': ' The Man in the Glass House: Philip Johnson  Architect of the Modern Century ', 'rang': '580361', 'prix': None}]\n",
      "[{'url': 'https://www.amazon.com/Plagued-Fire-Dreams-Furies-Wright-ebook/dp/B07MLP6MD5/ref=sr_1_20?qid=1653250859&rnid=157630011&s=digital-text&sr=1-20', 'titre': ' Plagued by Fire: The Dreams and Furies of Frank Lloyd Wright ', 'rang': '815049', 'prix': None}]\n",
      "[{'url': 'https://www.amazon.com/Building-Art-Life-Frank-Gehry-ebook/dp/B00TNDOZCE/ref=sr_1_21?qid=1653250859&rnid=157630011&s=digital-text&sr=1-21', 'titre': ' Building Art: The Life and Work of Frank Gehry ', 'rang': '1020464', 'prix': '5'}]\n",
      "[{'url': 'https://www.amazon.com/Towards-New-Architecture-Dover-ebook/dp/B00BSK16WC/ref=sr_1_22?qid=1653250859&rnid=157630011&s=digital-text&sr=1-22', 'titre': ' Towards a New Architecture (Dover Architecture) ', 'rang': '799078', 'prix': '8'}]\n",
      "[{'url': 'https://www.amazon.com/Brunel-Man-Who-Built-World-ebook/dp/B00GU2W0BY/ref=sr_1_23?qid=1653250859&rnid=157630011&s=digital-text&sr=1-23', 'titre': ' Brunel: The Man Who Built the World (Phoenix Press) ', 'rang': '799330', 'prix': None}]\n",
      "[{'url': 'https://www.amazon.com/You-Belong-Universe-Buckminster-Fuller-ebook/dp/B01ELZYD8Y/ref=sr_1_24?qid=1653250859&rnid=157630011&s=digital-text&sr=1-24', 'titre': ' You Belong to the Universe: Buckminster Fuller and the Future ', 'rang': '615673', 'prix': '10'}]\n",
      "[{'url': 'https://www.amazon.com/Cat%C3%A1logo-Arquitectura-Movimiento-Moderno-Spanish-ebook/dp/B09TFQLKQV/ref=sr_1_25?qid=1653250859&rnid=157630011&s=digital-text&sr=1-25', 'titre': ' Catálogo Arquitectura Movimiento Moderno Perú (Spanish Edition) ', 'rang': '3737572', 'prix': None}]\n",
      "[{'url': 'https://www.amazon.com/Goya-Portrait-Artist-Janis-Tomlinson-ebook/dp/B08652LH8P/ref=sr_1_26?qid=1653250859&rnid=157630011&s=digital-text&sr=1-26', 'titre': ' Goya: A Portrait of the Artist ', 'rang': '910854', 'prix': '22'}]\n",
      "[{'url': 'https://www.amazon.com/Sandfuture-Justin-Beal-ebook/dp/B08WRCYX6Z/ref=sr_1_27?qid=1653250859&rnid=157630011&s=digital-text&sr=1-27', 'titre': ' Sandfuture ', 'rang': '1156955', 'prix': '48'}]\n",
      "[{'url': 'https://www.amazon.com/You-Say-Brick-Life-Louis-ebook/dp/B01KTL87RW/ref=sr_1_28?qid=1653250859&rnid=157630011&s=digital-text&sr=1-28', 'titre': ' You Say to Brick: The Life of Louis Kahn ', 'rang': '855637', 'prix': '8'}]\n",
      "[{'url': 'https://www.amazon.com/Where-Women-Architects-Places-Books-ebook/dp/B017I2M5Z0/ref=sr_1_29?qid=1653250859&rnid=157630011&s=digital-text&sr=1-29', 'titre': ' Where Are the Women Architects? (Places Books Book 1) ', 'rang': '814900', 'prix': '10'}]\n",
      "[{'url': 'https://www.amazon.com/Wright-Sites-Guide-Public-Places-ebook/dp/B06VX7WRPV/ref=sr_1_30?qid=1653250859&rnid=157630011&s=digital-text&sr=1-30', 'titre': ' Wright Sites: A Guide to Frank Lloyd Wright Public Places ', 'rang': '754775', 'prix': '33'}]\n",
      "[{'url': 'https://www.amazon.com/Quer%C3%ADamos-Calatrava-arquitect%C3%B3nicos-seducci%C3%B3n-Cr%C3%B3nicas-ebook/dp/B01LZXUQNV/ref=sr_1_31?qid=1653250859&rnid=157630011&s=digital-text&sr=1-31', 'titre': ' Queríamos un Calatrava. Viajes arquitectónicos por la seducción y el repudio (Crónicas nº 112) (Spanish Edition) ', 'rang': '1376355', 'prix': None}]\n"
     ]
    },
    {
     "ename": "AttributeError",
     "evalue": "'NoneType' object has no attribute 'string'",
     "output_type": "error",
     "traceback": [
      "\u001b[0;31m---------------------------------------------------------------------------\u001b[0m",
      "\u001b[0;31mAttributeError\u001b[0m                            Traceback (most recent call last)",
      "Input \u001b[0;32mIn [17]\u001b[0m, in \u001b[0;36m<cell line: 7>\u001b[0;34m()\u001b[0m\n\u001b[1;32m      7\u001b[0m \u001b[38;5;28;01mfor\u001b[39;00m livre \u001b[38;5;129;01min\u001b[39;00m livres:\n\u001b[1;32m      8\u001b[0m      url_du_livre \u001b[38;5;241m=\u001b[39m \u001b[38;5;124m'\u001b[39m\u001b[38;5;124mhttps://www.amazon.com\u001b[39m\u001b[38;5;124m'\u001b[39m\u001b[38;5;241m+\u001b[39mlivre\u001b[38;5;241m.\u001b[39mh2\u001b[38;5;241m.\u001b[39ma\u001b[38;5;241m.\u001b[39mget(\u001b[38;5;124m'\u001b[39m\u001b[38;5;124mhref\u001b[39m\u001b[38;5;124m'\u001b[39m)\n\u001b[0;32m----> 9\u001b[0m      \u001b[43mencryper_depuis_url_page_livre\u001b[49m\u001b[43m(\u001b[49m\u001b[43murl_du_livre\u001b[49m\u001b[43m)\u001b[49m\n",
      "Input \u001b[0;32mIn [13]\u001b[0m, in \u001b[0;36mencryper_depuis_url_page_livre\u001b[0;34m(url)\u001b[0m\n\u001b[1;32m      7\u001b[0m url \u001b[38;5;241m=\u001b[39m url \n\u001b[1;32m      8\u001b[0m \u001b[38;5;66;03m# titre du livre\u001b[39;00m\n\u001b[0;32m----> 9\u001b[0m titre_avec_virgule \u001b[38;5;241m=\u001b[39m \u001b[43msoup\u001b[49m\u001b[38;5;241;43m.\u001b[39;49m\u001b[43mfind\u001b[49m\u001b[43m(\u001b[49m\u001b[38;5;124;43m'\u001b[39;49m\u001b[38;5;124;43mspan\u001b[39;49m\u001b[38;5;124;43m'\u001b[39;49m\u001b[43m  \u001b[49m\u001b[43m,\u001b[49m\u001b[43m \u001b[49m\u001b[43m{\u001b[49m\u001b[38;5;124;43m'\u001b[39;49m\u001b[38;5;124;43mclass\u001b[39;49m\u001b[38;5;124;43m'\u001b[39;49m\u001b[43m:\u001b[49m\u001b[43m \u001b[49m\u001b[38;5;124;43m'\u001b[39;49m\u001b[38;5;124;43ma-size-extra-large\u001b[39;49m\u001b[38;5;124;43m'\u001b[39;49m\u001b[43m}\u001b[49m\u001b[43m)\u001b[49m\u001b[38;5;241;43m.\u001b[39;49m\u001b[43mstring\u001b[49m\n\u001b[1;32m     10\u001b[0m titre \u001b[38;5;241m=\u001b[39m titre_avec_virgule\u001b[38;5;241m.\u001b[39mreplace(\u001b[38;5;124m\"\u001b[39m\u001b[38;5;124m,\u001b[39m\u001b[38;5;124m\"\u001b[39m, \u001b[38;5;124m\"\u001b[39m\u001b[38;5;124m \u001b[39m\u001b[38;5;124m\"\u001b[39m)\n\u001b[1;32m     11\u001b[0m \u001b[38;5;66;03m#rang du livre OK\u001b[39;00m\n",
      "\u001b[0;31mAttributeError\u001b[0m: 'NoneType' object has no attribute 'string'"
     ]
    }
   ],
   "source": [
    "listes_des_livres=[]\n",
    "browser.get(url_page_2) #navigue sur une page avec tous les lien du site\n",
    "html_page_listing = browser.page_source # permet de prendre le code html de la page \n",
    "soup = BeautifulSoup(html_page_listing , 'lxml') # créer la soupe avec le parser\n",
    "livres = soup.find_all('div' ,{ 'data-asin':True, 'data-component-type' : 's-search-result'} )\n",
    "#tous les livres de la pages\n",
    "for livre in livres:\n",
    "     url_du_livre = 'https://www.amazon.com'+livre.h2.a.get('href')\n",
    "     encryper_depuis_url_page_livre(url_du_livre)\n",
    "    # le numéro ASIN correspeond à la ref du livre sur amazon\n",
    "# ASIN=B098652LH8P"
   ]
  },
  {
   "cell_type": "code",
   "execution_count": 28,
   "id": "68b2a450",
   "metadata": {},
   "outputs": [],
   "source": [
    "url_pb = \"https://www.amazon.com/Quer%C3%ADamos-Calatrava-arquitect%C3%B3nicos-seducci%C3%B3n-Cr%C3%B3nicas-ebook/dp/B01LZXUQNV/ref=sr_1_20?qid=1652824900&rnid=157630011&s=digital-text&sr=1-20\""
   ]
  },
  {
   "cell_type": "code",
   "execution_count": 36,
   "id": "c0d0f48f",
   "metadata": {},
   "outputs": [
    {
     "name": "stdout",
     "output_type": "stream",
     "text": [
      "[{'url': 'https://www.amazon.com/Quer%C3%ADamos-Calatrava-arquitect%C3%B3nicos-seducci%C3%B3n-Cr%C3%B3nicas-ebook/dp/B01LZXUQNV/ref=sr_1_20?qid=1652824900&rnid=157630011&s=digital-text&sr=1-20', 'titre': ' Queríamos un Calatrava. Viajes arquitectónicos por la seducción y el repudio (Crónicas nº 112) (Spanish Edition) ', 'rang': '1004938', 'prix': None}]\n"
     ]
    }
   ],
   "source": [
    "encryper_depuis_url_page_livre(url_pb)"
   ]
  },
  {
   "cell_type": "code",
   "execution_count": 27,
   "id": "297c2d66",
   "metadata": {},
   "outputs": [],
   "source": [
    "url_du_livre = 'https://www.amazon.com'+livres[2].h2.a.get('href')"
   ]
  },
  {
   "cell_type": "code",
   "execution_count": 28,
   "id": "81b6899e",
   "metadata": {
    "scrolled": true
   },
   "outputs": [
    {
     "data": {
      "text/plain": [
       "'https://www.amazon.com/Arsenal-Exclusion-Inclusion-Interboro-Partners-ebook/dp/B0989XW388/ref=sr_1_19?qid=1652386827&rnid=157630011&s=digital-text&sr=1-19'"
      ]
     },
     "execution_count": 28,
     "metadata": {},
     "output_type": "execute_result"
    }
   ],
   "source": [
    "url_du_livre"
   ]
  },
  {
   "cell_type": "code",
   "execution_count": 26,
   "id": "a4c54c20",
   "metadata": {},
   "outputs": [],
   "source": [
    "browser.get(url_du_livre)"
   ]
  },
  {
   "cell_type": "code",
   "execution_count": 29,
   "id": "cd5d3f09",
   "metadata": {},
   "outputs": [
    {
     "data": {
      "text/plain": [
       "'1230423'"
      ]
     },
     "execution_count": 29,
     "metadata": {},
     "output_type": "execute_result"
    }
   ],
   "source": [
    "trouver_rang(\"https://www.amazon.com/Minoru-Yamasaki-Humanist-Architecture-Modernist-ebook/dp/B0798MHV9R/ref=sr_1_17?qid=1652130424&rnid=157630011&s=digital-text&sr=1-17\")"
   ]
  },
  {
   "cell_type": "markdown",
   "id": "77958f31",
   "metadata": {},
   "source": [
    "# Fonction permettant d'incrémenter une page web\n",
    "    "
   ]
  },
  {
   "cell_type": "code",
   "execution_count": 38,
   "id": "94f44a02",
   "metadata": {
    "scrolled": true
   },
   "outputs": [],
   "source": [
    "#def lire_page_suivante(url):\n",
    "url_pour_suivre =\"https://www.amazon.com/s?i=digital-text&rh=n%3A157631011&fs=true&page=2&qid=1652385543&ref=sr_pg_2\"\n"
   ]
  },
  {
   "cell_type": "markdown",
   "id": "25d4a957",
   "metadata": {},
   "source": [
    "1 - réussir à couper la chaine de caractère à gauche de \"&page=\""
   ]
  },
  {
   "cell_type": "code",
   "execution_count": 42,
   "id": "261b3732",
   "metadata": {},
   "outputs": [],
   "source": [
    "i = 1"
   ]
  },
  {
   "cell_type": "code",
   "execution_count": 46,
   "id": "22644236",
   "metadata": {
    "scrolled": false
   },
   "outputs": [
    {
     "data": {
      "text/plain": [
       "'https://www.amazon.com/s?i=digital-text&rh=n%3A157631011&fs=true&page=1'"
      ]
     },
     "execution_count": 46,
     "metadata": {},
     "output_type": "execute_result"
    }
   ],
   "source": [
    "url_pour_suivre.split(\"&page=\")[0] + \"&page=\" + str(i)"
   ]
  },
  {
   "cell_type": "code",
   "execution_count": 18,
   "id": "16d9f8a5",
   "metadata": {},
   "outputs": [],
   "source": [
    "url_a_incrementer = \"https://www.amazon.com/s?i=digital-text&rh=n%3A157631011&fs=true&page=2&qid=1653250959&ref=sr_pg_2\"\n"
   ]
  },
  {
   "cell_type": "code",
   "execution_count": 24,
   "id": "4791fbd7",
   "metadata": {},
   "outputs": [
    {
     "data": {
      "text/plain": [
       "'2'"
      ]
     },
     "execution_count": 24,
     "metadata": {},
     "output_type": "execute_result"
    }
   ],
   "source": [
    "url_a_incrementer.split(\"&page=\")[1].split(\"&qid=\")[0]"
   ]
  },
  {
   "cell_type": "code",
   "execution_count": 48,
   "id": "415599a7",
   "metadata": {},
   "outputs": [],
   "source": [
    "def incrementer_url(url):\n",
    "    url_gauche =  url.split(\"&page=\")[0]+\"&page=\"  # trouve la première partie de la chaine à gauche\n",
    "    numero_de_la_page = str(int((url.split(\"&page=\")[1].split(\"&qid=\")[0]))+1) #trouve la partie numérique, convertie en nombre et ajoute 1\n",
    "    return(str(url_gauche + numero_de_la_page) )"
   ]
  },
  {
   "cell_type": "code",
   "execution_count": 49,
   "id": "d54d943e",
   "metadata": {
    "scrolled": true
   },
   "outputs": [
    {
     "data": {
      "text/plain": [
       "'https://www.amazon.com/s?i=digital-text&rh=n%3A157631011&fs=true&page=4'"
      ]
     },
     "execution_count": 49,
     "metadata": {},
     "output_type": "execute_result"
    }
   ],
   "source": [
    "incrementer_url(\"https://www.amazon.com/s?i=digital-text&rh=n%3A157631011&fs=true&page=3\")"
   ]
  },
  {
   "cell_type": "code",
   "execution_count": 52,
   "id": "970d4d95",
   "metadata": {},
   "outputs": [
    {
     "name": "stdout",
     "output_type": "stream",
     "text": [
      "https://www.amazon.com/s?i=digital-text&rh=n%3A157631011&fs=true&page=4\n",
      "https://www.amazon.com/s?i=digital-text&rh=n%3A157631011&fs=true&page=5\n",
      "https://www.amazon.com/s?i=digital-text&rh=n%3A157631011&fs=true&page=6\n",
      "https://www.amazon.com/s?i=digital-text&rh=n%3A157631011&fs=true&page=7\n",
      "https://www.amazon.com/s?i=digital-text&rh=n%3A157631011&fs=true&page=8\n",
      "https://www.amazon.com/s?i=digital-text&rh=n%3A157631011&fs=true&page=9\n",
      "https://www.amazon.com/s?i=digital-text&rh=n%3A157631011&fs=true&page=10\n",
      "https://www.amazon.com/s?i=digital-text&rh=n%3A157631011&fs=true&page=11\n",
      "https://www.amazon.com/s?i=digital-text&rh=n%3A157631011&fs=true&page=12\n",
      "https://www.amazon.com/s?i=digital-text&rh=n%3A157631011&fs=true&page=13\n"
     ]
    }
   ],
   "source": [
    "url_test = \"https://www.amazon.com/s?i=digital-text&rh=n%3A157631011&fs=true&page=3\"\n",
    "i=0\n",
    "while i < 10 :\n",
    "    url_test = incrementer_url(url_test)\n",
    "    print(url_test)\n",
    "    i = i+1"
   ]
  },
  {
   "cell_type": "code",
   "execution_count": 49,
   "id": "f31d2e02",
   "metadata": {},
   "outputs": [
    {
     "name": "stdout",
     "output_type": "stream",
     "text": [
      "[{'url': 'https://www.amazon.com/Place-My-Own-Architecture-Daydreams-ebook/dp/B00BE2568E/ref=sr_1_1?qid=1652827066&s=digital-text&sr=1-1', 'titre': ' A Place of My Own: The Architecture of Daydreams ', 'rang': '263356', 'prix': '10'}]\n",
      "[{'url': 'https://www.amazon.com/Million-Stuffed-Shark-Economics-Contemporary-ebook/dp/B0077QZ208/ref=sr_1_2?qid=1652827066&s=digital-text&sr=1-2', 'titre': ' The $12 Million Stuffed Shark: The Curious Economics of Contemporary Art ', 'rang': '261992', 'prix': '1'}]\n",
      "[{'url': 'https://www.amazon.com/Gardner-Heist-Worlds-Largest-Unsolved-ebook/dp/B001TJ2YF0/ref=sr_1_3?qid=1652827066&s=digital-text&sr=1-3', 'titre': \" The Gardner Heist: The True Story of the World's Largest Unsolved Art Theft \", 'rang': '304142', 'prix': '12'}]\n",
      "[{'url': 'https://www.amazon.com/Stoicism-Stoic-Philosophy-Inner-Happiness-ebook/dp/B086RGHJ2K/ref=sr_1_4?qid=1652827066&s=digital-text&sr=1-4', 'titre': ' Stoicism: How to Use Stoic Philosophy to Find Inner Peace and Happiness ', 'rang': '118329', 'prix': '3'}]\n",
      "[{'url': 'https://www.amazon.com/Confessions-Art-Addict-Peggy-Guggenheim-ebook/dp/B00BKZGPL2/ref=sr_1_5?qid=1652827066&s=digital-text&sr=1-5', 'titre': ' Confessions Of an Art Addict ', 'rang': '581361', 'prix': '4'}]\n",
      "[{'url': 'https://www.amazon.com/Frank-Lloyd-Wright-Meryle-Secrest-ebook/dp/B00KEPLBYK/ref=sr_1_6?qid=1652827066&s=digital-text&sr=1-6', 'titre': ' Frank Lloyd Wright ', 'rang': '759641', 'prix': '9'}]\n",
      "[{'url': 'https://www.amazon.com/Stoic-way-Life-Confident-Perseverance-ebook/dp/B08N5LC4TD/ref=sr_1_7?qid=1652827066&s=digital-text&sr=1-7', 'titre': ' The Stoic way of Life: The ultimate guide of Stoicism to make your everyday modern life Calm, Confident & Positive - Master the Art of Living, Emotional ... & Perseverance (Mastering Stoicism Book 1) ', 'rang': '178652', 'prix': '4'}]\n",
      "[{'url': 'https://www.amazon.com/Fellowship-Untold-Story-Wright-Taliesin-ebook/dp/B001UQO446/ref=sr_1_8?qid=1652827066&s=digital-text&sr=1-8', 'titre': ' The Fellowship: The Untold Story of Frank Lloyd Wright and the Taliesin Fellowship ', 'rang': '685890', 'prix': '9'}]\n",
      "[{'url': 'https://www.amazon.com/Higher-Historic-Race-Making-City-ebook/dp/B000FBJCQW/ref=sr_1_9?qid=1652827066&s=digital-text&sr=1-9', 'titre': ' Higher: A Historic Race to the Sky and the Making of a City ', 'rang': '157371', 'prix': '11'}]\n",
      "[{'url': 'https://www.amazon.com/Death-Prairie-House-Taliesin-Murders-ebook/dp/B002AP9GLW/ref=sr_1_10?qid=1652827066&s=digital-text&sr=1-10', 'titre': ' Death in a Prairie House: Frank Lloyd Wright and the Taliesin Murders ', 'rang': '389500', 'prix': '9'}]\n",
      "[{'url': 'https://www.amazon.com/Arsenal-Exclusion-Inclusion-Interboro-Partners-ebook/dp/B0989XW388/ref=sr_1_11?qid=1652827066&s=digital-text&sr=1-11', 'titre': ' The Arsenal of Exclusion & Inclusion ', 'rang': '569151', 'prix': '17'}]\n",
      "[{'url': 'https://www.amazon.com/Plagued-Fire-Dreams-Furies-Wright-ebook/dp/B07MLP6MD5/ref=sr_1_12?qid=1652827066&s=digital-text&sr=1-12', 'titre': ' Plagued by Fire: The Dreams and Furies of Frank Lloyd Wright ', 'rang': '792455', 'prix': None}]\n",
      "[{'url': 'https://www.amazon.com/Remodel-Kitchen-Without-Going-Bonkers-ebook/dp/B08P9ZXHLZ/ref=sr_1_13?qid=1652827066&s=digital-text&sr=1-13', 'titre': ' Remodel Your Kitchen Without Going Bonkers or Broke: Have a Stress-Free Renovation and Get the Kitchen of Your Dreams ', 'rang': '342933', 'prix': '26'}]\n",
      "[{'url': 'https://www.amazon.com/Towards-New-Architecture-Dover-ebook/dp/B00BSK16WC/ref=sr_1_14?qid=1652827066&s=digital-text&sr=1-14', 'titre': ' Towards a New Architecture (Dover Architecture) ', 'rang': '727945', 'prix': '0'}]\n",
      "[{'url': 'https://www.amazon.com/Building-Art-Life-Frank-Gehry-ebook/dp/B00TNDOZCE/ref=sr_1_15?qid=1652827066&s=digital-text&sr=1-15', 'titre': ' Building Art: The Life and Work of Frank Gehry ', 'rang': '961705', 'prix': '14'}]\n",
      "[{'url': 'https://www.amazon.com/Brunel-Man-Who-Built-World-ebook/dp/B00GU2W0BY/ref=sr_1_16?qid=1652827066&s=digital-text&sr=1-16', 'titre': ' Brunel: The Man Who Built the World (Phoenix Press) ', 'rang': '553061', 'prix': None}]\n",
      "[{'url': 'https://www.amazon.com/Place-My-Own-Architecture-Daydreams-ebook/dp/B00BE2568E/ref=sr_1_1?qid=1652827138&s=digital-text&sr=1-1', 'titre': ' A Place of My Own: The Architecture of Daydreams ', 'rang': '263356', 'prix': '10'}]\n",
      "[{'url': 'https://www.amazon.com/Million-Stuffed-Shark-Economics-Contemporary-ebook/dp/B0077QZ208/ref=sr_1_2?qid=1652827138&s=digital-text&sr=1-2', 'titre': ' The $12 Million Stuffed Shark: The Curious Economics of Contemporary Art ', 'rang': '261992', 'prix': '1'}]\n",
      "[{'url': 'https://www.amazon.com/Gardner-Heist-Worlds-Largest-Unsolved-ebook/dp/B001TJ2YF0/ref=sr_1_3?qid=1652827138&s=digital-text&sr=1-3', 'titre': \" The Gardner Heist: The True Story of the World's Largest Unsolved Art Theft \", 'rang': '304142', 'prix': '12'}]\n",
      "[{'url': 'https://www.amazon.com/Stoicism-Stoic-Philosophy-Inner-Happiness-ebook/dp/B086RGHJ2K/ref=sr_1_4?qid=1652827138&s=digital-text&sr=1-4', 'titre': ' Stoicism: How to Use Stoic Philosophy to Find Inner Peace and Happiness ', 'rang': '118329', 'prix': '3'}]\n",
      "[{'url': 'https://www.amazon.com/Confessions-Art-Addict-Peggy-Guggenheim-ebook/dp/B00BKZGPL2/ref=sr_1_5?qid=1652827138&s=digital-text&sr=1-5', 'titre': ' Confessions Of an Art Addict ', 'rang': '581361', 'prix': '4'}]\n",
      "[{'url': 'https://www.amazon.com/Frank-Lloyd-Wright-Meryle-Secrest-ebook/dp/B00KEPLBYK/ref=sr_1_6?qid=1652827138&s=digital-text&sr=1-6', 'titre': ' Frank Lloyd Wright ', 'rang': '759641', 'prix': '9'}]\n",
      "[{'url': 'https://www.amazon.com/Stoic-way-Life-Confident-Perseverance-ebook/dp/B08N5LC4TD/ref=sr_1_7?qid=1652827138&s=digital-text&sr=1-7', 'titre': ' The Stoic way of Life: The ultimate guide of Stoicism to make your everyday modern life Calm, Confident & Positive - Master the Art of Living, Emotional ... & Perseverance (Mastering Stoicism Book 1) ', 'rang': '178652', 'prix': '4'}]\n",
      "[{'url': 'https://www.amazon.com/Fellowship-Untold-Story-Wright-Taliesin-ebook/dp/B001UQO446/ref=sr_1_8?qid=1652827138&s=digital-text&sr=1-8', 'titre': ' The Fellowship: The Untold Story of Frank Lloyd Wright and the Taliesin Fellowship ', 'rang': '685890', 'prix': '9'}]\n",
      "[{'url': 'https://www.amazon.com/Higher-Historic-Race-Making-City-ebook/dp/B000FBJCQW/ref=sr_1_9?qid=1652827138&s=digital-text&sr=1-9', 'titre': ' Higher: A Historic Race to the Sky and the Making of a City ', 'rang': '157371', 'prix': '11'}]\n",
      "[{'url': 'https://www.amazon.com/Death-Prairie-House-Taliesin-Murders-ebook/dp/B002AP9GLW/ref=sr_1_10?qid=1652827138&s=digital-text&sr=1-10', 'titre': ' Death in a Prairie House: Frank Lloyd Wright and the Taliesin Murders ', 'rang': '389500', 'prix': '9'}]\n",
      "[{'url': 'https://www.amazon.com/Arsenal-Exclusion-Inclusion-Interboro-Partners-ebook/dp/B0989XW388/ref=sr_1_11?qid=1652827138&s=digital-text&sr=1-11', 'titre': ' The Arsenal of Exclusion & Inclusion ', 'rang': '569151', 'prix': '17'}]\n",
      "[{'url': 'https://www.amazon.com/Plagued-Fire-Dreams-Furies-Wright-ebook/dp/B07MLP6MD5/ref=sr_1_12?qid=1652827138&s=digital-text&sr=1-12', 'titre': ' Plagued by Fire: The Dreams and Furies of Frank Lloyd Wright ', 'rang': '792455', 'prix': None}]\n",
      "[{'url': 'https://www.amazon.com/Remodel-Kitchen-Without-Going-Bonkers-ebook/dp/B08P9ZXHLZ/ref=sr_1_13?qid=1652827138&s=digital-text&sr=1-13', 'titre': ' Remodel Your Kitchen Without Going Bonkers or Broke: Have a Stress-Free Renovation and Get the Kitchen of Your Dreams ', 'rang': '342933', 'prix': '26'}]\n",
      "[{'url': 'https://www.amazon.com/Towards-New-Architecture-Dover-ebook/dp/B00BSK16WC/ref=sr_1_14?qid=1652827138&s=digital-text&sr=1-14', 'titre': ' Towards a New Architecture (Dover Architecture) ', 'rang': '727945', 'prix': '0'}]\n",
      "[{'url': 'https://www.amazon.com/Building-Art-Life-Frank-Gehry-ebook/dp/B00TNDOZCE/ref=sr_1_15?qid=1652827138&s=digital-text&sr=1-15', 'titre': ' Building Art: The Life and Work of Frank Gehry ', 'rang': '961705', 'prix': '14'}]\n",
      "[{'url': 'https://www.amazon.com/Brunel-Man-Who-Built-World-ebook/dp/B00GU2W0BY/ref=sr_1_16?qid=1652827138&s=digital-text&sr=1-16', 'titre': ' Brunel: The Man Who Built the World (Phoenix Press) ', 'rang': '553061', 'prix': None}]\n",
      "[{'url': 'https://www.amazon.com/Goya-Portrait-Artist-Janis-Tomlinson-ebook/dp/B08652LH8P/ref=sr_1_17?qid=1652827205&s=digital-text&sr=1-17', 'titre': ' Goya: A Portrait of the Artist ', 'rang': '723437', 'prix': '22'}]\n"
     ]
    },
    {
     "name": "stdout",
     "output_type": "stream",
     "text": [
      "[{'url': 'https://www.amazon.com/Sandfuture-Justin-Beal-ebook/dp/B08WRCYX6Z/ref=sr_1_18?qid=1652827205&s=digital-text&sr=1-18', 'titre': ' Sandfuture ', 'rang': '1065095', 'prix': '9'}]\n",
      "[{'url': 'https://www.amazon.com/Frank-Lloyd-Wright-Penguin-Lives-ebook/dp/B00188V7R8/ref=sr_1_19?qid=1652827205&s=digital-text&sr=1-19', 'titre': ' Frank Lloyd Wright: A Life (Penguin Lives) ', 'rang': '578513', 'prix': '14'}]\n",
      "[{'url': 'https://www.amazon.com/Quer%C3%ADamos-Calatrava-arquitect%C3%B3nicos-seducci%C3%B3n-Cr%C3%B3nicas-ebook/dp/B01LZXUQNV/ref=sr_1_20?qid=1652827205&s=digital-text&sr=1-20', 'titre': ' Queríamos un Calatrava. Viajes arquitectónicos por la seducción y el repudio (Crónicas nº 112) (Spanish Edition) ', 'rang': '1004938', 'prix': None}]\n",
      "[{'url': 'https://www.amazon.com/Cat%C3%A1logo-Arquitectura-Movimiento-Moderno-Spanish-ebook/dp/B09TFQLKQV/ref=sr_1_21?qid=1652827205&s=digital-text&sr=1-21', 'titre': ' Catálogo Arquitectura Movimiento Moderno Perú (Spanish Edition) ', 'rang': '3631836', 'prix': None}]\n",
      "[{'url': 'https://www.amazon.com/Robert-Maillarts-Bridges-Art-Engineering-ebook/dp/B08BJGRSDW/ref=sr_1_22?qid=1652827205&s=digital-text&sr=1-22', 'titre': \" Robert Maillart's Bridges: The Art of Engineering \", 'rang': '1255506', 'prix': None}]\n",
      "[{'url': 'https://www.amazon.com/Man-Glass-House-Johnson-Architect-ebook/dp/B07DTC5N92/ref=sr_1_23?qid=1652827205&s=digital-text&sr=1-23', 'titre': ' The Man in the Glass House: Philip Johnson, Architect of the Modern Century ', 'rang': '680766', 'prix': None}]\n",
      "[{'url': 'https://www.amazon.com/Architects-Death-Family-Engineered-Camps-ebook/dp/B075D8P9HN/ref=sr_1_24?qid=1652827205&s=digital-text&sr=1-24', 'titre': ' Architects of Death: The Family Who Engineered the Death Camps ', 'rang': '1181403', 'prix': '10'}]\n",
      "[{'url': 'https://www.amazon.com/Fallingwater-Rising-Kaufmann-Americas-Extraordinary-ebook/dp/B0012SMGM4/ref=sr_1_25?qid=1652827205&s=digital-text&sr=1-25', 'titre': \" Fallingwater Rising: Frank Lloyd Wright, E. J. Kaufmann, and America's Most Extraordinary House \", 'rang': '1070539', 'prix': '11'}]\n",
      "[{'url': 'https://www.amazon.com/Boundaries-Maya-Lin-ebook/dp/B01BCEPO0I/ref=sr_1_26?qid=1652827205&s=digital-text&sr=1-26', 'titre': ' Boundaries ', 'rang': '993870', 'prix': '10'}]\n",
      "[{'url': 'https://www.amazon.com/Norman-Foster-Architecture-Deyan-Sudjic-ebook/dp/B07QT7KLNF/ref=sr_1_27?qid=1652827205&s=digital-text&sr=1-27', 'titre': ' Norman Foster: A Life in Architecture ', 'rang': '886032', 'prix': '9'}]\n",
      "[{'url': 'https://www.amazon.com/Four-Books-Architecture-Dover-Book-ebook/dp/B00CWR4LIG/ref=sr_1_28?qid=1652827205&s=digital-text&sr=1-28', 'titre': ' The Four Books of Architecture (Dover Architecture Book 1) ', 'rang': '199419', 'prix': '8'}]\n",
      "[{'url': 'https://www.amazon.com/Minoru-Yamasaki-Humanist-Architecture-Modernist-ebook/dp/B0798MHV9R/ref=sr_1_29?qid=1652827205&s=digital-text&sr=1-29', 'titre': ' Minoru Yamasaki: Humanist Architecture for a Modernist World ', 'rang': '1419753', 'prix': '18'}]\n",
      "[{'url': 'https://www.amazon.com/Wright-Sites-Guide-Public-Places-ebook/dp/B06VX7WRPV/ref=sr_1_30?qid=1652827205&s=digital-text&sr=1-30', 'titre': ' Wright Sites: A Guide to Frank Lloyd Wright Public Places ', 'rang': '362746', 'prix': '33'}]\n",
      "[{'url': 'https://www.amazon.com/Palladio-Penguin-Architecture-James-Ackerman-ebook/dp/B002RI9M2A/ref=sr_1_31?qid=1652827205&s=digital-text&sr=1-31', 'titre': ' Palladio (Penguin Art & Architecture) ', 'rang': '716935', 'prix': '14'}]\n",
      "[{'url': 'https://www.amazon.com/Conservation-Concerns-Guide-Collectors-Curators-ebook/dp/B006Q2GJM4/ref=sr_1_32?qid=1652827205&s=digital-text&sr=1-32', 'titre': ' Conservation Concerns: A Guide for Collectors and Curators ', 'rang': '1106173', 'prix': '39'}]\n",
      "[{'url': 'https://www.amazon.com/Manual-Section-Paul-Lewis-ebook/dp/B01HNJ93VW/ref=sr_1_33?qid=1652827273&s=digital-text&sr=1-33', 'titre': ' Manual of Section ', 'rang': '885014', 'prix': '44'}]\n",
      "[{'url': 'https://www.amazon.com/Differentiated-Classroom-Assessment-Learning-Educators-ebook/dp/B088LCKH64/ref=sr_1_34?qid=1652827273&s=digital-text&sr=1-34', 'titre': ' Using Differentiated Classroom Assessment to Enhance Student Learning (Student Assessment for Educators) ', 'rang': '892563', 'prix': '31'}]\n",
      "[{'url': 'https://www.amazon.com/You-Belong-Universe-Buckminster-Fuller-ebook/dp/B01ELZYD8Y/ref=sr_1_35?qid=1652827273&s=digital-text&sr=1-35', 'titre': ' You Belong to the Universe: Buckminster Fuller and the Future ', 'rang': '907255', 'prix': '9'}]\n",
      "[{'url': 'https://www.amazon.com/World-Design-Story-Global-Architecture-ebook/dp/B08KH8W97Y/ref=sr_1_36?qid=1652827273&s=digital-text&sr=1-36', 'titre': ' The World by Design: The Story of a Global Architecture Firm ', 'rang': '1559006', 'prix': '60'}]\n",
      "[{'url': 'https://www.amazon.com/Mies-van-Rohe-Critical-Biography-ebook/dp/B009PS2L5K/ref=sr_1_37?qid=1652827273&s=digital-text&sr=1-37', 'titre': ' Mies van der Rohe: A Critical Biography, New and Revised Edition ', 'rang': '904432', 'prix': '11'}]\n",
      "[{'url': 'https://www.amazon.com/Green-Imperative-Ecology-Ethics-Architecture-ebook/dp/B09KWGSDZS/ref=sr_1_38?qid=1652827273&s=digital-text&sr=1-38', 'titre': ' The Green Imperative: Ecology and Ethics in Design and Architecture ', 'rang': '1001625', 'prix': None}]\n",
      "[{'url': 'https://www.amazon.com/Alchemy-Architecture-Memories-Insights-Tate-ebook/dp/B083P11WVC/ref=sr_1_39?qid=1652827273&s=digital-text&sr=1-39', 'titre': ' The Alchemy of Architecture: Memories and Insights from Ken Tate ', 'rang': '755932', 'prix': '3'}]\n",
      "[{'url': 'https://www.amazon.com/Ornament-Crime-Adolf-Loos-ebook/dp/B07K833WB5/ref=sr_1_40?qid=1652827273&s=digital-text&sr=1-40', 'titre': ' Ornament and Crime (Penguin on Design) ', 'rang': '842945', 'prix': '0'}]\n",
      "[{'url': 'https://www.amazon.com/California-Contemporary-Houses-Kirkpatrick-Design-ebook/dp/B07CVR854W/ref=sr_1_41?qid=1652827273&s=digital-text&sr=1-41', 'titre': ' California Contemporary: The Houses of Grant C. Kirkpatrick and KAA Design ', 'rang': '941337', 'prix': '9'}]\n",
      "[{'url': 'https://www.amazon.com/PreFab-Houses-DesignSource-Marta-Serrats-ebook/dp/B007SNLNNA/ref=sr_1_42?qid=1652827273&s=digital-text&sr=1-42', 'titre': ' PreFab Houses DesignSource ', 'rang': '541342', 'prix': '21'}]\n",
      "[{'url': 'https://www.amazon.com/Nanni-Balestrini-comunisti-dOCUMENTA-Books-ebook/dp/B08G1W7QZL/ref=sr_1_43?qid=1652827273&s=digital-text&sr=1-43', 'titre': ' Nanni Balestrini: Carbonia (Eravamo tutti comunisti)(dOCUMENTA (13): 100 Notes - 100 Thoughts, 100 Notizen - 100 Gedanken # 070) (E-Books Vol. 1) (Italian Edition) ', 'rang': '971135', 'prix': None}]\n",
      "[{'url': 'https://www.amazon.com/Conversations-Allusions-Miralles-Catherine-Spellman-ebook/dp/B09179CHNJ/ref=sr_1_44?qid=1652827273&s=digital-text&sr=1-44', 'titre': ' Conversations and Allusions: Enric Miralles ', 'rang': '2928707', 'prix': '20'}]\n",
      "[{'url': 'https://www.amazon.com/Mickey-Muenning-Dreams-Realizations-Architecture-ebook/dp/B00LAN7MW0/ref=sr_1_45?qid=1652827273&s=digital-text&sr=1-45', 'titre': ' Mickey Muenning: Dreams and Realizations for A Living Architecture ', 'rang': '1152973', 'prix': None}]\n",
      "[{'url': 'https://www.amazon.com/Building-Modern-World-Detroit-Painted-ebook/dp/B07BHL2PDC/ref=sr_1_46?qid=1652827273&s=digital-text&sr=1-46', 'titre': ' Building the Modern World: Albert Kahn in Detroit (Painted Turtle) ', 'rang': '713985', 'prix': '14'}]\n",
      "[{'url': 'https://www.amazon.com/Frank-Lloyd-Wright-Critical-Lives-ebook/dp/B008JZKKQC/ref=sr_1_47?qid=1652827273&s=digital-text&sr=1-47', 'titre': ' Frank Lloyd Wright (Critical Lives) ', 'rang': '872929', 'prix': '23'}]\n",
      "[{'url': 'https://www.amazon.com/Frank-Lloyd-Wrights-Forgotten-House-ebook/dp/B09269V6QP/ref=sr_1_48?qid=1652827273&s=digital-text&sr=1-48', 'titre': \" Frank Lloyd Wright's Forgotten House: How an Omission Transformed the Architect's Legacy \", 'rang': '1354956', 'prix': '26'}]\n",
      "[{'url': 'https://www.amazon.com/Designing-World-Class-Architecture-Firm-Strategies-ebook/dp/B086BL6VV4/ref=sr_1_49?qid=1652827335&s=digital-text&sr=1-49', 'titre': ' Designing a World-Class Architecture Firm: The People, Stories, and Strategies Behind HOK ', 'rang': '1590499', 'prix': '9'}]\n",
      "[{'url': 'https://www.amazon.com/Charles-Correa-Landscape-Essays-Books-ebook/dp/B00DQQZ82U/ref=sr_1_50?qid=1652827335&s=digital-text&sr=1-50', 'titre': ' Charles Correa: A Place in the ShadeThe New Landscape & Other Essays (E-Books Book 1) ', 'rang': '594355', 'prix': None}]\n"
     ]
    },
    {
     "name": "stdout",
     "output_type": "stream",
     "text": [
      "[{'url': 'https://www.amazon.com/You-Say-Brick-Life-Louis-ebook/dp/B01KTL87RW/ref=sr_1_51?qid=1652827335&s=digital-text&sr=1-51', 'titre': ' You Say to Brick: The Life of Louis Kahn ', 'rang': '387589', 'prix': '17'}]\n",
      "[{'url': 'https://www.amazon.com/Architecture-Frank-Lloyd-Wright-Fourth-ebook/dp/B07239RCRV/ref=sr_1_52?qid=1652827335&s=digital-text&sr=1-52', 'titre': ' The Architecture of Frank Lloyd Wright, Fourth Edition: A Complete Catalog ', 'rang': '1383271', 'prix': '9'}]\n",
      "[{'url': 'https://www.amazon.com/Antoni-Gaud%C3%AD-Architect-Temporis-Collection-ebook/dp/B016XN11IM/ref=sr_1_53?qid=1652827335&s=digital-text&sr=1-53', 'titre': ' Antoni Gaudí: Architect and Artist (Temporis Collection) ', 'rang': '1569426', 'prix': '2'}]\n",
      "[{'url': 'https://www.amazon.com/Create-Prosper-Clients-Freelance-Business-ebook/dp/B086WP4MJM/ref=sr_1_54?qid=1652827335&s=digital-text&sr=1-54', 'titre': ' Create And Prosper: How To Find Your Dream Clients And Build A Freelance Business You Love ', 'rang': '1107402', 'prix': '9'}]\n",
      "[{'url': 'https://www.amazon.com/Heaven-Hell-Aldous-Leonard-Huxley-ebook/dp/B08H8TV5RT/ref=sr_1_55?qid=1652827335&s=digital-text&sr=1-55', 'titre': ' Heaven & Hell ', 'rang': '1131843', 'prix': '9'}]\n",
      "[{'url': 'https://www.amazon.com/Building-Taliesin-Frank-Lloyd-Wrights-ebook/dp/B00GR9EENC/ref=sr_1_56?qid=1652827335&s=digital-text&sr=1-56', 'titre': ' Building Taliesin: Frank Lloyd Wright’s Home of Love and Loss ', 'rang': '1098520', 'prix': '0'}]\n",
      "[{'url': 'https://www.amazon.com/Lewerentz-Fragments-Jonathan-Foote-ebook/dp/B09FPYM18K/ref=sr_1_57?qid=1652827335&s=digital-text&sr=1-57', 'titre': ' Lewerentz Fragments ', 'rang': '1229000', 'prix': '18'}]\n",
      "[{'url': 'https://www.amazon.com/Autobiography-Idea-Dover-Architecture-ebook/dp/B00A62JAJO/ref=sr_1_58?qid=1652827335&s=digital-text&sr=1-58', 'titre': ' The Autobiography of an Idea (Dover Architecture) ', 'rang': '627205', 'prix': '18'}]\n",
      "[{'url': 'https://www.amazon.com/Greene-Furniture-Poems-Wood-Light-ebook/dp/B0044XV66G/ref=sr_1_59?qid=1652827335&s=digital-text&sr=1-59', 'titre': ' Greene & Greene Furniture: Poems of Wood & Light ', 'rang': '1088707', 'prix': '8'}]\n",
      "[{'url': 'https://www.amazon.com/Girl-Intrepid-Story-Privilege-Perseverance-ebook/dp/B08QVRGBXD/ref=sr_1_60?qid=1652827335&s=digital-text&sr=1-60', 'titre': ' Girl Intrepid: A New York Story of Privilege and Perseverance ', 'rang': '1453684', 'prix': None}]\n",
      "[{'url': 'https://www.amazon.com/Isambard-Kingdom-Brunel-Life-Beginning-ebook/dp/B07213KFGG/ref=sr_1_61?qid=1652827335&s=digital-text&sr=1-61', 'titre': ' Isambard Kingdom Brunel: A Life From Beginning to End (Biographies of Engineers) ', 'rang': '960749', 'prix': '2'}]\n",
      "[{'url': 'https://www.amazon.com/producci%C3%B3n-del-espacio-Ensayo-Spanish-ebook/dp/B08WM24JWX/ref=sr_1_62?qid=1652827335&s=digital-text&sr=1-62', 'titre': ' La producción del espacio (Ensayo) (Spanish Edition) ', 'rang': '1395443', 'prix': '9'}]\n",
      "[{'url': 'https://www.amazon.com/Perfect-House-Journey-Renaissance-Palladio-ebook/dp/B00AYIDURI/ref=sr_1_63?qid=1652827335&s=digital-text&sr=1-63', 'titre': ' The Perfect House: A Journey with Renaissance Master Andrea Palladio ', 'rang': '1280548', 'prix': '10'}]\n",
      "[{'url': 'https://www.amazon.com/Architects-After-Architecture-Alternative-Pathways-ebook/dp/B08ML2CT7D/ref=sr_1_64?qid=1652827335&s=digital-text&sr=1-64', 'titre': ' Architects After Architecture: Alternative Pathways for Practice ', 'rang': '1315842', 'prix': '44'}]\n",
      "[{'url': 'https://www.amazon.com/Works-Architecture-Robert-James-Dover-ebook/dp/B00A44QXK8/ref=sr_1_65?qid=1652827399&s=digital-text&sr=1-65', 'titre': ' The Works in Architecture of Robert and James Adam (Dover Architecture) ', 'rang': '1392434', 'prix': '9'}]\n",
      "[{'url': 'https://www.amazon.com/Drawings-Plans-Frank-Lloyd-Wright-ebook/dp/B00A3M15VI/ref=sr_1_66?qid=1652827399&s=digital-text&sr=1-66', 'titre': ' Drawings and Plans of Frank Lloyd Wright: The Early Period (1893-1909) (Dover Architecture) ', 'rang': '997550', 'prix': '9'}]\n",
      "[{'url': 'https://www.amazon.com/Sir-Herbert-Baker-Architect-British-ebook/dp/B09N1SYYCP/ref=sr_1_67?qid=1652827399&s=digital-text&sr=1-67', 'titre': ' Sir Herbert Baker: Architect to the British Empire ', 'rang': '1764475', 'prix': None}]\n",
      "[{'url': 'https://www.amazon.com/Ambiguous-Territory-Architecture-Landscape-Postnatural-ebook/dp/B09RPFL4ZZ/ref=sr_1_68?qid=1652827399&s=digital-text&sr=1-68', 'titre': ' Ambiguous Territory: Architecture, Landscape and the Postnatural ', 'rang': '1970965', 'prix': '14'}]\n"
     ]
    },
    {
     "ename": "KeyboardInterrupt",
     "evalue": "",
     "output_type": "error",
     "traceback": [
      "\u001b[0;31m---------------------------------------------------------------------------\u001b[0m",
      "\u001b[0;31mKeyboardInterrupt\u001b[0m                         Traceback (most recent call last)",
      "Input \u001b[0;32mIn [49]\u001b[0m, in \u001b[0;36m<cell line: 3>\u001b[0;34m()\u001b[0m\n\u001b[1;32m      8\u001b[0m \u001b[38;5;28;01mfor\u001b[39;00m livre \u001b[38;5;129;01min\u001b[39;00m livres:\n\u001b[1;32m      9\u001b[0m     url_du_livre \u001b[38;5;241m=\u001b[39m \u001b[38;5;124m'\u001b[39m\u001b[38;5;124mhttps://www.amazon.com\u001b[39m\u001b[38;5;124m'\u001b[39m\u001b[38;5;241m+\u001b[39mlivre\u001b[38;5;241m.\u001b[39mh2\u001b[38;5;241m.\u001b[39ma\u001b[38;5;241m.\u001b[39mget(\u001b[38;5;124m'\u001b[39m\u001b[38;5;124mhref\u001b[39m\u001b[38;5;124m'\u001b[39m)\n\u001b[0;32m---> 10\u001b[0m     \u001b[43mencryper_depuis_url_page_livre\u001b[49m\u001b[43m(\u001b[49m\u001b[43murl_du_livre\u001b[49m\u001b[43m)\u001b[49m\n",
      "Input \u001b[0;32mIn [34]\u001b[0m, in \u001b[0;36mencryper_depuis_url_page_livre\u001b[0;34m(url)\u001b[0m\n\u001b[1;32m      1\u001b[0m \u001b[38;5;28;01mdef\u001b[39;00m \u001b[38;5;21mencryper_depuis_url_page_livre\u001b[39m(url):\n\u001b[0;32m----> 2\u001b[0m     \u001b[43mbrowser\u001b[49m\u001b[38;5;241;43m.\u001b[39;49m\u001b[43mget\u001b[49m\u001b[43m(\u001b[49m\u001b[43murl\u001b[49m\u001b[43m)\u001b[49m\n\u001b[1;32m      3\u001b[0m     code_de_la_page \u001b[38;5;241m=\u001b[39m browser\u001b[38;5;241m.\u001b[39mpage_source\n\u001b[1;32m      4\u001b[0m     soup \u001b[38;5;241m=\u001b[39m BeautifulSoup(code_de_la_page , \u001b[38;5;124m'\u001b[39m\u001b[38;5;124mlxml\u001b[39m\u001b[38;5;124m'\u001b[39m)\n",
      "File \u001b[0;32m~/.pyenv/versions/3.8.12/envs/kindlescrapper/lib/python3.8/site-packages/selenium/webdriver/remote/webdriver.py:437\u001b[0m, in \u001b[0;36mWebDriver.get\u001b[0;34m(self, url)\u001b[0m\n\u001b[1;32m    433\u001b[0m \u001b[38;5;28;01mdef\u001b[39;00m \u001b[38;5;21mget\u001b[39m(\u001b[38;5;28mself\u001b[39m, url: \u001b[38;5;28mstr\u001b[39m) \u001b[38;5;241m-\u001b[39m\u001b[38;5;241m>\u001b[39m \u001b[38;5;28;01mNone\u001b[39;00m:\n\u001b[1;32m    434\u001b[0m     \u001b[38;5;124;03m\"\"\"\u001b[39;00m\n\u001b[1;32m    435\u001b[0m \u001b[38;5;124;03m    Loads a web page in the current browser session.\u001b[39;00m\n\u001b[1;32m    436\u001b[0m \u001b[38;5;124;03m    \"\"\"\u001b[39;00m\n\u001b[0;32m--> 437\u001b[0m     \u001b[38;5;28;43mself\u001b[39;49m\u001b[38;5;241;43m.\u001b[39;49m\u001b[43mexecute\u001b[49m\u001b[43m(\u001b[49m\u001b[43mCommand\u001b[49m\u001b[38;5;241;43m.\u001b[39;49m\u001b[43mGET\u001b[49m\u001b[43m,\u001b[49m\u001b[43m \u001b[49m\u001b[43m{\u001b[49m\u001b[38;5;124;43m'\u001b[39;49m\u001b[38;5;124;43murl\u001b[39;49m\u001b[38;5;124;43m'\u001b[39;49m\u001b[43m:\u001b[49m\u001b[43m \u001b[49m\u001b[43murl\u001b[49m\u001b[43m}\u001b[49m\u001b[43m)\u001b[49m\n",
      "File \u001b[0;32m~/.pyenv/versions/3.8.12/envs/kindlescrapper/lib/python3.8/site-packages/selenium/webdriver/remote/webdriver.py:423\u001b[0m, in \u001b[0;36mWebDriver.execute\u001b[0;34m(self, driver_command, params)\u001b[0m\n\u001b[1;32m    420\u001b[0m         params[\u001b[38;5;124m'\u001b[39m\u001b[38;5;124msessionId\u001b[39m\u001b[38;5;124m'\u001b[39m] \u001b[38;5;241m=\u001b[39m \u001b[38;5;28mself\u001b[39m\u001b[38;5;241m.\u001b[39msession_id\n\u001b[1;32m    422\u001b[0m params \u001b[38;5;241m=\u001b[39m \u001b[38;5;28mself\u001b[39m\u001b[38;5;241m.\u001b[39m_wrap_value(params)\n\u001b[0;32m--> 423\u001b[0m response \u001b[38;5;241m=\u001b[39m \u001b[38;5;28;43mself\u001b[39;49m\u001b[38;5;241;43m.\u001b[39;49m\u001b[43mcommand_executor\u001b[49m\u001b[38;5;241;43m.\u001b[39;49m\u001b[43mexecute\u001b[49m\u001b[43m(\u001b[49m\u001b[43mdriver_command\u001b[49m\u001b[43m,\u001b[49m\u001b[43m \u001b[49m\u001b[43mparams\u001b[49m\u001b[43m)\u001b[49m\n\u001b[1;32m    424\u001b[0m \u001b[38;5;28;01mif\u001b[39;00m response:\n\u001b[1;32m    425\u001b[0m     \u001b[38;5;28mself\u001b[39m\u001b[38;5;241m.\u001b[39merror_handler\u001b[38;5;241m.\u001b[39mcheck_response(response)\n",
      "File \u001b[0;32m~/.pyenv/versions/3.8.12/envs/kindlescrapper/lib/python3.8/site-packages/selenium/webdriver/remote/remote_connection.py:333\u001b[0m, in \u001b[0;36mRemoteConnection.execute\u001b[0;34m(self, command, params)\u001b[0m\n\u001b[1;32m    331\u001b[0m data \u001b[38;5;241m=\u001b[39m utils\u001b[38;5;241m.\u001b[39mdump_json(params)\n\u001b[1;32m    332\u001b[0m url \u001b[38;5;241m=\u001b[39m \u001b[38;5;124mf\u001b[39m\u001b[38;5;124m\"\u001b[39m\u001b[38;5;132;01m{\u001b[39;00m\u001b[38;5;28mself\u001b[39m\u001b[38;5;241m.\u001b[39m_url\u001b[38;5;132;01m}\u001b[39;00m\u001b[38;5;132;01m{\u001b[39;00mpath\u001b[38;5;132;01m}\u001b[39;00m\u001b[38;5;124m\"\u001b[39m\n\u001b[0;32m--> 333\u001b[0m \u001b[38;5;28;01mreturn\u001b[39;00m \u001b[38;5;28;43mself\u001b[39;49m\u001b[38;5;241;43m.\u001b[39;49m\u001b[43m_request\u001b[49m\u001b[43m(\u001b[49m\u001b[43mcommand_info\u001b[49m\u001b[43m[\u001b[49m\u001b[38;5;241;43m0\u001b[39;49m\u001b[43m]\u001b[49m\u001b[43m,\u001b[49m\u001b[43m \u001b[49m\u001b[43murl\u001b[49m\u001b[43m,\u001b[49m\u001b[43m \u001b[49m\u001b[43mbody\u001b[49m\u001b[38;5;241;43m=\u001b[39;49m\u001b[43mdata\u001b[49m\u001b[43m)\u001b[49m\n",
      "File \u001b[0;32m~/.pyenv/versions/3.8.12/envs/kindlescrapper/lib/python3.8/site-packages/selenium/webdriver/remote/remote_connection.py:355\u001b[0m, in \u001b[0;36mRemoteConnection._request\u001b[0;34m(self, method, url, body)\u001b[0m\n\u001b[1;32m    352\u001b[0m     body \u001b[38;5;241m=\u001b[39m \u001b[38;5;28;01mNone\u001b[39;00m\n\u001b[1;32m    354\u001b[0m \u001b[38;5;28;01mif\u001b[39;00m \u001b[38;5;28mself\u001b[39m\u001b[38;5;241m.\u001b[39mkeep_alive:\n\u001b[0;32m--> 355\u001b[0m     resp \u001b[38;5;241m=\u001b[39m \u001b[38;5;28;43mself\u001b[39;49m\u001b[38;5;241;43m.\u001b[39;49m\u001b[43m_conn\u001b[49m\u001b[38;5;241;43m.\u001b[39;49m\u001b[43mrequest\u001b[49m\u001b[43m(\u001b[49m\u001b[43mmethod\u001b[49m\u001b[43m,\u001b[49m\u001b[43m \u001b[49m\u001b[43murl\u001b[49m\u001b[43m,\u001b[49m\u001b[43m \u001b[49m\u001b[43mbody\u001b[49m\u001b[38;5;241;43m=\u001b[39;49m\u001b[43mbody\u001b[49m\u001b[43m,\u001b[49m\u001b[43m \u001b[49m\u001b[43mheaders\u001b[49m\u001b[38;5;241;43m=\u001b[39;49m\u001b[43mheaders\u001b[49m\u001b[43m)\u001b[49m\n\u001b[1;32m    356\u001b[0m     statuscode \u001b[38;5;241m=\u001b[39m resp\u001b[38;5;241m.\u001b[39mstatus\n\u001b[1;32m    357\u001b[0m \u001b[38;5;28;01melse\u001b[39;00m:\n",
      "File \u001b[0;32m~/.pyenv/versions/3.8.12/envs/kindlescrapper/lib/python3.8/site-packages/urllib3/request.py:78\u001b[0m, in \u001b[0;36mRequestMethods.request\u001b[0;34m(self, method, url, fields, headers, **urlopen_kw)\u001b[0m\n\u001b[1;32m     74\u001b[0m     \u001b[38;5;28;01mreturn\u001b[39;00m \u001b[38;5;28mself\u001b[39m\u001b[38;5;241m.\u001b[39mrequest_encode_url(\n\u001b[1;32m     75\u001b[0m         method, url, fields\u001b[38;5;241m=\u001b[39mfields, headers\u001b[38;5;241m=\u001b[39mheaders, \u001b[38;5;241m*\u001b[39m\u001b[38;5;241m*\u001b[39murlopen_kw\n\u001b[1;32m     76\u001b[0m     )\n\u001b[1;32m     77\u001b[0m \u001b[38;5;28;01melse\u001b[39;00m:\n\u001b[0;32m---> 78\u001b[0m     \u001b[38;5;28;01mreturn\u001b[39;00m \u001b[38;5;28;43mself\u001b[39;49m\u001b[38;5;241;43m.\u001b[39;49m\u001b[43mrequest_encode_body\u001b[49m\u001b[43m(\u001b[49m\n\u001b[1;32m     79\u001b[0m \u001b[43m        \u001b[49m\u001b[43mmethod\u001b[49m\u001b[43m,\u001b[49m\u001b[43m \u001b[49m\u001b[43murl\u001b[49m\u001b[43m,\u001b[49m\u001b[43m \u001b[49m\u001b[43mfields\u001b[49m\u001b[38;5;241;43m=\u001b[39;49m\u001b[43mfields\u001b[49m\u001b[43m,\u001b[49m\u001b[43m \u001b[49m\u001b[43mheaders\u001b[49m\u001b[38;5;241;43m=\u001b[39;49m\u001b[43mheaders\u001b[49m\u001b[43m,\u001b[49m\u001b[43m \u001b[49m\u001b[38;5;241;43m*\u001b[39;49m\u001b[38;5;241;43m*\u001b[39;49m\u001b[43murlopen_kw\u001b[49m\n\u001b[1;32m     80\u001b[0m \u001b[43m    \u001b[49m\u001b[43m)\u001b[49m\n",
      "File \u001b[0;32m~/.pyenv/versions/3.8.12/envs/kindlescrapper/lib/python3.8/site-packages/urllib3/request.py:170\u001b[0m, in \u001b[0;36mRequestMethods.request_encode_body\u001b[0;34m(self, method, url, fields, headers, encode_multipart, multipart_boundary, **urlopen_kw)\u001b[0m\n\u001b[1;32m    167\u001b[0m extra_kw[\u001b[38;5;124m\"\u001b[39m\u001b[38;5;124mheaders\u001b[39m\u001b[38;5;124m\"\u001b[39m]\u001b[38;5;241m.\u001b[39mupdate(headers)\n\u001b[1;32m    168\u001b[0m extra_kw\u001b[38;5;241m.\u001b[39mupdate(urlopen_kw)\n\u001b[0;32m--> 170\u001b[0m \u001b[38;5;28;01mreturn\u001b[39;00m \u001b[38;5;28;43mself\u001b[39;49m\u001b[38;5;241;43m.\u001b[39;49m\u001b[43murlopen\u001b[49m\u001b[43m(\u001b[49m\u001b[43mmethod\u001b[49m\u001b[43m,\u001b[49m\u001b[43m \u001b[49m\u001b[43murl\u001b[49m\u001b[43m,\u001b[49m\u001b[43m \u001b[49m\u001b[38;5;241;43m*\u001b[39;49m\u001b[38;5;241;43m*\u001b[39;49m\u001b[43mextra_kw\u001b[49m\u001b[43m)\u001b[49m\n",
      "File \u001b[0;32m~/.pyenv/versions/3.8.12/envs/kindlescrapper/lib/python3.8/site-packages/urllib3/poolmanager.py:376\u001b[0m, in \u001b[0;36mPoolManager.urlopen\u001b[0;34m(self, method, url, redirect, **kw)\u001b[0m\n\u001b[1;32m    374\u001b[0m     response \u001b[38;5;241m=\u001b[39m conn\u001b[38;5;241m.\u001b[39murlopen(method, url, \u001b[38;5;241m*\u001b[39m\u001b[38;5;241m*\u001b[39mkw)\n\u001b[1;32m    375\u001b[0m \u001b[38;5;28;01melse\u001b[39;00m:\n\u001b[0;32m--> 376\u001b[0m     response \u001b[38;5;241m=\u001b[39m \u001b[43mconn\u001b[49m\u001b[38;5;241;43m.\u001b[39;49m\u001b[43murlopen\u001b[49m\u001b[43m(\u001b[49m\u001b[43mmethod\u001b[49m\u001b[43m,\u001b[49m\u001b[43m \u001b[49m\u001b[43mu\u001b[49m\u001b[38;5;241;43m.\u001b[39;49m\u001b[43mrequest_uri\u001b[49m\u001b[43m,\u001b[49m\u001b[43m \u001b[49m\u001b[38;5;241;43m*\u001b[39;49m\u001b[38;5;241;43m*\u001b[39;49m\u001b[43mkw\u001b[49m\u001b[43m)\u001b[49m\n\u001b[1;32m    378\u001b[0m redirect_location \u001b[38;5;241m=\u001b[39m redirect \u001b[38;5;129;01mand\u001b[39;00m response\u001b[38;5;241m.\u001b[39mget_redirect_location()\n\u001b[1;32m    379\u001b[0m \u001b[38;5;28;01mif\u001b[39;00m \u001b[38;5;129;01mnot\u001b[39;00m redirect_location:\n",
      "File \u001b[0;32m~/.pyenv/versions/3.8.12/envs/kindlescrapper/lib/python3.8/site-packages/urllib3/connectionpool.py:703\u001b[0m, in \u001b[0;36mHTTPConnectionPool.urlopen\u001b[0;34m(self, method, url, body, headers, retries, redirect, assert_same_host, timeout, pool_timeout, release_conn, chunked, body_pos, **response_kw)\u001b[0m\n\u001b[1;32m    700\u001b[0m     \u001b[38;5;28mself\u001b[39m\u001b[38;5;241m.\u001b[39m_prepare_proxy(conn)\n\u001b[1;32m    702\u001b[0m \u001b[38;5;66;03m# Make the request on the httplib connection object.\u001b[39;00m\n\u001b[0;32m--> 703\u001b[0m httplib_response \u001b[38;5;241m=\u001b[39m \u001b[38;5;28;43mself\u001b[39;49m\u001b[38;5;241;43m.\u001b[39;49m\u001b[43m_make_request\u001b[49m\u001b[43m(\u001b[49m\n\u001b[1;32m    704\u001b[0m \u001b[43m    \u001b[49m\u001b[43mconn\u001b[49m\u001b[43m,\u001b[49m\n\u001b[1;32m    705\u001b[0m \u001b[43m    \u001b[49m\u001b[43mmethod\u001b[49m\u001b[43m,\u001b[49m\n\u001b[1;32m    706\u001b[0m \u001b[43m    \u001b[49m\u001b[43murl\u001b[49m\u001b[43m,\u001b[49m\n\u001b[1;32m    707\u001b[0m \u001b[43m    \u001b[49m\u001b[43mtimeout\u001b[49m\u001b[38;5;241;43m=\u001b[39;49m\u001b[43mtimeout_obj\u001b[49m\u001b[43m,\u001b[49m\n\u001b[1;32m    708\u001b[0m \u001b[43m    \u001b[49m\u001b[43mbody\u001b[49m\u001b[38;5;241;43m=\u001b[39;49m\u001b[43mbody\u001b[49m\u001b[43m,\u001b[49m\n\u001b[1;32m    709\u001b[0m \u001b[43m    \u001b[49m\u001b[43mheaders\u001b[49m\u001b[38;5;241;43m=\u001b[39;49m\u001b[43mheaders\u001b[49m\u001b[43m,\u001b[49m\n\u001b[1;32m    710\u001b[0m \u001b[43m    \u001b[49m\u001b[43mchunked\u001b[49m\u001b[38;5;241;43m=\u001b[39;49m\u001b[43mchunked\u001b[49m\u001b[43m,\u001b[49m\n\u001b[1;32m    711\u001b[0m \u001b[43m\u001b[49m\u001b[43m)\u001b[49m\n\u001b[1;32m    713\u001b[0m \u001b[38;5;66;03m# If we're going to release the connection in ``finally:``, then\u001b[39;00m\n\u001b[1;32m    714\u001b[0m \u001b[38;5;66;03m# the response doesn't need to know about the connection. Otherwise\u001b[39;00m\n\u001b[1;32m    715\u001b[0m \u001b[38;5;66;03m# it will also try to release it and we'll have a double-release\u001b[39;00m\n\u001b[1;32m    716\u001b[0m \u001b[38;5;66;03m# mess.\u001b[39;00m\n\u001b[1;32m    717\u001b[0m response_conn \u001b[38;5;241m=\u001b[39m conn \u001b[38;5;28;01mif\u001b[39;00m \u001b[38;5;129;01mnot\u001b[39;00m release_conn \u001b[38;5;28;01melse\u001b[39;00m \u001b[38;5;28;01mNone\u001b[39;00m\n",
      "File \u001b[0;32m~/.pyenv/versions/3.8.12/envs/kindlescrapper/lib/python3.8/site-packages/urllib3/connectionpool.py:449\u001b[0m, in \u001b[0;36mHTTPConnectionPool._make_request\u001b[0;34m(self, conn, method, url, timeout, chunked, **httplib_request_kw)\u001b[0m\n\u001b[1;32m    444\u001b[0m             httplib_response \u001b[38;5;241m=\u001b[39m conn\u001b[38;5;241m.\u001b[39mgetresponse()\n\u001b[1;32m    445\u001b[0m         \u001b[38;5;28;01mexcept\u001b[39;00m \u001b[38;5;167;01mBaseException\u001b[39;00m \u001b[38;5;28;01mas\u001b[39;00m e:\n\u001b[1;32m    446\u001b[0m             \u001b[38;5;66;03m# Remove the TypeError from the exception chain in\u001b[39;00m\n\u001b[1;32m    447\u001b[0m             \u001b[38;5;66;03m# Python 3 (including for exceptions like SystemExit).\u001b[39;00m\n\u001b[1;32m    448\u001b[0m             \u001b[38;5;66;03m# Otherwise it looks like a bug in the code.\u001b[39;00m\n\u001b[0;32m--> 449\u001b[0m             \u001b[43msix\u001b[49m\u001b[38;5;241;43m.\u001b[39;49m\u001b[43mraise_from\u001b[49m\u001b[43m(\u001b[49m\u001b[43me\u001b[49m\u001b[43m,\u001b[49m\u001b[43m \u001b[49m\u001b[38;5;28;43;01mNone\u001b[39;49;00m\u001b[43m)\u001b[49m\n\u001b[1;32m    450\u001b[0m \u001b[38;5;28;01mexcept\u001b[39;00m (SocketTimeout, BaseSSLError, SocketError) \u001b[38;5;28;01mas\u001b[39;00m e:\n\u001b[1;32m    451\u001b[0m     \u001b[38;5;28mself\u001b[39m\u001b[38;5;241m.\u001b[39m_raise_timeout(err\u001b[38;5;241m=\u001b[39me, url\u001b[38;5;241m=\u001b[39murl, timeout_value\u001b[38;5;241m=\u001b[39mread_timeout)\n",
      "File \u001b[0;32m<string>:3\u001b[0m, in \u001b[0;36mraise_from\u001b[0;34m(value, from_value)\u001b[0m\n",
      "File \u001b[0;32m~/.pyenv/versions/3.8.12/envs/kindlescrapper/lib/python3.8/site-packages/urllib3/connectionpool.py:444\u001b[0m, in \u001b[0;36mHTTPConnectionPool._make_request\u001b[0;34m(self, conn, method, url, timeout, chunked, **httplib_request_kw)\u001b[0m\n\u001b[1;32m    441\u001b[0m \u001b[38;5;28;01mexcept\u001b[39;00m \u001b[38;5;167;01mTypeError\u001b[39;00m:\n\u001b[1;32m    442\u001b[0m     \u001b[38;5;66;03m# Python 3\u001b[39;00m\n\u001b[1;32m    443\u001b[0m     \u001b[38;5;28;01mtry\u001b[39;00m:\n\u001b[0;32m--> 444\u001b[0m         httplib_response \u001b[38;5;241m=\u001b[39m \u001b[43mconn\u001b[49m\u001b[38;5;241;43m.\u001b[39;49m\u001b[43mgetresponse\u001b[49m\u001b[43m(\u001b[49m\u001b[43m)\u001b[49m\n\u001b[1;32m    445\u001b[0m     \u001b[38;5;28;01mexcept\u001b[39;00m \u001b[38;5;167;01mBaseException\u001b[39;00m \u001b[38;5;28;01mas\u001b[39;00m e:\n\u001b[1;32m    446\u001b[0m         \u001b[38;5;66;03m# Remove the TypeError from the exception chain in\u001b[39;00m\n\u001b[1;32m    447\u001b[0m         \u001b[38;5;66;03m# Python 3 (including for exceptions like SystemExit).\u001b[39;00m\n\u001b[1;32m    448\u001b[0m         \u001b[38;5;66;03m# Otherwise it looks like a bug in the code.\u001b[39;00m\n\u001b[1;32m    449\u001b[0m         six\u001b[38;5;241m.\u001b[39mraise_from(e, \u001b[38;5;28;01mNone\u001b[39;00m)\n",
      "File \u001b[0;32m~/.pyenv/versions/3.8.12/lib/python3.8/http/client.py:1348\u001b[0m, in \u001b[0;36mHTTPConnection.getresponse\u001b[0;34m(self)\u001b[0m\n\u001b[1;32m   1346\u001b[0m \u001b[38;5;28;01mtry\u001b[39;00m:\n\u001b[1;32m   1347\u001b[0m     \u001b[38;5;28;01mtry\u001b[39;00m:\n\u001b[0;32m-> 1348\u001b[0m         \u001b[43mresponse\u001b[49m\u001b[38;5;241;43m.\u001b[39;49m\u001b[43mbegin\u001b[49m\u001b[43m(\u001b[49m\u001b[43m)\u001b[49m\n\u001b[1;32m   1349\u001b[0m     \u001b[38;5;28;01mexcept\u001b[39;00m \u001b[38;5;167;01mConnectionError\u001b[39;00m:\n\u001b[1;32m   1350\u001b[0m         \u001b[38;5;28mself\u001b[39m\u001b[38;5;241m.\u001b[39mclose()\n",
      "File \u001b[0;32m~/.pyenv/versions/3.8.12/lib/python3.8/http/client.py:316\u001b[0m, in \u001b[0;36mHTTPResponse.begin\u001b[0;34m(self)\u001b[0m\n\u001b[1;32m    314\u001b[0m \u001b[38;5;66;03m# read until we get a non-100 response\u001b[39;00m\n\u001b[1;32m    315\u001b[0m \u001b[38;5;28;01mwhile\u001b[39;00m \u001b[38;5;28;01mTrue\u001b[39;00m:\n\u001b[0;32m--> 316\u001b[0m     version, status, reason \u001b[38;5;241m=\u001b[39m \u001b[38;5;28;43mself\u001b[39;49m\u001b[38;5;241;43m.\u001b[39;49m\u001b[43m_read_status\u001b[49m\u001b[43m(\u001b[49m\u001b[43m)\u001b[49m\n\u001b[1;32m    317\u001b[0m     \u001b[38;5;28;01mif\u001b[39;00m status \u001b[38;5;241m!=\u001b[39m CONTINUE:\n\u001b[1;32m    318\u001b[0m         \u001b[38;5;28;01mbreak\u001b[39;00m\n",
      "File \u001b[0;32m~/.pyenv/versions/3.8.12/lib/python3.8/http/client.py:277\u001b[0m, in \u001b[0;36mHTTPResponse._read_status\u001b[0;34m(self)\u001b[0m\n\u001b[1;32m    276\u001b[0m \u001b[38;5;28;01mdef\u001b[39;00m \u001b[38;5;21m_read_status\u001b[39m(\u001b[38;5;28mself\u001b[39m):\n\u001b[0;32m--> 277\u001b[0m     line \u001b[38;5;241m=\u001b[39m \u001b[38;5;28mstr\u001b[39m(\u001b[38;5;28;43mself\u001b[39;49m\u001b[38;5;241;43m.\u001b[39;49m\u001b[43mfp\u001b[49m\u001b[38;5;241;43m.\u001b[39;49m\u001b[43mreadline\u001b[49m\u001b[43m(\u001b[49m\u001b[43m_MAXLINE\u001b[49m\u001b[43m \u001b[49m\u001b[38;5;241;43m+\u001b[39;49m\u001b[43m \u001b[49m\u001b[38;5;241;43m1\u001b[39;49m\u001b[43m)\u001b[49m, \u001b[38;5;124m\"\u001b[39m\u001b[38;5;124miso-8859-1\u001b[39m\u001b[38;5;124m\"\u001b[39m)\n\u001b[1;32m    278\u001b[0m     \u001b[38;5;28;01mif\u001b[39;00m \u001b[38;5;28mlen\u001b[39m(line) \u001b[38;5;241m>\u001b[39m _MAXLINE:\n\u001b[1;32m    279\u001b[0m         \u001b[38;5;28;01mraise\u001b[39;00m LineTooLong(\u001b[38;5;124m\"\u001b[39m\u001b[38;5;124mstatus line\u001b[39m\u001b[38;5;124m\"\u001b[39m)\n",
      "File \u001b[0;32m~/.pyenv/versions/3.8.12/lib/python3.8/socket.py:669\u001b[0m, in \u001b[0;36mSocketIO.readinto\u001b[0;34m(self, b)\u001b[0m\n\u001b[1;32m    667\u001b[0m \u001b[38;5;28;01mwhile\u001b[39;00m \u001b[38;5;28;01mTrue\u001b[39;00m:\n\u001b[1;32m    668\u001b[0m     \u001b[38;5;28;01mtry\u001b[39;00m:\n\u001b[0;32m--> 669\u001b[0m         \u001b[38;5;28;01mreturn\u001b[39;00m \u001b[38;5;28;43mself\u001b[39;49m\u001b[38;5;241;43m.\u001b[39;49m\u001b[43m_sock\u001b[49m\u001b[38;5;241;43m.\u001b[39;49m\u001b[43mrecv_into\u001b[49m\u001b[43m(\u001b[49m\u001b[43mb\u001b[49m\u001b[43m)\u001b[49m\n\u001b[1;32m    670\u001b[0m     \u001b[38;5;28;01mexcept\u001b[39;00m timeout:\n\u001b[1;32m    671\u001b[0m         \u001b[38;5;28mself\u001b[39m\u001b[38;5;241m.\u001b[39m_timeout_occurred \u001b[38;5;241m=\u001b[39m \u001b[38;5;28;01mTrue\u001b[39;00m\n",
      "\u001b[0;31mKeyboardInterrupt\u001b[0m: "
     ]
    }
   ],
   "source": [
    "listes_des_livres=[]\n",
    "#tous les livres de la pages\n",
    "for i in range(10):\n",
    "    browser.get( url_pour_suivre.split(\"&page=\")[0] + \"&page=\" + str(i)) #navigue sur une page avec tous les liens du site\n",
    "    html_page_listing = browser.page_source # permet de prendre le code html de la page \n",
    "    soup = BeautifulSoup(html_page_listing , 'lxml') # créer la soupe avec le parser\n",
    "    livres = soup.find_all('div' ,{ 'data-asin':True, 'data-component-type' : 's-search-result'} )\n",
    "    for livre in livres:\n",
    "        url_du_livre = 'https://www.amazon.com'+livre.h2.a.get('href')\n",
    "        encryper_depuis_url_page_livre(url_du_livre) \n",
    "   "
   ]
  },
  {
   "cell_type": "code",
   "execution_count": 54,
   "id": "22a20a02",
   "metadata": {},
   "outputs": [],
   "source": [
    "import pandas as pd"
   ]
  },
  {
   "cell_type": "code",
   "execution_count": 55,
   "id": "af453ecf",
   "metadata": {},
   "outputs": [],
   "source": [
    "data = pd.read_csv(\"results.csv\")"
   ]
  },
  {
   "cell_type": "code",
   "execution_count": 56,
   "id": "1260561f",
   "metadata": {},
   "outputs": [
    {
     "data": {
      "text/html": [
       "<div>\n",
       "<style scoped>\n",
       "    .dataframe tbody tr th:only-of-type {\n",
       "        vertical-align: middle;\n",
       "    }\n",
       "\n",
       "    .dataframe tbody tr th {\n",
       "        vertical-align: top;\n",
       "    }\n",
       "\n",
       "    .dataframe thead th {\n",
       "        text-align: right;\n",
       "    }\n",
       "</style>\n",
       "<table border=\"1\" class=\"dataframe\">\n",
       "  <thead>\n",
       "    <tr style=\"text-align: right;\">\n",
       "      <th></th>\n",
       "      <th>Titre</th>\n",
       "      <th>rang</th>\n",
       "      <th>prix</th>\n",
       "      <th>url</th>\n",
       "    </tr>\n",
       "  </thead>\n",
       "  <tbody>\n",
       "    <tr>\n",
       "      <th>0</th>\n",
       "      <td>A Place of My Own: The Architecture of Daydre...</td>\n",
       "      <td>263356</td>\n",
       "      <td>10.0</td>\n",
       "      <td>https://www.amazon.com/Place-My-Own-Architectu...</td>\n",
       "    </tr>\n",
       "    <tr>\n",
       "      <th>1</th>\n",
       "      <td>The $12 Million Stuffed Shark: The Curious Ec...</td>\n",
       "      <td>261992</td>\n",
       "      <td>1.0</td>\n",
       "      <td>https://www.amazon.com/Million-Stuffed-Shark-E...</td>\n",
       "    </tr>\n",
       "    <tr>\n",
       "      <th>2</th>\n",
       "      <td>The Gardner Heist: The True Story of the Worl...</td>\n",
       "      <td>304142</td>\n",
       "      <td>12.0</td>\n",
       "      <td>https://www.amazon.com/Gardner-Heist-Worlds-La...</td>\n",
       "    </tr>\n",
       "    <tr>\n",
       "      <th>3</th>\n",
       "      <td>Stoicism: How to Use Stoic Philosophy to Find...</td>\n",
       "      <td>118329</td>\n",
       "      <td>3.0</td>\n",
       "      <td>https://www.amazon.com/Stoicism-Stoic-Philosop...</td>\n",
       "    </tr>\n",
       "    <tr>\n",
       "      <th>4</th>\n",
       "      <td>Confessions Of an Art Addict</td>\n",
       "      <td>581361</td>\n",
       "      <td>4.0</td>\n",
       "      <td>https://www.amazon.com/Confessions-Art-Addict-...</td>\n",
       "    </tr>\n",
       "    <tr>\n",
       "      <th>...</th>\n",
       "      <td>...</td>\n",
       "      <td>...</td>\n",
       "      <td>...</td>\n",
       "      <td>...</td>\n",
       "    </tr>\n",
       "    <tr>\n",
       "      <th>112</th>\n",
       "      <td>Sandfuture</td>\n",
       "      <td>1156955</td>\n",
       "      <td>48.0</td>\n",
       "      <td>https://www.amazon.com/Sandfuture-Justin-Beal-...</td>\n",
       "    </tr>\n",
       "    <tr>\n",
       "      <th>113</th>\n",
       "      <td>You Say to Brick: The Life of Louis Kahn</td>\n",
       "      <td>855637</td>\n",
       "      <td>8.0</td>\n",
       "      <td>https://www.amazon.com/You-Say-Brick-Life-Loui...</td>\n",
       "    </tr>\n",
       "    <tr>\n",
       "      <th>114</th>\n",
       "      <td>Where Are the Women Architects? (Places Books...</td>\n",
       "      <td>814900</td>\n",
       "      <td>10.0</td>\n",
       "      <td>https://www.amazon.com/Where-Women-Architects-...</td>\n",
       "    </tr>\n",
       "    <tr>\n",
       "      <th>115</th>\n",
       "      <td>Wright Sites: A Guide to Frank Lloyd Wright P...</td>\n",
       "      <td>754775</td>\n",
       "      <td>33.0</td>\n",
       "      <td>https://www.amazon.com/Wright-Sites-Guide-Publ...</td>\n",
       "    </tr>\n",
       "    <tr>\n",
       "      <th>116</th>\n",
       "      <td>Queríamos un Calatrava. Viajes arquitectónico...</td>\n",
       "      <td>1376355</td>\n",
       "      <td>NaN</td>\n",
       "      <td>https://www.amazon.com/Quer%C3%ADamos-Calatrav...</td>\n",
       "    </tr>\n",
       "  </tbody>\n",
       "</table>\n",
       "<p>117 rows × 4 columns</p>\n",
       "</div>"
      ],
      "text/plain": [
       "                                                 Titre     rang  prix  \\\n",
       "0     A Place of My Own: The Architecture of Daydre...   263356  10.0   \n",
       "1     The $12 Million Stuffed Shark: The Curious Ec...   261992   1.0   \n",
       "2     The Gardner Heist: The True Story of the Worl...   304142  12.0   \n",
       "3     Stoicism: How to Use Stoic Philosophy to Find...   118329   3.0   \n",
       "4                        Confessions Of an Art Addict    581361   4.0   \n",
       "..                                                 ...      ...   ...   \n",
       "112                                        Sandfuture   1156955  48.0   \n",
       "113          You Say to Brick: The Life of Louis Kahn    855637   8.0   \n",
       "114   Where Are the Women Architects? (Places Books...   814900  10.0   \n",
       "115   Wright Sites: A Guide to Frank Lloyd Wright P...   754775  33.0   \n",
       "116   Queríamos un Calatrava. Viajes arquitectónico...  1376355   NaN   \n",
       "\n",
       "                                                   url  \n",
       "0    https://www.amazon.com/Place-My-Own-Architectu...  \n",
       "1    https://www.amazon.com/Million-Stuffed-Shark-E...  \n",
       "2    https://www.amazon.com/Gardner-Heist-Worlds-La...  \n",
       "3    https://www.amazon.com/Stoicism-Stoic-Philosop...  \n",
       "4    https://www.amazon.com/Confessions-Art-Addict-...  \n",
       "..                                                 ...  \n",
       "112  https://www.amazon.com/Sandfuture-Justin-Beal-...  \n",
       "113  https://www.amazon.com/You-Say-Brick-Life-Loui...  \n",
       "114  https://www.amazon.com/Where-Women-Architects-...  \n",
       "115  https://www.amazon.com/Wright-Sites-Guide-Publ...  \n",
       "116  https://www.amazon.com/Quer%C3%ADamos-Calatrav...  \n",
       "\n",
       "[117 rows x 4 columns]"
      ]
     },
     "execution_count": 56,
     "metadata": {},
     "output_type": "execute_result"
    }
   ],
   "source": [
    "data"
   ]
  },
  {
   "cell_type": "raw",
   "id": "ffe4860e",
   "metadata": {},
   "source": [
    "à faire pour la prochaine fois : \n",
    "    1) avec un URL de categorie réussir à dérouler toute la catégorie\n",
    "    2) s'arrêter à la dernière page  (faire le test avec un url de déprat page 115 \n",
    "    3 ) faire une liste avec 2 url et voir si à la fin de la liste 1 , on passe bine au deusième élémnet de la liste"
   ]
  }
 ],
 "metadata": {
  "kernelspec": {
   "display_name": "Python 3 (ipykernel)",
   "language": "python",
   "name": "python3"
  },
  "language_info": {
   "codemirror_mode": {
    "name": "ipython",
    "version": 3
   },
   "file_extension": ".py",
   "mimetype": "text/x-python",
   "name": "python",
   "nbconvert_exporter": "python",
   "pygments_lexer": "ipython3",
   "version": "3.8.12"
  },
  "toc": {
   "base_numbering": 1,
   "nav_menu": {},
   "number_sections": true,
   "sideBar": true,
   "skip_h1_title": false,
   "title_cell": "Table of Contents",
   "title_sidebar": "Contents",
   "toc_cell": false,
   "toc_position": {
    "height": "calc(100% - 180px)",
    "left": "10px",
    "top": "150px",
    "width": "165px"
   },
   "toc_section_display": true,
   "toc_window_display": false
  }
 },
 "nbformat": 4,
 "nbformat_minor": 5
}
